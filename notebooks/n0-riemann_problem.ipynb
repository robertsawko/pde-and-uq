{
 "metadata": {
  "name": "",
  "signature": "sha256:03a0db274475348360b1fbbdad39e575518edda6a54dc502ed711b8bc8ebdeff"
 },
 "nbformat": 3,
 "nbformat_minor": 0,
 "worksheets": [
  {
   "cells": [
    {
     "cell_type": "heading",
     "level": 1,
     "metadata": {},
     "source": [
      "Testing Proteus ona model problem"
     ]
    },
    {
     "cell_type": "heading",
     "level": 2,
     "metadata": {},
     "source": [
      "Introduction"
     ]
    },
    {
     "cell_type": "markdown",
     "metadata": {},
     "source": [
      "Standard tests"
     ]
    },
    {
     "cell_type": "code",
     "collapsed": false,
     "input": [
      "%matplotlib inline\n",
      "from proteus.iproteus import * \n",
      "import proteus as pr"
     ],
     "language": "python",
     "metadata": {},
     "outputs": [
      {
       "output_type": "stream",
       "stream": "stdout",
       "text": [
        "NO PROTEUS_PRELOAD_LIBS LOADED; CHECK config.py\n"
       ]
      }
     ],
     "prompt_number": 1
    },
    {
     "cell_type": "heading",
     "level": 2,
     "metadata": {},
     "source": [
      "Model problem"
     ]
    },
    {
     "cell_type": "markdown",
     "metadata": {},
     "source": [
      "We are solving an initial value problem with 1D viscous Burgers' equation and periodic boundary conditions. The quantity $u$ is a function of position $x$ and time $t$.\n",
      "\\begin{align}\n",
      "\\frac{\\partial u}{\\partial t} + u\\frac{\\partial u}{\\partial x} & = \\nu \\frac{\\partial^2u}{\\partial x^2} \\quad x \\in [0, 2\\pi], \\quad t\\geq0\n",
      "\\\\\n",
      "u(x,0) & =u_0(x)\n",
      "\\\\\n",
      "u(2\\pi,t) & = u(0,t)\n",
      "\\end{align}"
     ]
    },
    {
     "cell_type": "code",
     "collapsed": false,
     "input": [
      "import proteus.default_p as p\n",
      "import numpy as np\n",
      "from proteus.TransportCoefficients import TC_base\n",
      "\n",
      "\n",
      "p.nd = 1\n",
      "p.L = [2 * np.pi]\n",
      "p.name = 'burgers1D'\n",
      "\n",
      "class ViscousBurgersEqn(TC_base):\n",
      "    def __init__(self, nu=0.0):\n",
      "        TC_base.__init__(\n",
      "            self, nc=1,\n",
      "            mass={0: {0: 'linear'}},\n",
      "            advection={0: {0: 'nonlinear'}},\n",
      "            diffusion={0: {0: {0: 'constant'}}},\n",
      "            potential={0: {0: 'nonlinear'}},\n",
      "            reaction={},\n",
      "            hamiltonian={},\n",
      "            variableNames=['u']\n",
      "            )\n",
      "        self.m = 5\n",
      "        self.nu = nu\n",
      "        self.eta = np.random.randn(self.m, 2)\n",
      "\n",
      "    def evaluate(self, t, c):\n",
      "        u = c[('u', 0)]\n",
      "        c[('m', 0)][:] = u\n",
      "        c[('dm', 0, 0)][:] = 1\n",
      "        c[('f', 0)][..., 0] = 0.5*u**2\n",
      "        c[('df', 0, 0)][..., 0] = u\n",
      "        c[('a', 0, 0)][..., 0, 0] = self.nu\n",
      "       \n",
      "\n",
      "p.coefficients = ViscousBurgersEqn(nu=1e-6)\n"
     ],
     "language": "python",
     "metadata": {},
     "outputs": [],
     "prompt_number": 3
    },
    {
     "cell_type": "markdown",
     "metadata": {},
     "source": [
      "We will consider several different types of initial conditions but we will begin with a standard Riemann problem i.e. \n",
      "\\begin{equation}\n",
      "u_0(x) = \\left\\{\\begin{array}{cc}\n",
      "2 & x > L/3\\quad \\text{and} \\quad x<2L/3\n",
      "\\\\\n",
      "1 & \\text{otherwise}\n",
      "\\end{array}\\right.\n",
      "\\end{equation}"
     ]
    },
    {
     "cell_type": "code",
     "collapsed": false,
     "input": [
      "def emptyBC(x):\n",
      "    return None\n",
      "\n",
      "p.dirichletConditions = {0: emptyBC}\n",
      "p.advectiveFluxBoundaryconditions = {0: emptyBC}\n",
      "p.diffusiveFluxBoundaryconditions = {0: {0: emptyBC}}\n",
      "\n",
      "\n",
      "def getPBC(x):\n",
      "    eps = 1.0e-8\n",
      "    if x[0] < eps or x[0] >= p.L[0] - eps:\n",
      "        return np.array([0.0, 0.0, 0.0])\n",
      "\n",
      "p.periodicDirichletConditions = {0: getPBC}\n",
      "\n",
      "\n",
      "class RiemIC:\n",
      "    def __init__(self):\n",
      "        self.uLeft = 2.0\n",
      "        self.uRight = 1.0\n",
      "\n",
      "    def uOfXT(self, x, t):\n",
      "        if x[0] >= p.L[0]*0.33 and x[0] <= p.L[0]*0.66:\n",
      "            return self.uLeft\n",
      "        else:\n",
      "            return self.uRight\n",
      "\n",
      "\n",
      "\n",
      "p.initialConditions = {0: RiemIC()}\n",
      "\n",
      "# p.fluxBoundaryConditions = {0: 'outFlow'}\n",
      "\n",
      "p.T = 2.0\n"
     ],
     "language": "python",
     "metadata": {},
     "outputs": [],
     "prompt_number": 4
    },
    {
     "cell_type": "code",
     "collapsed": false,
     "input": [
      "import proteus.default_n as n\n",
      "\n",
      "n.tnList = [0, p.T]\n",
      "\n",
      "n.timeOrder = 3\n",
      "n.nStagesTime = n.timeOrder\n",
      "\n",
      "n.DT = None\n",
      "n.runCFL = 0.1\n",
      "\n",
      "n.limiterType = pr.TimeIntegration.DGlimiterP2Lagrange1d  # None\n",
      "\n",
      "n.timeIntegration = pr.TimeIntegration.SSPRKPIintegration\n",
      "n.stepController = pr.StepControl.Min_dt_RKcontroller\n",
      "n.nDTout = 10\n",
      "\n",
      "n.femSpaces = {0: pr.FemTools.DG_AffineQuadraticOnSimplexWithNodalBasis}\n",
      "\n",
      "\n",
      "n.elementQuadrature = pr.Quadrature.SimplexGaussQuadrature(p.nd, 4)\n",
      "n.elementBoundaryQuadrature = pr.Quadrature.SimplexGaussQuadrature(p.nd-1, 4)\n",
      "\n",
      "n.nn = 101\n",
      "n.nLevels = 1\n",
      "\n",
      "n.subgridError = None\n",
      "n.massLumping = False\n",
      "\n",
      "n.numericalFluxType = pr.NumericalFlux.RusanovNumericalFlux_Diagonal\n",
      "\n",
      "n.shockCapturing = None\n",
      "n.multilevelNonlinearSolver = n.NLNI\n",
      "\n",
      "n.usingSSPRKNewton = True\n",
      "n.levelNonlinearSolver = n.SSPRKNewton\n",
      "\n",
      "n.nonlinearSmoother = n.NLGaussSeidel\n",
      "\n",
      "n.fullNewtonFlag = True\n",
      "\n",
      "n.tolFac = 0.01\n",
      "\n",
      "n.nl_atol_res = 1.0e-8\n",
      "\n",
      "n.matrix = n.SparseMatrix\n",
      "\n",
      "n.multilevelLinearSolver = n.LU\n",
      "\n",
      "n.levelLinearSolver = n.LU\n",
      "\n",
      "n.linearSmoother = n.GaussSeidel\n",
      "\n",
      "n.linTolFac = 0.001\n",
      "\n",
      "n.conservativeFlux = None\n",
      "\n",
      "n.checkMass = True\n",
      "\n",
      "n.periodicDirichletConditions = {0: getPBC}\n",
      "n.parallelPeriodic = False\n",
      "n.parallelPartitioningType = n.MeshParallelPartitioningTypes.element\n",
      "n.nLayersOfOverlapForParallel = 0\n"
     ],
     "language": "python",
     "metadata": {},
     "outputs": [],
     "prompt_number": 5
    },
    {
     "cell_type": "code",
     "collapsed": false,
     "input": [
      "from proteus import default_s,default_so\n",
      "so = default_so\n",
      "so.name = p.name \n",
      "so.sList=[default_s]\n",
      "so.tnList = n.tnList"
     ],
     "language": "python",
     "metadata": {},
     "outputs": [],
     "prompt_number": 6
    },
    {
     "cell_type": "code",
     "collapsed": false,
     "input": [
      "ns = NumericalSolution.NS_base(so,[p],[n],so.sList,opts)"
     ],
     "language": "python",
     "metadata": {},
     "outputs": [],
     "prompt_number": 7
    },
    {
     "cell_type": "code",
     "collapsed": false,
     "input": [
      "failed = ns.calculateSolution('burgers1D')\n",
      "assert(not failed)"
     ],
     "language": "python",
     "metadata": {},
     "outputs": [
      {
       "output_type": "stream",
       "stream": "stdout",
       "text": [
        "SSPRKNewton it 1 norm(r) 0.00541513539112\n",
        "SSPRKNewton it 1 norm(r) 0.00452064987067\n",
        "SSPRKNewton it 1 norm(r) 0.00397578271054\n",
        "SSPRKNewton it 1 norm(r) 0.00512273107874\n",
        "SSPRKNewton it 1 norm(r) 0.00420247845651\n",
        "SSPRKNewton it 1 norm(r) 0.00252019911195\n",
        "SSPRKNewton it 1 norm(r) 0.00398488504115\n",
        "SSPRKNewton it 1 norm(r) 0.00357644059891\n",
        "SSPRKNewton it 1 norm(r) 0.00223420903172\n",
        "SSPRKNewton it 1 norm(r) 0.00374910782992\n",
        "SSPRKNewton it 1 norm(r) 0.00305622318006\n",
        "SSPRKNewton it 1 norm(r) 0.00200697713237\n",
        "SSPRKNewton it 1 norm(r) 0.00355704149967\n",
        "SSPRKNewton it 1 norm(r) 0.00263296970966\n",
        "SSPRKNewton it"
       ]
      },
      {
       "output_type": "stream",
       "stream": "stdout",
       "text": [
        " 1 norm(r) 0.00183163361476\n",
        "SSPRKNewton it 1 norm(r) 0.00340100578389\n",
        "SSPRKNewton it 1 norm(r) 0.00232722139015\n",
        "SSPRKNewton it 1 norm(r) 0.00172299238992\n",
        "SSPRKNewton it 1 norm(r) 0.00318983211943\n",
        "SSPRKNewton it 1 norm(r) 0.00214165409699\n",
        "SSPRKNewton it 1 norm(r) 0.00159240923255\n",
        "SSPRKNewton it 1 norm(r) 0.00304134490054\n",
        "SSPRKNewton it 1 norm(r) 0.00202645879063\n",
        "SSPRKNewton it 1 norm(r) 0.00153016373862\n",
        "SSPRKNewton it 1 norm(r) 0.00293292323587\n",
        "SSPRKNewton it 1 norm(r) 0.00194552948162\n",
        "SSPRKNewton it 1 norm(r) 0.00148484466723\n",
        "SSPRKNewton it 1 norm(r) 0.00285149682145\n",
        "SSPRKNewton it"
       ]
      },
      {
       "output_type": "stream",
       "stream": "stdout",
       "text": [
        " 1 norm(r) 0.00188723209792\n",
        "SSPRKNewton it 1 norm(r) 0.00145372063457\n",
        "SSPRKNewton it 1 norm(r) 0.00277328301479\n",
        "SSPRKNewton it 1 norm(r) 0.00184632615882\n",
        "SSPRKNewton it 1 norm(r) 0.00141542766511\n",
        "SSPRKNewton it 1 norm(r) 0.00270952845626\n",
        "SSPRKNewton it 1 norm(r) 0.00181078936115\n",
        "SSPRKNewton it 1 norm(r) 0.00139014259738\n",
        "SSPRKNewton it 1 norm(r) 0.0026713662143\n",
        "SSPRKNewton it 1 norm(r) 0.00176460976981\n",
        "SSPRKNewton it 1 norm(r) 0.00136605195513\n",
        "SSPRKNewton it 1 norm(r) 0.00264486184089\n",
        "SSPRKNewton it 1 norm(r) 0.00170861950513\n",
        "SSPRKNewton it 1 norm(r) 0.00134237863777\n",
        "SSPRKNewton it"
       ]
      },
      {
       "output_type": "stream",
       "stream": "stdout",
       "text": [
        " 1 norm(r) 0.00262517717549\n",
        "SSPRKNewton it 1 norm(r) 0.00164603236486\n",
        "SSPRKNewton it 1 norm(r) 0.00131954072719\n",
        "SSPRKNewton it 1 norm(r) 0.002609496469\n",
        "SSPRKNewton it 1 norm(r) 0.00158107705639\n",
        "SSPRKNewton it 1 norm(r) 0.00129848453161\n",
        "SSPRKNewton it 1 norm(r) 0.00259628081894\n",
        "SSPRKNewton it 1 norm(r) 0.00151827605027\n",
        "SSPRKNewton it 1 norm(r) 0.00128028937616\n",
        "SSPRKNewton it 1 norm(r) 0.00258475462069\n",
        "SSPRKNewton it 1 norm(r) 0.00147412691907\n",
        "SSPRKNewton it 1 norm(r) 0.00127620349649\n",
        "SSPRKNewton it 1 norm(r) 0.00253210063066\n",
        "SSPRKNewton it 1 norm(r) 0.00145991299322\n",
        "SSPRKNewton it 1 norm(r) 0.00124160948335\n",
        "SSPRKNewton it"
       ]
      },
      {
       "output_type": "stream",
       "stream": "stdout",
       "text": [
        " 1 norm(r) 0.00248740755926\n",
        "SSPRKNewton it 1 norm(r) 0.00145687279474\n",
        "SSPRKNewton it 1 norm(r) 0.00123086525814\n",
        "SSPRKNewton it 1 norm(r) 0.00245600650506\n",
        "SSPRKNewton it 1 norm(r) 0.00145495886188\n",
        "SSPRKNewton it 1 norm(r) 0.00122231908622\n",
        "SSPRKNewton it 1 norm(r) 0.00243124417639\n",
        "SSPRKNewton it 1 norm(r) 0.00145134072037\n",
        "SSPRKNewton it 1 norm(r) 0.00121490352338\n",
        "SSPRKNewton it 1 norm(r) 0.00241202642643\n",
        "SSPRKNewton it 1 norm(r) 0.00144759659081\n",
        "SSPRKNewton it 1 norm(r) 0.00120665920841\n",
        "SSPRKNewton it 1 norm(r) 0.00238464633193\n",
        "SSPRKNewton it 1 norm(r) 0.00143852091205\n",
        "SSPRKNewton it 1 norm(r) 0.0011963611369\n",
        "SSPRKNewton it"
       ]
      },
      {
       "output_type": "stream",
       "stream": "stdout",
       "text": [
        " 1 norm(r) 0.00237011535097\n",
        "SSPRKNewton it 1 norm(r) 0.0014226351035\n",
        "SSPRKNewton it 1 norm(r) 0.00118685945005\n",
        "SSPRKNewton it 1 norm(r) 0.00236042597687\n",
        "SSPRKNewton it 1 norm(r) 0.00140031266832\n",
        "SSPRKNewton it 1 norm(r) 0.00117736876957\n",
        "SSPRKNewton it 1 norm(r) 0.00235409931431\n",
        "SSPRKNewton it 1 norm(r) 0.00137285243645\n",
        "SSPRKNewton it 1 norm(r) 0.00116807304828\n",
        "SSPRKNewton it 1 norm(r) 0.00235010541066\n",
        "SSPRKNewton it 1 norm(r) 0.00134215662695\n",
        "SSPRKNewton it 1 norm(r) 0.00115939469636\n",
        "SSPRKNewton it 1 norm(r) 0.00234774519268\n",
        "SSPRKNewton it 1 norm(r) 0.00131050646109\n",
        "SSPRKNewton it 1 norm(r) 0.00115188140667\n",
        "SSPRKNewton it"
       ]
      },
      {
       "output_type": "stream",
       "stream": "stdout",
       "text": [
        " 1 norm(r) 0.0023465629459\n",
        "SSPRKNewton it 1 norm(r) 0.0012803824342\n",
        "SSPRKNewton it 1 norm(r) 0.00114611566075\n",
        "SSPRKNewton it 1 norm(r) 0.00234627216161\n",
        "SSPRKNewton it 1 norm(r) 0.00126972373259\n",
        "SSPRKNewton it 1 norm(r) 0.00114153223059\n",
        "SSPRKNewton it 1 norm(r) 0.00230254769532\n",
        "SSPRKNewton it 1 norm(r) 0.00127434947971\n",
        "SSPRKNewton it 1 norm(r) 0.00112768203296\n",
        "SSPRKNewton it 1 norm(r) 0.00227835663677\n",
        "SSPRKNewton it 1 norm(r) 0.00128164712189\n",
        "SSPRKNewton it 1 norm(r) 0.00112316642519\n",
        "SSPRKNewton it 1 norm(r) 0.00226036106983\n",
        "SSPRKNewton it 1 norm(r) 0.00128789519726\n",
        "SSPRKNewton it 1 norm(r) 0.00111967446491\n",
        "SSPRKNewton it"
       ]
      },
      {
       "output_type": "stream",
       "stream": "stdout",
       "text": [
        " 1 norm(r) 0.00224664747647\n",
        "SSPRKNewton it 1 norm(r) 0.00129193896588\n",
        "SSPRKNewton it 1 norm(r) 0.00111721978391\n",
        "SSPRKNewton it 1 norm(r) 0.00223364918292\n",
        "SSPRKNewton it 1 norm(r) 0.00129296698672\n",
        "SSPRKNewton it 1 norm(r) 0.00111181497123\n",
        "SSPRKNewton it 1 norm(r) 0.00222166977338\n",
        "SSPRKNewton it 1 norm(r) 0.00128737568566\n",
        "SSPRKNewton it 1 norm(r) 0.00110639756561\n",
        "SSPRKNewton it 1 norm(r) 0.00221536854283\n",
        "SSPRKNewton it 1 norm(r) 0.00127673217475\n",
        "SSPRKNewton it 1 norm(r) 0.00110096943936\n",
        "SSPRKNewton it 1 norm(r) 0.00221187207603\n",
        "SSPRKNewton it 1 norm(r) 0.00126149203493\n",
        "SSPRKNewton it 1 norm(r) 0.0010955440561\n",
        "SSPRKNewton it"
       ]
      },
      {
       "output_type": "stream",
       "stream": "stdout",
       "text": [
        " 1 norm(r) 0.00221048409492\n",
        "SSPRKNewton it 1 norm(r) 0.00124263416325\n",
        "SSPRKNewton it 1 norm(r) 0.00109032615628\n",
        "SSPRKNewton it 1 norm(r) 0.00221067929095\n",
        "SSPRKNewton it 1 norm(r) 0.00122153377958\n",
        "SSPRKNewton it 1 norm(r) 0.00108565192961\n",
        "SSPRKNewton it 1 norm(r) 0.00221207350839\n",
        "SSPRKNewton it 1 norm(r) 0.00119985439033\n",
        "SSPRKNewton it 1 norm(r) 0.00108193396072\n",
        "SSPRKNewton it 1 norm(r) 0.00221439308821\n",
        "SSPRKNewton it 1 norm(r) 0.00117944073828\n",
        "SSPRKNewton it 1 norm(r) 0.0010796106294\n",
        "SSPRKNewton it 1 norm(r) 0.00221744586041\n",
        "SSPRKNewton it 1 norm(r) 0.0011766855032\n",
        "SSPRKNewton it 1 norm(r) 0.00107654299667\n",
        "SSPRKNewton it"
       ]
      },
      {
       "output_type": "stream",
       "stream": "stdout",
       "text": [
        " 1 norm(r) 0.00218056281968\n",
        "SSPRKNewton it 1 norm(r) 0.00118484360635\n",
        "SSPRKNewton it 1 norm(r) 0.00106721426531\n",
        "SSPRKNewton it 1 norm(r) 0.00216212501835\n",
        "SSPRKNewton it 1 norm(r) 0.00119431254309\n",
        "SSPRKNewton it 1 norm(r) 0.00106445843351\n",
        "SSPRKNewton it 1 norm(r) 0.00214862405987\n",
        "SSPRKNewton it 1 norm(r) 0.00120250980779\n",
        "SSPRKNewton it 1 norm(r) 0.00106247555799\n",
        "SSPRKNewton it 1 norm(r) 0.00213868066149\n",
        "SSPRKNewton it 1 norm(r) 0.00120877873927\n",
        "SSPRKNewton it 1 norm(r) 0.00106154587245\n",
        "SSPRKNewton it 1 norm(r) 0.00212813731778\n",
        "SSPRKNewton it 1 norm(r) 0.00121062308252\n",
        "SSPRKNewton it 1 norm(r) 0.00105746392281\n",
        "SSPRKNewton it"
       ]
      },
      {
       "output_type": "stream",
       "stream": "stdout",
       "text": [
        " 1 norm(r) 0.00212218533813\n",
        "SSPRKNewton it 1 norm(r) 0.00120711549758\n",
        "SSPRKNewton it 1 norm(r) 0.00105397258288\n",
        "SSPRKNewton it 1 norm(r) 0.00211900475155\n",
        "SSPRKNewton it 1 norm(r) 0.00119933966039\n",
        "SSPRKNewton it 1 norm(r) 0.00105041237274\n",
        "SSPRKNewton it 1 norm(r) 0.00211798972532\n",
        "SSPRKNewton it 1 norm(r) 0.0011876890291\n",
        "SSPRKNewton it 1 norm(r) 0.00104683526166\n",
        "SSPRKNewton it 1 norm(r) 0.00211867161981\n",
        "SSPRKNewton it 1 norm(r) 0.00117296108662\n",
        "SSPRKNewton it 1 norm(r) 0.00104343070713\n",
        "SSPRKNewton it 1 norm(r) 0.00212068129388\n",
        "SSPRKNewton it 1 norm(r) 0.00115628201378\n",
        "SSPRKNewton it 1 norm(r) 0.00104048851021\n",
        "SSPRKNewton it"
       ]
      },
      {
       "output_type": "stream",
       "stream": "stdout",
       "text": [
        " 1 norm(r) 0.00212373609646\n",
        "SSPRKNewton it 1 norm(r) 0.00113903339403\n",
        "SSPRKNewton it 1 norm(r) 0.00103836104805\n",
        "SSPRKNewton it 1 norm(r) 0.00212762412092\n",
        "SSPRKNewton it 1 norm(r) 0.00112277141011\n",
        "SSPRKNewton it 1 norm(r) 0.00103742577768\n",
        "SSPRKNewton it 1 norm(r) 0.00213218764462\n",
        "SSPRKNewton it 1 norm(r) 0.00112124867827\n",
        "SSPRKNewton it 1 norm(r) 0.00103797442682\n",
        "SSPRKNewton it 1 norm(r) 0.0021014768226\n",
        "SSPRKNewton it 1 norm(r) 0.00113020345359\n",
        "SSPRKNewton it 1 norm(r) 0.0010280194479\n",
        "SSPRKNewton it 1 norm(r) 0.0020850394756\n",
        "SSPRKNewton it 1 norm(r) 0.00114035291829\n",
        "SSPRKNewton it 1 norm(r) 0.00102595504686\n",
        "SSPRKNewton it"
       ]
      },
      {
       "output_type": "stream",
       "stream": "stdout",
       "text": [
        " 1 norm(r) 0.00207346822607\n",
        "SSPRKNewton it 1 norm(r) 0.00114934657736\n",
        "SSPRKNewton it 1 norm(r) 0.00102460630185\n",
        "SSPRKNewton it 1 norm(r) 0.00206514923727\n",
        "SSPRKNewton it 1 norm(r) 0.00115664124739\n",
        "SSPRKNewton it 1 norm(r) 0.00102351919206\n",
        "SSPRKNewton it 1 norm(r) 0.00205685867643\n",
        "SSPRKNewton it 1 norm(r) 0.0011589770753\n",
        "SSPRKNewton it 1 norm(r) 0.00102101585367\n",
        "SSPRKNewton it 1 norm(r) 0.00205278157451\n",
        "SSPRKNewton it 1 norm(r) 0.00115707693841\n",
        "SSPRKNewton it 1 norm(r) 0.00101861160699\n",
        "SSPRKNewton it 1 norm(r) 0.00205106387721\n",
        "SSPRKNewton it 1 norm(r) 0.00115129048529\n",
        "SSPRKNewton it 1 norm(r) 0.00101610721927\n",
        "SSPRKNewton it"
       ]
      },
      {
       "output_type": "stream",
       "stream": "stdout",
       "text": [
        " 1 norm(r) 0.00205125461938\n",
        "SSPRKNewton it 1 norm(r) 0.00114193736433\n",
        "SSPRKNewton it 1 norm(r) 0.0010135564191\n",
        "SSPRKNewton it 1 norm(r) 0.00205297701129\n",
        "SSPRKNewton it 1 norm(r) 0.00112969220929\n",
        "SSPRKNewton it 1 norm(r) 0.00101112957437\n",
        "SSPRKNewton it 1 norm(r) 0.00205592527248\n",
        "SSPRKNewton it 1 norm(r) 0.0011155296501\n",
        "SSPRKNewton it 1 norm(r) 0.00100908587968\n",
        "SSPRKNewton it 1 norm(r) 0.00205985816786\n",
        "SSPRKNewton it 1 norm(r) 0.00110066650271\n",
        "SSPRKNewton it 1 norm(r) 0.0010077431617\n",
        "SSPRKNewton it 1 norm(r) 0.00206458917208\n",
        "SSPRKNewton it 1 norm(r) 0.00108649464013\n",
        "SSPRKNewton it 1 norm(r) 0.00100744644605\n",
        "SSPRKNewton it"
       ]
      },
      {
       "output_type": "stream",
       "stream": "stdout",
       "text": [
        " 1 norm(r) 0.0020699749465\n",
        "SSPRKNewton it 1 norm(r) 0.0010835808359\n",
        "SSPRKNewton it 1 norm(r) 0.00101294220424\n",
        "SSPRKNewton it 1 norm(r) 0.00204547974349\n",
        "SSPRKNewton it 1 norm(r) 0.00109258109617\n",
        "SSPRKNewton it 1 norm(r) 0.00100002300115\n",
        "SSPRKNewton it 1 norm(r) 0.00202937450059\n",
        "SSPRKNewton it 1 norm(r) 0.0011029910988\n",
        "SSPRKNewton it 1 norm(r) 0.000998244465946\n",
        "SSPRKNewton it 1 norm(r) 0.00201864045556\n",
        "SSPRKNewton it 1 norm(r) 0.00111251980158\n",
        "SSPRKNewton it 1 norm(r) 0.000997249141445\n",
        "SSPRKNewton it 1 norm(r) 0.00201083969786\n",
        "SSPRKNewton it 1 norm(r) 0.00112035333699\n",
        "SSPRKNewton it 1 norm(r) 0.000996133265398\n",
        "SSPRKNewton it"
       ]
      },
      {
       "output_type": "stream",
       "stream": "stdout",
       "text": [
        " 1 norm(r) 0.00200396324255\n",
        "SSPRKNewton it 1 norm(r) 0.00112337431222\n",
        "SSPRKNewton it 1 norm(r) 0.000994460862337\n",
        "SSPRKNewton it 1 norm(r) 0.0020007769823\n",
        "SSPRKNewton it 1 norm(r) 0.00112284173845\n",
        "SSPRKNewton it 1 norm(r) 0.000992749877668\n",
        "SSPRKNewton it 1 norm(r) 0.00199978186154\n",
        "SSPRKNewton it 1 norm(r) 0.00111862538013\n",
        "SSPRKNewton it 1 norm(r) 0.000990917530773\n",
        "SSPRKNewton it 1 norm(r) 0.0020005887219\n",
        "SSPRKNewton it 1 norm(r) 0.00111097089196\n",
        "SSPRKNewton it 1 norm(r) 0.000989006990817\n",
        "SSPRKNewton it 1 norm(r) 0.00200286322538\n",
        "SSPRKNewton it 1 norm(r) 0.00110045560377\n",
        "SSPRKNewton it 1 norm(r) 0.000987168908646\n",
        "SSPRKNewton it"
       ]
      },
      {
       "output_type": "stream",
       "stream": "stdout",
       "text": [
        " 1 norm(r) 0.00200632805983\n",
        "SSPRKNewton it 1 norm(r) 0.00108794378024\n",
        "SSPRKNewton it 1 norm(r) 0.00098563860092\n",
        "SSPRKNewton it 1 norm(r) 0.00201075987018\n",
        "SSPRKNewton it 1 norm(r) 0.00107453761205\n",
        "SSPRKNewton it 1 norm(r) 0.000984710052317\n",
        "SSPRKNewton it 1 norm(r) 0.00201598248767\n",
        "SSPRKNewton it 1 norm(r) 0.00106151890953\n",
        "SSPRKNewton it 1 norm(r) 0.000984707935903\n",
        "SSPRKNewton it 1 norm(r) 0.00202185801465\n",
        "SSPRKNewton it 1 norm(r) 0.00105595565778\n",
        "SSPRKNewton it 1 norm(r) 0.00099055480656\n",
        "SSPRKNewton it 1 norm(r) 0.00200699608533\n",
        "SSPRKNewton it 1 norm(r) 0.0010644959915\n",
        "SSPRKNewton it 1 norm(r) 0.00097882736211\n",
        "SSPRKNewton it"
       ]
      },
      {
       "output_type": "stream",
       "stream": "stdout",
       "text": [
        " 1 norm(r) 0.00198721648107\n",
        "SSPRKNewton it 1 norm(r) 0.00107497610221\n",
        "SSPRKNewton it 1 norm(r) 0.00097711801382\n",
        "SSPRKNewton it 1 norm(r) 0.00197671488595\n",
        "SSPRKNewton it 1 norm(r) 0.00108498745719\n",
        "SSPRKNewton it 1 norm(r) 0.00097637298151\n",
        "SSPRKNewton it 1 norm(r) 0.0019685355115\n",
        "SSPRKNewton it 1 norm(r) 0.00109293336038\n",
        "SSPRKNewton it 1 norm(r) 0.000975218153556\n",
        "SSPRKNewton it 1 norm(r) 0.00196283966058\n",
        "SSPRKNewton it 1 norm(r) 0.00109701813031\n",
        "SSPRKNewton it 1 norm(r) 0.000974024617684\n",
        "SSPRKNewton it 1 norm(r) 0.00196002190344\n",
        "SSPRKNewton it 1 norm(r) 0.00109773079066\n",
        "SSPRKNewton it"
       ]
      },
      {
       "output_type": "stream",
       "stream": "stdout",
       "text": [
        " 1 norm(r) 0.000972791031622\n",
        "SSPRKNewton it 1 norm(r) 0.00195933667248\n",
        "SSPRKNewton it 1 norm(r) 0.00109488217019\n",
        "SSPRKNewton it 1 norm(r) 0.000971424666785\n",
        "SSPRKNewton it 1 norm(r) 0.00196042440201\n",
        "SSPRKNewton it 1 norm(r) 0.00108864099829\n",
        "SSPRKNewton it 1 norm(r) 0.000969951321829\n",
        "SSPRKNewton it 1 norm(r) 0.00196297018434\n",
        "SSPRKNewton it 1 norm(r) 0.00107949692989\n",
        "SSPRKNewton it 1 norm(r) 0.000968500547644\n",
        "SSPRKNewton it 1 norm(r) 0.0019667082914\n",
        "SSPRKNewton it 1 norm(r) 0.00106822168919\n",
        "SSPRKNewton it 1 norm(r) 0.000967286007211\n",
        "SSPRKNewton it 1 norm(r) 0.00197142131762\n",
        "SSPRKNewton it 1 norm(r) 0.00105582576013\n",
        "SSPRKNewton it"
       ]
      },
      {
       "output_type": "stream",
       "stream": "stdout",
       "text": [
        " 1 norm(r) 0.000966582201283\n",
        "SSPRKNewton it 1 norm(r) 0.00197693537316\n",
        "SSPRKNewton it 1 norm(r) 0.00104350645745\n",
        "SSPRKNewton it 1 norm(r) 0.00096669874857\n",
        "SSPRKNewton it 1 norm(r) 0.00198311277342\n",
        "SSPRKNewton it 1 norm(r) 0.00103465105708\n",
        "SSPRKNewton it 1 norm(r) 0.000969628772941\n",
        "SSPRKNewton it 1 norm(r) 0.00198120492761\n",
        "SSPRKNewton it 1 norm(r) 0.00104244289735\n",
        "SSPRKNewton it 1 norm(r) 0.000962175182145\n",
        "SSPRKNewton it 1 norm(r) 0.001954266267\n",
        "SSPRKNewton it 1 norm(r) 0.001052869311\n",
        "SSPRKNewton it 1 norm(r) 0.000960402882933\n",
        "SSPRKNewton it 1 norm(r) 0.0019436385791\n",
        "SSPRKNewton it 1 norm(r) 0.0010632297025\n",
        "SSPRKNewton it"
       ]
      },
      {
       "output_type": "stream",
       "stream": "stdout",
       "text": [
        " 1 norm(r) 0.000959699684543\n",
        "SSPRKNewton it 1 norm(r) 0.00193512469778\n",
        "SSPRKNewton it 1 norm(r) 0.00107143465357\n",
        "SSPRKNewton it 1 norm(r) 0.000958574244385\n",
        "SSPRKNewton it 1 norm(r) 0.00192986231699\n",
        "SSPRKNewton it 1 norm(r) 0.00107652225095\n",
        "SSPRKNewton it 1 norm(r) 0.000957710206995\n",
        "SSPRKNewton it 1 norm(r) 0.00192709962673\n",
        "SSPRKNewton it 1 norm(r) 0.00107839827015\n",
        "SSPRKNewton it 1 norm(r) 0.000956821444966\n",
        "SSPRKNewton it 1 norm(r) 0.00192646872829\n",
        "SSPRKNewton it 1 norm(r) 0.00107680189571\n",
        "SSPRKNewton it 1 norm(r) 0.000955797573665\n",
        "SSPRKNewton it 1 norm(r) 0.001927625004\n",
        "SSPRKNewton it 1 norm(r) 0.00107182171426\n",
        "SSPRKNewton it"
       ]
      },
      {
       "output_type": "stream",
       "stream": "stdout",
       "text": [
        " 1 norm(r) 0.000954642949057\n",
        "SSPRKNewton it 1 norm(r) 0.00193026148581\n",
        "SSPRKNewton it 1 norm(r) 0.00106386308318\n",
        "SSPRKNewton it 1 norm(r) 0.000953464600427\n",
        "SSPRKNewton it 1 norm(r) 0.00193411527661\n",
        "SSPRKNewton it 1 norm(r) 0.00105361307819\n",
        "SSPRKNewton it 1 norm(r) 0.000952454970711\n",
        "SSPRKNewton it 1 norm(r) 0.00193896845893\n",
        "SSPRKNewton it 1 norm(r) 0.00104200125698\n",
        "SSPRKNewton it 1 norm(r) 0.000951870681617\n",
        "SSPRKNewton it 1 norm(r) 0.00194464479951\n",
        "SSPRKNewton it 1 norm(r) 0.00103015270478\n",
        "SSPRKNewton it 1 norm(r) 0.000952008489142\n",
        "SSPRKNewton it 1 norm(r) 0.00195100363167\n",
        "SSPRKNewton it 1 norm(r) 0.00101932894904\n",
        "SSPRKNewton it"
       ]
      },
      {
       "output_type": "stream",
       "stream": "stdout",
       "text": [
        " 1 norm(r) 0.000953179655048\n",
        "SSPRKNewton it 1 norm(r) 0.00195793224283\n",
        "SSPRKNewton it 1 norm(r) 0.00102455445319\n",
        "SSPRKNewton it 1 norm(r) 0.0009508475475\n",
        "SSPRKNewton it 1 norm(r) 0.00192837414046\n",
        "SSPRKNewton it 1 norm(r) 0.00103479406804\n",
        "SSPRKNewton it 1 norm(r) 0.000946843301607\n",
        "SSPRKNewton it 1 norm(r) 0.0019170000672\n",
        "SSPRKNewton it 1 norm(r) 0.00104540035639\n",
        "SSPRKNewton it 1 norm(r) 0.000945886937938\n",
        "SSPRKNewton it 1 norm(r) 0.00190828655329\n",
        "SSPRKNewton it 1 norm(r) 0.00105395510958\n",
        "SSPRKNewton it 1 norm(r) 0.000944983799345\n",
        "SSPRKNewton it 1 norm(r) 0.00190285190653\n",
        "SSPRKNewton it"
       ]
      },
      {
       "output_type": "stream",
       "stream": "stdout",
       "text": [
        " 1 norm(r) 0.00105998252981\n",
        "SSPRKNewton it 1 norm(r) 0.000944346070333\n",
        "SSPRKNewton it 1 norm(r) 0.00189993562033\n",
        "SSPRKNewton it 1 norm(r) 0.0010629580977\n",
        "SSPRKNewton it 1 norm(r) 0.000943712489807\n",
        "SSPRKNewton it 1 norm(r) 0.00189918439572\n",
        "SSPRKNewton it 1 norm(r) 0.00106254084786\n",
        "SSPRKNewton it 1 norm(r) 0.00094295044334\n",
        "SSPRKNewton it 1 norm(r) 0.00190026104045\n",
        "SSPRKNewton it 1 norm(r) 0.00105873590011\n",
        "SSPRKNewton it 1 norm(r) 0.000942040045415\n",
        "SSPRKNewton it 1 norm(r) 0.00190286041459\n",
        "SSPRKNewton it 1 norm(r) 0.00105186478959\n",
        "SSPRKNewton it 1 norm(r) 0.000941064377247\n",
        "SSPRKNewton it 1 norm(r) 0.0019067175906\n",
        "SSPRKNewton it"
       ]
      },
      {
       "output_type": "stream",
       "stream": "stdout",
       "text": [
        " 1 norm(r) 0.00104253307234\n",
        "SSPRKNewton it 1 norm(r) 0.000940194224053\n",
        "SSPRKNewton it 1 norm(r) 0.00191161035833\n",
        "SSPRKNewton it 1 norm(r) 0.00103159417286\n",
        "SSPRKNewton it 1 norm(r) 0.00093966854256\n",
        "SSPRKNewton it 1 norm(r) 0.00191735726091\n",
        "SSPRKNewton it 1 norm(r) 0.00102010647961\n",
        "SSPRKNewton it 1 norm(r) 0.00093977179713\n",
        "SSPRKNewton it 1 norm(r) 0.00192381250448\n",
        "SSPRKNewton it 1 norm(r) 0.00100927955204\n",
        "SSPRKNewton it 1 norm(r) 0.000940809343065\n",
        "SSPRKNewton it 1 norm(r) 0.00193085904753\n",
        "SSPRKNewton it 1 norm(r) 0.00100970334259\n",
        "SSPRKNewton it 1 norm(r) 0.000945674155847\n",
        "SSPRKNewton it 1 norm(r) 0.00190832720367\n",
        "SSPRKNewton it"
       ]
      },
      {
       "output_type": "stream",
       "stream": "stdout",
       "text": [
        " 1 norm(r) 0.00101960691965\n",
        "SSPRKNewton it 1 norm(r) 0.000935666986024\n",
        "SSPRKNewton it 1 norm(r) 0.00189518923325\n",
        "SSPRKNewton it 1 norm(r) 0.00103028393964\n",
        "SSPRKNewton it 1 norm(r) 0.000934459125016\n",
        "SSPRKNewton it 1 norm(r) 0.00188618110435\n",
        "SSPRKNewton it 1 norm(r) 0.00103927519117\n",
        "SSPRKNewton it 1 norm(r) 0.000933656765155\n",
        "SSPRKNewton it 1 norm(r) 0.00188039503493\n",
        "SSPRKNewton it 1 norm(r) 0.00104618090686\n",
        "SSPRKNewton it 1 norm(r) 0.000933169382531\n",
        "SSPRKNewton it 1 norm(r) 0.00187717334046\n",
        "SSPRKNewton it 1 norm(r) 0.00105020580784\n",
        "SSPRKNewton it 1 norm(r) 0.000932727153817\n",
        "SSPRKNewton it 1 norm(r) 0.00187617168465\n",
        "SSPRKNewton it"
       ]
      },
      {
       "output_type": "stream",
       "stream": "stdout",
       "text": [
        " 1 norm(r) 0.00105092227163\n",
        "SSPRKNewton it 1 norm(r) 0.000932172241871\n",
        "SSPRKNewton it 1 norm(r) 0.0018770564162\n",
        "SSPRKNewton it 1 norm(r) 0.00104824846503\n",
        "SSPRKNewton it 1 norm(r) 0.000931458372872\n",
        "SSPRKNewton it 1 norm(r) 0.00187952085977\n",
        "SSPRKNewton it 1 norm(r) 0.00104242093952\n",
        "SSPRKNewton it 1 norm(r) 0.000930643208636\n",
        "SSPRKNewton it 1 norm(r) 0.00188329518863\n",
        "SSPRKNewton it 1 norm(r) 0.00103396422637\n",
        "SSPRKNewton it 1 norm(r) 0.000929874916939\n",
        "SSPRKNewton it 1 norm(r) 0.00188815049368\n",
        "SSPRKNewton it 1 norm(r) 0.00102365709984\n",
        "SSPRKNewton it 1 norm(r) 0.000929374184685\n",
        "SSPRKNewton it 1 norm(r) 0.00189389811945\n",
        "SSPRKNewton it"
       ]
      },
      {
       "output_type": "stream",
       "stream": "stdout",
       "text": [
        " 1 norm(r) 0.00101249304576\n",
        "SSPRKNewton it 1 norm(r) 0.000929412800081\n",
        "SSPRKNewton it 1 norm(r) 0.00190038555219\n",
        "SSPRKNewton it 1 norm(r) 0.00100163108796\n",
        "SSPRKNewton it 1 norm(r) 0.000930289935006\n",
        "SSPRKNewton it 1 norm(r) 0.00190749014983\n",
        "SSPRKNewton it 1 norm(r) 0.000997241573118\n",
        "SSPRKNewton it 1 norm(r) 0.00093628925582\n",
        "SSPRKNewton it 1 norm(r) 0.00189630982469\n",
        "SSPRKNewton it 1 norm(r) 0.00100644742819\n",
        "SSPRKNewton it 1 norm(r) 0.000926332016817\n",
        "SSPRKNewton it 1 norm(r) 0.00187715356369\n",
        "SSPRKNewton it 1 norm(r) 0.00101694298275\n",
        "SSPRKNewton it 1 norm(r) 0.000924830179719\n",
        "SSPRKNewton it 1 norm(r) 0.00186782245021\n",
        "SSPRKNewton it"
       ]
      },
      {
       "output_type": "stream",
       "stream": "stdout",
       "text": [
        " 1 norm(r) 0.0010264610403\n",
        "SSPRKNewton it 1 norm(r) 0.000924034117429\n",
        "SSPRKNewton it 1 norm(r) 0.00186153539813\n",
        "SSPRKNewton it 1 norm(r) 0.00103418254477\n",
        "SSPRKNewton it 1 norm(r) 0.000923632984227\n",
        "SSPRKNewton it 1 norm(r) 0.00185787775145\n",
        "SSPRKNewton it 1 norm(r) 0.0010392193598\n",
        "SSPRKNewton it 1 norm(r) 0.000923332149333\n",
        "SSPRKNewton it 1 norm(r) 0.00185651304243\n",
        "SSPRKNewton it 1 norm(r) 0.00104104975614\n",
        "SSPRKNewton it 1 norm(r) 0.000922945774196\n",
        "SSPRKNewton it 1 norm(r) 0.00185710876355\n",
        "SSPRKNewton it 1 norm(r) 0.00103949975275\n",
        "SSPRKNewton it 1 norm(r) 0.000922398826755\n",
        "SSPRKNewton it 1 norm(r) 0.00185935438546\n",
        "SSPRKNewton it"
       ]
      },
      {
       "output_type": "stream",
       "stream": "stdout",
       "text": [
        " 1 norm(r) 0.0010347176032\n",
        "SSPRKNewton it 1 norm(r) 0.000921721559263\n",
        "SSPRKNewton it 1 norm(r) 0.00186297299547\n",
        "SSPRKNewton it 1 norm(r) 0.00102714489702\n",
        "SSPRKNewton it 1 norm(r) 0.000921037857787\n",
        "SSPRKNewton it 1 norm(r) 0.00186772696956\n",
        "SSPRKNewton it 1 norm(r) 0.0010174846745\n",
        "SSPRKNewton it 1 norm(r) 0.000920548729621\n",
        "SSPRKNewton it 1 norm(r) 0.00187341865156\n",
        "SSPRKNewton it 1 norm(r) 0.00100666466626\n",
        "SSPRKNewton it 1 norm(r) 0.000920512071784\n",
        "SSPRKNewton it 1 norm(r) 0.00187988724028\n",
        "SSPRKNewton it 1 norm(r) 0.000995792131946\n",
        "SSPRKNewton it 1 norm(r) 0.000921219804258\n",
        "SSPRKNewton it 1 norm(r) 0.00188700317445\n",
        "SSPRKNewton it"
       ]
      },
      {
       "output_type": "stream",
       "stream": "stdout",
       "text": [
        " 1 norm(r) 0.000986668612483\n",
        "SSPRKNewton it 1 norm(r) 0.000923438716883\n",
        "SSPRKNewton it 1 norm(r) 0.00189168611332\n",
        "SSPRKNewton it 1 norm(r) 0.000994872345859\n",
        "SSPRKNewton it 1 norm(r) 0.000918391602926\n",
        "SSPRKNewton it 1 norm(r) 0.00186238034408\n",
        "SSPRKNewton it 1 norm(r) 0.0010051321088\n",
        "SSPRKNewton it 1 norm(r) 0.000916624460958\n",
        "SSPRKNewton it 1 norm(r) 0.00185247720103\n",
        "SSPRKNewton it 1 norm(r) 0.00101506532252\n",
        "SSPRKNewton it 1 norm(r) 0.000915765590193\n",
        "SSPRKNewton it 1 norm(r) 0.0018455780146\n",
        "SSPRKNewton it 1 norm(r) 0.0010235255141\n",
        "SSPRKNewton it 1 norm(r) 0.000915395480832\n",
        "SSPRKNewton it 1 norm(r) 0.00184138404393\n",
        "SSPRKNewton it"
       ]
      },
      {
       "output_type": "stream",
       "stream": "stdout",
       "text": [
        " 1 norm(r) 0.00102952563406\n",
        "SSPRKNewton it 1 norm(r) 0.000915193312668\n",
        "SSPRKNewton it 1 norm(r) 0.00183956650453\n",
        "SSPRKNewton it 1 norm(r) 0.00103244455468\n",
        "SSPRKNewton it 1 norm(r) 0.000914943698555\n",
        "SSPRKNewton it 1 norm(r) 0.0018397935655\n",
        "SSPRKNewton it 1 norm(r) 0.00103201191318\n",
        "SSPRKNewton it 1 norm(r) 0.000914541236744\n",
        "SSPRKNewton it 1 norm(r) 0.00184175009455\n",
        "SSPRKNewton it 1 norm(r) 0.00102828445598\n",
        "SSPRKNewton it 1 norm(r) 0.000913987142702\n",
        "SSPRKNewton it 1 norm(r) 0.00184515113047\n",
        "SSPRKNewton it 1 norm(r) 0.00102161842484\n",
        "SSPRKNewton it 1 norm(r) 0.000913379415354\n",
        "SSPRKNewton it 1 norm(r) 0.00184974923863\n",
        "SSPRKNewton it"
       ]
      },
      {
       "output_type": "stream",
       "stream": "stdout",
       "text": [
        " 1 norm(r) 0.00101263915022\n",
        "SSPRKNewton it 1 norm(r) 0.0009128978121\n",
        "SSPRKNewton it 1 norm(r) 0.00185533660374\n",
        "SSPRKNewton it 1 norm(r) 0.00100220657944\n",
        "SSPRKNewton it 1 norm(r) 0.000912784804192\n",
        "SSPRKNewton it 1 norm(r) 0.00186174299778\n",
        "SSPRKNewton it 1 norm(r) 0.000991373617339\n",
        "SSPRKNewton it 1 norm(r) 0.000913323580614\n",
        "SSPRKNewton it 1 norm(r) 0.0018688308759\n",
        "SSPRKNewton it 1 norm(r) 0.000981333154985\n",
        "SSPRKNewton it 1 norm(r) 0.000914814227305\n",
        "SSPRKNewton it 1 norm(r) 0.00187648884295\n",
        "SSPRKNewton it 1 norm(r) 0.000984588070888\n",
        "SSPRKNewton it 1 norm(r) 0.000916690242476\n",
        "SSPRKNewton it 1 norm(r) 0.00185128798328\n",
        "SSPRKNewton it"
       ]
      },
      {
       "output_type": "stream",
       "stream": "stdout",
       "text": [
        " 1 norm(r) 0.00099454661388\n",
        "SSPRKNewton it 1 norm(r) 0.000909586783049\n",
        "SSPRKNewton it 1 norm(r) 0.00183962977821\n",
        "SSPRKNewton it 1 norm(r) 0.00100477124321\n",
        "SSPRKNewton it 1 norm(r) 0.0009086019399\n",
        "SSPRKNewton it 1 norm(r) 0.00183202867274\n",
        "SSPRKNewton it 1 norm(r) 0.00101388167566\n",
        "SSPRKNewton it 1 norm(r) 0.00090821190938\n",
        "SSPRKNewton it 1 norm(r) 0.00182721447767\n",
        "SSPRKNewton it 1 norm(r) 0.00102078790446\n",
        "SSPRKNewton it 1 norm(r) 0.000908069261932\n",
        "SSPRKNewton it 1 norm(r) 0.00182486700381\n",
        "SSPRKNewton it 1 norm(r) 0.00102476521075\n",
        "SSPRKNewton it 1 norm(r) 0.000907928206063\n",
        "SSPRKNewton it 1 norm(r) 0.00182465558846\n",
        "SSPRKNewton it"
       ]
      },
      {
       "output_type": "stream",
       "stream": "stdout",
       "text": [
        " 1 norm(r) 0.00102544304884\n",
        "SSPRKNewton it 1 norm(r) 0.000907651781799\n",
        "SSPRKNewton it 1 norm(r) 0.00182626057859\n",
        "SSPRKNewton it 1 norm(r) 0.00102278345065\n",
        "SSPRKNewton it 1 norm(r) 0.000907210760389\n",
        "SSPRKNewton it 1 norm(r) 0.00182938865405\n",
        "SSPRKNewton it 1 norm(r) 0.00101705459873\n",
        "SSPRKNewton it 1 norm(r) 0.000906675684923\n",
        "SSPRKNewton it 1 norm(r) 0.0018337819609\n",
        "SSPRKNewton it 1 norm(r) 0.00100880163808\n",
        "SSPRKNewton it 1 norm(r) 0.000906203392739\n",
        "SSPRKNewton it 1 norm(r) 0.00183922172915\n",
        "SSPRKNewton it 1 norm(r) 0.000998814098403\n",
        "SSPRKNewton it 1 norm(r) 0.000906019206963\n",
        "SSPRKNewton it 1 norm(r) 0.00184552739396\n",
        "SSPRKNewton it"
       ]
      },
      {
       "output_type": "stream",
       "stream": "stdout",
       "text": [
        " 1 norm(r) 0.000988087249075\n",
        "SSPRKNewton it 1 norm(r) 0.000906395843987\n",
        "SSPRKNewton it 1 norm(r) 0.00185255250427\n",
        "SSPRKNewton it 1 norm(r) 0.000977794461821\n",
        "SSPRKNewton it 1 norm(r) 0.00090765239092\n",
        "SSPRKNewton it 1 norm(r) 0.00186009528639\n",
        "SSPRKNewton it 1 norm(r) 0.000975539875694\n",
        "SSPRKNewton it 1 norm(r) 0.000915141567577\n",
        "SSPRKNewton it 1 norm(r) 0.0018442642059\n",
        "SSPRKNewton it 1 norm(r) 0.000984999132226\n",
        "SSPRKNewton it 1 norm(r) 0.000903532533311\n",
        "SSPRKNewton it 1 norm(r) 0.00182888585256\n",
        "SSPRKNewton it 1 norm(r) 0.000995383120754\n",
        "SSPRKNewton it 1 norm(r) 0.000902364526531\n",
        "SSPRKNewton it 1 norm(r) 0.00182051355427\n",
        "SSPRKNewton it"
       ]
      },
      {
       "output_type": "stream",
       "stream": "stdout",
       "text": [
        " 1 norm(r) 0.00100504484298\n",
        "SSPRKNewton it 1 norm(r) 0.000901907311172\n",
        "SSPRKNewton it 1 norm(r) 0.00181501115509\n",
        "SSPRKNewton it 1 norm(r) 0.00101278970641\n",
        "SSPRKNewton it 1 norm(r) 0.000901787425578\n",
        "SSPRKNewton it 1 norm(r) 0.00181206883096\n",
        "SSPRKNewton it 1 norm(r) 0.00101778672185\n",
        "SSPRKNewton it 1 norm(r) 0.000901728574381\n",
        "SSPRKNewton it 1 norm(r) 0.00181135842456\n",
        "SSPRKNewton it 1 norm(r) 0.001019562249\n",
        "SSPRKNewton it 1 norm(r) 0.000901561610175\n",
        "SSPRKNewton it 1 norm(r) 0.0018125565718\n",
        "SSPRKNewton it 1 norm(r) 0.00101798082063\n",
        "SSPRKNewton it 1 norm(r) 0.000901225803666\n",
        "SSPRKNewton it"
       ]
      },
      {
       "output_type": "stream",
       "stream": "stdout",
       "text": [
        " 1 norm(r) 0.00181536191932\n",
        "SSPRKNewton it 1 norm(r) 0.00101321998838\n",
        "SSPRKNewton it 1 norm(r) 0.00090076287616\n",
        "SSPRKNewton it 1 norm(r) 0.00181950610428\n",
        "SSPRKNewton it 1 norm(r) 0.00100574219106\n",
        "SSPRKNewton it 1 norm(r) 0.000900305148072\n",
        "SSPRKNewton it 1 norm(r) 0.00182475896868\n",
        "SSPRKNewton it 1 norm(r) 0.00099626372916\n",
        "SSPRKNewton it 1 norm(r) 0.000900059020164\n",
        "SSPRKNewton it 1 norm(r) 0.00183092899983\n",
        "SSPRKNewton it 1 norm(r) 0.000985718741247\n",
        "SSPRKNewton it 1 norm(r) 0.0009002848852\n",
        "SSPRKNewton it 1 norm(r) 0.0018378600528\n",
        "SSPRKNewton it"
       ]
      },
      {
       "output_type": "stream",
       "stream": "stdout",
       "text": [
        " 1 norm(r) 0.000975255332998\n",
        "SSPRKNewton it 1 norm(r) 0.000901318021294\n",
        "SSPRKNewton it 1 norm(r) 0.00184525795516\n",
        "SSPRKNewton it 1 norm(r) 0.000967673921437\n",
        "SSPRKNewton it 1 norm(r) 0.000904646655644\n",
        "SSPRKNewton it 1 norm(r) 0.00184581767554\n",
        "SSPRKNewton it 1 norm(r) 0.000976139637139\n",
        "SSPRKNewton it 1 norm(r) 0.000898298312707\n",
        "SSPRKNewton it 1 norm(r) 0.00182003406002\n",
        "SSPRKNewton it 1 norm(r) 0.000986511920382\n",
        "SSPRKNewton it 1 norm(r) 0.00089687357695\n",
        "SSPRKNewton it 1 norm(r) 0.00181079599491\n",
        "SSPRKNewton it 1 norm(r) 0.000996605975392\n",
        "SSPRKNewton it"
       ]
      },
      {
       "output_type": "stream",
       "stream": "stdout",
       "text": [
        " 1 norm(r) 0.000896291644273\n",
        "SSPRKNewton it 1 norm(r) 0.0018045171499\n",
        "SSPRKNewton it 1 norm(r) 0.00100511717728\n",
        "SSPRKNewton it 1 norm(r) 0.000896152680501\n",
        "SSPRKNewton it 1 norm(r) 0.00180089947656\n",
        "SSPRKNewton it 1 norm(r) 0.00101110197427\n",
        "SSPRKNewton it 1 norm(r) 0.000896148850045\n",
        "SSPRKNewton it 1 norm(r) 0.00179961816963\n",
        "SSPRKNewton it 1 norm(r) 0.00101397752961\n",
        "SSPRKNewton it 1 norm(r) 0.000896077264837\n",
        "SSPRKNewton it 1 norm(r) 0.00180034645066\n",
        "SSPRKNewton it 1 norm(r) 0.00101350545399\n",
        "SSPRKNewton it 1 norm(r) 0.000895843804042\n",
        "SSPRKNewton it"
       ]
      },
      {
       "output_type": "stream",
       "stream": "stdout",
       "text": [
        " 1 norm(r) 0.00180277469907\n",
        "SSPRKNewton it 1 norm(r) 0.00100976796483\n",
        "SSPRKNewton it 1 norm(r) 0.000895459243927\n",
        "SSPRKNewton it 1 norm(r) 0.00180662340244\n",
        "SSPRKNewton it 1 norm(r) 0.00100314061843\n",
        "SSPRKNewton it 1 norm(r) 0.000895029135452\n",
        "SSPRKNewton it 1 norm(r) 0.00181165003918\n",
        "SSPRKNewton it 1 norm(r) 0.000994262418267\n",
        "SSPRKNewton it 1 norm(r) 0.00089473861349\n",
        "SSPRKNewton it 1 norm(r) 0.00181765103529\n",
        "SSPRKNewton it 1 norm(r) 0.00098400196503\n",
        "SSPRKNewton it 1 norm(r) 0.00089483341369\n",
        "SSPRKNewton it 1 norm(r) 0.00182445941208\n",
        "SSPRKNewton it"
       ]
      },
      {
       "output_type": "stream",
       "stream": "stdout",
       "text": [
        " 1 norm(r) 0.000973469371341\n",
        "SSPRKNewton it 1 norm(r) 0.000895599864554\n",
        "SSPRKNewton it 1 norm(r) 0.00183177741049\n",
        "SSPRKNewton it 1 norm(r) 0.00096362014375\n",
        "SSPRKNewton it 1 norm(r) 0.000897227858943\n",
        "SSPRKNewton it 1 norm(r) 0.00183975809632\n",
        "SSPRKNewton it 1 norm(r) 0.000968032482696\n",
        "SSPRKNewton it 1 norm(r) 0.000897519266932\n",
        "SSPRKNewton it 1 norm(r) 0.00181345009769\n",
        "SSPRKNewton it 1 norm(r) 0.00097828399371\n",
        "SSPRKNewton it 1 norm(r) 0.000892062255503\n",
        "SSPRKNewton it 1 norm(r) 0.00180258942096\n",
        "SSPRKNewton it 1 norm(r) 0.00098868296548\n",
        "SSPRKNewton it"
       ]
      },
      {
       "output_type": "stream",
       "stream": "stdout",
       "text": [
        " 1 norm(r) 0.000891308656684\n",
        "SSPRKNewton it 1 norm(r) 0.00179548633379\n",
        "SSPRKNewton it 1 norm(r) 0.00099786671314\n",
        "SSPRKNewton it 1 norm(r) 0.000891112582198\n",
        "SSPRKNewton it 1 norm(r) 0.00179114290907\n",
        "SSPRKNewton it 1 norm(r) 0.00100477880277\n",
        "SSPRKNewton it 1 norm(r) 0.000891135854537\n",
        "SSPRKNewton it 1 norm(r) 0.00178924041065\n",
        "SSPRKNewton it 1 norm(r) 0.00100872540936\n",
        "SSPRKNewton it 1 norm(r) 0.000891142118547\n",
        "SSPRKNewton it 1 norm(r) 0.00178945071623\n",
        "SSPRKNewton it 1 norm(r) 0.00100936279898\n",
        "SSPRKNewton it"
       ]
      },
      {
       "output_type": "stream",
       "stream": "stdout",
       "text": [
        " 1 norm(r) 0.000891003393631\n",
        "SSPRKNewton it 1 norm(r) 0.00179145727755\n",
        "SSPRKNewton it 1 norm(r) 0.00100667516862\n",
        "SSPRKNewton it 1 norm(r) 0.000890698434436\n",
        "SSPRKNewton it 1 norm(r) 0.00179497018674\n",
        "SSPRKNewton it 1 norm(r) 0.0010009483777\n",
        "SSPRKNewton it 1 norm(r) 0.00089030452825\n",
        "SSPRKNewton it 1 norm(r) 0.00179973479257\n",
        "SSPRKNewton it 1 norm(r) 0.000992740998229\n",
        "SSPRKNewton it 1 norm(r) 0.000889983723994\n",
        "SSPRKNewton it 1 norm(r) 0.00180553517678\n",
        "SSPRKNewton it 1 norm(r) 0.000982860426978\n",
        "SSPRKNewton it 1 norm(r) 0.000889973912754\n",
        "SSPRKNewton it"
       ]
      },
      {
       "output_type": "stream",
       "stream": "stdout",
       "text": [
        " 1 norm(r) 0.00181216070515\n",
        "SSPRKNewton it 1 norm(r) 0.000972316094817\n",
        "SSPRKNewton it 1 norm(r) 0.000890495099715\n",
        "SSPRKNewton it 1 norm(r) 0.00181941144406\n",
        "SSPRKNewton it 1 norm(r) 0.00096208168147\n",
        "SSPRKNewton it 1 norm(r) 0.000891843745572\n",
        "SSPRKNewton it 1 norm(r) 0.00182732861089\n",
        "SSPRKNewton it 1 norm(r) 0.000960781538698\n",
        "SSPRKNewton it 1 norm(r) 0.000900238012732\n",
        "SSPRKNewton it 1 norm(r) 0.00180925755693\n",
        "SSPRKNewton it 1 norm(r) 0.000970679674269\n",
        "SSPRKNewton it 1 norm(r) 0.000887866246964\n",
        "SSPRKNewton it 1 norm(r) 0.00179572652349\n",
        "SSPRKNewton it"
       ]
      },
      {
       "output_type": "stream",
       "stream": "stdout",
       "text": [
        " 1 norm(r) 0.000981251499359\n",
        "SSPRKNewton it 1 norm(r) 0.000886896117584\n",
        "SSPRKNewton it 1 norm(r) 0.00178776038567\n",
        "SSPRKNewton it 1 norm(r) 0.000991006223508\n",
        "SSPRKNewton it 1 norm(r) 0.000886605422162\n",
        "SSPRKNewton it 1 norm(r) 0.00178264808981\n",
        "SSPRKNewton it 1 norm(r) 0.000998775579814\n",
        "SSPRKNewton it 1 norm(r) 0.000886627273403\n",
        "SSPRKNewton it 1 norm(r) 0.00178007979628\n",
        "SSPRKNewton it 1 norm(r) 0.00100375402934\n",
        "SSPRKNewton it 1 norm(r) 0.000886692597965\n",
        "SSPRKNewton it 1 norm(r) 0.00177972822388\n",
        "SSPRKNewton it 1 norm(r) 0.00100549078963\n",
        "SSPRKNewton it"
       ]
      },
      {
       "output_type": "stream",
       "stream": "stdout",
       "text": [
        " 1 norm(r) 0.000886639448384\n",
        "SSPRKNewton it 1 norm(r) 0.00178127163438\n",
        "SSPRKNewton it 1 norm(r) 0.00100387002531\n",
        "SSPRKNewton it 1 norm(r) 0.000886413899007\n",
        "SSPRKNewton it 1 norm(r) 0.00178441065563\n",
        "SSPRKNewton it 1 norm(r) 0.000999085501333\n",
        "SSPRKNewton it 1 norm(r) 0.000886063692518\n",
        "SSPRKNewton it 1 norm(r) 0.0017888789863\n",
        "SSPRKNewton it 1 norm(r) 0.000991612662368\n",
        "SSPRKNewton it 1 norm(r) 0.000885726168375\n",
        "SSPRKNewton it 1 norm(r) 0.00179444838836\n",
        "SSPRKNewton it 1 norm(r) 0.000982199151269\n",
        "SSPRKNewton it"
       ]
      },
      {
       "output_type": "stream",
       "stream": "stdout",
       "text": [
        " 1 norm(r) 0.000885634785597\n",
        "SSPRKNewton it 1 norm(r) 0.00180083970848\n",
        "SSPRKNewton it 1 norm(r) 0.000971708835636\n",
        "SSPRKNewton it 1 norm(r) 0.000885935116698\n",
        "SSPRKNewton it 1 norm(r) 0.00180802410977\n",
        "SSPRKNewton it 1 norm(r) 0.000961232148656\n",
        "SSPRKNewton it 1 norm(r) 0.000887018818745\n",
        "SSPRKNewton it 1 norm(r) 0.00181585337782\n",
        "SSPRKNewton it 1 norm(r) 0.000954455305614\n",
        "SSPRKNewton it 1 norm(r) 0.000891124587733\n",
        "SSPRKNewton it 1 norm(r) 0.00181432224644\n",
        "SSPRKNewton it 1 norm(r) 0.000963334140025\n",
        "SSPRKNewton it 1 norm(r) 0.000884187867725\n",
        "SSPRKNewton it"
       ]
      },
      {
       "output_type": "stream",
       "stream": "stdout",
       "text": [
        " 1 norm(r) 0.00179019844524\n",
        "SSPRKNewton it 1 norm(r) 0.000973895602641\n",
        "SSPRKNewton it 1 norm(r) 0.000882927721607\n",
        "SSPRKNewton it 1 norm(r) 0.00178127809971\n",
        "SSPRKNewton it 1 norm(r) 0.000984097645098\n",
        "SSPRKNewton it 1 norm(r) 0.000882486785738\n",
        "SSPRKNewton it 1 norm(r) 0.00177531229764\n",
        "SSPRKNewton it 1 norm(r) 0.000992653924901\n",
        "SSPRKNewton it 1 norm(r) 0.000882469083738\n",
        "SSPRKNewton it 1 norm(r) 0.00177200162308\n",
        "SSPRKNewton it 1 norm(r) 0.000998640015846\n",
        "SSPRKNewton it 1 norm(r) 0.00088257160969\n",
        "SSPRKNewton it"
       ]
      },
      {
       "output_type": "stream",
       "stream": "stdout",
       "text": [
        " 1 norm(r) 0.00177102065361\n",
        "SSPRKNewton it 1 norm(r) 0.00100149121595\n",
        "SSPRKNewton it 1 norm(r) 0.000882596714505\n",
        "SSPRKNewton it 1 norm(r) 0.00177204272465\n",
        "SSPRKNewton it 1 norm(r) 0.00100098541821\n",
        "SSPRKNewton it 1 norm(r) 0.000882455586677\n",
        "SSPRKNewton it 1 norm(r) 0.00177475878496\n",
        "SSPRKNewton it 1 norm(r) 0.000997218860025\n",
        "SSPRKNewton it 1 norm(r) 0.000882164006684\n",
        "SSPRKNewton it 1 norm(r) 0.00177889012961\n",
        "SSPRKNewton it 1 norm(r) 0.000990578870079\n",
        "SSPRKNewton it"
       ]
      },
      {
       "output_type": "stream",
       "stream": "stdout",
       "text": [
        " 1 norm(r) 0.000881831974825\n",
        "SSPRKNewton it 1 norm(r) 0.00178419517035\n",
        "SSPRKNewton it 1 norm(r) 0.000981744102427\n",
        "SSPRKNewton it 1 norm(r) 0.000881650232039\n",
        "SSPRKNewton it 1 norm(r) 0.00179037714786\n",
        "SSPRKNewton it 1 norm(r) 0.00097145582538\n",
        "SSPRKNewton it 1 norm(r) 0.000881801702753\n",
        "SSPRKNewton it 1 norm(r) 0.00179742099599\n",
        "SSPRKNewton it 1 norm(r) 0.000960865534342\n",
        "SSPRKNewton it 1 norm(r) 0.000882644669752\n",
        "SSPRKNewton it 1 norm(r) 0.00180514091615\n",
        "SSPRKNewton it 1 norm(r) 0.000951196270127\n",
        "SSPRKNewton it"
       ]
      },
      {
       "output_type": "stream",
       "stream": "stdout",
       "text": [
        " 1 norm(r) 0.000884478583257\n",
        "SSPRKNewton it 1 norm(r) 0.00181342653742\n",
        "SSPRKNewton it 1 norm(r) 0.00095649070097\n",
        "SSPRKNewton it 1 norm(r) 0.000884004105866\n",
        "SSPRKNewton it 1 norm(r) 0.00178629831785\n",
        "SSPRKNewton it 1 norm(r) 0.000966935317506\n",
        "SSPRKNewton it 1 norm(r) 0.00087941187528\n",
        "SSPRKNewton it 1 norm(r) 0.00177583087936\n",
        "SSPRKNewton it 1 norm(r) 0.000977453526325\n",
        "SSPRKNewton it 1 norm(r) 0.000878779493848\n",
        "SSPRKNewton it 1 norm(r) 0.00176898102422\n",
        "SSPRKNewton it 1 norm(r) 0.000986698674851\n",
        "SSPRKNewton it 1 norm(r) 0.000878688734669\n",
        "SSPRKNewton it"
       ]
      },
      {
       "output_type": "stream",
       "stream": "stdout",
       "text": [
        " 1 norm(r) 0.00176489140668\n",
        "SSPRKNewton it 1 norm(r) 0.000993628627665\n",
        "SSPRKNewton it 1 norm(r) 0.000878804500406\n",
        "SSPRKNewton it 1 norm(r) 0.00176324193495\n",
        "SSPRKNewton it 1 norm(r) 0.000997564017597\n",
        "SSPRKNewton it 1 norm(r) 0.000878894216119\n",
        "SSPRKNewton it 1 norm(r) 0.00176370367979\n",
        "SSPRKNewton it 1 norm(r) 0.000998174635427\n",
        "SSPRKNewton it 1 norm(r) 0.000878834001578\n",
        "SSPRKNewton it 1 norm(r) 0.0017659598126\n",
        "SSPRKNewton it 1 norm(r) 0.000995456817902\n",
        "SSPRKNewton it 1 norm(r) 0.000878606774184\n",
        "SSPRKNewton it 1 norm(r) 0.00176972037746\n",
        "SSPRKNewton it"
       ]
      },
      {
       "output_type": "stream",
       "stream": "stdout",
       "text": [
        " 1 norm(r) 0.000989712215493\n",
        "SSPRKNewton it 1 norm(r) 0.000878299546114\n",
        "SSPRKNewton it 1 norm(r) 0.00177470946449\n",
        "SSPRKNewton it 1 norm(r) 0.000981509609996\n",
        "SSPRKNewton it 1 norm(r) 0.000878043014654\n",
        "SSPRKNewton it 1 norm(r) 0.0017806851311\n",
        "SSPRKNewton it 1 norm(r) 0.000971554614538\n",
        "SSPRKNewton it 1 norm(r) 0.000878071325619\n",
        "SSPRKNewton it 1 norm(r) 0.00178755686482\n",
        "SSPRKNewton it 1 norm(r) 0.000960959071926\n",
        "SSPRKNewton it 1 norm(r) 0.000878694941445\n",
        "SSPRKNewton it 1 norm(r) 0.00179514538746\n",
        "SSPRKNewton it 1 norm(r) 0.000950883179953\n",
        "SSPRKNewton it"
       ]
      },
      {
       "output_type": "stream",
       "stream": "stdout",
       "text": [
        " 1 norm(r) 0.0008802120434\n",
        "SSPRKNewton it 1 norm(r) 0.0018033325103\n",
        "SSPRKNewton it 1 norm(r) 0.000950261972979\n",
        "SSPRKNewton it 1 norm(r) 0.000888458211115\n",
        "SSPRKNewton it 1 norm(r) 0.00178429694566\n",
        "SSPRKNewton it 1 norm(r) 0.000960390848786\n",
        "SSPRKNewton it 1 norm(r) 0.000876329229286\n",
        "SSPRKNewton it 1 norm(r) 0.00177135331942\n",
        "SSPRKNewton it 1 norm(r) 0.000971089142005\n",
        "SSPRKNewton it 1 norm(r) 0.000875463320252\n",
        "SSPRKNewton it 1 norm(r) 0.00176358974279\n",
        "SSPRKNewton it 1 norm(r) 0.000980918430671\n",
        "SSPRKNewton it"
       ]
      },
      {
       "output_type": "stream",
       "stream": "stdout",
       "text": [
        " 1 norm(r) 0.000875264502839\n",
        "SSPRKNewton it 1 norm(r) 0.00175868580812\n",
        "SSPRKNewton it 1 norm(r) 0.000988720550273\n",
        "SSPRKNewton it 1 norm(r) 0.000875367550312\n",
        "SSPRKNewton it 1 norm(r) 0.00175632978172\n",
        "SSPRKNewton it 1 norm(r) 0.000993701071857\n",
        "SSPRKNewton it 1 norm(r) 0.000875505870105\n",
        "SSPRKNewton it 1 norm(r) 0.0017561930186\n",
        "SSPRKNewton it 1 norm(r) 0.000995420261562\n",
        "SSPRKNewton it 1 norm(r) 0.000875520584843\n",
        "SSPRKNewton it 1 norm(r) 0.00175795277141\n",
        "SSPRKNewton it"
       ]
      },
      {
       "output_type": "stream",
       "stream": "stdout",
       "text": [
        " 1 norm(r) 0.00099377255553\n",
        "SSPRKNewton it 1 norm(r) 0.000875361075233\n",
        "SSPRKNewton it 1 norm(r) 0.00176130892016\n",
        "SSPRKNewton it 1 norm(r) 0.000988974500683\n",
        "SSPRKNewton it 1 norm(r) 0.00087509346075\n",
        "SSPRKNewton it 1 norm(r) 0.00176593656716\n",
        "SSPRKNewton it 1 norm(r) 0.000981457006091\n",
        "SSPRKNewton it 1 norm(r) 0.00087478238231\n",
        "SSPRKNewton it 1 norm(r) 0.00177169572344\n",
        "SSPRKNewton it 1 norm(r) 0.000971951255351\n",
        "SSPRKNewton it 1 norm(r) 0.000874707234059\n",
        "SSPRKNewton it 1 norm(r) 0.00177837085786\n",
        "SSPRKNewton it"
       ]
      },
      {
       "output_type": "stream",
       "stream": "stdout",
       "text": [
        " 1 norm(r) 0.000961454900779\n",
        "SSPRKNewton it 1 norm(r) 0.000875133468724\n",
        "SSPRKNewton it 1 norm(r) 0.00178580626629\n",
        "SSPRKNewton it 1 norm(r) 0.0009510859926\n",
        "SSPRKNewton it 1 norm(r) 0.000876355547829\n",
        "SSPRKNewton it 1 norm(r) 0.00179387572673\n",
        "SSPRKNewton it 1 norm(r) 0.000944817733247\n",
        "SSPRKNewton it 1 norm(r) 0.000880915034605\n",
        "SSPRKNewton it 1 norm(r) 0.00179117265873\n",
        "SSPRKNewton it 1 norm(r) 0.000953941709013\n",
        "SSPRKNewton it 1 norm(r) 0.000873615165098\n",
        "SSPRKNewton it 1 norm(r) 0.00176790039836\n",
        "SSPRKNewton it"
       ]
      },
      {
       "output_type": "stream",
       "stream": "stdout",
       "text": [
        " 1 norm(r) 0.000964634537047\n",
        "SSPRKNewton it 1 norm(r) 0.000872444859552\n",
        "SSPRKNewton it 1 norm(r) 0.0017591402178\n",
        "SSPRKNewton it 1 norm(r) 0.000974922041606\n",
        "SSPRKNewton it 1 norm(r) 0.000872084585469\n",
        "SSPRKNewton it 1 norm(r) 0.00175334428481\n",
        "SSPRKNewton it 1 norm(r) 0.00098352438444\n",
        "SSPRKNewton it 1 norm(r) 0.000872138871272\n",
        "SSPRKNewton it 1 norm(r) 0.00175021104499\n",
        "SSPRKNewton it 1 norm(r) 0.000989525371507\n",
        "SSPRKNewton it 1 norm(r) 0.000872306131144\n",
        "SSPRKNewton it 1 norm(r) 0.00174941321056\n",
        "SSPRKNewton it"
       ]
      },
      {
       "output_type": "stream",
       "stream": "stdout",
       "text": [
        " 1 norm(r) 0.000992369060024\n",
        "SSPRKNewton it 1 norm(r) 0.00087239080226\n",
        "SSPRKNewton it 1 norm(r) 0.00175062268536\n",
        "SSPRKNewton it 1 norm(r) 0.000991841988516\n",
        "SSPRKNewton it 1 norm(r) 0.00087230665958\n",
        "SSPRKNewton it 1 norm(r) 0.0017535293651\n",
        "SSPRKNewton it 1 norm(r) 0.000988067827244\n",
        "SSPRKNewton it 1 norm(r) 0.000872070889032\n",
        "SSPRKNewton it 1 norm(r) 0.00175779469091\n",
        "SSPRKNewton it 1 norm(r) 0.000981351384476\n",
        "SSPRKNewton it 1 norm(r) 0.00087176146256\n",
        "SSPRKNewton it 1 norm(r) 0.00176327192963\n",
        "SSPRKNewton it"
       ]
      },
      {
       "output_type": "stream",
       "stream": "stdout",
       "text": [
        " 1 norm(r) 0.000972414922507\n",
        "SSPRKNewton it 1 norm(r) 0.00087161109558\n",
        "SSPRKNewton it 1 norm(r) 0.00176972497238\n",
        "SSPRKNewton it 1 norm(r) 0.000962151695622\n",
        "SSPRKNewton it 1 norm(r) 0.000871870445574\n",
        "SSPRKNewton it 1 norm(r) 0.00177698673732\n",
        "SSPRKNewton it 1 norm(r) 0.000951630785517\n",
        "SSPRKNewton it 1 norm(r) 0.000872827438631\n",
        "SSPRKNewton it 1 norm(r) 0.00178492162791\n",
        "SSPRKNewton it 1 norm(r) 0.00094205475584\n",
        "SSPRKNewton it 1 norm(r) 0.000874783428979\n",
        "SSPRKNewton it 1 norm(r) 0.00179341911104\n",
        "SSPRKNewton it 1 norm(r) 0.000947860354745\n",
        "SSPRKNewton it 1 norm(r) 0.000873873019824\n",
        "SSPRKNewton it"
       ]
      },
      {
       "output_type": "stream",
       "stream": "stdout",
       "text": [
        " 1 norm(r) 0.00176574412701\n",
        "SSPRKNewton it 1 norm(r) 0.000958436060401\n",
        "SSPRKNewton it 1 norm(r) 0.000869757560344\n",
        "SSPRKNewton it 1 norm(r) 0.00175547776097\n",
        "SSPRKNewton it 1 norm(r) 0.000969047314105\n",
        "SSPRKNewton it 1 norm(r) 0.000869195659014\n",
        "SSPRKNewton it 1 norm(r) 0.00174876378388\n",
        "SSPRKNewton it 1 norm(r) 0.000978349667973\n",
        "SSPRKNewton it 1 norm(r) 0.000869168819878\n",
        "SSPRKNewton it 1 norm(r) 0.00174482054776\n",
        "SSPRKNewton it 1 norm(r) 0.000985306467632\n",
        "SSPRKNewton it 1 norm(r) 0.000869342390927\n",
        "SSPRKNewton it 1 norm(r) 0.00174332605408\n",
        "SSPRKNewton it 1 norm(r) 0.000989245096587\n",
        "SSPRKNewton it 1 norm(r) 0.000869485146363\n",
        "SSPRKNewton it"
       ]
      },
      {
       "output_type": "stream",
       "stream": "stdout",
       "text": [
        " 1 norm(r) 0.00174394951972\n",
        "SSPRKNewton it 1 norm(r) 0.000989847145359\n",
        "SSPRKNewton it 1 norm(r) 0.00086948045931\n",
        "SSPRKNewton it 1 norm(r) 0.00174635200926\n",
        "SSPRKNewton it 1 norm(r) 0.000987106577461\n",
        "SSPRKNewton it 1 norm(r) 0.000869283545829\n",
        "SSPRKNewton it 1 norm(r) 0.00175024617706\n",
        "SSPRKNewton it 1 norm(r) 0.000981279276349\n",
        "SSPRKNewton it 1 norm(r) 0.00086899078807\n",
        "SSPRKNewton it 1 norm(r) 0.00175541261577\n",
        "SSPRKNewton it 1 norm(r) 0.000972996408703\n",
        "SSPRKNewton it 1 norm(r) 0.000868786032839\n",
        "SSPRKNewton it 1 norm(r) 0.00176161873395\n",
        "SSPRKNewton it 1 norm(r) 0.000963070725914\n",
        "SSPRKNewton it 1 norm(r) 0.000868903229488\n",
        "SSPRKNewton it"
       ]
      },
      {
       "output_type": "stream",
       "stream": "stdout",
       "text": [
        " 1 norm(r) 0.00176868546888\n",
        "SSPRKNewton it 1 norm(r) 0.000952516473305\n",
        "SSPRKNewton it 1 norm(r) 0.000869621232317\n",
        "SSPRKNewton it 1 norm(r) 0.00177646726996\n",
        "SSPRKNewton it 1 norm(r) 0.000942500695005\n",
        "SSPRKNewton it 1 norm(r) 0.000871240278221\n",
        "SSPRKNewton it 1 norm(r) 0.00178484592752\n",
        "SSPRKNewton it 1 norm(r) 0.000942264446705\n",
        "SSPRKNewton it 1 norm(r) 0.000879142485748\n",
        "SSPRKNewton it 1 norm(r) 0.00176536271578\n",
        "SSPRKNewton it 1 norm(r) 0.00095253593645\n",
        "SSPRKNewton it 1 norm(r) 0.000867401883877\n",
        "SSPRKNewton it 1 norm(r) 0.0017525782291\n",
        "SSPRKNewton it 1 norm(r) 0.000963330825805\n",
        "SSPRKNewton it 1 norm(r) 0.00086659641855\n",
        "SSPRKNewton it"
       ]
      },
      {
       "output_type": "stream",
       "stream": "stdout",
       "text": [
        " 1 norm(r) 0.00174491941201\n",
        "SSPRKNewton it 1 norm(r) 0.00097322585858\n",
        "SSPRKNewton it 1 norm(r) 0.000866453897497\n",
        "SSPRKNewton it 1 norm(r) 0.00174013354044\n",
        "SSPRKNewton it 1 norm(r) 0.000981065718633\n",
        "SSPRKNewton it 1 norm(r) 0.000866608706915\n",
        "SSPRKNewton it 1 norm(r) 0.00173790668924\n",
        "SSPRKNewton it 1 norm(r) 0.000986060493964\n",
        "SSPRKNewton it 1 norm(r) 0.000866794724228\n",
        "SSPRKNewton it 1 norm(r) 0.00173790815276\n",
        "SSPRKNewton it 1 norm(r) 0.000987785894019\n",
        "SSPRKNewton it 1 norm(r) 0.000866860672342\n",
        "SSPRKNewton it 1 norm(r) 0.00173977440058\n",
        "SSPRKNewton it 1 norm(r) 0.00098609866743\n",
        "SSPRKNewton it 1 norm(r) 0.000866715943899\n",
        "SSPRKNewton it"
       ]
      },
      {
       "output_type": "stream",
       "stream": "stdout",
       "text": [
        " 1 norm(r) 0.00174326448602\n",
        "SSPRKNewton it 1 norm(r) 0.000981221577694\n",
        "SSPRKNewton it 1 norm(r) 0.000866452277309\n",
        "SSPRKNewton it 1 norm(r) 0.00174809134837\n",
        "SSPRKNewton it 1 norm(r) 0.000973667735377\n",
        "SSPRKNewton it 1 norm(r) 0.000866212257451\n",
        "SSPRKNewton it 1 norm(r) 0.00175402539808\n",
        "SSPRKNewton it 1 norm(r) 0.000964176375099\n",
        "SSPRKNewton it 1 norm(r) 0.000866211005426\n",
        "SSPRKNewton it 1 norm(r) 0.00176087540712\n",
        "SSPRKNewton it 1 norm(r) 0.000953701781649\n",
        "SSPRKNewton it 1 norm(r) 0.000866715870459\n",
        "SSPRKNewton it 1 norm(r) 0.00176848534033\n",
        "SSPRKNewton it 1 norm(r) 0.00094336867044\n",
        "SSPRKNewton it 1 norm(r) 0.000868023443749\n",
        "SSPRKNewton it"
       ]
      },
      {
       "output_type": "stream",
       "stream": "stdout",
       "text": [
        " 1 norm(r) 0.00177672847654\n",
        "SSPRKNewton it 1 norm(r) 0.000937379246618\n",
        "SSPRKNewton it 1 norm(r) 0.00087286237544\n",
        "SSPRKNewton it 1 norm(r) 0.00177335142398\n",
        "SSPRKNewton it 1 norm(r) 0.000946663293476\n",
        "SSPRKNewton it 1 norm(r) 0.000865332724605\n",
        "SSPRKNewton it 1 norm(r) 0.00175051719139\n",
        "SSPRKNewton it 1 norm(r) 0.000957456414157\n",
        "SSPRKNewton it 1 norm(r) 0.000864215462044\n",
        "SSPRKNewton it 1 norm(r) 0.00174183833108\n",
        "SSPRKNewton it 1 norm(r) 0.000967816749227\n",
        "SSPRKNewton it 1 norm(r) 0.000863905626231\n",
        "SSPRKNewton it 1 norm(r) 0.00173613834252\n",
        "SSPRKNewton it 1 norm(r) 0.000976465481272\n",
        "SSPRKNewton it 1 norm(r) 0.00086400683548\n",
        "SSPRKNewton it"
       ]
      },
      {
       "output_type": "stream",
       "stream": "stdout",
       "text": [
        " 1 norm(r) 0.00173311353871\n",
        "SSPRKNewton it 1 norm(r) 0.00098248963767\n",
        "SSPRKNewton it 1 norm(r) 0.00086421768611\n",
        "SSPRKNewton it 1 norm(r) 0.00173243434637\n",
        "SSPRKNewton it 1 norm(r) 0.000985350341483\n",
        "SSPRKNewton it 1 norm(r) 0.000864338310702\n",
        "SSPRKNewton it 1 norm(r) 0.00173373200263\n",
        "SSPRKNewton it 1 norm(r) 0.00098477289878\n",
        "SSPRKNewton it 1 norm(r) 0.00086426899384\n",
        "SSPRKNewton it 1 norm(r) 0.00173675858166\n",
        "SSPRKNewton it 1 norm(r) 0.000980923691544\n",
        "SSPRKNewton it 1 norm(r) 0.000864052354733\n",
        "SSPRKNewton it 1 norm(r) 0.00174121040488\n",
        "SSPRKNewton it 1 norm(r) 0.000974201974534\n",
        "SSPRKNewton it 1 norm(r) 0.000863802905855\n",
        "SSPRKNewton it"
       ]
      },
      {
       "output_type": "stream",
       "stream": "stdout",
       "text": [
        " 1 norm(r) 0.00174684381432\n",
        "SSPRKNewton it 1 norm(r) 0.000965268432419\n",
        "SSPRKNewton it 1 norm(r) 0.00086371413909\n",
        "SSPRKNewton it 1 norm(r) 0.00175345419086\n",
        "SSPRKNewton it 1 norm(r) 0.000955011617412\n",
        "SSPRKNewton it 1 norm(r) 0.000864038950547\n",
        "SSPRKNewton it 1 norm(r) 0.00176087365609\n",
        "SSPRKNewton it 1 norm(r) 0.000944506910056\n",
        "SSPRKNewton it 1 norm(r) 0.000865067354824\n",
        "SSPRKNewton it 1 norm(r) 0.00176896648562\n",
        "SSPRKNewton it 1 norm(r) 0.000934963480842\n",
        "SSPRKNewton it 1 norm(r) 0.000867102676914\n",
        "SSPRKNewton it 1 norm(r) 0.00177762163381\n",
        "SSPRKNewton it 1 norm(r) 0.000941079975194\n",
        "SSPRKNewton it 1 norm(r) 0.000865938484636\n",
        "SSPRKNewton it"
       ]
      },
      {
       "output_type": "stream",
       "stream": "stdout",
       "text": [
        " 1 norm(r) 0.00174956561749\n",
        "SSPRKNewton it 1 norm(r) 0.000951754353642\n",
        "SSPRKNewton it 1 norm(r) 0.000862094532647\n",
        "SSPRKNewton it 1 norm(r) 0.00173940185141\n",
        "SSPRKNewton it 1 norm(r) 0.000962443113779\n",
        "SSPRKNewton it 1 norm(r) 0.000861577043018\n",
        "SSPRKNewton it 1 norm(r) 0.00173276264317\n",
        "SSPRKNewton it 1 norm(r) 0.000971799342222\n",
        "SSPRKNewton it 1 norm(r) 0.000861592505049\n",
        "SSPRKNewton it 1 norm(r) 0.00172890829705\n",
        "SSPRKNewton it 1 norm(r) 0.000978792637231\n",
        "SSPRKNewton it 1 norm(r) 0.000861811141068\n",
        "SSPRKNewton it 1 norm(r) 0.00172749333976\n",
        "SSPRKNewton it 1 norm(r) 0.000982736320531\n",
        "SSPRKNewton it 1 norm(r) 0.000861973264839\n",
        "SSPRKNewton it"
       ]
      },
      {
       "output_type": "stream",
       "stream": "stdout",
       "text": [
        " 1 norm(r) 0.00172820908956\n",
        "SSPRKNewton it 1 norm(r) 0.000983296930732\n",
        "SSPRKNewton it 1 norm(r) 0.000861978389949\n",
        "SSPRKNewton it 1 norm(r) 0.00173073900677\n",
        "SSPRKNewton it 1 norm(r) 0.000980511130037\n",
        "SSPRKNewton it 1 norm(r) 0.000861817585364\n",
        "SSPRKNewton it 1 norm(r) 0.00173478556913\n",
        "SSPRKNewton it 1 norm(r) 0.000974685783113\n",
        "SSPRKNewton it 1 norm(r) 0.000861575884157\n",
        "SSPRKNewton it 1 norm(r) 0.0017400914033\n",
        "SSPRKNewton it 1 norm(r) 0.000966399178353\n",
        "SSPRKNewton it 1 norm(r) 0.000861422859467\n",
        "SSPRKNewton it 1 norm(r) 0.00174643918059\n",
        "SSPRKNewton it 1 norm(r) 0.000956470001894\n",
        "SSPRKNewton it 1 norm(r) 0.000861594922709\n",
        "SSPRKNewton it"
       ]
      },
      {
       "output_type": "stream",
       "stream": "stdout",
       "text": [
        " 1 norm(r) 0.00175364904695\n",
        "SSPRKNewton it 1 norm(r) 0.000945918398447\n",
        "SSPRKNewton it 1 norm(r) 0.000862372992346\n",
        "SSPRKNewton it 1 norm(r) 0.00176157489093\n",
        "SSPRKNewton it 1 norm(r) 0.000935917663669\n",
        "SSPRKNewton it 1 norm(r) 0.00086405919928\n",
        "SSPRKNewton it 1 norm(r) 0.00177009800515\n",
        "SSPRKNewton it 1 norm(r) 0.000935908367652\n",
        "SSPRKNewton it 1 norm(r) 0.000871780785854\n",
        "SSPRKNewton it 1 norm(r) 0.00175031374712\n",
        "SSPRKNewton it 1 norm(r) 0.000946284401074\n",
        "SSPRKNewton it 1 norm(r) 0.0008602446883\n",
        "SSPRKNewton it 1 norm(r) 0.00173760360252\n",
        "SSPRKNewton it 1 norm(r) 0.000957158975626\n",
        "SSPRKNewton it 1 norm(r) 0.000859477668668\n",
        "SSPRKNewton it"
       ]
      },
      {
       "output_type": "stream",
       "stream": "stdout",
       "text": [
        " 1 norm(r) 0.00173000016993\n",
        "SSPRKNewton it 1 norm(r) 0.000967113610593\n",
        "SSPRKNewton it 1 norm(r) 0.000859372977507\n",
        "SSPRKNewton it 1 norm(r) 0.00172528499328\n",
        "SSPRKNewton it 1 norm(r) 0.000975001020113\n",
        "SSPRKNewton it 1 norm(r) 0.000859564875608\n",
        "SSPRKNewton it 1 norm(r) 0.00172311463918\n",
        "SSPRKNewton it 1 norm(r) 0.000979994198223\n",
        "SSPRKNewton it 1 norm(r) 0.000859766308664\n",
        "SSPRKNewton it 1 norm(r) 0.00172319983458\n",
        "SSPRKNewton it 1 norm(r) 0.000981686040226\n",
        "SSPRKNewton it 1 norm(r) 0.000859841500283\n",
        "SSPRKNewton it 1 norm(r) 0.00172519915128\n",
        "SSPRKNewton it 1 norm(r) 0.000979987998456\n",
        "SSPRKNewton it 1 norm(r) 0.000859742027239\n",
        "SSPRKNewton it"
       ]
      },
      {
       "output_type": "stream",
       "stream": "stdout",
       "text": [
        " 1 norm(r) 0.00172880928168\n",
        "SSPRKNewton it 1 norm(r) 0.000975112111537\n",
        "SSPRKNewton it 1 norm(r) 0.000859522190833\n",
        "SSPRKNewton it 1 norm(r) 0.00173376072972\n",
        "SSPRKNewton it 1 norm(r) 0.000967551790768\n",
        "SSPRKNewton it 1 norm(r) 0.000859326311081\n",
        "SSPRKNewton it 1 norm(r) 0.00173982257046\n",
        "SSPRKNewton it 1 norm(r) 0.000958051297547\n",
        "SSPRKNewton it 1 norm(r) 0.000859371518839\n",
        "SSPRKNewton it 1 norm(r) 0.00174680268439\n",
        "SSPRKNewton it 1 norm(r) 0.000947570385276\n",
        "SSPRKNewton it 1 norm(r) 0.000859927192666\n",
        "SSPRKNewton it 1 norm(r) 0.00175454431304\n",
        "SSPRKNewton it 1 norm(r) 0.000937239673596\n",
        "SSPRKNewton it 1 norm(r) 0.000861291817104\n",
        "SSPRKNewton it"
       ]
      },
      {
       "output_type": "stream",
       "stream": "stdout",
       "text": [
        " 1 norm(r) 0.00176292032869\n",
        "SSPRKNewton it 1 norm(r) 0.000931406362447\n",
        "SSPRKNewton it 1 norm(r) 0.0008663124419\n",
        "SSPRKNewton it 1 norm(r) 0.00175914417141\n",
        "SSPRKNewton it 1 norm(r) 0.000940803665233\n",
        "SSPRKNewton it 1 norm(r) 0.000858631820357\n",
        "SSPRKNewton it 1 norm(r) 0.00173653020736\n",
        "SSPRKNewton it 1 norm(r) 0.000951678235471\n",
        "SSPRKNewton it 1 norm(r) 0.000857548244766\n",
        "SSPRKNewton it 1 norm(r) 0.00172789163152\n",
        "SSPRKNewton it 1 norm(r) 0.000962104546876\n",
        "SSPRKNewton it 1 norm(r) 0.000857274636744\n",
        "SSPRKNewton it 1 norm(r) 0.00172224007659\n",
        "SSPRKNewton it"
       ]
      },
      {
       "output_type": "stream",
       "stream": "stdout",
       "text": [
        " 1 norm(r) 0.000970800710659\n",
        "SSPRKNewton it 1 norm(r) 0.000857401202445\n",
        "SSPRKNewton it 1 norm(r) 0.00171926475829\n",
        "SSPRKNewton it 1 norm(r) 0.000976825501517\n",
        "SSPRKNewton it 1 norm(r) 0.000857627607523\n",
        "SSPRKNewton it 1 norm(r) 0.00171865766633\n",
        "SSPRKNewton it 1 norm(r) 0.000979659735559\n",
        "SSPRKNewton it 1 norm(r) 0.00085776830999\n",
        "SSPRKNewton it 1 norm(r) 0.00172007754792\n",
        "SSPRKNewton it 1 norm(r) 0.000979096793227\n",
        "SSPRKNewton it 1 norm(r) 0.000857738803498\n",
        "SSPRKNewton it 1 norm(r) 0.00172321056857\n",
        "SSPRKNewton it"
       ]
      },
      {
       "output_type": "stream",
       "stream": "stdout",
       "text": [
        " 1 norm(r) 0.000975248647439\n",
        "SSPRKNewton it 1 norm(r) 0.000857560189827\n",
        "SSPRKNewton it 1 norm(r) 0.00172777400339\n",
        "SSPRKNewton it 1 norm(r) 0.000968518609043\n",
        "SSPRKNewton it 1 norm(r) 0.00085734856444\n",
        "SSPRKNewton it 1 norm(r) 0.00173352296904\n",
        "SSPRKNewton it 1 norm(r) 0.000959571847241\n",
        "SSPRKNewton it 1 norm(r) 0.000857299240243\n",
        "SSPRKNewton it 1 norm(r) 0.0017402519697\n",
        "SSPRKNewton it 1 norm(r) 0.000949301978309\n",
        "SSPRKNewton it 1 norm(r) 0.000857667104738\n",
        "SSPRKNewton it"
       ]
      },
      {
       "output_type": "stream",
       "stream": "stdout",
       "text": [
        " 1 norm(r) 0.00174779246863\n",
        "SSPRKNewton it 1 norm(r) 0.000938789987314\n",
        "SSPRKNewton it 1 norm(r) 0.000858744127677\n",
        "SSPRKNewton it 1 norm(r) 0.00175600776098\n",
        "SSPRKNewton it 1 norm(r) 0.000929250794151\n",
        "SSPRKNewton it 1 norm(r) 0.000860835137416\n",
        "SSPRKNewton it 1 norm(r) 0.00176478635494\n",
        "SSPRKNewton it 1 norm(r) 0.000935567291651\n",
        "SSPRKNewton it 1 norm(r) 0.000859518395974\n",
        "SSPRKNewton it 1 norm(r) 0.0017364510616\n",
        "SSPRKNewton it 1 norm(r) 0.000946321216996\n",
        "SSPRKNewton it 1 norm(r) 0.000855835004721\n",
        "SSPRKNewton it"
       ]
      },
      {
       "output_type": "stream",
       "stream": "stdout",
       "text": [
        " 1 norm(r) 0.00172633856769\n",
        "SSPRKNewton it 1 norm(r) 0.000957081881456\n",
        "SSPRKNewton it 1 norm(r) 0.000855351542535\n",
        "SSPRKNewton it 1 norm(r) 0.00171972167184\n",
        "SSPRKNewton it 1 norm(r) 0.000966477051278\n",
        "SSPRKNewton it 1 norm(r) 0.000855382422923\n",
        "SSPRKNewton it 1 norm(r) 0.00171591433865\n",
        "SSPRKNewton it 1 norm(r) 0.000973476403527\n",
        "SSPRKNewton it 1 norm(r) 0.000855611380361\n",
        "SSPRKNewton it 1 norm(r) 0.00171458128614\n",
        "SSPRKNewton it 1 norm(r) 0.000977423990646\n",
        "SSPRKNewton it 1 norm(r) 0.000855806768357\n",
        "SSPRKNewton it"
       ]
      },
      {
       "output_type": "stream",
       "stream": "stdout",
       "text": [
        " 1 norm(r) 0.00171538772679\n",
        "SSPRKNewton it 1 norm(r) 0.000978001535547\n",
        "SSPRKNewton it 1 norm(r) 0.000855847308796\n",
        "SSPRKNewton it 1 norm(r) 0.00171801144927\n",
        "SSPRKNewton it 1 norm(r) 0.000975218516918\n",
        "SSPRKNewton it 1 norm(r) 0.000855720008658\n",
        "SSPRKNewton it 1 norm(r) 0.00172215785841\n",
        "SSPRKNewton it 1 norm(r) 0.000969385260935\n",
        "SSPRKNewton it 1 norm(r) 0.000855511212779\n",
        "SSPRKNewton it 1 norm(r) 0.00172756864322\n",
        "SSPRKNewton it 1 norm(r) 0.000961084244471\n",
        "SSPRKNewton it 1 norm(r) 0.000855392320737\n",
        "SSPRKNewton it"
       ]
      },
      {
       "output_type": "stream",
       "stream": "stdout",
       "text": [
        " 1 norm(r) 0.00173402492884\n",
        "SSPRKNewton it 1 norm(r) 0.000951138362038\n",
        "SSPRKNewton it 1 norm(r) 0.000855601284377\n",
        "SSPRKNewton it 1 norm(r) 0.00174134602946\n",
        "SSPRKNewton it 1 norm(r) 0.000940572919467\n",
        "SSPRKNewton it 1 norm(r) 0.000856420906502\n",
        "SSPRKNewton it 1 norm(r) 0.00174938507277\n",
        "SSPRKNewton it 1 norm(r) 0.000930566835572\n",
        "SSPRKNewton it 1 norm(r) 0.000858155010781\n",
        "SSPRKNewton it 1 norm(r) 0.00175802274246\n",
        "SSPRKNewton it 1 norm(r) 0.00093069891454\n",
        "SSPRKNewton it 1 norm(r) 0.000865782978983\n",
        "SSPRKNewton it"
       ]
      },
      {
       "output_type": "stream",
       "stream": "stdout",
       "text": [
        " 1 norm(r) 0.00173802370346\n",
        "SSPRKNewton it 1 norm(r) 0.000941157050704\n",
        "SSPRKNewton it 1 norm(r) 0.000854354950465\n",
        "SSPRKNewton it 1 norm(r) 0.00172534356263\n",
        "SSPRKNewton it 1 norm(r) 0.000952106347526\n",
        "SSPRKNewton it 1 norm(r) 0.000853611750626\n",
        "SSPRKNewton it 1 norm(r) 0.0017177483507\n",
        "SSPRKNewton it 1 norm(r) 0.000962093859783\n",
        "SSPRKNewton it 1 norm(r) 0.000853521693839\n",
        "SSPRKNewton it 1 norm(r) 0.0017130691608\n",
        "SSPRKNewton it 1 norm(r) 0.00096999262429\n",
        "SSPRKNewton it 1 norm(r) 0.000853728277208\n",
        "SSPRKNewton it"
       ]
      },
      {
       "output_type": "stream",
       "stream": "stdout",
       "text": [
        " 1 norm(r) 0.00171097654536\n",
        "SSPRKNewton it 1 norm(r) 0.000975013602589\n",
        "SSPRKNewton it 1 norm(r) 0.000853964024829\n",
        "SSPRKNewton it 1 norm(r) 0.00171113560439\n",
        "SSPRKNewton it 1 norm(r) 0.000976725553942\n",
        "SSPRKNewton it 1 norm(r) 0.000854071187874\n",
        "SSPRKNewton it 1 norm(r) 0.00171321776833\n",
        "SSPRKNewton it 1 norm(r) 0.000975033329735\n",
        "SSPRKNewton it 1 norm(r) 0.00085400197041\n",
        "SSPRKNewton it 1 norm(r) 0.00171691785443\n",
        "SSPRKNewton it 1 norm(r) 0.000970151731975\n",
        "SSPRKNewton it 1 norm(r) 0.000853811620513\n",
        "SSPRKNewton it"
       ]
      },
      {
       "output_type": "stream",
       "stream": "stdout",
       "text": [
        " 1 norm(r) 0.00172196476586\n",
        "SSPRKNewton it 1 norm(r) 0.000962577481722\n",
        "SSPRKNewton it 1 norm(r) 0.000853645767813\n",
        "SSPRKNewton it 1 norm(r) 0.00172812637015\n",
        "SSPRKNewton it 1 norm(r) 0.000953058836396\n",
        "SSPRKNewton it 1 norm(r) 0.000853723183797\n",
        "SSPRKNewton it 1 norm(r) 0.00173520957498\n",
        "SSPRKNewton it 1 norm(r) 0.000942560190631\n",
        "SSPRKNewton it 1 norm(r) 0.000854315001076\n",
        "SSPRKNewton it 1 norm(r) 0.00174305680534\n",
        "SSPRKNewton it 1 norm(r) 0.00093221742\n",
        "SSPRKNewton it"
       ]
      },
      {
       "output_type": "stream",
       "stream": "stdout",
       "text": [
        " 1 norm(r) 0.000855721405994\n",
        "SSPRKNewton it 1 norm(r) 0.00175153917695\n",
        "SSPRKNewton it 1 norm(r) 0.000926475113631\n",
        "SSPRKNewton it 1 norm(r) 0.000860868784017\n",
        "SSPRKNewton it 1 norm(r) 0.0017475122324\n",
        "SSPRKNewton it 1 norm(r) 0.00093596072686\n",
        "SSPRKNewton it 1 norm(r) 0.000853085576872\n",
        "SSPRKNewton it 1 norm(r) 0.00172499612436\n",
        "SSPRKNewton it 1 norm(r) 0.000946899120046\n",
        "SSPRKNewton it 1 norm(r) 0.000852016024982\n",
        "SSPRKNewton it 1 norm(r) 0.00171636821257\n",
        "SSPRKNewton it"
       ]
      },
      {
       "output_type": "stream",
       "stream": "stdout",
       "text": [
        " 1 norm(r) 0.000957362441245\n",
        "SSPRKNewton it 1 norm(r) 0.000851755534957\n",
        "SSPRKNewton it 1 norm(r) 0.00171075385818\n",
        "SSPRKNewton it 1 norm(r) 0.000966083283016\n",
        "SSPRKNewton it 1 norm(r) 0.000851906842462\n",
        "SSPRKNewton it 1 norm(r) 0.00170784371617\n",
        "SSPRKNewton it 1 norm(r) 0.000972147674281\n",
        "SSPRKNewton it 1 norm(r) 0.000852166438488\n",
        "SSPRKNewton it 1 norm(r) 0.00170730463233\n",
        "SSPRKNewton it 1 norm(r) 0.000975005761625\n",
        "SSPRKNewton it 1 norm(r) 0.000852338960693\n",
        "SSPRKNewton it"
       ]
      },
      {
       "output_type": "stream",
       "stream": "stdout",
       "text": [
        " 1 norm(r) 0.0017088027564\n",
        "SSPRKNewton it 1 norm(r) 0.000974452516935\n",
        "SSPRKNewton it 1 norm(r) 0.000852340126792\n",
        "SSPRKNewton it 1 norm(r) 0.00171202279053\n",
        "SSPRKNewton it 1 norm(r) 0.000970602459255\n",
        "SSPRKNewton it 1 norm(r) 0.000852192017739\n",
        "SSPRKNewton it 1 norm(r) 0.00171668083497\n",
        "SSPRKNewton it 1 norm(r) 0.000963862079041\n",
        "SSPRKNewton it 1 norm(r) 0.000852012157919\n",
        "SSPRKNewton it 1 norm(r) 0.00172253114712\n",
        "SSPRKNewton it 1 norm(r) 0.000954900383256\n",
        "SSPRKNewton it 1 norm(r) 0.00085199763942\n",
        "SSPRKNewton it"
       ]
      },
      {
       "output_type": "stream",
       "stream": "stdout",
       "text": [
        " 1 norm(r) 0.00172936699774\n",
        "SSPRKNewton it 1 norm(r) 0.000944615122366\n",
        "SSPRKNewton it 1 norm(r) 0.000852404985311\n",
        "SSPRKNewton it 1 norm(r) 0.0017370196369\n",
        "SSPRKNewton it 1 norm(r) 0.000934092612409\n",
        "SSPRKNewton it 1 norm(r) 0.000853528297938\n",
        "SSPRKNewton it 1 norm(r) 0.00174535301788\n",
        "SSPRKNewton it 1 norm(r) 0.000924553984113\n",
        "SSPRKNewton it 1 norm(r) 0.000855674741197\n",
        "SSPRKNewton it 1 norm(r) 0.00175425613591\n",
        "SSPRKNewton it 1 norm(r) 0.000931038331111\n",
        "SSPRKNewton it 1 norm(r) 0.000854255016172\n",
        "SSPRKNewton it"
       ]
      },
      {
       "output_type": "stream",
       "stream": "stdout",
       "text": [
        " 1 norm(r) 0.00172569588513\n",
        "SSPRKNewton it 1 norm(r) 0.000941865117085\n",
        "SSPRKNewton it 1 norm(r) 0.000850700672352\n",
        "SSPRKNewton it 1 norm(r) 0.00171564097623\n",
        "SSPRKNewton it 1 norm(r) 0.000952689257188\n",
        "SSPRKNewton it 1 norm(r) 0.000850253205588\n",
        "SSPRKNewton it 1 norm(r) 0.00170910799423\n",
        "SSPRKNewton it 1 norm(r) 0.000962157856248\n",
        "SSPRKNewton it 1 norm(r) 0.000850346406073\n",
        "SSPRKNewton it 1 norm(r) 0.00170540118074\n",
        "SSPRKNewton it 1 norm(r) 0.000969232087823\n",
        "SSPRKNewton it 1 norm(r) 0.000850643550341\n",
        "SSPRKNewton it"
       ]
      },
      {
       "output_type": "stream",
       "stream": "stdout",
       "text": [
        " 1 norm(r) 0.00170419630044\n",
        "SSPRKNewton it 1 norm(r) 0.000973240641825\n",
        "SSPRKNewton it 1 norm(r) 0.000850913371672\n",
        "SSPRKNewton it 1 norm(r) 0.00170516173501\n",
        "SSPRKNewton it 1 norm(r) 0.000973863422547\n",
        "SSPRKNewton it 1 norm(r) 0.000851035812364\n",
        "SSPRKNewton it 1 norm(r) 0.00170797997332\n",
        "SSPRKNewton it 1 norm(r) 0.00097110700724\n",
        "SSPRKNewton it 1 norm(r) 0.000850999567757\n",
        "SSPRKNewton it 1 norm(r) 0.00171236263744\n",
        "SSPRKNewton it 1 norm(r) 0.00096527682189\n",
        "SSPRKNewton it 1 norm(r) 0.000850892870782\n",
        "SSPRKNewton it"
       ]
      },
      {
       "output_type": "stream",
       "stream": "stdout",
       "text": [
        " 1 norm(r) 0.00171805790727\n",
        "SSPRKNewton it 1 norm(r) 0.00095694674161\n",
        "SSPRKNewton it 1 norm(r) 0.000850888213206\n",
        "SSPRKNewton it 1 norm(r) 0.00172485827105\n",
        "SSPRKNewton it 1 norm(r) 0.000946929325165\n",
        "SSPRKNewton it 1 norm(r) 0.00085122602218\n",
        "SSPRKNewton it 1 norm(r) 0.00173259419082\n",
        "SSPRKNewton it 1 norm(r) 0.000936233699507\n",
        "SSPRKNewton it 1 norm(r) 0.000852189735935\n",
        "SSPRKNewton it 1 norm(r) 0.00174113184237\n",
        "SSPRKNewton it 1 norm(r) 0.000926019199741\n",
        "SSPRKNewton it 1 norm(r) 0.000854084469157\n",
        "SSPRKNewton it"
       ]
      },
      {
       "output_type": "stream",
       "stream": "stdout",
       "text": [
        " 1 norm(r) 0.00175036096498\n",
        "SSPRKNewton it 1 norm(r) 0.000925354049188\n",
        "SSPRKNewton it 1 norm(r) 0.00086274961682\n",
        "SSPRKNewton it 1 norm(r) 0.00173199575566\n",
        "SSPRKNewton it 1 norm(r) 0.000935546702296\n",
        "SSPRKNewton it 1 norm(r) 0.000850899143563\n",
        "SSPRKNewton it 1 norm(r) 0.00172018789736\n",
        "SSPRKNewton it 1 norm(r) 0.000946170258749\n",
        "SSPRKNewton it 1 norm(r) 0.000850489993303\n",
        "SSPRKNewton it 1 norm(r) 0.00171393079524\n",
        "SSPRKNewton it 1 norm(r) 0.000955570900279\n",
        "SSPRKNewton it 1 norm(r) 0.000850794159174\n",
        "SSPRKNewton it"
       ]
      },
      {
       "output_type": "stream",
       "stream": "stdout",
       "text": [
        " 1 norm(r) 0.00171094963779\n",
        "SSPRKNewton it 1 norm(r) 0.000962538944181\n",
        "SSPRKNewton it 1 norm(r) 0.000851460161464\n",
        "SSPRKNewton it 1 norm(r) 0.0017110012403\n",
        "SSPRKNewton it 1 norm(r) 0.00096623955496\n",
        "SSPRKNewton it 1 norm(r) 0.000852242077865\n",
        "SSPRKNewton it 1 norm(r) 0.00171381645034\n",
        "SSPRKNewton it 1 norm(r) 0.000966208755633\n",
        "SSPRKNewton it 1 norm(r) 0.000853009642197\n",
        "SSPRKNewton it 1 norm(r) 0.00171911730487\n",
        "SSPRKNewton it 1 norm(r) 0.00096233939478\n",
        "SSPRKNewton it 1 norm(r) 0.00085374868787\n",
        "SSPRKNewton it"
       ]
      },
      {
       "output_type": "stream",
       "stream": "stdout",
       "text": [
        " 1 norm(r) 0.00172663153458\n",
        "SSPRKNewton it 1 norm(r) 0.000954865278874\n",
        "SSPRKNewton it 1 norm(r) 0.000854554749813\n",
        "SSPRKNewton it 1 norm(r) 0.00173609976565\n",
        "SSPRKNewton it 1 norm(r) 0.000944342477983\n",
        "SSPRKNewton it 1 norm(r) 0.00085561829363\n",
        "SSPRKNewton it 1 norm(r) 0.0017472756251\n",
        "SSPRKNewton it 1 norm(r) 0.000931626164326\n",
        "SSPRKNewton it 1 norm(r) 0.000857202461275\n",
        "SSPRKNewton it 1 norm(r) 0.00175992389766\n",
        "SSPRKNewton it 1 norm(r) 0.000917840734327\n",
        "SSPRKNewton it"
       ]
      },
      {
       "output_type": "stream",
       "stream": "stdout",
       "text": [
        " 1 norm(r) 0.000859616538608\n",
        "SSPRKNewton it 1 norm(r) 0.0017738150935\n",
        "SSPRKNewton it 1 norm(r) 0.000904336813209\n",
        "SSPRKNewton it 1 norm(r) 0.000863186127937\n",
        "SSPRKNewton it 1 norm(r) 0.00178870804366\n",
        "SSPRKNewton it 1 norm(r) 0.000892909835952\n",
        "SSPRKNewton it 1 norm(r) 0.000868445725143\n",
        "SSPRKNewton it 1 norm(r) 0.00180280693492\n",
        "SSPRKNewton it 1 norm(r) 0.000901641727821\n",
        "SSPRKNewton it 1 norm(r) 0.000867557283698\n",
        "SSPRKNewton it 1 norm(r) 0.00178193772528\n",
        "SSPRKNewton it"
       ]
      },
      {
       "output_type": "stream",
       "stream": "stdout",
       "text": [
        " 1 norm(r) 0.000897782907539\n",
        "SSPRKNewton it 1 norm(r) 0.000868216282433\n",
        "SSPRKNewton it 1 norm(r) 0.00178352714537\n",
        "SSPRKNewton it 1 norm(r) 0.000885564387931\n",
        "SSPRKNewton it 1 norm(r) 0.000864825574998\n",
        "SSPRKNewton it 1 norm(r) 0.00186443478459\n",
        "SSPRKNewton it 1 norm(r) 0.000899157830956\n",
        "SSPRKNewton it 1 norm(r) 0.00087092063871\n",
        "SSPRKNewton it 1 norm(r) 0.00178696573849\n",
        "SSPRKNewton it 1 norm(r) 0.000896046076571\n",
        "SSPRKNewton it 1 norm(r) 0.000865426324217\n",
        "SSPRKNewton it"
       ]
      },
      {
       "output_type": "stream",
       "stream": "stdout",
       "text": [
        " 1 norm(r) 0.00177337136545\n",
        "SSPRKNewton it 1 norm(r) 0.00089628255579\n",
        "SSPRKNewton it 1 norm(r) 0.000860586846324\n",
        "SSPRKNewton it 1 norm(r) 0.00175953538745\n",
        "SSPRKNewton it 1 norm(r) 0.00089982606351\n",
        "SSPRKNewton it 1 norm(r) 0.000856507430765\n",
        "SSPRKNewton it 1 norm(r) 0.0017457879543\n",
        "SSPRKNewton it 1 norm(r) 0.000906455483631\n",
        "SSPRKNewton it 1 norm(r) 0.000853265155238\n",
        "SSPRKNewton it 1 norm(r) 0.00173250348246\n",
        "SSPRKNewton it 1 norm(r) 0.000915774059108\n",
        "SSPRKNewton it"
       ]
      },
      {
       "output_type": "stream",
       "stream": "stdout",
       "text": [
        " 1 norm(r) 0.000850898863778\n",
        "SSPRKNewton it 1 norm(r) 0.00172007295018\n",
        "SSPRKNewton it 1 norm(r) 0.000927228060267\n",
        "SSPRKNewton it 1 norm(r) 0.000849401082933\n",
        "SSPRKNewton it 1 norm(r) 0.00170887420379\n",
        "SSPRKNewton it 1 norm(r) 0.000940139414874\n",
        "SSPRKNewton it 1 norm(r) 0.000848714959797\n",
        "SSPRKNewton it 1 norm(r) 0.00169924225932\n",
        "SSPRKNewton it 1 norm(r) 0.000953748806946\n",
        "SSPRKNewton it 1 norm(r) 0.000848732648484\n",
        "SSPRKNewton it 1 norm(r) 0.00169144143154\n",
        "SSPRKNewton it"
       ]
      },
      {
       "output_type": "stream",
       "stream": "stdout",
       "text": [
        " 1 norm(r) 0.000967243294108\n",
        "SSPRKNewton it 1 norm(r) 0.000849307692752\n",
        "SSPRKNewton it 1 norm(r) 0.00168567639882\n",
        "SSPRKNewton it 1 norm(r) 0.000979853636377\n",
        "SSPRKNewton it 1 norm(r) 0.000850274678768\n",
        "SSPRKNewton it 1 norm(r) 0.00168204246035\n",
        "SSPRKNewton it 1 norm(r) 0.000990851568874\n",
        "SSPRKNewton it 1 norm(r) 0.000851452879007\n",
        "SSPRKNewton it 1 norm(r) 0.00168055170091\n",
        "SSPRKNewton it 1 norm(r) 0.000999605261608\n",
        "SSPRKNewton it 1 norm(r) 0.000852670100171\n",
        "SSPRKNewton it"
       ]
      },
      {
       "output_type": "stream",
       "stream": "stdout",
       "text": [
        " 1 norm(r) 0.00168113541684\n",
        "SSPRKNewton it 1 norm(r) 0.00100561246812\n",
        "SSPRKNewton it 1 norm(r) 0.000853780269965\n",
        "SSPRKNewton it 1 norm(r) 0.00168365959455\n",
        "SSPRKNewton it 1 norm(r) 0.00100852875744\n",
        "SSPRKNewton it 1 norm(r) 0.00085468005153\n",
        "SSPRKNewton it 1 norm(r) 0.00168794504896\n",
        "SSPRKNewton it 1 norm(r) 0.00100819074451\n",
        "SSPRKNewton it 1 norm(r) 0.000855322739707\n",
        "SSPRKNewton it 1 norm(r) 0.0016937827015\n",
        "SSPRKNewton it 1 norm(r) 0.00100463022581\n",
        "SSPRKNewton it"
       ]
      },
      {
       "output_type": "stream",
       "stream": "stdout",
       "text": [
        " 1 norm(r) 0.000855724723297\n",
        "SSPRKNewton it 1 norm(r) 0.00170095243243\n",
        "SSPRKNewton it 1 norm(r) 0.000998086435488\n",
        "SSPRKNewton it 1 norm(r) 0.000855969852096\n",
        "SSPRKNewton it 1 norm(r) 0.00170923787734\n",
        "SSPRKNewton it 1 norm(r) 0.000989011898315\n",
        "SSPRKNewton it 1 norm(r) 0.000856207893489\n",
        "SSPRKNewton it 1 norm(r) 0.00171843735082\n",
        "SSPRKNewton it 1 norm(r) 0.000978071585481\n",
        "SSPRKNewton it 1 norm(r) 0.00085664785247\n",
        "SSPRKNewton it 1 norm(r) 0.00172837070164\n",
        "SSPRKNewton it"
       ]
      },
      {
       "output_type": "stream",
       "stream": "stdout",
       "text": [
        " 1 norm(r) 0.000966134849601\n",
        "SSPRKNewton it 1 norm(r) 0.000857548421497\n",
        "SSPRKNewton it 1 norm(r) 0.0017388745803\n",
        "SSPRKNewton it 1 norm(r) 0.000954241867988\n",
        "SSPRKNewton it 1 norm(r) 0.000859187725755\n",
        "SSPRKNewton it 1 norm(r) 0.00174982941834\n",
        "SSPRKNewton it 1 norm(r) 0.000943579896633\n",
        "SSPRKNewton it 1 norm(r) 0.000861875321332\n",
        "SSPRKNewton it 1 norm(r) 0.00176112264308\n",
        "SSPRKNewton it 1 norm(r) 0.000935423214829\n",
        "SSPRKNewton it 1 norm(r) 0.000865902858681\n",
        "SSPRKNewton it 1 norm(r) 0.00177266257029\n",
        "SSPRKNewton it 1 norm(r) 0.000931033989084\n",
        "SSPRKNewton it 1 norm(r) 0.000871530453897\n",
        "SSPRKNewton it"
       ]
      },
      {
       "output_type": "stream",
       "stream": "stdout",
       "text": [
        " 1 norm(r) 0.00178436827116\n",
        "SSPRKNewton it 1 norm(r) 0.000931564824057\n",
        "SSPRKNewton it 1 norm(r) 0.000878965119337\n",
        "SSPRKNewton it 1 norm(r) 0.00179617045877\n",
        "SSPRKNewton it 1 norm(r) 0.000937951621132\n",
        "SSPRKNewton it 1 norm(r) 0.00088834670253\n",
        "SSPRKNewton it 1 norm(r) 0.00180800382127\n",
        "SSPRKNewton it 1 norm(r) 0.00095081345496\n",
        "SSPRKNewton it 1 norm(r) 0.000899733965472\n",
        "SSPRKNewton it 1 norm(r) 0.0018198032259\n",
        "SSPRKNewton it 1 norm(r) 0.000970408520955\n",
        "SSPRKNewton it 1 norm(r) 0.000913080483792\n",
        "SSPRKNewton it 1 norm(r) 0.00183143926849\n",
        "SSPRKNewton it 1 norm(r) 0.000996590137414\n",
        "SSPRKNewton it"
       ]
      },
      {
       "output_type": "stream",
       "stream": "stdout",
       "text": [
        " 1 norm(r) 0.000941681939384\n",
        "SSPRKNewton it 1 norm(r) 0.00189031063267\n",
        "SSPRKNewton it 1 norm(r) 0.000983278708369\n",
        "SSPRKNewton it 1 norm(r) 0.000936859720969\n",
        "SSPRKNewton it 1 norm(r) 0.00188417740129\n",
        "SSPRKNewton it 1 norm(r) 0.000979605751192\n",
        "SSPRKNewton it 1 norm(r) 0.000930369534404\n",
        "SSPRKNewton it 1 norm(r) 0.00186341191668\n",
        "SSPRKNewton it 1 norm(r) 0.000973772549678\n",
        "SSPRKNewton it 1 norm(r) 0.000918591436865\n",
        "SSPRKNewton it 1 norm(r) 0.00183544612326\n",
        "SSPRKNewton it 1 norm(r) 0.000966603500924\n",
        "SSPRKNewton it 1 norm(r) 0.000905203047398\n",
        "SSPRKNewton it 1 norm(r) 0.00180891147518\n",
        "SSPRKNewton it"
       ]
      },
      {
       "output_type": "stream",
       "stream": "stdout",
       "text": [
        " 1 norm(r) 0.000960656817687\n",
        "SSPRKNewton it 1 norm(r) 0.000893862404137\n",
        "SSPRKNewton it 1 norm(r) 0.00179086052806\n",
        "SSPRKNewton it 1 norm(r) 0.000957892659651\n",
        "SSPRKNewton it 1 norm(r) 0.000887052027154\n",
        "SSPRKNewton it 1 norm(r) 0.00178512301869\n",
        "SSPRKNewton it 1 norm(r) 0.000958413801617\n",
        "SSPRKNewton it 1 norm(r) 0.000885529509811\n",
        "SSPRKNewton it 1 norm(r) 0.00179197643774\n",
        "SSPRKNewton it 1 norm(r) 0.00096122207832\n",
        "SSPRKNewton it 1 norm(r) 0.000888861700135\n",
        "SSPRKNewton it 1 norm(r) 0.0018089171238\n",
        "SSPRKNewton it 1 norm(r) 0.000964166441338\n",
        "SSPRKNewton it 1 norm(r) 0.000895390244595\n",
        "SSPRKNewton it"
       ]
      },
      {
       "output_type": "stream",
       "stream": "stdout",
       "text": [
        " 1 norm(r) 0.00183166209598\n",
        "SSPRKNewton it 1 norm(r) 0.000965889646473\n",
        "SSPRKNewton it 1 norm(r) 0.000903777196549\n",
        "SSPRKNewton it 1 norm(r) 0.00185637857471\n",
        "SSPRKNewton it 1 norm(r) 0.000980528665572\n",
        "SSPRKNewton it 1 norm(r) 0.000922663676492\n",
        "SSPRKNewton it 1 norm(r) 0.00183179372262\n",
        "SSPRKNewton it 1 norm(r) 0.00100951068313\n",
        "SSPRKNewton it 1 norm(r) 0.000904131112527\n",
        "SSPRKNewton it 1 norm(r) 0.00181614122649\n",
        "SSPRKNewton it 1 norm(r) 0.0010334336821\n",
        "SSPRKNewton it 1 norm(r) 0.000903724389989\n",
        "SSPRKNewton it 1 norm(r) 0.00180590771159\n",
        "SSPRKNewton it 1 norm(r) 0.00105131737173\n",
        "SSPRKNewton it"
       ]
      },
      {
       "output_type": "stream",
       "stream": "stdout",
       "text": [
        " 1 norm(r) 0.000903558283652\n",
        "SSPRKNewton it 1 norm(r) 0.00179905457656\n",
        "SSPRKNewton it 1 norm(r) 0.00106186014054\n",
        "SSPRKNewton it 1 norm(r) 0.00090307271702\n",
        "SSPRKNewton it 1 norm(r) 0.00179559717528\n",
        "SSPRKNewton it 1 norm(r) 0.0010645265669\n",
        "SSPRKNewton it 1 norm(r) 0.000901954829347\n",
        "SSPRKNewton it 1 norm(r) 0.00179521134476\n",
        "SSPRKNewton it 1 norm(r) 0.00105977392757\n",
        "SSPRKNewton it 1 norm(r) 0.000900173976261\n",
        "SSPRKNewton it 1 norm(r) 0.00179740232815\n",
        "SSPRKNewton it 1 norm(r) 0.00104869095679\n",
        "SSPRKNewton it 1 norm(r) 0.000897931528351\n",
        "SSPRKNewton it 1 norm(r) 0.00180160892855\n",
        "SSPRKNewton it"
       ]
      },
      {
       "output_type": "stream",
       "stream": "stdout",
       "text": [
        " 1 norm(r) 0.00103287805049\n",
        "SSPRKNewton it 1 norm(r) 0.000895607401256\n",
        "SSPRKNewton it 1 norm(r) 0.00180731631577\n",
        "SSPRKNewton it 1 norm(r) 0.00101431455736\n",
        "SSPRKNewton it 1 norm(r) 0.000893706127259\n",
        "SSPRKNewton it 1 norm(r) 0.00181411635156\n",
        "SSPRKNewton it 1 norm(r) 0.00099524332949\n",
        "SSPRKNewton it 1 norm(r) 0.000892794259163\n",
        "SSPRKNewton it 1 norm(r) 0.00182171014877\n",
        "SSPRKNewton it 1 norm(r) 0.000983029452075\n",
        "SSPRKNewton it 1 norm(r) 0.000897580448575\n",
        "SSPRKNewton it 1 norm(r) 0.0018101577171\n",
        "SSPRKNewton it 1 norm(r) 0.000991331352298\n",
        "SSPRKNewton it 1 norm(r) 0.000884344357208\n",
        "SSPRKNewton it"
       ]
      },
      {
       "output_type": "stream",
       "stream": "stdout",
       "text": [
        " 1 norm(r) 0.00177952242327\n",
        "SSPRKNewton it 1 norm(r) 0.00100362152113\n",
        "SSPRKNewton it 1 norm(r) 0.000881996609944\n",
        "SSPRKNewton it 1 norm(r) 0.00176614777628\n",
        "SSPRKNewton it 1 norm(r) 0.00101533032595\n",
        "SSPRKNewton it 1 norm(r) 0.00088086336434\n",
        "SSPRKNewton it 1 norm(r) 0.00175722757935\n",
        "SSPRKNewton it 1 norm(r) 0.00102458973278\n",
        "SSPRKNewton it 1 norm(r) 0.000880310133253\n",
        "SSPRKNewton it 1 norm(r) 0.00175219499877\n",
        "SSPRKNewton it 1 norm(r) 0.00103013177981\n",
        "SSPRKNewton it 1 norm(r) 0.000879863181974\n",
        "SSPRKNewton it 1 norm(r) 0.00175044390516\n",
        "SSPRKNewton it 1 norm(r) 0.00103126563759\n",
        "SSPRKNewton it"
       ]
      },
      {
       "output_type": "stream",
       "stream": "stdout",
       "text": [
        " 1 norm(r) 0.000879229694465\n",
        "SSPRKNewton it 1 norm(r) 0.00175138476436\n",
        "SSPRKNewton it 1 norm(r) 0.00102782897769\n",
        "SSPRKNewton it 1 norm(r) 0.000878298003834\n",
        "SSPRKNewton it 1 norm(r) 0.00175447664627\n",
        "SSPRKNewton it 1 norm(r) 0.00102011613517\n",
        "SSPRKNewton it 1 norm(r) 0.00087711735209\n",
        "SSPRKNewton it 1 norm(r) 0.00175926875779\n",
        "SSPRKNewton it 1 norm(r) 0.00100884264219\n",
        "SSPRKNewton it 1 norm(r) 0.000875886056122\n",
        "SSPRKNewton it 1 norm(r) 0.00176538483273\n",
        "SSPRKNewton it 1 norm(r) 0.00099507377522\n",
        "SSPRKNewton it 1 norm(r) 0.00087490860342\n",
        "SSPRKNewton it"
       ]
      },
      {
       "output_type": "stream",
       "stream": "stdout",
       "text": [
        " 1 norm(r) 0.00177253234679\n",
        "SSPRKNewton it 1 norm(r) 0.000980161213169\n",
        "SSPRKNewton it 1 norm(r) 0.000874561621504\n",
        "SSPRKNewton it 1 norm(r) 0.00178048729039\n",
        "SSPRKNewton it 1 norm(r) 0.000965671897372\n",
        "SSPRKNewton it 1 norm(r) 0.000875254750872\n",
        "SSPRKNewton it 1 norm(r) 0.00178908147515\n",
        "SSPRKNewton it 1 norm(r) 0.000962265692829\n",
        "SSPRKNewton it 1 norm(r) 0.000884533448152\n",
        "SSPRKNewton it 1 norm(r) 0.00176534087993\n",
        "SSPRKNewton it 1 norm(r) 0.000972819644538\n",
        "SSPRKNewton it 1 norm(r) 0.000868933764741\n",
        "SSPRKNewton it 1 norm(r) 0.0017487281123\n",
        "SSPRKNewton it 1 norm(r) 0.000984884338762\n",
        "SSPRKNewton it 1 norm(r)"
       ]
      },
      {
       "output_type": "stream",
       "stream": "stdout",
       "text": [
        " 0.000867639450659\n",
        "SSPRKNewton it 1 norm(r) 0.00173862556552\n",
        "SSPRKNewton it 1 norm(r) 0.000995897306474\n",
        "SSPRKNewton it 1 norm(r) 0.000867177132018\n",
        "SSPRKNewton it 1 norm(r) 0.00173212091877\n",
        "SSPRKNewton it 1 norm(r) 0.00100440879889\n",
        "SSPRKNewton it 1 norm(r) 0.000867065877734\n",
        "SSPRKNewton it 1 norm(r) 0.00172878864393\n",
        "SSPRKNewton it 1 norm(r) 0.0010094424166\n",
        "SSPRKNewton it 1 norm(r) 0.000866955690212\n",
        "SSPRKNewton it 1 norm(r) 0.0017281780916\n",
        "SSPRKNewton it 1 norm(r) 0.00101047809745\n",
        "SSPRKNewton it 1 norm(r) 0.000866640770784\n",
        "SSPRKNewton it 1 norm(r) 0.001729846593\n",
        "SSPRKNewton it"
       ]
      },
      {
       "output_type": "stream",
       "stream": "stdout",
       "text": [
        " 1 norm(r) 0.00100741748272\n",
        "SSPRKNewton it 1 norm(r) 0.00086605482632\n",
        "SSPRKNewton it 1 norm(r) 0.00173338381125\n",
        "SSPRKNewton it 1 norm(r) 0.00100053831716\n",
        "SSPRKNewton it 1 norm(r) 0.00086526612533\n",
        "SSPRKNewton it 1 norm(r) 0.00173844512078\n",
        "SSPRKNewton it 1 norm(r) 0.000990483830025\n",
        "SSPRKNewton it 1 norm(r) 0.000864464100771\n",
        "SSPRKNewton it 1 norm(r) 0.00174473225867\n",
        "SSPRKNewton it 1 norm(r) 0.000978191765266\n",
        "SSPRKNewton it 1 norm(r) 0.000863924244888\n",
        "SSPRKNewton it 1 norm(r) 0.00175200487757\n",
        "SSPRKNewton it 1 norm(r) 0.00096485779985\n",
        "SSPRKNewton it 1 norm(r) 0.000863984141453\n",
        "SSPRKNewton it"
       ]
      },
      {
       "output_type": "stream",
       "stream": "stdout",
       "text": [
        " 1 norm(r) 0.00176007289784\n",
        "SSPRKNewton it 1 norm(r) 0.000951877372171\n",
        "SSPRKNewton it 1 norm(r) 0.00086501231658\n",
        "SSPRKNewton it 1 norm(r) 0.00176878749445\n",
        "SSPRKNewton it 1 norm(r) 0.000947825568468\n",
        "SSPRKNewton it 1 norm(r) 0.000873201712883\n",
        "SSPRKNewton it 1 norm(r) 0.0017513096501\n",
        "SSPRKNewton it 1 norm(r) 0.000958084595922\n",
        "SSPRKNewton it 1 norm(r) 0.00086001416252\n",
        "SSPRKNewton it 1 norm(r) 0.00173311132907\n",
        "SSPRKNewton it 1 norm(r) 0.000969915001812\n",
        "SSPRKNewton it 1 norm(r) 0.000858858923906\n",
        "SSPRKNewton it 1 norm(r) 0.00172355669878\n",
        "SSPRKNewton it 1 norm(r) 0.000980883968332\n",
        "SSPRKNewton it"
       ]
      },
      {
       "output_type": "stream",
       "stream": "stdout",
       "text": [
        " 1 norm(r) 0.00085852208384\n",
        "SSPRKNewton it 1 norm(r) 0.00171739586232\n",
        "SSPRKNewton it 1 norm(r) 0.000989598945062\n",
        "SSPRKNewton it 1 norm(r) 0.000858551450072\n",
        "SSPRKNewton it 1 norm(r) 0.0017142485499\n",
        "SSPRKNewton it 1 norm(r) 0.000995102437714\n",
        "SSPRKNewton it 1 norm(r) 0.000858612945697\n",
        "SSPRKNewton it 1 norm(r) 0.00171370717967\n",
        "SSPRKNewton it 1 norm(r) 0.000996859773357\n",
        "SSPRKNewton it 1 norm(r) 0.000858503334711\n",
        "SSPRKNewton it 1 norm(r) 0.00171536181426\n",
        "SSPRKNewton it 1 norm(r) 0.000994722256797\n",
        "SSPRKNewton it 1 norm(r) 0.000858144095356\n",
        "SSPRKNewton it 1 norm(r) 0.00171885208109\n",
        "SSPRKNewton it"
       ]
      },
      {
       "output_type": "stream",
       "stream": "stdout",
       "text": [
        " 1 norm(r) 0.000988916681924\n",
        "SSPRKNewton it 1 norm(r) 0.0008575951457\n",
        "SSPRKNewton it 1 norm(r) 0.0017238464579\n",
        "SSPRKNewton it 1 norm(r) 0.000979995431644\n",
        "SSPRKNewton it 1 norm(r) 0.000857017796862\n",
        "SSPRKNewton it 1 norm(r) 0.00173006541464\n",
        "SSPRKNewton it 1 norm(r) 0.000968799623738\n",
        "SSPRKNewton it 1 norm(r) 0.000856660980948\n",
        "SSPRKNewton it 1 norm(r) 0.00173727939048\n",
        "SSPRKNewton it 1 norm(r) 0.000956421124293\n",
        "SSPRKNewton it 1 norm(r) 0.000856836065707\n",
        "SSPRKNewton it 1 norm(r) 0.00174530428349\n",
        "SSPRKNewton it 1 norm(r) 0.000944151352193\n",
        "SSPRKNewton it 1 norm(r) 0.000857888663533\n",
        "SSPRKNewton it"
       ]
      },
      {
       "output_type": "stream",
       "stream": "stdout",
       "text": [
        " 1 norm(r) 0.00175399394681\n",
        "SSPRKNewton it 1 norm(r) 0.000937066570844\n",
        "SSPRKNewton it 1 norm(r) 0.000863184481604\n",
        "SSPRKNewton it 1 norm(r) 0.00174838006485\n",
        "SSPRKNewton it 1 norm(r) 0.00094655735826\n",
        "SSPRKNewton it 1 norm(r) 0.000854116292972\n",
        "SSPRKNewton it 1 norm(r) 0.00172382311403\n",
        "SSPRKNewton it 1 norm(r) 0.000958206206506\n",
        "SSPRKNewton it 1 norm(r) 0.000852868767866\n",
        "SSPRKNewton it 1 norm(r) 0.00171408192929\n",
        "SSPRKNewton it 1 norm(r) 0.00096932790515\n",
        "SSPRKNewton it 1 norm(r) 0.000852506637919\n",
        "SSPRKNewton it 1 norm(r) 0.00170767555628\n",
        "SSPRKNewton it 1 norm(r) 0.000978502207239\n",
        "SSPRKNewton it 1 norm(r) 0.000852578407125\n",
        "SSPRKNewton it"
       ]
      },
      {
       "output_type": "stream",
       "stream": "stdout",
       "text": [
        " 1 norm(r) 0.00170424897223\n",
        "SSPRKNewton it 1 norm(r) 0.000984722339548\n",
        "SSPRKNewton it 1 norm(r) 0.000852739864313\n",
        "SSPRKNewton it 1 norm(r) 0.00170341831916\n",
        "SSPRKNewton it 1 norm(r) 0.000987391902311\n",
        "SSPRKNewton it 1 norm(r) 0.000852769951202\n",
        "SSPRKNewton it 1 norm(r) 0.00170480005602\n",
        "SSPRKNewton it 1 norm(r) 0.000986292155579\n",
        "SSPRKNewton it 1 norm(r) 0.000852576201056\n",
        "SSPRKNewton it 1 norm(r) 0.00170804109028\n",
        "SSPRKNewton it 1 norm(r) 0.000981571642321\n",
        "SSPRKNewton it 1 norm(r) 0.000852188694449\n",
        "SSPRKNewton it 1 norm(r) 0.00171281612366\n",
        "SSPRKNewton it 1 norm(r) 0.000973693747665\n",
        "SSPRKNewton it"
       ]
      },
      {
       "output_type": "stream",
       "stream": "stdout",
       "text": [
        " 1 norm(r) 0.000851742255821\n",
        "SSPRKNewton it 1 norm(r) 0.00171884806894\n",
        "SSPRKNewton it 1 norm(r) 0.000963410715607\n",
        "SSPRKNewton it 1 norm(r) 0.000851460460288\n",
        "SSPRKNewton it 1 norm(r) 0.00172590687981\n",
        "SSPRKNewton it 1 norm(r) 0.000951726271579\n",
        "SSPRKNewton it 1 norm(r) 0.000851632563134\n",
        "SSPRKNewton it 1 norm(r) 0.00173380624167\n",
        "SSPRKNewton it 1 norm(r) 0.000939849574417\n",
        "SSPRKNewton it 1 norm(r) 0.000852587270456\n",
        "SSPRKNewton it 1 norm(r) 0.0017423971275\n",
        "SSPRKNewton it 1 norm(r) 0.000929134580639\n",
        "SSPRKNewton it 1 norm(r) 0.000854664675993\n",
        "SSPRKNewton it 1 norm(r) 0.00175155971482\n",
        "SSPRKNewton it"
       ]
      },
      {
       "output_type": "stream",
       "stream": "stdout",
       "text": [
        " 1 norm(r) 0.000937368762698\n",
        "SSPRKNewton it 1 norm(r) 0.000850138891182\n",
        "SSPRKNewton it 1 norm(r) 0.0017181425205\n",
        "SSPRKNewton it 1 norm(r) 0.000948789466777\n",
        "SSPRKNewton it 1 norm(r) 0.000848575623298\n",
        "SSPRKNewton it 1 norm(r) 0.00170786927292\n",
        "SSPRKNewton it 1 norm(r) 0.00096008242151\n",
        "SSPRKNewton it 1 norm(r) 0.000848104316034\n",
        "SSPRKNewton it 1 norm(r) 0.00170094117009\n",
        "SSPRKNewton it 1 norm(r) 0.000969765251407\n",
        "SSPRKNewton it 1 norm(r) 0.000848154071401\n",
        "SSPRKNewton it 1 norm(r) 0.00169701481384\n",
        "SSPRKNewton it 1 norm(r) 0.000976762496348\n",
        "SSPRKNewton it 1 norm(r) 0.000848368350157\n",
        "SSPRKNewton it"
       ]
      },
      {
       "output_type": "stream",
       "stream": "stdout",
       "text": [
        " 1 norm(r) 0.00169572116881\n",
        "SSPRKNewton it 1 norm(r) 0.000980391638316\n",
        "SSPRKNewton it 1 norm(r) 0.000848499134642\n",
        "SSPRKNewton it 1 norm(r) 0.00169669304055\n",
        "SSPRKNewton it 1 norm(r) 0.000980353434428\n",
        "SSPRKNewton it 1 norm(r) 0.000848430397254\n",
        "SSPRKNewton it 1 norm(r) 0.00169957409242\n",
        "SSPRKNewton it 1 norm(r) 0.000976705668309\n",
        "SSPRKNewton it 1 norm(r) 0.000848161728169\n",
        "SSPRKNewton it 1 norm(r) 0.00170404129622\n",
        "SSPRKNewton it 1 norm(r) 0.00096982365395\n",
        "SSPRKNewton it 1 norm(r) 0.000847799877389\n",
        "SSPRKNewton it 1 norm(r) 0.0017098139545\n",
        "SSPRKNewton it 1 norm(r) 0.000960373185681\n",
        "SSPRKNewton it 1 norm(r) 0.000847543022764\n",
        "SSPRKNewton it"
       ]
      },
      {
       "output_type": "stream",
       "stream": "stdout",
       "text": [
        " 1 norm(r) 0.00171665665085\n",
        "SSPRKNewton it 1 norm(r) 0.000949275785007\n",
        "SSPRKNewton it 1 norm(r) 0.000847659481002\n",
        "SSPRKNewton it 1 norm(r) 0.00172437714435\n",
        "SSPRKNewton it 1 norm(r) 0.000937666729574\n",
        "SSPRKNewton it 1 norm(r) 0.000848463011938\n",
        "SSPRKNewton it 1 norm(r) 0.00173282295522\n",
        "SSPRKNewton it 1 norm(r) 0.000926841645385\n",
        "SSPRKNewton it 1 norm(r) 0.000850287063524\n",
        "SSPRKNewton it 1 norm(r) 0.00174186540768\n",
        "SSPRKNewton it 1 norm(r) 0.000929720990354\n",
        "SSPRKNewton it 1 norm(r) 0.000853325031073\n",
        "SSPRKNewton it 1 norm(r) 0.00171598923267\n",
        "SSPRKNewton it 1 norm(r) 0.000940784769571\n",
        "SSPRKNewton it"
       ]
      },
      {
       "output_type": "stream",
       "stream": "stdout",
       "text": [
        " 1 norm(r) 0.00084537143875\n",
        "SSPRKNewton it 1 norm(r) 0.00170381288428\n",
        "SSPRKNewton it 1 norm(r) 0.000952193624663\n",
        "SSPRKNewton it 1 norm(r) 0.000844721994703\n",
        "SSPRKNewton it 1 norm(r) 0.00169620154275\n",
        "SSPRKNewton it 1 norm(r) 0.000962374823087\n",
        "SSPRKNewton it 1 norm(r) 0.000844704038426\n",
        "SSPRKNewton it 1 norm(r) 0.00169164055727\n",
        "SSPRKNewton it 1 norm(r) 0.000970160639541\n",
        "SSPRKNewton it 1 norm(r) 0.000844935465666\n",
        "SSPRKNewton it 1 norm(r) 0.00168977483476\n",
        "SSPRKNewton it 1 norm(r) 0.00097477009906\n",
        "SSPRKNewton it 1 norm(r) 0.000845143824699\n",
        "SSPRKNewton it 1 norm(r) 0.00169024644232\n",
        "SSPRKNewton it"
       ]
      },
      {
       "output_type": "stream",
       "stream": "stdout",
       "text": [
        " 1 norm(r) 0.000975815166377\n",
        "SSPRKNewton it 1 norm(r) 0.00084518142729\n",
        "SSPRKNewton it 1 norm(r) 0.00169269828319\n",
        "SSPRKNewton it 1 norm(r) 0.000973256123174\n",
        "SSPRKNewton it 1 norm(r) 0.000845016162472\n",
        "SSPRKNewton it 1 norm(r) 0.00169680423484\n",
        "SSPRKNewton it 1 norm(r) 0.000967377755909\n",
        "SSPRKNewton it 1 norm(r) 0.000844725516828\n",
        "SSPRKNewton it 1 norm(r) 0.00170227746064\n",
        "SSPRKNewton it 1 norm(r) 0.000958759316931\n",
        "SSPRKNewton it 1 norm(r) 0.000844481685475\n",
        "SSPRKNewton it 1 norm(r) 0.00170887477959\n",
        "SSPRKNewton it 1 norm(r) 0.000948241725514\n",
        "SSPRKNewton it 1 norm(r) 0.000844531903018\n",
        "SSPRKNewton it"
       ]
      },
      {
       "output_type": "stream",
       "stream": "stdout",
       "text": [
        " 1 norm(r) 0.00171639526016\n",
        "SSPRKNewton it 1 norm(r) 0.000936888604101\n",
        "SSPRKNewton it 1 norm(r) 0.000845174806105\n",
        "SSPRKNewton it 1 norm(r) 0.00172466863808\n",
        "SSPRKNewton it 1 norm(r) 0.000925932684557\n",
        "SSPRKNewton it 1 norm(r) 0.000846730921138\n",
        "SSPRKNewton it 1 norm(r) 0.00173357149997\n",
        "SSPRKNewton it 1 norm(r) 0.000923434542444\n",
        "SSPRKNewton it 1 norm(r) 0.000855054363155\n",
        "SSPRKNewton it 1 norm(r) 0.00171757229527\n",
        "SSPRKNewton it 1 norm(r) 0.000933866844806\n",
        "SSPRKNewton it 1 norm(r) 0.00084299036957\n",
        "SSPRKNewton it 1 norm(r) 0.00170137948239\n",
        "SSPRKNewton it 1 norm(r) 0.00094530587611\n",
        "SSPRKNewton it 1 norm(r) 0.000842109956381\n",
        "SSPRKNewton it"
       ]
      },
      {
       "output_type": "stream",
       "stream": "stdout",
       "text": [
        " 1 norm(r) 0.00169298044392\n",
        "SSPRKNewton it 1 norm(r) 0.000955929885067\n",
        "SSPRKNewton it 1 norm(r) 0.000841981062074\n",
        "SSPRKNewton it 1 norm(r) 0.00168768920697\n",
        "SSPRKNewton it 1 norm(r) 0.000964469786149\n",
        "SSPRKNewton it 1 norm(r) 0.000842195319609\n",
        "SSPRKNewton it 1 norm(r) 0.00168517253958\n",
        "SSPRKNewton it 1 norm(r) 0.000970048002096\n",
        "SSPRKNewton it 1 norm(r) 0.000842455827312\n",
        "SSPRKNewton it 1 norm(r) 0.00168507305682\n",
        "SSPRKNewton it 1 norm(r) 0.000972173401793\n",
        "SSPRKNewton it 1 norm(r) 0.000842580831241\n",
        "SSPRKNewton it 1 norm(r) 0.00168703579713\n",
        "SSPRKNewton it 1 norm(r) 0.000970708305327\n",
        "SSPRKNewton it"
       ]
      },
      {
       "output_type": "stream",
       "stream": "stdout",
       "text": [
        " 1 norm(r) 0.000842505843173\n",
        "SSPRKNewton it 1 norm(r) 0.00169072996297\n",
        "SSPRKNewton it 1 norm(r) 0.000965844415965\n",
        "SSPRKNewton it 1 norm(r) 0.00084227766947\n",
        "SSPRKNewton it 1 norm(r) 0.00169586085296\n",
        "SSPRKNewton it 1 norm(r) 0.000958073312026\n",
        "SSPRKNewton it 1 norm(r) 0.000842041361632\n",
        "SSPRKNewton it 1 norm(r) 0.00170217587832\n",
        "SSPRKNewton it 1 norm(r) 0.000948155140658\n",
        "SSPRKNewton it 1 norm(r) 0.000842022117998\n",
        "SSPRKNewton it 1 norm(r) 0.00170945475338\n",
        "SSPRKNewton it 1 norm(r) 0.0009370764939\n",
        "SSPRKNewton it 1 norm(r) 0.000842497759118\n",
        "SSPRKNewton it 1 norm(r) 0.00171753493492\n",
        "SSPRKNewton it"
       ]
      },
      {
       "output_type": "stream",
       "stream": "stdout",
       "text": [
        " 1 norm(r) 0.000926023505757\n",
        "SSPRKNewton it 1 norm(r) 0.000843789809054\n",
        "SSPRKNewton it 1 norm(r) 0.00172627970864\n",
        "SSPRKNewton it 1 norm(r) 0.0009182617996\n",
        "SSPRKNewton it 1 norm(r) 0.000847835741518\n",
        "SSPRKNewton it 1 norm(r) 0.00172709170217\n",
        "SSPRKNewton it 1 norm(r) 0.000927577706359\n",
        "SSPRKNewton it 1 norm(r) 0.000841205061588\n",
        "SSPRKNewton it 1 norm(r) 0.00170024978223\n",
        "SSPRKNewton it 1 norm(r) 0.000938905727021\n",
        "SSPRKNewton it 1 norm(r) 0.000840024785545\n",
        "SSPRKNewton it 1 norm(r) 0.00169095497422\n",
        "SSPRKNewton it 1 norm(r) 0.00094988147584\n",
        "SSPRKNewton it 1 norm(r) 0.00083973123102\n",
        "SSPRKNewton it"
       ]
      },
      {
       "output_type": "stream",
       "stream": "stdout",
       "text": [
        " 1 norm(r) 0.00168483895962\n",
        "SSPRKNewton it 1 norm(r) 0.000959125877018\n",
        "SSPRKNewton it 1 norm(r) 0.000839892217414\n",
        "SSPRKNewton it 1 norm(r) 0.00168158700016\n",
        "SSPRKNewton it 1 norm(r) 0.000965656281481\n",
        "SSPRKNewton it 1 norm(r) 0.000840180588704\n",
        "SSPRKNewton it 1 norm(r) 0.00168084588008\n",
        "SSPRKNewton it 1 norm(r) 0.000968870361998\n",
        "SSPRKNewton it 1 norm(r) 0.000840380030264\n",
        "SSPRKNewton it 1 norm(r) 0.00168226092389\n",
        "SSPRKNewton it 1 norm(r) 0.000968526986464\n",
        "SSPRKNewton it 1 norm(r) 0.000840391702351\n",
        "SSPRKNewton it 1 norm(r) 0.00168549558497\n",
        "SSPRKNewton it 1 norm(r) 0.000964720488874\n",
        "SSPRKNewton it "
       ]
      },
      {
       "output_type": "stream",
       "stream": "stdout",
       "text": [
        "1 norm(r) 0.000840229819161\n",
        "SSPRKNewton it 1 norm(r) 0.00169024594537\n",
        "SSPRKNewton it 1 norm(r) 0.000957851796264\n",
        "SSPRKNewton it 1 norm(r) 0.000840010478296\n",
        "SSPRKNewton it 1 norm(r) 0.00169623965009\n",
        "SSPRKNewton it 1 norm(r) 0.000948592699414\n",
        "SSPRKNewton it 1 norm(r) 0.000839930405635\n",
        "SSPRKNewton it 1 norm(r) 0.00170325963979\n",
        "SSPRKNewton it 1 norm(r) 0.000937866059063\n",
        "SSPRKNewton it 1 norm(r) 0.000840258258581\n",
        "SSPRKNewton it 1 norm(r) 0.0017111284065\n",
        "SSPRKNewton it 1 norm(r) 0.000926794675969\n",
        "SSPRKNewton it 1 norm(r) 0.000841302523807\n",
        "SSPRKNewton it 1 norm(r) 0.00171969995595\n",
        "SSPRKNewton it"
       ]
      },
      {
       "output_type": "stream",
       "stream": "stdout",
       "text": [
        " 1 norm(r) 0.000916646091242\n",
        "SSPRKNewton it 1 norm(r) 0.000843384941269\n",
        "SSPRKNewton it 1 norm(r) 0.00172885566076\n",
        "SSPRKNewton it 1 norm(r) 0.000921938014521\n",
        "SSPRKNewton it 1 norm(r) 0.000843484908974\n",
        "SSPRKNewton it 1 norm(r) 0.00170076812017\n",
        "SSPRKNewton it 1 norm(r) 0.000933058993841\n",
        "SSPRKNewton it 1 norm(r) 0.000838388390422\n",
        "SSPRKNewton it 1 norm(r) 0.00168984673273\n",
        "SSPRKNewton it 1 norm(r) 0.000944276976348\n",
        "SSPRKNewton it 1 norm(r) 0.000837887693584\n",
        "SSPRKNewton it 1 norm(r) 0.00168286028884\n",
        "SSPRKNewton it 1 norm(r) 0.00095414939711\n",
        "SSPRKNewton it 1 norm(r) 0.000837962520361\n",
        "SSPRKNewton it"
       ]
      },
      {
       "output_type": "stream",
       "stream": "stdout",
       "text": [
        " 1 norm(r) 0.0016788249348\n",
        "SSPRKNewton it 1 norm(r) 0.00096158187403\n",
        "SSPRKNewton it 1 norm(r) 0.000838254186992\n",
        "SSPRKNewton it 1 norm(r) 0.00167739715478\n",
        "SSPRKNewton it 1 norm(r) 0.000965859971171\n",
        "SSPRKNewton it 1 norm(r) 0.000838512603553\n",
        "SSPRKNewton it 1 norm(r) 0.00167822338509\n",
        "SSPRKNewton it 1 norm(r) 0.000966636459543\n",
        "SSPRKNewton it 1 norm(r) 0.000838604136229\n",
        "SSPRKNewton it 1 norm(r) 0.00168096220166\n",
        "SSPRKNewton it 1 norm(r) 0.000963905996307\n",
        "SSPRKNewton it 1 norm(r) 0.000838509556188\n",
        "SSPRKNewton it 1 norm(r) 0.00168529452645\n",
        "SSPRKNewton it"
       ]
      },
      {
       "output_type": "stream",
       "stream": "stdout",
       "text": [
        " 1 norm(r) 0.000957973017562\n",
        "SSPRKNewton it 1 norm(r) 0.000838311495057\n",
        "SSPRKNewton it 1 norm(r) 0.00169094328016\n",
        "SSPRKNewton it 1 norm(r) 0.000949428935586\n",
        "SSPRKNewton it 1 norm(r) 0.00083818523884\n",
        "SSPRKNewton it 1 norm(r) 0.00169768278113\n",
        "SSPRKNewton it 1 norm(r) 0.000939122933095\n",
        "SSPRKNewton it 1 norm(r) 0.00083838188293\n",
        "SSPRKNewton it 1 norm(r) 0.00170532180955\n",
        "SSPRKNewton it 1 norm(r) 0.000928113470668\n",
        "SSPRKNewton it 1 norm(r) 0.000839196767277\n",
        "SSPRKNewton it 1 norm(r) 0.0017137048657\n",
        "SSPRKNewton it 1 norm(r) 0.000917623298829\n",
        "SSPRKNewton it 1 norm(r) 0.000840948118423\n",
        "SSPRKNewton it"
       ]
      },
      {
       "output_type": "stream",
       "stream": "stdout",
       "text": [
        " 1 norm(r) 0.00172270609504\n",
        "SSPRKNewton it 1 norm(r) 0.000917010657613\n",
        "SSPRKNewton it 1 norm(r) 0.00084985047174\n",
        "SSPRKNewton it 1 norm(r) 0.00170291564366\n",
        "SSPRKNewton it 1 norm(r) 0.000927730641013\n",
        "SSPRKNewton it 1 norm(r) 0.000837143717704\n",
        "SSPRKNewton it 1 norm(r) 0.00168952239535\n",
        "SSPRKNewton it 1 norm(r) 0.000939072492052\n",
        "SSPRKNewton it 1 norm(r) 0.000836396812688\n",
        "SSPRKNewton it 1 norm(r) 0.00168163146674\n",
        "SSPRKNewton it 1 norm(r) 0.00094948348597\n",
        "SSPRKNewton it 1 norm(r) 0.000836352304023\n",
        "SSPRKNewton it 1 norm(r) 0.00167677571931\n",
        "SSPRKNewton it 1 norm(r) 0.000957754795994\n",
        "SSPRKNewton it"
       ]
      },
      {
       "output_type": "stream",
       "stream": "stdout",
       "text": [
        " 1 norm(r) 0.000836622012907\n",
        "SSPRKNewton it 1 norm(r) 0.0016746240162\n",
        "SSPRKNewton it 1 norm(r) 0.000963059857354\n",
        "SSPRKNewton it 1 norm(r) 0.000836922806623\n",
        "SSPRKNewton it 1 norm(r) 0.00167482581137\n",
        "SSPRKNewton it 1 norm(r) 0.000964943702176\n",
        "SSPRKNewton it 1 norm(r) 0.000837086301385\n",
        "SSPRKNewton it 1 norm(r) 0.00167703316402\n",
        "SSPRKNewton it 1 norm(r) 0.000963297767964\n",
        "SSPRKNewton it 1 norm(r) 0.000837057733288\n",
        "SSPRKNewton it 1 norm(r) 0.00168091459343\n",
        "SSPRKNewton it 1 norm(r) 0.000958329819409\n",
        "SSPRKNewton it 1 norm(r) 0.000836886568894\n",
        "SSPRKNewton it 1 norm(r) 0.001686195913\n",
        "SSPRKNewton it"
       ]
      },
      {
       "output_type": "stream",
       "stream": "stdout",
       "text": [
        " 1 norm(r) 0.00095055373375\n",
        "SSPRKNewton it 1 norm(r) 0.000836729185139\n",
        "SSPRKNewton it 1 norm(r) 0.00169263373583\n",
        "SSPRKNewton it 1 norm(r) 0.000940737107137\n",
        "SSPRKNewton it 1 norm(r) 0.000836812471061\n",
        "SSPRKNewton it 1 norm(r) 0.00170002505826\n",
        "SSPRKNewton it 1 norm(r) 0.000929873125364\n",
        "SSPRKNewton it 1 norm(r) 0.000837418497424\n",
        "SSPRKNewton it 1 norm(r) 0.00170820455089\n",
        "SSPRKNewton it 1 norm(r) 0.000919135435213\n",
        "SSPRKNewton it 1 norm(r) 0.000838860066231\n",
        "SSPRKNewton it 1 norm(r) 0.00171703848464\n",
        "SSPRKNewton it 1 norm(r) 0.000912877702064\n",
        "SSPRKNewton it 1 norm(r) 0.000843976528547\n",
        "SSPRKNewton it"
       ]
      },
      {
       "output_type": "stream",
       "stream": "stdout",
       "text": [
        " 1 norm(r) 0.0017137863753\n",
        "SSPRKNewton it 1 norm(r) 0.000922533853868\n",
        "SSPRKNewton it 1 norm(r) 0.000836201518224\n",
        "SSPRKNewton it 1 norm(r) 0.00169001965214\n",
        "SSPRKNewton it 1 norm(r) 0.000933829308824\n",
        "SSPRKNewton it 1 norm(r) 0.000835140170645\n",
        "SSPRKNewton it 1 norm(r) 0.00168113587722\n",
        "SSPRKNewton it 1 norm(r) 0.000944664872651\n",
        "SSPRKNewton it 1 norm(r) 0.000834924468772\n",
        "SSPRKNewton it 1 norm(r) 0.00167538061694\n",
        "SSPRKNewton it 1 norm(r) 0.00095371110447\n",
        "SSPRKNewton it 1 norm(r) 0.000835137251947\n",
        "SSPRKNewton it 1 norm(r) 0.00167243521806\n",
        "SSPRKNewton it 1 norm(r) 0.000960021744167\n",
        "SSPRKNewton it"
       ]
      },
      {
       "output_type": "stream",
       "stream": "stdout",
       "text": [
        " 1 norm(r) 0.000835461085811\n",
        "SSPRKNewton it 1 norm(r) 0.00167195275755\n",
        "SSPRKNewton it 1 norm(r) 0.000963027139525\n",
        "SSPRKNewton it 1 norm(r) 0.000835691093164\n",
        "SSPRKNewton it 1 norm(r) 0.00167356788152\n",
        "SSPRKNewton it 1 norm(r) 0.000962502762884\n",
        "SSPRKNewton it 1 norm(r) 0.000835729118999\n",
        "SSPRKNewton it 1 norm(r) 0.00167696390591\n",
        "SSPRKNewton it 1 norm(r) 0.000958572771751\n",
        "SSPRKNewton it 1 norm(r) 0.000835604511205\n",
        "SSPRKNewton it 1 norm(r) 0.0016818460587\n",
        "SSPRKNewton it 1 norm(r) 0.000951653954814\n",
        "SSPRKNewton it 1 norm(r) 0.000835439134278\n",
        "SSPRKNewton it 1 norm(r) 0.00168795729185\n",
        "SSPRKNewton it"
       ]
      },
      {
       "output_type": "stream",
       "stream": "stdout",
       "text": [
        " 1 norm(r) 0.000942433053847\n",
        "SSPRKNewton it 1 norm(r) 0.00083543709421\n",
        "SSPRKNewton it 1 norm(r) 0.00169508205989\n",
        "SSPRKNewton it 1 norm(r) 0.000931833911038\n",
        "SSPRKNewton it 1 norm(r) 0.000835864756837\n",
        "SSPRKNewton it 1 norm(r) 0.00170304386209\n",
        "SSPRKNewton it 1 norm(r) 0.000920975998802\n",
        "SSPRKNewton it 1 norm(r) 0.00083702708772\n",
        "SSPRKNewton it 1 norm(r) 0.00171169982152\n",
        "SSPRKNewton it 1 norm(r) 0.00091112035682\n",
        "SSPRKNewton it 1 norm(r) 0.00083924266947\n",
        "SSPRKNewton it 1 norm(r) 0.00172093148339\n",
        "SSPRKNewton it 1 norm(r) 0.000917733254378\n",
        "SSPRKNewton it 1 norm(r) 0.000837739758158\n",
        "SSPRKNewton it"
       ]
      },
      {
       "output_type": "stream",
       "stream": "stdout",
       "text": [
        " 1 norm(r) 0.00169150686951\n",
        "SSPRKNewton it 1 norm(r) 0.000928873720299\n",
        "SSPRKNewton it 1 norm(r) 0.00083414221305\n",
        "SSPRKNewton it 1 norm(r) 0.00168120366409\n",
        "SSPRKNewton it 1 norm(r) 0.000940010190394\n",
        "SSPRKNewton it 1 norm(r) 0.00083371818126\n",
        "SSPRKNewton it 1 norm(r) 0.00167452649691\n",
        "SSPRKNewton it 1 norm(r) 0.000949737696218\n",
        "SSPRKNewton it 1 norm(r) 0.000833843736559\n",
        "SSPRKNewton it 1 norm(r) 0.00167075946103\n",
        "SSPRKNewton it 1 norm(r) 0.00095699137071\n",
        "SSPRKNewton it 1 norm(r) 0.000834169043341\n",
        "SSPRKNewton it 1 norm(r) 0.00166954877304\n",
        "SSPRKNewton it 1 norm(r) 0.000961077629734\n",
        "SSPRKNewton it"
       ]
      },
      {
       "output_type": "stream",
       "stream": "stdout",
       "text": [
        " 1 norm(r) 0.000834446312309\n",
        "SSPRKNewton it 1 norm(r) 0.00167054966509\n",
        "SSPRKNewton it 1 norm(r) 0.000961677345879\n",
        "SSPRKNewton it 1 norm(r) 0.000834553551527\n",
        "SSPRKNewton it 1 norm(r) 0.00105928089143\n",
        "SSPRKNewton it 1 norm(r) 0.000554606614765\n",
        "SSPRKNewton it 1 norm(r) 0.000483587512543\n"
       ]
      }
     ],
     "prompt_number": 8
    },
    {
     "cell_type": "code",
     "collapsed": false,
     "input": [
      "import pylab\n",
      "x = ns.modelList[0].levelModelList[-1].mesh.nodeArray[:,0]\n",
      "# triangles = ns.modelList[0].levelModelList[-1].mesh.elementNodesArray\n",
      "u = ns.modelList[0].levelModelList[-1].u[0].dof\n",
      "# delList[1].levelModelList[-1].u[0].dof\n",
      "pylab.plot(x[0:-1],u[0:-1:3])\n",
      "pylab.show()"
     ],
     "language": "python",
     "metadata": {},
     "outputs": [
      {
       "metadata": {},
       "output_type": "display_data",
       "png": "[encoded data removed]",
       "text": [
        "<matplotlib.figure.Figure at 0x7f3a10432490>"
       ]
      }
     ],
     "prompt_number": 9
    },
    {
     "cell_type": "code",
     "collapsed": false,
     "input": [],
     "language": "python",
     "metadata": {},
     "outputs": []
    }
   ],
   "metadata": {}
  }
 ]
}