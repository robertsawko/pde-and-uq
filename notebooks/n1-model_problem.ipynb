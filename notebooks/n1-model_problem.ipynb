{
 "metadata": {
  "name": "",
  "signature": "sha256:3baf3fb4e2786434dacf1ca311b85b677be5c961423cd2784338940e3712e591"
 },
 "nbformat": 3,
 "nbformat_minor": 0,
 "worksheets": [
  {
   "cells": [
    {
     "cell_type": "heading",
     "level": 1,
     "metadata": {},
     "source": [
      "Uncertainty quantification for Burgers' equation with Proteus"
     ]
    },
    {
     "cell_type": "heading",
     "level": 2,
     "metadata": {},
     "source": [
      "Introduction"
     ]
    },
    {
     "cell_type": "markdown",
     "metadata": {},
     "source": [
      "Numerical solutions of partial differential equations allow us to describe time evolution of a physical system. Assuming that initial conditions (IC) and all the terms in an equation are known exactly it is possible to predict the future state of the system. Often IC are not known exactly though or due to modelling assumptions some terms in the equation describe the physical behaviour only approximately. In these cases it is useful to look at uncertainties associated with these unkonwns. They can be formally represented as random variables or more generally as stochastic processes. Here we look at a model problem that could describe fluid flow and subject it to:\n",
      "\n",
      " * IC uncertainty,\n",
      " * model uncertainty.\n",
      "\n",
      "This notebook is an attempt to reproduce Figure 1 from <cite data-cite=\"Heyrim2014\">(Heyrim, 2014)</cite>.\n",
      "\n",
      "Describe the content of the notebook.\n",
      "\n",
      " 1. Solve the model problem for two different initial conditions with and without forcing.\n",
      " 1. Run the MC simulation to obtain PDF (possibly will have to do it outside of the notebook)\n",
      " 1. Solve the PDF equation obtained from kinetic approach.\n",
      " 1. Compare PDFs"
     ]
    },
    {
     "cell_type": "code",
     "collapsed": false,
     "input": [
      "%matplotlib inline\n",
      "from proteus.iproteus import * \n",
      "import proteus as pr"
     ],
     "language": "python",
     "metadata": {},
     "outputs": [
      {
       "output_type": "stream",
       "stream": "stdout",
       "text": [
        "NO PROTEUS_PRELOAD_LIBS LOADED; CHECK config.py\n"
       ]
      }
     ],
     "prompt_number": 1
    },
    {
     "cell_type": "heading",
     "level": 2,
     "metadata": {},
     "source": [
      "Model problem"
     ]
    },
    {
     "cell_type": "markdown",
     "metadata": {},
     "source": [
      "We are solving an initial value problem for 1D Burgers' equation with forcing and periodic boundary conditions. We set the forcing term and the initial conditions to be random variables. The quantity $u$ is now a function of position $x$, time $t$ and elementary event $\\omega$ which refers to the particular realization of random forcing process and initial condition.\n",
      "\n",
      "\\begin{align}\n",
      "\\frac{\\partial u}{\\partial t} + u\\frac{\\partial u}{\\partial x} & = \\nu \\frac{\\partial^2u}{\\partial x^2}  + \\sigma f(x,t; \\omega), \\quad x \\in [0, 2\\pi], \\quad t\\geq0\n",
      "\\\\\n",
      "u(x,0; \\omega) & =u_0(x; \\omega)\n",
      "\\\\\n",
      "u(2\\pi,t; \\omega) & = u(0,t; \\omega)\n",
      "\\end{align}\n",
      "\n",
      "where $\\sigma$ is an amplitude of the forcing term.\n",
      "\n",
      "### Implementation notes\n",
      " * The forcing term is given as an argument.\n",
      " * By default there is no forcing.\n",
      " * IC and forcing will be combinations of $\\sin$ and $\\cos$ so it's reasonable to set the domain length to $2\\pi$.\n",
      " \n",
      " \n",
      "** Q:** Is the 'constant' in the reaction term correct? "
     ]
    },
    {
     "cell_type": "code",
     "collapsed": false,
     "input": [
      "import proteus.default_p as p\n",
      "import numpy as np\n",
      "from proteus.TransportCoefficients import TC_base\n",
      "\n",
      "\n",
      "p.nd = 1\n",
      "p.L = [2 * np.pi]\n",
      "\n",
      "\n",
      "class ForcedBurgersEqn(TC_base):\n",
      "    def __init__(self, nu=0.0, sigma=0.05, rofx=lambda x, t: 0):\n",
      "        TC_base.__init__(\n",
      "            self, nc=1,\n",
      "            mass={0: {0: 'linear'}},\n",
      "            advection={0: {0: 'nonlinear'}},\n",
      "            diffusion={0: {0: {0: 'constant'}}},\n",
      "            potential={0: {0: 'nonlinear'}},\n",
      "            reaction={0: {0: 'constant'}},\n",
      "            hamiltonian={},\n",
      "            variableNames=['u']\n",
      "            )\n",
      "        self.nu = nu\n",
      "        self.rofx = rofx\n",
      "        self.sigma = sigma\n",
      "\n",
      "    def evaluate(self, t, c):\n",
      "        u = c[('u', 0)]\n",
      "        c[('m', 0)][:] = u\n",
      "        c[('dm', 0, 0)][:] = 1\n",
      "        c[('f', 0)][..., 0] = 0.5*u**2\n",
      "        c[('df', 0, 0)][..., 0] = u\n",
      "        c[('a', 0, 0)][..., 0, 0] = self.nu\n",
      "        c[('r', 0)][:] = self.sigma * self.rofx(c['x'][:], t)\n"
     ],
     "language": "python",
     "metadata": {},
     "outputs": [],
     "prompt_number": 2
    },
    {
     "cell_type": "markdown",
     "metadata": {},
     "source": [
      "The forcing term is given by the following function\n",
      "\\begin{equation}\n",
      "f(x, t, \\omega) = 1 + \\sum_{k=1}^5 (-1)^k (\\xi_{1,k} \\sin(2kx) + \\xi_{2,k} \\cos(3kx))\\exp(-\\sin(2kt))\n",
      "\\end{equation}\n",
      "where $\\xi_{1,k}$ and $\\xi_{2,k}$ for any $k$ are independent random variables with standard normal distribution.\n",
      "\n",
      "### Implementational notes\n",
      " * The random variable eta is given as an argument as I will need to control it in subsequent runs.\n",
      " * The forcing coefficient is set to default value of 0.05. "
     ]
    },
    {
     "cell_type": "code",
     "collapsed": false,
     "input": [
      "def forcing_term(x, t, eta):\n",
      "    m = eta.shape[0]\n",
      "    f = 1\n",
      "    for k in range(m):\n",
      "        f = f + (-1)**k * eta[k, 0]*(np.sin(2*k*x[..., 0]) + eta[k, 1]*np.cos(3*k*x[..., 0])) *\\\n",
      "            np.exp(-np.sin(2*k*t))\n",
      "    return f\n",
      "\n",
      "eta = np.random.randn(5, 2)\n",
      "p.coefficients = ForcedBurgersEqn(\n",
      "    nu=1e-6, rofx=lambda x, t: forcing_term(x, t, eta))\n"
     ],
     "language": "python",
     "metadata": {},
     "outputs": [],
     "prompt_number": 3
    },
    {
     "cell_type": "markdown",
     "metadata": {},
     "source": [
      "The initial conditions come from the assumption that the $u_0$ can be described as a stochastic process with the following auto-correlation function\n",
      "\\begin{equation}\n",
      "C(x,y) = \\exp(-|x-y|/l_c)\n",
      "\\end{equation}\n",
      "where $l_c$ is the correlation length. Then the representation of this stochastic process is obtained via Karhunen-Loeve expansion which can be obtained analitically for that process. The representation will take the following form.\n",
      "\\begin{equation}\n",
      "u_0(x, \\omega) = a_0 (\\eta_0 + \\sin(x)) + \\sum_{k=1}^m \\sqrt{\\lambda_k}\\eta_k \\Psi_k(x)\n",
      "\\end{equation}\n",
      "where $\\eta_k$ are again are uncorrelated random variables with standard normal distribution, $\\lambda_k$ and $\\Psi_k$ are the eigenvalues and eigenfunctions of the correlation function $C$.\n",
      "\n",
      "KL expansion does not presererve periodicity so finally the KL expansion is projected on the Fourier basis with $\\sin$ and $\\cos$ with appropriate frequencies so that to make the function periodic on a given interval."
     ]
    },
    {
     "cell_type": "code",
     "collapsed": false,
     "input": [
      "from kl_expansion import kl_eigenpair\n",
      "from scipy.integrate import quad\n",
      "\n",
      "class KarhunenLoeveIC:\n",
      "    def __init__(self, m, n, eta):\n",
      "        self.m = m\n",
      "        self.n = n\n",
      "        self.eta = eta\n",
      "\n",
      "    def uOfXT(self, x, t):\n",
      "        w = 0\n",
      "        for l in range(self.m):\n",
      "            lambda_n, fn = kl_eigenpair(l, np.pi, 1/6.0)\n",
      "            eta = self.eta[l + 1]\n",
      "            for k in range(1, self.n):\n",
      "                kl_term = \\\n",
      "                    lambda x: eta * np.sqrt(lambda_n) * fn(x) * np.sin(k*x)\n",
      "                w = w + quad(kl_term, -np.pi, np.pi)[0] * \\\n",
      "                    np.sin(k * x[0] - np.pi)\n",
      "        return w + 0.5 * (1.0 + self.eta[0] + np.sin(x[0]))\n",
      "\n",
      "p.initialConditions = {0: KarhunenLoeveIC(10, 4, np.random.randn(11))}"
     ],
     "language": "python",
     "metadata": {},
     "outputs": [
      {
       "metadata": {},
       "output_type": "display_data",
       "png": "[encoded data removed]",
       "text": [
        "<matplotlib.figure.Figure at 0x7f00fc9cddd0>"
       ]
      }
     ],
     "prompt_number": 4
    },
    {
     "cell_type": "markdown",
     "metadata": {},
     "source": [
      "We also set periodic boundary conditions and therefore need to set dirichlet and diffusive BC as empty BC.\n",
      "\n",
      "**Q:** Why periodicity is done by 0 vector?"
     ]
    },
    {
     "cell_type": "code",
     "collapsed": false,
     "input": [
      "def emptyBC(x):\n",
      "    return None\n",
      "\n",
      "p.dirichletConditions = {0: emptyBC}\n",
      "p.advectiveFluxBoundaryconditions = {0: emptyBC}\n",
      "p.diffusiveFluxBoundaryconditions = {0: {0: emptyBC}}\n",
      "\n",
      "\n",
      "def getPBC(x):\n",
      "    eps = 1.0e-8\n",
      "    if x[0] < eps or x[0] >= p.L[0] - eps:\n",
      "        return np.array([0.0, 0.0, 0.0])\n",
      "\n",
      "p.periodicDirichletConditions = {0: getPBC}\n",
      "p.fluxBoundaryConditions = {0: 'outFlow'}\n"
     ],
     "language": "python",
     "metadata": {},
     "outputs": [],
     "prompt_number": 5
    },
    {
     "cell_type": "markdown",
     "metadata": {},
     "source": [
      "We set the final time step to 2s.\n",
      "\n",
      "**Q:** How to set more time output times?"
     ]
    },
    {
     "cell_type": "code",
     "collapsed": false,
     "input": [
      "p.T = 2.0"
     ],
     "language": "python",
     "metadata": {},
     "outputs": [],
     "prompt_number": 6
    },
    {
     "cell_type": "heading",
     "level": 3,
     "metadata": {},
     "source": [
      "Numerical setup for the model problem"
     ]
    },
    {
     "cell_type": "code",
     "collapsed": false,
     "input": [
      "import proteus.default_n as n\n",
      "\n",
      "n.tnList = [0, p.T]\n",
      "\n",
      "n.timeOrder = 3\n",
      "n.nStagesTime = n.timeOrder\n",
      "\n",
      "n.DT = None\n",
      "n.runCFL = 0.1\n",
      "\n",
      "n.limiterType = pr.TimeIntegration.DGlimiterP2Lagrange1d  # None\n",
      "\n",
      "n.timeIntegration = pr.TimeIntegration.SSPRKPIintegration\n",
      "n.stepController = pr.StepControl.Min_dt_RKcontroller\n",
      "n.nDTout = 10\n",
      "\n",
      "n.femSpaces = {0: pr.FemTools.DG_AffineQuadraticOnSimplexWithNodalBasis}\n",
      "\n",
      "\n",
      "n.elementQuadrature = pr.Quadrature.SimplexGaussQuadrature(p.nd, 4)\n",
      "n.elementBoundaryQuadrature = pr.Quadrature.SimplexGaussQuadrature(p.nd-1, 4)\n",
      "\n",
      "n.nn = 101\n",
      "n.nLevels = 1\n",
      "\n",
      "n.subgridError = None\n",
      "n.massLumping = False\n",
      "\n",
      "n.numericalFluxType = pr.NumericalFlux.RusanovNumericalFlux_Diagonal\n",
      "\n",
      "n.shockCapturing = None\n",
      "n.multilevelNonlinearSolver = n.NLNI\n",
      "\n",
      "n.usingSSPRKNewton = True\n",
      "n.levelNonlinearSolver = n.SSPRKNewton\n",
      "\n",
      "n.nonlinearSmoother = n.NLGaussSeidel\n",
      "\n",
      "n.fullNewtonFlag = True\n",
      "\n",
      "n.tolFac = 0.01\n",
      "\n",
      "n.nl_atol_res = 1.0e-8\n",
      "\n",
      "n.matrix = n.SparseMatrix\n",
      "\n",
      "n.multilevelLinearSolver = n.LU\n",
      "\n",
      "n.levelLinearSolver = n.LU\n",
      "\n",
      "n.linearSmoother = n.GaussSeidel\n",
      "\n",
      "n.linTolFac = 0.001\n",
      "\n",
      "n.conservativeFlux = None\n",
      "\n",
      "n.checkMass = True\n",
      "\n",
      "n.periodicDirichletConditions = {0: getPBC}\n",
      "n.parallelPeriodic = False\n",
      "n.parallelPartitioningType = n.MeshParallelPartitioningTypes.element\n",
      "n.nLayersOfOverlapForParallel = 0\n"
     ],
     "language": "python",
     "metadata": {},
     "outputs": [],
     "prompt_number": 7
    },
    {
     "cell_type": "code",
     "collapsed": false,
     "input": [
      "from proteus import default_s,default_so\n",
      "p.name=\"burgers\"\n",
      "so = default_so\n",
      "so.name = p.name\n",
      "so.sList=[default_s]\n",
      "so.tnList = n.tnList"
     ],
     "language": "python",
     "metadata": {},
     "outputs": [],
     "prompt_number": 8
    },
    {
     "cell_type": "markdown",
     "metadata": {},
     "source": [
      "Initialise the numerical solution object\n",
      "\n",
      "**Q:** What is opts?"
     ]
    },
    {
     "cell_type": "code",
     "collapsed": false,
     "input": [
      "ns = NumericalSolution.NS_base(so,[p],[n],so.sList,opts)"
     ],
     "language": "python",
     "metadata": {},
     "outputs": [],
     "prompt_number": 9
    },
    {
     "cell_type": "markdown",
     "metadata": {},
     "source": [
      "Finally, run the case.\n",
      "\n",
      "**TODO:** Suppress output unless it doesn't converge."
     ]
    },
    {
     "cell_type": "code",
     "collapsed": false,
     "input": [
      "failed = ns.calculateSolution('burgers1D')\n",
      "assert(not failed)"
     ],
     "language": "python",
     "metadata": {},
     "outputs": [],
     "prompt_number": 10
    },
    {
     "cell_type": "code",
     "collapsed": false,
     "input": [
      "import pylab\n",
      "x = ns.modelList[0].levelModelList[-1].mesh.nodeArray[:,0]\n",
      "# triangles = ns.modelList[0].levelModelList[-1].mesh.elementNodesArray\n",
      "u = ns.modelList[0].levelModelList[-1].u[0].dof\n",
      "# delList[1].levelModelList[-1].u[0].dof\n",
      "pylab.plot(x[0:-1],u[0:-1:3])\n",
      "pylab.show()"
     ],
     "language": "python",
     "metadata": {},
     "outputs": [
      {
       "metadata": {},
       "output_type": "display_data",
       "png": "[encoded data removed]",
       "text": [
        "<matplotlib.figure.Figure at 0x7f0100668390>"
       ]
      }
     ],
     "prompt_number": 11
    },
    {
     "cell_type": "code",
     "collapsed": false,
     "input": [],
     "language": "python",
     "metadata": {},
     "outputs": []
    }
   ],
   "metadata": {}
  }
 ]
}