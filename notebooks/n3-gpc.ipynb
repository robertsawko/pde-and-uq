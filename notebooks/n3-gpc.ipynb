{
 "metadata": {
  "name": "",
  "signature": "sha256:e946aef97d263511c6f216e662107749e7dc77aa86b6344cae46ba69c5377f55"
 },
 "nbformat": 3,
 "nbformat_minor": 0,
 "worksheets": [
  {
   "cells": [
    {
     "cell_type": "markdown",
     "metadata": {},
     "source": [
      "# Introduction\n",
      "\n",
      "The Galerkin approach to Burgers' equation generates the following set of equations for the coefficients.\n",
      "\n",
      "\\begin{align}\n",
      "\\frac{\\partial v_k}{\\partial t} + \\frac{1}{\\gamma_k}\\sum_i^N \\sum_j^N e_{ijk} v_i\\frac{\\partial v_j}{\\partial x} & = \\nu \\frac{\\partial^2v_k}{\\partial x^2}, \\quad x \\in [0, 2\\pi], \\quad t\\geq0\n",
      "\\\\\n",
      "v_0(x,0) & = \\sin(x)\n",
      "\\\\\n",
      "v_1(x,0) & = 1\n",
      "\\\\\n",
      "v_k(x,0) & = 0, \\quad k > 1\n",
      "\\\\\n",
      "v_k(2\\pi,t) & = v_k(0,t)\n",
      "\\end{align}\n",
      "where $\\gamma_k$ and $e_{ijk}$ are known coefficients calculated as integrals of appropriate polynomial base. They are given by\n",
      "\n",
      "\\begin{gather}\n",
      "e_{ijk} = \\mathbb{E}(\\Phi_i \\Phi_j \\Phi_k)\n",
      "\\\\\n",
      "\\gamma_k = \\mathbb{E}(\\Phi_k^2)\n",
      "\\end{gather}\n",
      "\n",
      "We assumed Hermite polynomials there and integrated it in Maple. The coefficients are stored in a python pickle. Could work it out in sympy at some point."
     ]
    },
    {
     "cell_type": "code",
     "collapsed": false,
     "input": [
      "import numpy as np\n",
      "import pickle\n",
      "\n",
      "with open('eijk_div_gammak.pickle') as f:\n",
      "    e_div_gammak = pickle.load(f)"
     ],
     "language": "python",
     "metadata": {},
     "outputs": []
    },
    {
     "cell_type": "markdown",
     "metadata": {},
     "source": [
      "The idea is to write it down in the form of Hamiltonian in the same way as it's done in ViscousBurgers in TransportCoefficients.py. Using the canonical form of Proteus equations we associate $u^k = v_k$. The mass function is obvious. \n",
      "                                                                            \n",
      "\\begin{gather}\n",
      "m^k(u) = v_k\\\\\n",
      "H^k(\\frac{\\partial v_0}{\\partial x}, \\frac{\\partial v_1}{\\partial x}, ..., \\frac{\\partial v_{N-1}}{\\partial x}) =\n",
      "\\sum_{i=0}^{N-1}\\sum_{j=0}^{N - 1} \\frac{e_{ijk}}{\\gamma_k} v_i\\frac{\\partial v_j}{\\partial x}\n",
      "\\end{gather}\n",
      "\n",
      "I would probably prefer to have it written out as a flux operator but I don't think it's possible at all."
     ]
    },
    {
     "cell_type": "code",
     "collapsed": false,
     "input": [
      "from proteus import *\n",
      "import proteus.default_p as p\n",
      "from proteus.TransportCoefficients import TC_base\n",
      "\n",
      "p.nd = 1\n",
      "p.L = [2 * np.pi]\n",
      "p.nc = 3\n",
      "\n",
      "class gPCBurgersEqn(TC_base):\n",
      "    def __init__(self, nu=0.0):\n",
      "        mass = {}\n",
      "        diffusion = {}\n",
      "        potential = {}\n",
      "        hamiltonian = {}\n",
      "        for k in range(nc):\n",
      "            mass[k] = {k: 'linear'}\n",
      "            diffusion[k] = {k: {k: 'constant'}}\n",
      "            potential[k] = {k: {k: 'u'}}\n",
      "            # h'th Hamiltonian if a function of jth gradient if there exists\n",
      "            # at least one none zero entry in e_ijk for any j. For now we're\n",
      "            # doing all gradients.\n",
      "            hamiltonian[k] = dict((j, 'nonlinear') for j in range(nc))\n",
      "        TC_base.__init__(\n",
      "            self, nc=nc,\n",
      "            mass=mass,\n",
      "            advection={},\n",
      "            diffusion=diffusion,\n",
      "            potential=potential,\n",
      "            reaction={},\n",
      "            hamiltonian=hamiltonian,\n",
      "            variableNames=['v{0}'.format(i) for i in range(nc)]\n",
      "            )\n",
      "        self.nu = nu\n",
      "        self.nc = nc\n",
      "\n",
      "    def evaluate(self, t, c):\n",
      "        for k in range(self.nc):\n",
      "            vk = c[('u', k)]\n",
      "            c[('m', k)][:] = vk\n",
      "            c[('dm', k, k)][:] = 1\n",
      "            c[('a', k, k)][..., 0, 0] = self.nu\n",
      "\n",
      "            c[('H', k)][..., 0] = 0.0\n",
      "            for i in range(self.nc):\n",
      "                vi = c[('u', i)]\n",
      "                for j in range(self.nc):\n",
      "                    # print \"Normalised e for {0}, {1}, {2} = {3}\".format(i, j, k, e_div_gammak[i, j, k])\n",
      "                    dvjdx = c['grad(u)', j][..., 0]\n",
      "                    c[('H', k)][:] = c[('H', k)][:] \\\n",
      "                        + vi * dvjdx * e_div_gammak[i, j, k]\n",
      "                    c[('dH', k, j)][..., 0] = vi * e_div_gammak[i, j, k]\n",
      "\n",
      "\n",
      "coefficients = gPCBurgersEqn(nu=1.0e-3)\n"
     ],
     "language": "python",
     "metadata": {},
     "outputs": []
    },
    {
     "cell_type": "markdown",
     "metadata": {},
     "source": [
      "The initial condition can be written in Proteus as follows."
     ]
    },
    {
     "cell_type": "code",
     "collapsed": false,
     "input": [
      "class vkIC:\n",
      "    def __init__(self, k):\n",
      "        self.k = k\n",
      "\n",
      "    def uOfXT(self, x, t):\n",
      "        if self.k is 0:\n",
      "            return np.sin(x[0])\n",
      "        elif self.k is 1:\n",
      "            return 1.0\n",
      "        else:\n",
      "            return 0.0\n",
      "\n",
      "initialConditions = dict((k, vkIC(k=k)) for k in range(nc))"
     ],
     "language": "python",
     "metadata": {},
     "outputs": []
    }
   ],
   "metadata": {}
  }
 ]
}