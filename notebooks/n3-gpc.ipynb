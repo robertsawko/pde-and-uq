{
 "metadata": {
  "name": "",
  "signature": "sha256:3cadaee3d1bd7f4f88576c79678ec1f75ee9fc1048e0d4a9ad1479555aaa6e89"
 },
 "nbformat": 3,
 "nbformat_minor": 0,
 "worksheets": [
  {
   "cells": [
    {
     "cell_type": "markdown",
     "metadata": {},
     "source": [
      "# Introduction\n",
      "In this notebook I am using a Galerkin generalized polynomial chaos approach to solve a Burgers' problem with random initial condition and periodic boundary condition (no forcing).\n",
      "\\begin{align}\n",
      "\\frac{\\partial u}{\\partial t} + u\\frac{\\partial u}{\\partial x} & = \\nu \\frac{\\partial^2u}{\\partial x^2}, \\quad x \\in [0, 2\\pi], \\quad t\\geq0\n",
      "\\\\\n",
      "u(x,0; Z) & = Z + sin(x)\n",
      "\\\\\n",
      "u(2\\pi,t; Z) & = u(0,t; Z)\n",
      "\\end{align}\n",
      "where $Z$ is a zero-mean random variable with a normal distribution.\n",
      "\n",
      "The Galerkin approach assumes that the solution can be decomposed in\n",
      "\n",
      "\\begin{equation}\n",
      "u(x, t, Z) = \\sum_{k=0}^N v_k(x,t) \\Phi_k(Z),\n",
      "\\end{equation}\n",
      "\n",
      "\n",
      "With this decomposition and by multiplying the Burgers equation by each polynomial from the orthogonal family and by taking the expected value (integrating) both side we can remove the random variable from the equation and we generate a set of equations for deterministic coefficients. The system of equations is:\n",
      "\n",
      "\\begin{align}\n",
      "\\frac{\\partial v_k}{\\partial t} + \\frac{1}{\\gamma_k}\\sum_i^N \\sum_j^N e_{ijk} v_i\\frac{\\partial v_j}{\\partial x} & = \\nu \\frac{\\partial^2v_k}{\\partial x^2}, \\quad x \\in [0, 2\\pi], \\quad t\\geq0\n",
      "\\\\\n",
      "v_0(x,0) & = \\sin(x)\n",
      "\\\\\n",
      "v_1(x,0) & = 1\n",
      "\\\\\n",
      "v_k(x,0) & = 0, \\quad k > 1\n",
      "\\\\\n",
      "v_k(2\\pi,t) & = v_k(0,t)\n",
      "\\end{align}\n",
      "where $\\gamma_k$ and $e_{ijk}$ are known coefficients calculated as integrals of appropriate polynomial base. They are given by\n",
      "\n",
      "\\begin{gather}\n",
      "e_{ijk} = \\mathbb{E}(\\Phi_i \\Phi_j \\Phi_k)\n",
      "\\\\\n",
      "\\gamma_k = \\mathbb{E}(\\Phi_k^2)\n",
      "\\end{gather}\n"
     ]
    },
    {
     "cell_type": "heading",
     "level": 2,
     "metadata": {},
     "source": [
      "Derivation of equation coefficients"
     ]
    },
    {
     "cell_type": "markdown",
     "metadata": {},
     "source": [
      "The dot product between polynomials is defined with respect to a weight function. The weight function in our case will be the PDF of a Gaussian distribution. Polynomial family that is orthogonal with respect to that weight function.  We choose Hermite polynomials as the orthogonal basis for our expansion. They are referred to as 'probabilistic' polynomials as they are orthogonal with respect to\n",
      "\n",
      "\\begin{equation}\n",
      "w(x) = \\frac{1}{\\sqrt{2\\pi}} \\mathrm{exp}\\left(-\\frac{x^2}{2}\\right)\n",
      "\\end{equation}\n",
      "The Hermite polynomials are then given by:\n",
      "\\begin{equation}\n",
      "He_n(x) = 2^{-\\frac{n}{2}} H_n\\left(\\frac{x}{\\sqrt{2}}\\right)\n",
      "\\end{equation}\n",
      "where $H_n$ is the more standard 'physycists' Hermite polynomial of order $n$. The latter are available from scipy/sympy packages. Additionally we divide th polynomial by $\\sqrt{n!}$ which is the norm of $n$th polynomial and therefore form a orthonormal basis."
     ]
    },
    {
     "cell_type": "code",
     "collapsed": false,
     "input": [
      "import sympy as sym\n",
      "import numpy as np\n",
      "from sympy import oo\n",
      "from sympy import hermite\n",
      "from sympy import factorial\n",
      "\n",
      "\n",
      "def f(z, sigma=1):\n",
      "    return sym.exp(-z**2 / (2 * sigma)) / sym.sqrt(2 * sym.pi * sigma)\n",
      "\n",
      "N = 3\n",
      "\n",
      "z = sym.symbols('z')\n",
      "\n",
      "\n",
      "def hermitehe(n, z):\n",
      "    return 2**(-float(n)/2) \\\n",
      "        * hermite(n, z / sym.sqrt(2)) / sym.sqrt(factorial(n))\n",
      "\n",
      "# Triple correlations of Hermite polynomials\n",
      "e = np.zeros((N, N, N))\n",
      "for i in range(N):\n",
      "    for j in range(N):\n",
      "        for k in range(N):\n",
      "            e[i, j, k] = sym.integrate(\n",
      "                hermitehe(i, z) * hermitehe(j, z) * hermitehe(k, z) * f(z),\n",
      "                (z, -oo, oo))\n"
     ],
     "language": "python",
     "metadata": {},
     "outputs": [],
     "prompt_number": 2
    },
    {
     "cell_type": "heading",
     "level": 2,
     "metadata": {},
     "source": [
      "Formulating the problem in Proteus"
     ]
    },
    {
     "cell_type": "markdown",
     "metadata": {},
     "source": [
      "We will use a conservative formulation which means that we need to define only the mass and the advection function. The canonical form of Proteus equation is:\n",
      "\\begin{equation}\n",
      "\\mathbf{u} = \\left[ u^0,u^1,\\ldots,u^{nc-1} \\right]\n",
      "\\end{equation}\n",
      "\\begin{equation*}\n",
      "m^i_t + \\nabla \\cdot \\left(\\mathbf{f}^i - \\sum_k^{nc-1} \\mathbf{a}^{i,k} \\nabla \\phi^k(\\mathbf{u}) \\right) + r^i + H^i(\\nabla u)= 0 \\qquad \\mbox{for } i=0,\\ldots,nc-1\n",
      "\\end{equation*}\n",
      "\n",
      "- $m$ is \"mass\"\n",
      "- $\\mathbf{f}$ is advection\n",
      "- $\\mathbf{a}$ is diffution\n",
      "- $\\phi$ is potential\n",
      "- $H$ is Hamiltonian\n",
      "- $r$ is reaction\n",
      "                   \n",
      "Our components $u^k=v_k$. The $e_{ijk}$ is symmetrical so all indices can be permuted. I didn't take advantage of it, actually, and I should cut all of my for loops by half.\n",
      "1\\begin{gather}\n",
      "m^k(u) = v_k\\\\\n",
      "f^k(v_0, v_1, ..., v_{N-1}) =\n",
      "\\frac{1}{2} \\sum_{i=0}^{N-1}\\sum_{j=0}^{N - 1} e_{ijk} v_iv_j\n",
      "\\end{gather}\n",
      "\n",
      "I would probably prefer to have it written out as a flux operator but I don't think it's possible at all."
     ]
    },
    {
     "cell_type": "code",
     "collapsed": false,
     "input": [
      "import proteus.default_p as p\n",
      "from proteus.TransportCoefficients import TC_base\n",
      "\n",
      "p.nd = 1\n",
      "p.L = [2 * np.pi]\n",
      "p.nc = N\n",
      "\n",
      "class gPCBurgersEqn(TC_base):\n",
      "    def __init__(self, nu=0.0, nc=3):\n",
      "        advection = {}\n",
      "        diffusion = {}\n",
      "        mass = {}\n",
      "        potential = {}\n",
      "        for k in range(nc):\n",
      "            mass[k] = {k: 'linear'}\n",
      "            diffusion[k] = {k: {k: 'constant'}}\n",
      "            potential[k] = {k: {k: 'u'}}\n",
      "            advection[k] = dict((j, 'nonlinear') for j in range(nc))\n",
      "        TC_base.__init__(\n",
      "            self, nc=nc,\n",
      "            mass=mass,\n",
      "            advection=advection,\n",
      "            diffusion=diffusion,\n",
      "            potential=potential,\n",
      "            reaction={},\n",
      "            hamiltonian={},\n",
      "            variableNames=['v{0}'.format(i) for i in range(nc)]\n",
      "            )\n",
      "        self.nu = nu\n",
      "        self.nc = nc\n",
      "\n",
      "    def evaluate(self, t, c):\n",
      "        for k in range(self.nc):\n",
      "            vk = c[('u', k)]\n",
      "            c[('m', k)][:] = vk\n",
      "            c[('dm', k, k)][:] = 1\n",
      "            c[('a', k, k)][..., 0, 0] = self.nu\n",
      "\n",
      "            c[('f', k)][..., 0] = 0.0\n",
      "            for i in range(self.nc):\n",
      "                vi = c[('u', i)]\n",
      "                for j in range(self.nc):\n",
      "                    vj = c[('u', j)]\n",
      "                    c[('f', k)][..., 0] = c[('f', k)][..., 0] + \\\n",
      "                        0.5 * vi * vj * e[i, j, k]\n",
      "                    c[('df', k, i)][..., 0] = vj * e[i, j, k]\n",
      "\n",
      "\n",
      "p.coefficients = gPCBurgersEqn(nu=1e-6, nc=p.nc)\n",
      "\n"
     ],
     "language": "python",
     "metadata": {},
     "outputs": [],
     "prompt_number": 3
    },
    {
     "cell_type": "markdown",
     "metadata": {},
     "source": [
      "Periodic boundary conditions..."
     ]
    },
    {
     "cell_type": "code",
     "collapsed": false,
     "input": [
      "def emptyBC(x):\n",
      "    return None\n",
      "\n",
      "p.dirichletConditions = dict((i, emptyBC) for i in range(N))\n",
      "p.advectiveFluxBoundaryconditions = dict((i, emptyBC) for i in range(N))\n",
      "p.diffusiveFluxBoundaryConditions = dict((i, {}) for i in range(N))\n",
      "\n",
      "\n",
      "def getPBC(x):\n",
      "    eps = 1.0e-8\n",
      "    if x[0] < eps or x[0] >= p.L[0] - eps:\n",
      "        return np.array([0.0, 0.0, 0.0])\n",
      "\n",
      "p.periodicDirichletConditions = dict((i, getPBC) for i in range(N))\n"
     ],
     "language": "python",
     "metadata": {},
     "outputs": [],
     "prompt_number": 4
    },
    {
     "cell_type": "markdown",
     "metadata": {},
     "source": [
      "The initial condition, mentioned in the introduction, can be written in Proteus as follows."
     ]
    },
    {
     "cell_type": "code",
     "collapsed": false,
     "input": [
      "class vkIC:\n",
      "    def __init__(self, k):\n",
      "        self.k = k\n",
      "\n",
      "    def uOfXT(self, x, t):\n",
      "        if self.k is 0:\n",
      "            return np.sin(x[0])\n",
      "        elif self.k is 1:\n",
      "            return 1.0\n",
      "        else:\n",
      "            return 0.0\n",
      "\n",
      "p.initialConditions = dict((k, vkIC(k=k)) for k in range(N))\n",
      "p.fluxBoundaryConditions = dict((i, 'outFlow') for i in range(N))\n",
      "\n",
      "p.T = 1.0"
     ],
     "language": "python",
     "metadata": {},
     "outputs": [],
     "prompt_number": 5
    },
    {
     "cell_type": "heading",
     "level": 2,
     "metadata": {},
     "source": [
      "Numerical setup"
     ]
    },
    {
     "cell_type": "code",
     "collapsed": false,
     "input": [
      "import proteus.default_n as n\n",
      "from proteus.iproteus import * \n",
      "import proteus as pr\n",
      "from proteus.Archiver import ArchiveFlags\n",
      "archiveFlag = ArchiveFlags.EVERY_USER_STEP\n",
      "Profiling.logLevel = 0\n",
      "Profiling.verbose = True\n",
      "\n",
      "n.timeOrder = 3\n",
      "n.nStagesTime = n.timeOrder\n",
      "\n",
      "n.DT = None\n",
      "n.runCFL = 0.1\n",
      "\n",
      "n.limiterType = pr.TimeIntegration.DGlimiterP2Lagrange1d\n",
      "\n",
      "n.timeIntegration = pr.TimeIntegration.SSPRKPIintegration\n",
      "# stepController = FixedStep\n",
      "n.nSteps = 1000\n",
      "# dt = T/float(nSteps+1)\n",
      "n.stepController = pr.StepControl.Min_dt_RKcontroller\n",
      "n.nDTout = 10\n",
      "n.tnList = [float(k)/n.nSteps*p.T for k in range(n.nSteps + 1)]\n",
      "\n",
      "n.tnList.insert(1, 1e-6)\n",
      "\n",
      "n.femSpaces = dict(\n",
      "    (i, pr.FemTools.DG_AffineQuadraticOnSimplexWithNodalBasis)\n",
      "    for i in range(N))\n",
      "\n",
      "n.elementQuadrature = pr.Quadrature.SimplexGaussQuadrature(p.nd, 4)\n",
      "n.elementBoundaryQuadrature = pr.Quadrature.SimplexGaussQuadrature(p.nd-1, 4)\n",
      "\n",
      "n.nn = 401\n",
      "n.nLevels = 1\n",
      "\n",
      "n.subgridError = None\n",
      "n.massLumping = False\n",
      "\n",
      "n.numericalFluxType = pr.NumericalFlux.RusanovNumericalFlux_Diagonal\n",
      "\n",
      "n.shockCapturing = None\n",
      "n.multilevelNonlinearSolver = n.NLNI\n",
      "# maxNonlinearIts = 100\n",
      "\n",
      "n.usingSSPRKNewton = True\n",
      "n.levelNonlinearSolver = n.SSPRKNewton\n",
      "\n",
      "n.nonlinearSmoother = n.NLGaussSeidel\n",
      "\n",
      "n.fullNewtonFlag = True\n",
      "\n",
      "n.tolFac = 0.01\n",
      "\n",
      "n.nl_atol_res = 1.0e-8\n",
      "\n",
      "n.matrix = n.SparseMatrix\n",
      "\n",
      "n.multilevelLinearSolver = n.LU\n",
      "\n",
      "n.levelLinearSolver = n.LU\n",
      "\n",
      "n.linearSmoother = n.GaussSeidel\n",
      "\n",
      "n.linTolFac = 0.001\n",
      "n.l_atol_res = 0.001 * n.nl_atol_res\n",
      "\n",
      "n.conservativeFlux = None\n",
      "\n",
      "n.checkMass = True\n",
      "\n",
      "n.periodicDirichletConditions = dict((i, getPBC) for i in range(N))\n",
      "n.parallelPeriodic = False\n",
      "n.parallelPartitioningType = n.MeshParallelPartitioningTypes.element\n",
      "n.nLayersOfOverlapForParallel = 0\n"
     ],
     "language": "python",
     "metadata": {},
     "outputs": [],
     "prompt_number": 6
    },
    {
     "cell_type": "code",
     "collapsed": false,
     "input": [
      "from proteus import default_s, default_so\n",
      "\n",
      "p.name = \"gpc\"\n",
      "so = default_so\n",
      "so.name = p.name\n",
      "so.sList = [default_s]\n",
      "so.tnList = n.tnList"
     ],
     "language": "python",
     "metadata": {},
     "outputs": [],
     "prompt_number": 7
    },
    {
     "cell_type": "code",
     "collapsed": false,
     "input": [
      "ns = NumericalSolution.NS_base(so, [p], [n], so.sList, opts)"
     ],
     "language": "python",
     "metadata": {},
     "outputs": [],
     "prompt_number": 8
    },
    {
     "cell_type": "code",
     "collapsed": false,
     "input": [
      "failed = ns.calculateSolution(\"gpcN{0}\".format(N))\n",
      "assert(not failed)"
     ],
     "language": "python",
     "metadata": {},
     "outputs": [
      {
       "output_type": "stream",
       "stream": "stdout",
       "text": [
        "[       7] Setting initial conditions\n",
        "[       7] Starting time stepping\n",
        "[       7] ==============================================================\n",
        "[       7] Solving over interval [ 0.00000e+00, 1.00000e-06]\n",
        "[       7] ==============================================================\n",
        "[       7] ==============================================================\n"
       ]
      },
      {
       "output_type": "stream",
       "stream": "stdout",
       "text": [
        "[       7] Solving over interval [ 1.00000e-06, 1.00000e-03]\n",
        "[       7] ==============================================================\n",
        "[       7] ==============================================================\n"
       ]
      },
      {
       "output_type": "stream",
       "stream": "stdout",
       "text": [
        "[       7] Solving over interval [ 1.00000e-03, 2.00000e-03]\n",
        "[       7] ==============================================================\n",
        "[       7] ==============================================================\n"
       ]
      },
      {
       "output_type": "stream",
       "stream": "stdout",
       "text": [
        "[       7] Solving over interval [ 2.00000e-03, 3.00000e-03]\n",
        "[       7] ==============================================================\n",
        "[       7] ==============================================================\n"
       ]
      },
      {
       "output_type": "stream",
       "stream": "stdout",
       "text": [
        "[       7] Solving over interval [ 3.00000e-03, 4.00000e-03]\n",
        "[       7] ==============================================================\n",
        "[       7] ==============================================================\n"
       ]
      },
      {
       "output_type": "stream",
       "stream": "stdout",
       "text": [
        "[       7] Solving over interval [ 4.00000e-03, 5.00000e-03]\n",
        "[       7] ==============================================================\n",
        "[       7] ==============================================================\n"
       ]
      },
      {
       "output_type": "stream",
       "stream": "stdout",
       "text": [
        "[       7] Solving over interval [ 5.00000e-03, 6.00000e-03]\n",
        "[       7] ==============================================================\n",
        "[       7] ==============================================================\n"
       ]
      },
      {
       "output_type": "stream",
       "stream": "stdout",
       "text": [
        "[       7] Solving over interval [ 6.00000e-03, 7.00000e-03]\n",
        "[       7] ==============================================================\n",
        "[       8] ==============================================================\n"
       ]
      },
      {
       "output_type": "stream",
       "stream": "stdout",
       "text": [
        "[       8] Solving over interval [ 7.00000e-03, 8.00000e-03]\n",
        "[       8] ==============================================================\n",
        "[       8] ==============================================================\n"
       ]
      },
      {
       "output_type": "stream",
       "stream": "stdout",
       "text": [
        "[       8] Solving over interval [ 8.00000e-03, 9.00000e-03]\n",
        "[       8] ==============================================================\n",
        "[       8] ==============================================================\n"
       ]
      },
      {
       "output_type": "stream",
       "stream": "stdout",
       "text": [
        "[       8] Solving over interval [ 9.00000e-03, 1.00000e-02]\n",
        "[       8] ==============================================================\n",
        "[       8] ==============================================================\n"
       ]
      },
      {
       "output_type": "stream",
       "stream": "stdout",
       "text": [
        "[       8] Solving over interval [ 1.00000e-02, 1.10000e-02]\n",
        "[       8] ==============================================================\n",
        "[       8] ==============================================================\n"
       ]
      },
      {
       "output_type": "stream",
       "stream": "stdout",
       "text": [
        "[       8] Solving over interval [ 1.10000e-02, 1.20000e-02]\n",
        "[       8] ==============================================================\n",
        "[       8] ==============================================================\n"
       ]
      },
      {
       "output_type": "stream",
       "stream": "stdout",
       "text": [
        "[       8] Solving over interval [ 1.20000e-02, 1.30000e-02]\n",
        "[       8] ==============================================================\n",
        "[       8] ==============================================================\n"
       ]
      },
      {
       "output_type": "stream",
       "stream": "stdout",
       "text": [
        "[       8] Solving over interval [ 1.30000e-02, 1.40000e-02]\n",
        "[       8] ==============================================================\n",
        "[       8] ==============================================================\n"
       ]
      },
      {
       "output_type": "stream",
       "stream": "stdout",
       "text": [
        "[       8] Solving over interval [ 1.40000e-02, 1.50000e-02]\n",
        "[       8] ==============================================================\n",
        "[       8] ==============================================================\n"
       ]
      },
      {
       "output_type": "stream",
       "stream": "stdout",
       "text": [
        "[       8] Solving over interval [ 1.50000e-02, 1.60000e-02]\n",
        "[       8] ==============================================================\n",
        "[       8] ==============================================================\n"
       ]
      },
      {
       "output_type": "stream",
       "stream": "stdout",
       "text": [
        "[       8] Solving over interval [ 1.60000e-02, 1.70000e-02]\n",
        "[       8] ==============================================================\n",
        "[       8] ==============================================================\n"
       ]
      },
      {
       "output_type": "stream",
       "stream": "stdout",
       "text": [
        "[       8] Solving over interval [ 1.70000e-02, 1.80000e-02]\n",
        "[       8] ==============================================================\n",
        "[       8] ==============================================================\n"
       ]
      },
      {
       "output_type": "stream",
       "stream": "stdout",
       "text": [
        "[       8] Solving over interval [ 1.80000e-02, 1.90000e-02]\n",
        "[       8] ==============================================================\n",
        "[       8] ==============================================================\n"
       ]
      },
      {
       "output_type": "stream",
       "stream": "stdout",
       "text": [
        "[       8] Solving over interval [ 1.90000e-02, 2.00000e-02]\n",
        "[       8] ==============================================================\n",
        "[       8] ==============================================================\n"
       ]
      },
      {
       "output_type": "stream",
       "stream": "stdout",
       "text": [
        "[       8] Solving over interval [ 2.00000e-02, 2.10000e-02]\n",
        "[       8] ==============================================================\n",
        "[       8] ==============================================================\n"
       ]
      },
      {
       "output_type": "stream",
       "stream": "stdout",
       "text": [
        "[       8] Solving over interval [ 2.10000e-02, 2.20000e-02]\n",
        "[       8] ==============================================================\n",
        "[       9] ==============================================================\n"
       ]
      },
      {
       "output_type": "stream",
       "stream": "stdout",
       "text": [
        "[       9] Solving over interval [ 2.20000e-02, 2.30000e-02]\n",
        "[       9] ==============================================================\n",
        "[       9] ==============================================================\n"
       ]
      },
      {
       "output_type": "stream",
       "stream": "stdout",
       "text": [
        "[       9] Solving over interval [ 2.30000e-02, 2.40000e-02]\n",
        "[       9] ==============================================================\n",
        "[       9] ==============================================================\n"
       ]
      },
      {
       "output_type": "stream",
       "stream": "stdout",
       "text": [
        "[       9] Solving over interval [ 2.40000e-02, 2.50000e-02]\n",
        "[       9] ==============================================================\n",
        "[       9] ==============================================================\n"
       ]
      },
      {
       "output_type": "stream",
       "stream": "stdout",
       "text": [
        "[       9] Solving over interval [ 2.50000e-02, 2.60000e-02]\n",
        "[       9] ==============================================================\n",
        "[       9] ==============================================================\n"
       ]
      },
      {
       "output_type": "stream",
       "stream": "stdout",
       "text": [
        "[       9] Solving over interval [ 2.60000e-02, 2.70000e-02]\n",
        "[       9] ==============================================================\n",
        "[       9] ==============================================================\n"
       ]
      },
      {
       "output_type": "stream",
       "stream": "stdout",
       "text": [
        "[       9] Solving over interval [ 2.70000e-02, 2.80000e-02]\n",
        "[       9] ==============================================================\n",
        "[       9] ==============================================================\n"
       ]
      },
      {
       "output_type": "stream",
       "stream": "stdout",
       "text": [
        "[       9] Solving over interval [ 2.80000e-02, 2.90000e-02]\n",
        "[       9] ==============================================================\n",
        "[       9] ==============================================================\n"
       ]
      },
      {
       "output_type": "stream",
       "stream": "stdout",
       "text": [
        "[       9] Solving over interval [ 2.90000e-02, 3.00000e-02]\n",
        "[       9] ==============================================================\n",
        "[       9] ==============================================================\n"
       ]
      },
      {
       "output_type": "stream",
       "stream": "stdout",
       "text": [
        "[       9] Solving over interval [ 3.00000e-02, 3.10000e-02]\n",
        "[       9] ==============================================================\n",
        "[       9] ==============================================================\n"
       ]
      },
      {
       "output_type": "stream",
       "stream": "stdout",
       "text": [
        "[       9] Solving over interval [ 3.10000e-02, 3.20000e-02]\n",
        "[       9] ==============================================================\n",
        "[       9] ==============================================================\n"
       ]
      },
      {
       "output_type": "stream",
       "stream": "stdout",
       "text": [
        "[       9] Solving over interval [ 3.20000e-02, 3.30000e-02]\n",
        "[       9] ==============================================================\n",
        "[       9] ==============================================================\n"
       ]
      },
      {
       "output_type": "stream",
       "stream": "stdout",
       "text": [
        "[       9] Solving over interval [ 3.30000e-02, 3.40000e-02]\n",
        "[       9] ==============================================================\n",
        "[       9] ==============================================================\n"
       ]
      },
      {
       "output_type": "stream",
       "stream": "stdout",
       "text": [
        "[       9] Solving over interval [ 3.40000e-02, 3.50000e-02]\n",
        "[       9] ==============================================================\n",
        "[      10] ==============================================================\n"
       ]
      },
      {
       "output_type": "stream",
       "stream": "stdout",
       "text": [
        "[      10] Solving over interval [ 3.50000e-02, 3.60000e-02]\n",
        "[      10] ==============================================================\n",
        "[      10] ==============================================================\n"
       ]
      },
      {
       "output_type": "stream",
       "stream": "stdout",
       "text": [
        "[      10] Solving over interval [ 3.60000e-02, 3.70000e-02]\n",
        "[      10] ==============================================================\n",
        "[      10] ==============================================================\n"
       ]
      },
      {
       "output_type": "stream",
       "stream": "stdout",
       "text": [
        "[      10] Solving over interval [ 3.70000e-02, 3.80000e-02]\n",
        "[      10] ==============================================================\n",
        "[      10] ==============================================================\n"
       ]
      },
      {
       "output_type": "stream",
       "stream": "stdout",
       "text": [
        "[      10] Solving over interval [ 3.80000e-02, 3.90000e-02]\n",
        "[      10] ==============================================================\n",
        "[      10] ==============================================================\n"
       ]
      },
      {
       "output_type": "stream",
       "stream": "stdout",
       "text": [
        "[      10] Solving over interval [ 3.90000e-02, 4.00000e-02]\n",
        "[      10] ==============================================================\n",
        "[      10] ==============================================================\n"
       ]
      },
      {
       "output_type": "stream",
       "stream": "stdout",
       "text": [
        "[      10] Solving over interval [ 4.00000e-02, 4.10000e-02]\n",
        "[      10] ==============================================================\n",
        "[      10] ==============================================================\n"
       ]
      },
      {
       "output_type": "stream",
       "stream": "stdout",
       "text": [
        "[      10] Solving over interval [ 4.10000e-02, 4.20000e-02]\n",
        "[      10] ==============================================================\n",
        "[      10] ==============================================================\n"
       ]
      },
      {
       "output_type": "stream",
       "stream": "stdout",
       "text": [
        "[      10] Solving over interval [ 4.20000e-02, 4.30000e-02]\n",
        "[      10] ==============================================================\n",
        "[      10] ==============================================================\n"
       ]
      },
      {
       "output_type": "stream",
       "stream": "stdout",
       "text": [
        "[      10] Solving over interval [ 4.30000e-02, 4.40000e-02]\n",
        "[      10] ==============================================================\n",
        "[      10] ==============================================================\n"
       ]
      },
      {
       "output_type": "stream",
       "stream": "stdout",
       "text": [
        "[      10] Solving over interval [ 4.40000e-02, 4.50000e-02]\n",
        "[      10] ==============================================================\n",
        "[      10] ==============================================================\n"
       ]
      },
      {
       "output_type": "stream",
       "stream": "stdout",
       "text": [
        "[      10] Solving over interval [ 4.50000e-02, 4.60000e-02]\n",
        "[      10] ==============================================================\n",
        "[      10] ==============================================================\n"
       ]
      },
      {
       "output_type": "stream",
       "stream": "stdout",
       "text": [
        "[      10] Solving over interval [ 4.60000e-02, 4.70000e-02]\n",
        "[      10] ==============================================================\n",
        "[      11] ==============================================================\n"
       ]
      },
      {
       "output_type": "stream",
       "stream": "stdout",
       "text": [
        "[      11] Solving over interval [ 4.70000e-02, 4.80000e-02]\n",
        "[      11] ==============================================================\n",
        "[      11] ==============================================================\n"
       ]
      },
      {
       "output_type": "stream",
       "stream": "stdout",
       "text": [
        "[      11] Solving over interval [ 4.80000e-02, 4.90000e-02]\n",
        "[      11] ==============================================================\n",
        "[      11] ==============================================================\n"
       ]
      },
      {
       "output_type": "stream",
       "stream": "stdout",
       "text": [
        "[      11] Solving over interval [ 4.90000e-02, 5.00000e-02]\n",
        "[      11] ==============================================================\n",
        "[      11] ==============================================================\n"
       ]
      },
      {
       "output_type": "stream",
       "stream": "stdout",
       "text": [
        "[      11] Solving over interval [ 5.00000e-02, 5.10000e-02]\n",
        "[      11] ==============================================================\n",
        "[      11] ==============================================================\n"
       ]
      },
      {
       "output_type": "stream",
       "stream": "stdout",
       "text": [
        "[      11] Solving over interval [ 5.10000e-02, 5.20000e-02]\n",
        "[      11] ==============================================================\n",
        "[      11] ==============================================================\n"
       ]
      },
      {
       "output_type": "stream",
       "stream": "stdout",
       "text": [
        "[      11] Solving over interval [ 5.20000e-02, 5.30000e-02]\n",
        "[      11] ==============================================================\n",
        "[      11] ==============================================================\n"
       ]
      },
      {
       "output_type": "stream",
       "stream": "stdout",
       "text": [
        "[      11] Solving over interval [ 5.30000e-02, 5.40000e-02]\n",
        "[      11] ==============================================================\n",
        "[      11] ==============================================================\n"
       ]
      },
      {
       "output_type": "stream",
       "stream": "stdout",
       "text": [
        "[      11] Solving over interval [ 5.40000e-02, 5.50000e-02]\n",
        "[      11] ==============================================================\n",
        "[      11] ==============================================================\n"
       ]
      },
      {
       "output_type": "stream",
       "stream": "stdout",
       "text": [
        "[      11] Solving over interval [ 5.50000e-02, 5.60000e-02]\n",
        "[      11] ==============================================================\n",
        "[      11] ==============================================================\n"
       ]
      },
      {
       "output_type": "stream",
       "stream": "stdout",
       "text": [
        "[      11] Solving over interval [ 5.60000e-02, 5.70000e-02]\n",
        "[      11] ==============================================================\n",
        "[      11] ==============================================================\n"
       ]
      },
      {
       "output_type": "stream",
       "stream": "stdout",
       "text": [
        "[      11] Solving over interval [ 5.70000e-02, 5.80000e-02]\n",
        "[      11] ==============================================================\n",
        "[      12] ==============================================================\n"
       ]
      },
      {
       "output_type": "stream",
       "stream": "stdout",
       "text": [
        "[      12] Solving over interval [ 5.80000e-02, 5.90000e-02]\n",
        "[      12] ==============================================================\n",
        "[      12] ==============================================================\n"
       ]
      },
      {
       "output_type": "stream",
       "stream": "stdout",
       "text": [
        "[      12] Solving over interval [ 5.90000e-02, 6.00000e-02]\n",
        "[      12] ==============================================================\n",
        "[      12] ==============================================================\n"
       ]
      },
      {
       "output_type": "stream",
       "stream": "stdout",
       "text": [
        "[      12] Solving over interval [ 6.00000e-02, 6.10000e-02]\n",
        "[      12] ==============================================================\n",
        "[      12] ==============================================================\n"
       ]
      },
      {
       "output_type": "stream",
       "stream": "stdout",
       "text": [
        "[      12] Solving over interval [ 6.10000e-02, 6.20000e-02]\n",
        "[      12] ==============================================================\n",
        "[      12] ==============================================================\n"
       ]
      },
      {
       "output_type": "stream",
       "stream": "stdout",
       "text": [
        "[      12] Solving over interval [ 6.20000e-02, 6.30000e-02]\n",
        "[      12] ==============================================================\n",
        "[      12] ==============================================================\n"
       ]
      },
      {
       "output_type": "stream",
       "stream": "stdout",
       "text": [
        "[      12] Solving over interval [ 6.30000e-02, 6.40000e-02]\n",
        "[      12] ==============================================================\n",
        "[      12] ==============================================================\n"
       ]
      },
      {
       "output_type": "stream",
       "stream": "stdout",
       "text": [
        "[      12] Solving over interval [ 6.40000e-02, 6.50000e-02]\n",
        "[      12] ==============================================================\n",
        "[      12] ==============================================================\n"
       ]
      },
      {
       "output_type": "stream",
       "stream": "stdout",
       "text": [
        "[      12] Solving over interval [ 6.50000e-02, 6.60000e-02]\n",
        "[      12] ==============================================================\n",
        "[      12] ==============================================================\n"
       ]
      },
      {
       "output_type": "stream",
       "stream": "stdout",
       "text": [
        "[      12] Solving over interval [ 6.60000e-02, 6.70000e-02]\n",
        "[      12] ==============================================================\n",
        "[      12] ==============================================================\n"
       ]
      },
      {
       "output_type": "stream",
       "stream": "stdout",
       "text": [
        "[      12] Solving over interval [ 6.70000e-02, 6.80000e-02]\n",
        "[      12] ==============================================================\n",
        "[      13] ==============================================================\n"
       ]
      },
      {
       "output_type": "stream",
       "stream": "stdout",
       "text": [
        "[      13] Solving over interval [ 6.80000e-02, 6.90000e-02]\n",
        "[      13] ==============================================================\n",
        "[      13] ==============================================================\n"
       ]
      },
      {
       "output_type": "stream",
       "stream": "stdout",
       "text": [
        "[      13] Solving over interval [ 6.90000e-02, 7.00000e-02]\n",
        "[      13] ==============================================================\n",
        "[      13] ==============================================================\n"
       ]
      },
      {
       "output_type": "stream",
       "stream": "stdout",
       "text": [
        "[      13] Solving over interval [ 7.00000e-02, 7.10000e-02]\n",
        "[      13] ==============================================================\n",
        "[      13] ==============================================================\n"
       ]
      },
      {
       "output_type": "stream",
       "stream": "stdout",
       "text": [
        "[      13] Solving over interval [ 7.10000e-02, 7.20000e-02]\n",
        "[      13] ==============================================================\n",
        "[      13] ==============================================================\n"
       ]
      },
      {
       "output_type": "stream",
       "stream": "stdout",
       "text": [
        "[      13] Solving over interval [ 7.20000e-02, 7.30000e-02]\n",
        "[      13] ==============================================================\n",
        "[      13] ==============================================================\n"
       ]
      },
      {
       "output_type": "stream",
       "stream": "stdout",
       "text": [
        "[      13] Solving over interval [ 7.30000e-02, 7.40000e-02]\n",
        "[      13] ==============================================================\n",
        "[      13] ==============================================================\n"
       ]
      },
      {
       "output_type": "stream",
       "stream": "stdout",
       "text": [
        "[      13] Solving over interval [ 7.40000e-02, 7.50000e-02]\n",
        "[      13] ==============================================================\n",
        "[      13] ==============================================================\n"
       ]
      },
      {
       "output_type": "stream",
       "stream": "stdout",
       "text": [
        "[      13] Solving over interval [ 7.50000e-02, 7.60000e-02]\n",
        "[      13] ==============================================================\n",
        "[      13] ==============================================================\n"
       ]
      },
      {
       "output_type": "stream",
       "stream": "stdout",
       "text": [
        "[      13] Solving over interval [ 7.60000e-02, 7.70000e-02]\n",
        "[      13] ==============================================================\n",
        "[      14] ==============================================================\n"
       ]
      },
      {
       "output_type": "stream",
       "stream": "stdout",
       "text": [
        "[      14] Solving over interval [ 7.70000e-02, 7.80000e-02]\n",
        "[      14] ==============================================================\n",
        "[      14] ==============================================================\n"
       ]
      },
      {
       "output_type": "stream",
       "stream": "stdout",
       "text": [
        "[      14] Solving over interval [ 7.80000e-02, 7.90000e-02]\n",
        "[      14] ==============================================================\n",
        "[      14] ==============================================================\n"
       ]
      },
      {
       "output_type": "stream",
       "stream": "stdout",
       "text": [
        "[      14] Solving over interval [ 7.90000e-02, 8.00000e-02]\n",
        "[      14] ==============================================================\n",
        "[      14] ==============================================================\n"
       ]
      },
      {
       "output_type": "stream",
       "stream": "stdout",
       "text": [
        "[      14] Solving over interval [ 8.00000e-02, 8.10000e-02]\n",
        "[      14] ==============================================================\n",
        "[      14] ==============================================================\n"
       ]
      },
      {
       "output_type": "stream",
       "stream": "stdout",
       "text": [
        "[      14] Solving over interval [ 8.10000e-02, 8.20000e-02]\n",
        "[      14] ==============================================================\n",
        "[      14] ==============================================================\n"
       ]
      },
      {
       "output_type": "stream",
       "stream": "stdout",
       "text": [
        "[      14] Solving over interval [ 8.20000e-02, 8.30000e-02]\n",
        "[      14] ==============================================================\n",
        "[      14] ==============================================================\n"
       ]
      },
      {
       "output_type": "stream",
       "stream": "stdout",
       "text": [
        "[      14] Solving over interval [ 8.30000e-02, 8.40000e-02]\n",
        "[      14] ==============================================================\n",
        "[      14] ==============================================================\n"
       ]
      },
      {
       "output_type": "stream",
       "stream": "stdout",
       "text": [
        "[      14] Solving over interval [ 8.40000e-02, 8.50000e-02]\n",
        "[      14] ==============================================================\n",
        "[      14] ==============================================================\n"
       ]
      },
      {
       "output_type": "stream",
       "stream": "stdout",
       "text": [
        "[      14] Solving over interval [ 8.50000e-02, 8.60000e-02]\n",
        "[      14] ==============================================================\n",
        "[      14] ==============================================================\n"
       ]
      },
      {
       "output_type": "stream",
       "stream": "stdout",
       "text": [
        "[      14] Solving over interval [ 8.60000e-02, 8.70000e-02]\n",
        "[      14] ==============================================================\n",
        "[      15] ==============================================================\n"
       ]
      },
      {
       "output_type": "stream",
       "stream": "stdout",
       "text": [
        "[      15] Solving over interval [ 8.70000e-02, 8.80000e-02]\n",
        "[      15] ==============================================================\n",
        "[      15] ==============================================================\n"
       ]
      },
      {
       "output_type": "stream",
       "stream": "stdout",
       "text": [
        "[      15] Solving over interval [ 8.80000e-02, 8.90000e-02]\n",
        "[      15] ==============================================================\n",
        "[      15] ==============================================================\n"
       ]
      },
      {
       "output_type": "stream",
       "stream": "stdout",
       "text": [
        "[      15] Solving over interval [ 8.90000e-02, 9.00000e-02]\n",
        "[      15] ==============================================================\n",
        "[      15] ==============================================================\n"
       ]
      },
      {
       "output_type": "stream",
       "stream": "stdout",
       "text": [
        "[      15] Solving over interval [ 9.00000e-02, 9.10000e-02]\n",
        "[      15] ==============================================================\n",
        "[      15] ==============================================================\n"
       ]
      },
      {
       "output_type": "stream",
       "stream": "stdout",
       "text": [
        "[      15] Solving over interval [ 9.10000e-02, 9.20000e-02]\n",
        "[      15] ==============================================================\n",
        "[      15] ==============================================================\n"
       ]
      },
      {
       "output_type": "stream",
       "stream": "stdout",
       "text": [
        "[      15] Solving over interval [ 9.20000e-02, 9.30000e-02]\n",
        "[      15] ==============================================================\n",
        "[      15] ==============================================================\n"
       ]
      },
      {
       "output_type": "stream",
       "stream": "stdout",
       "text": [
        "[      15] Solving over interval [ 9.30000e-02, 9.40000e-02]\n",
        "[      15] ==============================================================\n",
        "[      15] ==============================================================\n"
       ]
      },
      {
       "output_type": "stream",
       "stream": "stdout",
       "text": [
        "[      15] Solving over interval [ 9.40000e-02, 9.50000e-02]\n",
        "[      15] ==============================================================\n",
        "[      16] ==============================================================\n"
       ]
      },
      {
       "output_type": "stream",
       "stream": "stdout",
       "text": [
        "[      16] Solving over interval [ 9.50000e-02, 9.60000e-02]\n",
        "[      16] ==============================================================\n",
        "[      16] ==============================================================\n"
       ]
      },
      {
       "output_type": "stream",
       "stream": "stdout",
       "text": [
        "[      16] Solving over interval [ 9.60000e-02, 9.70000e-02]\n",
        "[      16] ==============================================================\n",
        "[      16] ==============================================================\n"
       ]
      },
      {
       "output_type": "stream",
       "stream": "stdout",
       "text": [
        "[      16] Solving over interval [ 9.70000e-02, 9.80000e-02]\n",
        "[      16] ==============================================================\n",
        "[      16] ==============================================================\n"
       ]
      },
      {
       "output_type": "stream",
       "stream": "stdout",
       "text": [
        "[      16] Solving over interval [ 9.80000e-02, 9.90000e-02]\n",
        "[      16] ==============================================================\n",
        "[      16] ==============================================================\n"
       ]
      },
      {
       "output_type": "stream",
       "stream": "stdout",
       "text": [
        "[      16] Solving over interval [ 9.90000e-02, 1.00000e-01]\n",
        "[      16] ==============================================================\n",
        "[      16] ==============================================================\n"
       ]
      },
      {
       "output_type": "stream",
       "stream": "stdout",
       "text": [
        "[      16] Solving over interval [ 1.00000e-01, 1.01000e-01]\n",
        "[      16] ==============================================================\n",
        "[      16] ==============================================================\n"
       ]
      },
      {
       "output_type": "stream",
       "stream": "stdout",
       "text": [
        "[      16] Solving over interval [ 1.01000e-01, 1.02000e-01]\n",
        "[      16] ==============================================================\n",
        "[      16] ==============================================================\n"
       ]
      },
      {
       "output_type": "stream",
       "stream": "stdout",
       "text": [
        "[      16] Solving over interval [ 1.02000e-01, 1.03000e-01]\n",
        "[      16] ==============================================================\n",
        "[      17] ==============================================================\n"
       ]
      },
      {
       "output_type": "stream",
       "stream": "stdout",
       "text": [
        "[      17] Solving over interval [ 1.03000e-01, 1.04000e-01]\n",
        "[      17] ==============================================================\n",
        "[      17] ==============================================================\n"
       ]
      },
      {
       "output_type": "stream",
       "stream": "stdout",
       "text": [
        "[      17] Solving over interval [ 1.04000e-01, 1.05000e-01]\n",
        "[      17] ==============================================================\n",
        "[      17] ==============================================================\n"
       ]
      },
      {
       "output_type": "stream",
       "stream": "stdout",
       "text": [
        "[      17] Solving over interval [ 1.05000e-01, 1.06000e-01]\n",
        "[      17] ==============================================================\n",
        "[      17] ==============================================================\n"
       ]
      },
      {
       "output_type": "stream",
       "stream": "stdout",
       "text": [
        "[      17] Solving over interval [ 1.06000e-01, 1.07000e-01]\n",
        "[      17] ==============================================================\n",
        "[      17] ==============================================================\n"
       ]
      },
      {
       "output_type": "stream",
       "stream": "stdout",
       "text": [
        "[      17] Solving over interval [ 1.07000e-01, 1.08000e-01]\n",
        "[      17] ==============================================================\n",
        "[      17] ==============================================================\n"
       ]
      },
      {
       "output_type": "stream",
       "stream": "stdout",
       "text": [
        "[      17] Solving over interval [ 1.08000e-01, 1.09000e-01]\n",
        "[      17] ==============================================================\n",
        "[      17] ==============================================================\n"
       ]
      },
      {
       "output_type": "stream",
       "stream": "stdout",
       "text": [
        "[      17] Solving over interval [ 1.09000e-01, 1.10000e-01]\n",
        "[      17] ==============================================================\n",
        "[      17] ==============================================================\n"
       ]
      },
      {
       "output_type": "stream",
       "stream": "stdout",
       "text": [
        "[      17] Solving over interval [ 1.10000e-01, 1.11000e-01]\n",
        "[      17] ==============================================================\n",
        "[      18] ==============================================================\n"
       ]
      },
      {
       "output_type": "stream",
       "stream": "stdout",
       "text": [
        "[      18] Solving over interval [ 1.11000e-01, 1.12000e-01]\n",
        "[      18] ==============================================================\n",
        "[      18] ==============================================================\n"
       ]
      },
      {
       "output_type": "stream",
       "stream": "stdout",
       "text": [
        "[      18] Solving over interval [ 1.12000e-01, 1.13000e-01]\n",
        "[      18] ==============================================================\n",
        "[      18] ==============================================================\n"
       ]
      },
      {
       "output_type": "stream",
       "stream": "stdout",
       "text": [
        "[      18] Solving over interval [ 1.13000e-01, 1.14000e-01]\n",
        "[      18] ==============================================================\n",
        "[      18] ==============================================================\n"
       ]
      },
      {
       "output_type": "stream",
       "stream": "stdout",
       "text": [
        "[      18] Solving over interval [ 1.14000e-01, 1.15000e-01]\n",
        "[      18] ==============================================================\n",
        "[      18] ==============================================================\n"
       ]
      },
      {
       "output_type": "stream",
       "stream": "stdout",
       "text": [
        "[      18] Solving over interval [ 1.15000e-01, 1.16000e-01]\n",
        "[      18] ==============================================================\n",
        "[      18] ==============================================================\n"
       ]
      },
      {
       "output_type": "stream",
       "stream": "stdout",
       "text": [
        "[      18] Solving over interval [ 1.16000e-01, 1.17000e-01]\n",
        "[      18] ==============================================================\n",
        "[      18] ==============================================================\n"
       ]
      },
      {
       "output_type": "stream",
       "stream": "stdout",
       "text": [
        "[      18] Solving over interval [ 1.17000e-01, 1.18000e-01]\n",
        "[      18] ==============================================================\n",
        "[      18] ==============================================================\n"
       ]
      },
      {
       "output_type": "stream",
       "stream": "stdout",
       "text": [
        "[      18] Solving over interval [ 1.18000e-01, 1.19000e-01]\n",
        "[      18] ==============================================================\n",
        "[      19] ==============================================================\n"
       ]
      },
      {
       "output_type": "stream",
       "stream": "stdout",
       "text": [
        "[      19] Solving over interval [ 1.19000e-01, 1.20000e-01]\n",
        "[      19] ==============================================================\n",
        "[      19] ==============================================================\n"
       ]
      },
      {
       "output_type": "stream",
       "stream": "stdout",
       "text": [
        "[      19] Solving over interval [ 1.20000e-01, 1.21000e-01]\n",
        "[      19] ==============================================================\n",
        "[      19] ==============================================================\n"
       ]
      },
      {
       "output_type": "stream",
       "stream": "stdout",
       "text": [
        "[      19] Solving over interval [ 1.21000e-01, 1.22000e-01]\n",
        "[      19] ==============================================================\n",
        "[      19] ==============================================================\n"
       ]
      },
      {
       "output_type": "stream",
       "stream": "stdout",
       "text": [
        "[      19] Solving over interval [ 1.22000e-01, 1.23000e-01]\n",
        "[      19] ==============================================================\n",
        "[      19] ==============================================================\n"
       ]
      },
      {
       "output_type": "stream",
       "stream": "stdout",
       "text": [
        "[      19] Solving over interval [ 1.23000e-01, 1.24000e-01]\n",
        "[      19] ==============================================================\n",
        "[      19] ==============================================================\n"
       ]
      },
      {
       "output_type": "stream",
       "stream": "stdout",
       "text": [
        "[      19] Solving over interval [ 1.24000e-01, 1.25000e-01]\n",
        "[      19] ==============================================================\n",
        "[      19] ==============================================================\n"
       ]
      },
      {
       "output_type": "stream",
       "stream": "stdout",
       "text": [
        "[      19] Solving over interval [ 1.25000e-01, 1.26000e-01]\n",
        "[      19] ==============================================================\n",
        "[      20] ==============================================================\n"
       ]
      },
      {
       "output_type": "stream",
       "stream": "stdout",
       "text": [
        "[      20] Solving over interval [ 1.26000e-01, 1.27000e-01]\n",
        "[      20] ==============================================================\n",
        "[      20] ==============================================================\n"
       ]
      },
      {
       "output_type": "stream",
       "stream": "stdout",
       "text": [
        "[      20] Solving over interval [ 1.27000e-01, 1.28000e-01]\n",
        "[      20] ==============================================================\n",
        "[      20] ==============================================================\n"
       ]
      },
      {
       "output_type": "stream",
       "stream": "stdout",
       "text": [
        "[      20] Solving over interval [ 1.28000e-01, 1.29000e-01]\n",
        "[      20] ==============================================================\n",
        "[      20] ==============================================================\n"
       ]
      },
      {
       "output_type": "stream",
       "stream": "stdout",
       "text": [
        "[      20] Solving over interval [ 1.29000e-01, 1.30000e-01]\n",
        "[      20] ==============================================================\n",
        "[      20] ==============================================================\n"
       ]
      },
      {
       "output_type": "stream",
       "stream": "stdout",
       "text": [
        "[      20] Solving over interval [ 1.30000e-01, 1.31000e-01]\n",
        "[      20] ==============================================================\n",
        "[      20] ==============================================================\n"
       ]
      },
      {
       "output_type": "stream",
       "stream": "stdout",
       "text": [
        "[      20] Solving over interval [ 1.31000e-01, 1.32000e-01]\n",
        "[      20] ==============================================================\n",
        "[      20] ==============================================================\n"
       ]
      },
      {
       "output_type": "stream",
       "stream": "stdout",
       "text": [
        "[      20] Solving over interval [ 1.32000e-01, 1.33000e-01]\n",
        "[      20] ==============================================================\n",
        "[      20] ==============================================================\n"
       ]
      },
      {
       "output_type": "stream",
       "stream": "stdout",
       "text": [
        "[      20] Solving over interval [ 1.33000e-01, 1.34000e-01]\n",
        "[      20] ==============================================================\n",
        "[      21] ==============================================================\n"
       ]
      },
      {
       "output_type": "stream",
       "stream": "stdout",
       "text": [
        "[      21] Solving over interval [ 1.34000e-01, 1.35000e-01]\n",
        "[      21] ==============================================================\n",
        "[      21] ==============================================================\n"
       ]
      },
      {
       "output_type": "stream",
       "stream": "stdout",
       "text": [
        "[      21] Solving over interval [ 1.35000e-01, 1.36000e-01]\n",
        "[      21] ==============================================================\n",
        "[      21] ==============================================================\n"
       ]
      },
      {
       "output_type": "stream",
       "stream": "stdout",
       "text": [
        "[      21] Solving over interval [ 1.36000e-01, 1.37000e-01]\n",
        "[      21] ==============================================================\n",
        "[      21] ==============================================================\n"
       ]
      },
      {
       "output_type": "stream",
       "stream": "stdout",
       "text": [
        "[      21] Solving over interval [ 1.37000e-01, 1.38000e-01]\n",
        "[      21] ==============================================================\n",
        "[      21] ==============================================================\n"
       ]
      },
      {
       "output_type": "stream",
       "stream": "stdout",
       "text": [
        "[      21] Solving over interval [ 1.38000e-01, 1.39000e-01]\n",
        "[      21] ==============================================================\n",
        "[      21] ==============================================================\n"
       ]
      },
      {
       "output_type": "stream",
       "stream": "stdout",
       "text": [
        "[      21] Solving over interval [ 1.39000e-01, 1.40000e-01]\n",
        "[      21] ==============================================================\n",
        "[      21] ==============================================================\n"
       ]
      },
      {
       "output_type": "stream",
       "stream": "stdout",
       "text": [
        "[      21] Solving over interval [ 1.40000e-01, 1.41000e-01]\n",
        "[      21] ==============================================================\n",
        "[      22] ==============================================================\n"
       ]
      },
      {
       "output_type": "stream",
       "stream": "stdout",
       "text": [
        "[      22] Solving over interval [ 1.41000e-01, 1.42000e-01]\n",
        "[      22] ==============================================================\n",
        "[      22] ==============================================================\n"
       ]
      },
      {
       "output_type": "stream",
       "stream": "stdout",
       "text": [
        "[      22] Solving over interval [ 1.42000e-01, 1.43000e-01]\n",
        "[      22] ==============================================================\n",
        "[      22] ==============================================================\n"
       ]
      },
      {
       "output_type": "stream",
       "stream": "stdout",
       "text": [
        "[      22] Solving over interval [ 1.43000e-01, 1.44000e-01]\n",
        "[      22] ==============================================================\n",
        "[      22] ==============================================================\n"
       ]
      },
      {
       "output_type": "stream",
       "stream": "stdout",
       "text": [
        "[      22] Solving over interval [ 1.44000e-01, 1.45000e-01]\n",
        "[      22] ==============================================================\n",
        "[      22] ==============================================================\n"
       ]
      },
      {
       "output_type": "stream",
       "stream": "stdout",
       "text": [
        "[      22] Solving over interval [ 1.45000e-01, 1.46000e-01]\n",
        "[      22] ==============================================================\n",
        "[      22] ==============================================================\n"
       ]
      },
      {
       "output_type": "stream",
       "stream": "stdout",
       "text": [
        "[      22] Solving over interval [ 1.46000e-01, 1.47000e-01]\n",
        "[      22] ==============================================================\n",
        "[      23] ==============================================================\n"
       ]
      },
      {
       "output_type": "stream",
       "stream": "stdout",
       "text": [
        "[      23] Solving over interval [ 1.47000e-01, 1.48000e-01]\n",
        "[      23] ==============================================================\n",
        "[      23] ==============================================================\n"
       ]
      },
      {
       "output_type": "stream",
       "stream": "stdout",
       "text": [
        "[      23] Solving over interval [ 1.48000e-01, 1.49000e-01]\n",
        "[      23] ==============================================================\n",
        "[      23] ==============================================================\n"
       ]
      },
      {
       "output_type": "stream",
       "stream": "stdout",
       "text": [
        "[      23] Solving over interval [ 1.49000e-01, 1.50000e-01]\n",
        "[      23] ==============================================================\n",
        "[      23] ==============================================================\n"
       ]
      },
      {
       "output_type": "stream",
       "stream": "stdout",
       "text": [
        "[      23] Solving over interval [ 1.50000e-01, 1.51000e-01]\n",
        "[      23] ==============================================================\n",
        "[      23] ==============================================================\n"
       ]
      },
      {
       "output_type": "stream",
       "stream": "stdout",
       "text": [
        "[      23] Solving over interval [ 1.51000e-01, 1.52000e-01]\n",
        "[      23] ==============================================================\n",
        "[      23] ==============================================================\n"
       ]
      },
      {
       "output_type": "stream",
       "stream": "stdout",
       "text": [
        "[      23] Solving over interval [ 1.52000e-01, 1.53000e-01]\n",
        "[      23] ==============================================================\n",
        "[      23] ==============================================================\n"
       ]
      },
      {
       "output_type": "stream",
       "stream": "stdout",
       "text": [
        "[      23] Solving over interval [ 1.53000e-01, 1.54000e-01]\n",
        "[      23] ==============================================================\n",
        "[      24] ==============================================================\n"
       ]
      },
      {
       "output_type": "stream",
       "stream": "stdout",
       "text": [
        "[      24] Solving over interval [ 1.54000e-01, 1.55000e-01]\n",
        "[      24] ==============================================================\n",
        "[      24] ==============================================================\n"
       ]
      },
      {
       "output_type": "stream",
       "stream": "stdout",
       "text": [
        "[      24] Solving over interval [ 1.55000e-01, 1.56000e-01]\n",
        "[      24] ==============================================================\n",
        "[      24] ==============================================================\n"
       ]
      },
      {
       "output_type": "stream",
       "stream": "stdout",
       "text": [
        "[      24] Solving over interval [ 1.56000e-01, 1.57000e-01]\n",
        "[      24] ==============================================================\n",
        "[      24] ==============================================================\n"
       ]
      },
      {
       "output_type": "stream",
       "stream": "stdout",
       "text": [
        "[      24] Solving over interval [ 1.57000e-01, 1.58000e-01]\n",
        "[      24] ==============================================================\n",
        "[      24] ==============================================================\n"
       ]
      },
      {
       "output_type": "stream",
       "stream": "stdout",
       "text": [
        "[      24] Solving over interval [ 1.58000e-01, 1.59000e-01]\n",
        "[      24] ==============================================================\n",
        "[      24] ==============================================================\n"
       ]
      },
      {
       "output_type": "stream",
       "stream": "stdout",
       "text": [
        "[      24] Solving over interval [ 1.59000e-01, 1.60000e-01]\n",
        "[      24] ==============================================================\n",
        "[      24] ==============================================================\n"
       ]
      },
      {
       "output_type": "stream",
       "stream": "stdout",
       "text": [
        "[      24] Solving over interval [ 1.60000e-01, 1.61000e-01]\n",
        "[      24] ==============================================================\n",
        "[      25] ==============================================================\n"
       ]
      },
      {
       "output_type": "stream",
       "stream": "stdout",
       "text": [
        "[      25] Solving over interval [ 1.61000e-01, 1.62000e-01]\n",
        "[      25] ==============================================================\n",
        "[      25] ==============================================================\n"
       ]
      },
      {
       "output_type": "stream",
       "stream": "stdout",
       "text": [
        "[      25] Solving over interval [ 1.62000e-01, 1.63000e-01]\n",
        "[      25] ==============================================================\n",
        "[      25] ==============================================================\n"
       ]
      },
      {
       "output_type": "stream",
       "stream": "stdout",
       "text": [
        "[      25] Solving over interval [ 1.63000e-01, 1.64000e-01]\n",
        "[      25] ==============================================================\n",
        "[      25] ==============================================================\n"
       ]
      },
      {
       "output_type": "stream",
       "stream": "stdout",
       "text": [
        "[      25] Solving over interval [ 1.64000e-01, 1.65000e-01]\n",
        "[      25] ==============================================================\n",
        "[      25] ==============================================================\n"
       ]
      },
      {
       "output_type": "stream",
       "stream": "stdout",
       "text": [
        "[      25] Solving over interval [ 1.65000e-01, 1.66000e-01]\n",
        "[      25] ==============================================================\n",
        "[      25] ==============================================================\n"
       ]
      },
      {
       "output_type": "stream",
       "stream": "stdout",
       "text": [
        "[      25] Solving over interval [ 1.66000e-01, 1.67000e-01]\n",
        "[      25] ==============================================================\n",
        "[      26] ==============================================================\n"
       ]
      },
      {
       "output_type": "stream",
       "stream": "stdout",
       "text": [
        "[      26] Solving over interval [ 1.67000e-01, 1.68000e-01]\n",
        "[      26] ==============================================================\n",
        "[      26] ==============================================================\n"
       ]
      },
      {
       "output_type": "stream",
       "stream": "stdout",
       "text": [
        "[      26] Solving over interval [ 1.68000e-01, 1.69000e-01]\n",
        "[      26] ==============================================================\n",
        "[      26] ==============================================================\n"
       ]
      },
      {
       "output_type": "stream",
       "stream": "stdout",
       "text": [
        "[      26] Solving over interval [ 1.69000e-01, 1.70000e-01]\n",
        "[      26] ==============================================================\n",
        "[      26] ==============================================================\n"
       ]
      },
      {
       "output_type": "stream",
       "stream": "stdout",
       "text": [
        "[      26] Solving over interval [ 1.70000e-01, 1.71000e-01]\n",
        "[      26] ==============================================================\n",
        "[      26] ==============================================================\n"
       ]
      },
      {
       "output_type": "stream",
       "stream": "stdout",
       "text": [
        "[      26] Solving over interval [ 1.71000e-01, 1.72000e-01]\n",
        "[      26] ==============================================================\n",
        "[      26] ==============================================================\n"
       ]
      },
      {
       "output_type": "stream",
       "stream": "stdout",
       "text": [
        "[      26] Solving over interval [ 1.72000e-01, 1.73000e-01]\n",
        "[      26] ==============================================================\n",
        "[      27] ==============================================================\n"
       ]
      },
      {
       "output_type": "stream",
       "stream": "stdout",
       "text": [
        "[      27] Solving over interval [ 1.73000e-01, 1.74000e-01]\n",
        "[      27] ==============================================================\n",
        "[      27] ==============================================================\n"
       ]
      },
      {
       "output_type": "stream",
       "stream": "stdout",
       "text": [
        "[      27] Solving over interval [ 1.74000e-01, 1.75000e-01]\n",
        "[      27] ==============================================================\n",
        "[      27] ==============================================================\n"
       ]
      },
      {
       "output_type": "stream",
       "stream": "stdout",
       "text": [
        "[      27] Solving over interval [ 1.75000e-01, 1.76000e-01]\n",
        "[      27] ==============================================================\n",
        "[      27] ==============================================================\n"
       ]
      },
      {
       "output_type": "stream",
       "stream": "stdout",
       "text": [
        "[      27] Solving over interval [ 1.76000e-01, 1.77000e-01]\n",
        "[      27] ==============================================================\n",
        "[      27] ==============================================================\n"
       ]
      },
      {
       "output_type": "stream",
       "stream": "stdout",
       "text": [
        "[      27] Solving over interval [ 1.77000e-01, 1.78000e-01]\n",
        "[      27] ==============================================================\n",
        "[      27] ==============================================================\n"
       ]
      },
      {
       "output_type": "stream",
       "stream": "stdout",
       "text": [
        "[      27] Solving over interval [ 1.78000e-01, 1.79000e-01]\n",
        "[      27] ==============================================================\n",
        "[      28] ==============================================================\n"
       ]
      },
      {
       "output_type": "stream",
       "stream": "stdout",
       "text": [
        "[      28] Solving over interval [ 1.79000e-01, 1.80000e-01]\n",
        "[      28] ==============================================================\n",
        "[      28] ==============================================================\n"
       ]
      },
      {
       "output_type": "stream",
       "stream": "stdout",
       "text": [
        "[      28] Solving over interval [ 1.80000e-01, 1.81000e-01]\n",
        "[      28] ==============================================================\n",
        "[      28] ==============================================================\n"
       ]
      },
      {
       "output_type": "stream",
       "stream": "stdout",
       "text": [
        "[      28] Solving over interval [ 1.81000e-01, 1.82000e-01]\n",
        "[      28] ==============================================================\n",
        "[      28] ==============================================================\n"
       ]
      },
      {
       "output_type": "stream",
       "stream": "stdout",
       "text": [
        "[      28] Solving over interval [ 1.82000e-01, 1.83000e-01]\n",
        "[      28] ==============================================================\n",
        "[      28] ==============================================================\n"
       ]
      },
      {
       "output_type": "stream",
       "stream": "stdout",
       "text": [
        "[      28] Solving over interval [ 1.83000e-01, 1.84000e-01]\n",
        "[      28] ==============================================================\n",
        "[      28] ==============================================================\n"
       ]
      },
      {
       "output_type": "stream",
       "stream": "stdout",
       "text": [
        "[      28] Solving over interval [ 1.84000e-01, 1.85000e-01]\n",
        "[      28] ==============================================================\n",
        "[      29] ==============================================================\n"
       ]
      },
      {
       "output_type": "stream",
       "stream": "stdout",
       "text": [
        "[      29] Solving over interval [ 1.85000e-01, 1.86000e-01]\n",
        "[      29] ==============================================================\n",
        "[      29] ==============================================================\n"
       ]
      },
      {
       "output_type": "stream",
       "stream": "stdout",
       "text": [
        "[      29] Solving over interval [ 1.86000e-01, 1.87000e-01]\n",
        "[      29] ==============================================================\n",
        "[      29] ==============================================================\n"
       ]
      },
      {
       "output_type": "stream",
       "stream": "stdout",
       "text": [
        "[      29] Solving over interval [ 1.87000e-01, 1.88000e-01]\n",
        "[      29] ==============================================================\n",
        "[      29] ==============================================================\n"
       ]
      },
      {
       "output_type": "stream",
       "stream": "stdout",
       "text": [
        "[      29] Solving over interval [ 1.88000e-01, 1.89000e-01]\n",
        "[      29] ==============================================================\n",
        "[      29] ==============================================================\n"
       ]
      },
      {
       "output_type": "stream",
       "stream": "stdout",
       "text": [
        "[      29] Solving over interval [ 1.89000e-01, 1.90000e-01]\n",
        "[      29] ==============================================================\n",
        "[      29] ==============================================================\n"
       ]
      },
      {
       "output_type": "stream",
       "stream": "stdout",
       "text": [
        "[      29] Solving over interval [ 1.90000e-01, 1.91000e-01]\n",
        "[      29] ==============================================================\n",
        "[      30] ==============================================================\n"
       ]
      },
      {
       "output_type": "stream",
       "stream": "stdout",
       "text": [
        "[      30] Solving over interval [ 1.91000e-01, 1.92000e-01]\n",
        "[      30] ==============================================================\n",
        "[      30] ==============================================================\n"
       ]
      },
      {
       "output_type": "stream",
       "stream": "stdout",
       "text": [
        "[      30] Solving over interval [ 1.92000e-01, 1.93000e-01]\n",
        "[      30] ==============================================================\n",
        "[      30] ==============================================================\n"
       ]
      },
      {
       "output_type": "stream",
       "stream": "stdout",
       "text": [
        "[      30] Solving over interval [ 1.93000e-01, 1.94000e-01]\n",
        "[      30] ==============================================================\n",
        "[      30] ==============================================================\n"
       ]
      },
      {
       "output_type": "stream",
       "stream": "stdout",
       "text": [
        "[      30] Solving over interval [ 1.94000e-01, 1.95000e-01]\n",
        "[      30] ==============================================================\n",
        "[      30] ==============================================================\n"
       ]
      },
      {
       "output_type": "stream",
       "stream": "stdout",
       "text": [
        "[      30] Solving over interval [ 1.95000e-01, 1.96000e-01]\n",
        "[      30] ==============================================================\n",
        "[      30] ==============================================================\n"
       ]
      },
      {
       "output_type": "stream",
       "stream": "stdout",
       "text": [
        "[      30] Solving over interval [ 1.96000e-01, 1.97000e-01]\n",
        "[      30] ==============================================================\n",
        "[      31] ==============================================================\n"
       ]
      },
      {
       "output_type": "stream",
       "stream": "stdout",
       "text": [
        "[      31] Solving over interval [ 1.97000e-01, 1.98000e-01]\n",
        "[      31] ==============================================================\n",
        "[      31] ==============================================================\n"
       ]
      },
      {
       "output_type": "stream",
       "stream": "stdout",
       "text": [
        "[      31] Solving over interval [ 1.98000e-01, 1.99000e-01]\n",
        "[      31] ==============================================================\n",
        "[      31] ==============================================================\n"
       ]
      },
      {
       "output_type": "stream",
       "stream": "stdout",
       "text": [
        "[      31] Solving over interval [ 1.99000e-01, 2.00000e-01]\n",
        "[      31] ==============================================================\n",
        "[      31] ==============================================================\n"
       ]
      },
      {
       "output_type": "stream",
       "stream": "stdout",
       "text": [
        "[      31] Solving over interval [ 2.00000e-01, 2.01000e-01]\n",
        "[      31] ==============================================================\n",
        "[      31] ==============================================================\n"
       ]
      },
      {
       "output_type": "stream",
       "stream": "stdout",
       "text": [
        "[      31] Solving over interval [ 2.01000e-01, 2.02000e-01]\n",
        "[      31] ==============================================================\n",
        "[      31] ==============================================================\n"
       ]
      },
      {
       "output_type": "stream",
       "stream": "stdout",
       "text": [
        "[      31] Solving over interval [ 2.02000e-01, 2.03000e-01]\n",
        "[      31] ==============================================================\n",
        "[      32] ==============================================================\n"
       ]
      },
      {
       "output_type": "stream",
       "stream": "stdout",
       "text": [
        "[      32] Solving over interval [ 2.03000e-01, 2.04000e-01]\n",
        "[      32] ==============================================================\n",
        "[      32] ==============================================================\n"
       ]
      },
      {
       "output_type": "stream",
       "stream": "stdout",
       "text": [
        "[      32] Solving over interval [ 2.04000e-01, 2.05000e-01]\n",
        "[      32] ==============================================================\n",
        "[      32] ==============================================================\n"
       ]
      },
      {
       "output_type": "stream",
       "stream": "stdout",
       "text": [
        "[      32] Solving over interval [ 2.05000e-01, 2.06000e-01]\n",
        "[      32] ==============================================================\n",
        "[      32] ==============================================================\n"
       ]
      },
      {
       "output_type": "stream",
       "stream": "stdout",
       "text": [
        "[      32] Solving over interval [ 2.06000e-01, 2.07000e-01]\n",
        "[      32] ==============================================================\n",
        "[      32] ==============================================================\n"
       ]
      },
      {
       "output_type": "stream",
       "stream": "stdout",
       "text": [
        "[      32] Solving over interval [ 2.07000e-01, 2.08000e-01]\n",
        "[      32] ==============================================================\n",
        "[      33] ==============================================================\n"
       ]
      },
      {
       "output_type": "stream",
       "stream": "stdout",
       "text": [
        "[      33] Solving over interval [ 2.08000e-01, 2.09000e-01]\n",
        "[      33] ==============================================================\n",
        "[      33] ==============================================================\n"
       ]
      },
      {
       "output_type": "stream",
       "stream": "stdout",
       "text": [
        "[      33] Solving over interval [ 2.09000e-01, 2.10000e-01]\n",
        "[      33] ==============================================================\n",
        "[      33] ==============================================================\n"
       ]
      },
      {
       "output_type": "stream",
       "stream": "stdout",
       "text": [
        "[      33] Solving over interval [ 2.10000e-01, 2.11000e-01]\n",
        "[      33] ==============================================================\n",
        "[      33] ==============================================================\n"
       ]
      },
      {
       "output_type": "stream",
       "stream": "stdout",
       "text": [
        "[      33] Solving over interval [ 2.11000e-01, 2.12000e-01]\n",
        "[      33] ==============================================================\n",
        "[      33] ==============================================================\n"
       ]
      },
      {
       "output_type": "stream",
       "stream": "stdout",
       "text": [
        "[      33] Solving over interval [ 2.12000e-01, 2.13000e-01]\n",
        "[      33] ==============================================================\n",
        "[      33] ==============================================================\n"
       ]
      },
      {
       "output_type": "stream",
       "stream": "stdout",
       "text": [
        "[      33] Solving over interval [ 2.13000e-01, 2.14000e-01]\n",
        "[      33] ==============================================================\n",
        "[      34] ==============================================================\n"
       ]
      },
      {
       "output_type": "stream",
       "stream": "stdout",
       "text": [
        "[      34] Solving over interval [ 2.14000e-01, 2.15000e-01]\n",
        "[      34] ==============================================================\n",
        "[      34] ==============================================================\n"
       ]
      },
      {
       "output_type": "stream",
       "stream": "stdout",
       "text": [
        "[      34] Solving over interval [ 2.15000e-01, 2.16000e-01]\n",
        "[      34] ==============================================================\n",
        "[      34] ==============================================================\n"
       ]
      },
      {
       "output_type": "stream",
       "stream": "stdout",
       "text": [
        "[      34] Solving over interval [ 2.16000e-01, 2.17000e-01]\n",
        "[      34] ==============================================================\n",
        "[      34] ==============================================================\n"
       ]
      },
      {
       "output_type": "stream",
       "stream": "stdout",
       "text": [
        "[      34] Solving over interval [ 2.17000e-01, 2.18000e-01]\n",
        "[      34] ==============================================================\n",
        "[      34] ==============================================================\n"
       ]
      },
      {
       "output_type": "stream",
       "stream": "stdout",
       "text": [
        "[      34] Solving over interval [ 2.18000e-01, 2.19000e-01]\n",
        "[      34] ==============================================================\n",
        "[      35] ==============================================================\n"
       ]
      },
      {
       "output_type": "stream",
       "stream": "stdout",
       "text": [
        "[      35] Solving over interval [ 2.19000e-01, 2.20000e-01]\n",
        "[      35] ==============================================================\n",
        "[      35] ==============================================================\n"
       ]
      },
      {
       "output_type": "stream",
       "stream": "stdout",
       "text": [
        "[      35] Solving over interval [ 2.20000e-01, 2.21000e-01]\n",
        "[      35] ==============================================================\n",
        "[      35] ==============================================================\n"
       ]
      },
      {
       "output_type": "stream",
       "stream": "stdout",
       "text": [
        "[      35] Solving over interval [ 2.21000e-01, 2.22000e-01]\n",
        "[      35] ==============================================================\n",
        "[      35] ==============================================================\n"
       ]
      },
      {
       "output_type": "stream",
       "stream": "stdout",
       "text": [
        "[      35] Solving over interval [ 2.22000e-01, 2.23000e-01]\n",
        "[      35] ==============================================================\n",
        "[      35] ==============================================================\n"
       ]
      },
      {
       "output_type": "stream",
       "stream": "stdout",
       "text": [
        "[      35] Solving over interval [ 2.23000e-01, 2.24000e-01]\n",
        "[      35] ==============================================================\n",
        "[      36] ==============================================================\n"
       ]
      },
      {
       "output_type": "stream",
       "stream": "stdout",
       "text": [
        "[      36] Solving over interval [ 2.24000e-01, 2.25000e-01]\n",
        "[      36] ==============================================================\n",
        "[      36] ==============================================================\n"
       ]
      },
      {
       "output_type": "stream",
       "stream": "stdout",
       "text": [
        "[      36] Solving over interval [ 2.25000e-01, 2.26000e-01]\n",
        "[      36] ==============================================================\n",
        "[      36] ==============================================================\n"
       ]
      },
      {
       "output_type": "stream",
       "stream": "stdout",
       "text": [
        "[      36] Solving over interval [ 2.26000e-01, 2.27000e-01]\n",
        "[      36] ==============================================================\n",
        "[      36] ==============================================================\n"
       ]
      },
      {
       "output_type": "stream",
       "stream": "stdout",
       "text": [
        "[      36] Solving over interval [ 2.27000e-01, 2.28000e-01]\n",
        "[      36] ==============================================================\n",
        "[      36] ==============================================================\n"
       ]
      },
      {
       "output_type": "stream",
       "stream": "stdout",
       "text": [
        "[      36] Solving over interval [ 2.28000e-01, 2.29000e-01]\n",
        "[      36] ==============================================================\n",
        "[      37] ==============================================================\n"
       ]
      },
      {
       "output_type": "stream",
       "stream": "stdout",
       "text": [
        "[      37] Solving over interval [ 2.29000e-01, 2.30000e-01]\n",
        "[      37] ==============================================================\n",
        "[      37] ==============================================================\n"
       ]
      },
      {
       "output_type": "stream",
       "stream": "stdout",
       "text": [
        "[      37] Solving over interval [ 2.30000e-01, 2.31000e-01]\n",
        "[      37] ==============================================================\n",
        "[      37] ==============================================================\n"
       ]
      },
      {
       "output_type": "stream",
       "stream": "stdout",
       "text": [
        "[      37] Solving over interval [ 2.31000e-01, 2.32000e-01]\n",
        "[      37] ==============================================================\n",
        "[      37] ==============================================================\n"
       ]
      },
      {
       "output_type": "stream",
       "stream": "stdout",
       "text": [
        "[      37] Solving over interval [ 2.32000e-01, 2.33000e-01]\n",
        "[      37] ==============================================================\n",
        "[      37] ==============================================================\n"
       ]
      },
      {
       "output_type": "stream",
       "stream": "stdout",
       "text": [
        "[      37] Solving over interval [ 2.33000e-01, 2.34000e-01]\n",
        "[      37] ==============================================================\n",
        "[      38] ==============================================================\n"
       ]
      },
      {
       "output_type": "stream",
       "stream": "stdout",
       "text": [
        "[      38] Solving over interval [ 2.34000e-01, 2.35000e-01]\n",
        "[      38] ==============================================================\n",
        "[      38] ==============================================================\n"
       ]
      },
      {
       "output_type": "stream",
       "stream": "stdout",
       "text": [
        "[      38] Solving over interval [ 2.35000e-01, 2.36000e-01]\n",
        "[      38] ==============================================================\n",
        "[      38] ==============================================================\n"
       ]
      },
      {
       "output_type": "stream",
       "stream": "stdout",
       "text": [
        "[      38] Solving over interval [ 2.36000e-01, 2.37000e-01]\n",
        "[      38] ==============================================================\n",
        "[      38] ==============================================================\n"
       ]
      },
      {
       "output_type": "stream",
       "stream": "stdout",
       "text": [
        "[      38] Solving over interval [ 2.37000e-01, 2.38000e-01]\n",
        "[      38] ==============================================================\n",
        "[      38] ==============================================================\n"
       ]
      },
      {
       "output_type": "stream",
       "stream": "stdout",
       "text": [
        "[      38] Solving over interval [ 2.38000e-01, 2.39000e-01]\n",
        "[      38] ==============================================================\n",
        "[      39] ==============================================================\n"
       ]
      },
      {
       "output_type": "stream",
       "stream": "stdout",
       "text": [
        "[      39] Solving over interval [ 2.39000e-01, 2.40000e-01]\n",
        "[      39] ==============================================================\n",
        "[      39] ==============================================================\n"
       ]
      },
      {
       "output_type": "stream",
       "stream": "stdout",
       "text": [
        "[      39] Solving over interval [ 2.40000e-01, 2.41000e-01]\n",
        "[      39] ==============================================================\n",
        "[      39] ==============================================================\n"
       ]
      },
      {
       "output_type": "stream",
       "stream": "stdout",
       "text": [
        "[      39] Solving over interval [ 2.41000e-01, 2.42000e-01]\n",
        "[      39] ==============================================================\n",
        "[      39] ==============================================================\n"
       ]
      },
      {
       "output_type": "stream",
       "stream": "stdout",
       "text": [
        "[      39] Solving over interval [ 2.42000e-01, 2.43000e-01]\n",
        "[      39] ==============================================================\n",
        "[      39] ==============================================================\n"
       ]
      },
      {
       "output_type": "stream",
       "stream": "stdout",
       "text": [
        "[      39] Solving over interval [ 2.43000e-01, 2.44000e-01]\n",
        "[      39] ==============================================================\n",
        "[      40] ==============================================================\n"
       ]
      },
      {
       "output_type": "stream",
       "stream": "stdout",
       "text": [
        "[      40] Solving over interval [ 2.44000e-01, 2.45000e-01]\n",
        "[      40] ==============================================================\n",
        "[      40] ==============================================================\n"
       ]
      },
      {
       "output_type": "stream",
       "stream": "stdout",
       "text": [
        "[      40] Solving over interval [ 2.45000e-01, 2.46000e-01]\n",
        "[      40] ==============================================================\n",
        "[      40] ==============================================================\n"
       ]
      },
      {
       "output_type": "stream",
       "stream": "stdout",
       "text": [
        "[      40] Solving over interval [ 2.46000e-01, 2.47000e-01]\n",
        "[      40] ==============================================================\n",
        "[      40] ==============================================================\n"
       ]
      },
      {
       "output_type": "stream",
       "stream": "stdout",
       "text": [
        "[      40] Solving over interval [ 2.47000e-01, 2.48000e-01]\n",
        "[      40] ==============================================================\n",
        "[      40] ==============================================================\n"
       ]
      },
      {
       "output_type": "stream",
       "stream": "stdout",
       "text": [
        "[      40] Solving over interval [ 2.48000e-01, 2.49000e-01]\n",
        "[      40] ==============================================================\n",
        "[      41] ==============================================================\n"
       ]
      },
      {
       "output_type": "stream",
       "stream": "stdout",
       "text": [
        "[      41] Solving over interval [ 2.49000e-01, 2.50000e-01]\n",
        "[      41] ==============================================================\n",
        "[      41] ==============================================================\n"
       ]
      },
      {
       "output_type": "stream",
       "stream": "stdout",
       "text": [
        "[      41] Solving over interval [ 2.50000e-01, 2.51000e-01]\n",
        "[      41] ==============================================================\n",
        "[      41] ==============================================================\n"
       ]
      },
      {
       "output_type": "stream",
       "stream": "stdout",
       "text": [
        "[      41] Solving over interval [ 2.51000e-01, 2.52000e-01]\n",
        "[      41] ==============================================================\n",
        "[      41] ==============================================================\n"
       ]
      },
      {
       "output_type": "stream",
       "stream": "stdout",
       "text": [
        "[      41] Solving over interval [ 2.52000e-01, 2.53000e-01]\n",
        "[      41] ==============================================================\n",
        "[      41] ==============================================================\n"
       ]
      },
      {
       "output_type": "stream",
       "stream": "stdout",
       "text": [
        "[      41] Solving over interval [ 2.53000e-01, 2.54000e-01]\n",
        "[      41] ==============================================================\n",
        "[      42] ==============================================================\n"
       ]
      },
      {
       "output_type": "stream",
       "stream": "stdout",
       "text": [
        "[      42] Solving over interval [ 2.54000e-01, 2.55000e-01]\n",
        "[      42] ==============================================================\n",
        "[      42] ==============================================================\n"
       ]
      },
      {
       "output_type": "stream",
       "stream": "stdout",
       "text": [
        "[      42] Solving over interval [ 2.55000e-01, 2.56000e-01]\n",
        "[      42] ==============================================================\n",
        "[      42] ==============================================================\n"
       ]
      },
      {
       "output_type": "stream",
       "stream": "stdout",
       "text": [
        "[      42] Solving over interval [ 2.56000e-01, 2.57000e-01]\n",
        "[      42] ==============================================================\n",
        "[      42] ==============================================================\n"
       ]
      },
      {
       "output_type": "stream",
       "stream": "stdout",
       "text": [
        "[      42] Solving over interval [ 2.57000e-01, 2.58000e-01]\n",
        "[      42] ==============================================================\n",
        "[      42] ==============================================================\n"
       ]
      },
      {
       "output_type": "stream",
       "stream": "stdout",
       "text": [
        "[      42] Solving over interval [ 2.58000e-01, 2.59000e-01]\n",
        "[      42] ==============================================================\n",
        "[      43] ==============================================================\n"
       ]
      },
      {
       "output_type": "stream",
       "stream": "stdout",
       "text": [
        "[      43] Solving over interval [ 2.59000e-01, 2.60000e-01]\n",
        "[      43] ==============================================================\n",
        "[      43] ==============================================================\n"
       ]
      },
      {
       "output_type": "stream",
       "stream": "stdout",
       "text": [
        "[      43] Solving over interval [ 2.60000e-01, 2.61000e-01]\n",
        "[      43] ==============================================================\n",
        "[      43] ==============================================================\n"
       ]
      },
      {
       "output_type": "stream",
       "stream": "stdout",
       "text": [
        "[      43] Solving over interval [ 2.61000e-01, 2.62000e-01]\n",
        "[      43] ==============================================================\n",
        "[      43] ==============================================================\n"
       ]
      },
      {
       "output_type": "stream",
       "stream": "stdout",
       "text": [
        "[      43] Solving over interval [ 2.62000e-01, 2.63000e-01]\n",
        "[      43] ==============================================================\n",
        "[      43] ==============================================================\n"
       ]
      },
      {
       "output_type": "stream",
       "stream": "stdout",
       "text": [
        "[      43] Solving over interval [ 2.63000e-01, 2.64000e-01]\n",
        "[      43] ==============================================================\n",
        "[      44] ==============================================================\n"
       ]
      },
      {
       "output_type": "stream",
       "stream": "stdout",
       "text": [
        "[      44] Solving over interval [ 2.64000e-01, 2.65000e-01]\n",
        "[      44] ==============================================================\n",
        "[      44] ==============================================================\n"
       ]
      },
      {
       "output_type": "stream",
       "stream": "stdout",
       "text": [
        "[      44] Solving over interval [ 2.65000e-01, 2.66000e-01]\n",
        "[      44] ==============================================================\n",
        "[      44] ==============================================================\n"
       ]
      },
      {
       "output_type": "stream",
       "stream": "stdout",
       "text": [
        "[      44] Solving over interval [ 2.66000e-01, 2.67000e-01]\n",
        "[      44] ==============================================================\n",
        "[      44] ==============================================================\n"
       ]
      },
      {
       "output_type": "stream",
       "stream": "stdout",
       "text": [
        "[      44] Solving over interval [ 2.67000e-01, 2.68000e-01]\n",
        "[      44] ==============================================================\n",
        "[      45] ==============================================================\n"
       ]
      },
      {
       "output_type": "stream",
       "stream": "stdout",
       "text": [
        "[      45] Solving over interval [ 2.68000e-01, 2.69000e-01]\n",
        "[      45] ==============================================================\n",
        "[      45] ==============================================================\n"
       ]
      },
      {
       "output_type": "stream",
       "stream": "stdout",
       "text": [
        "[      45] Solving over interval [ 2.69000e-01, 2.70000e-01]\n",
        "[      45] ==============================================================\n",
        "[      45] ==============================================================\n"
       ]
      },
      {
       "output_type": "stream",
       "stream": "stdout",
       "text": [
        "[      45] Solving over interval [ 2.70000e-01, 2.71000e-01]\n",
        "[      45] ==============================================================\n",
        "[      45] ==============================================================\n"
       ]
      },
      {
       "output_type": "stream",
       "stream": "stdout",
       "text": [
        "[      45] Solving over interval [ 2.71000e-01, 2.72000e-01]\n",
        "[      45] ==============================================================\n",
        "[      45] ==============================================================\n"
       ]
      },
      {
       "output_type": "stream",
       "stream": "stdout",
       "text": [
        "[      45] Solving over interval [ 2.72000e-01, 2.73000e-01]\n",
        "[      45] ==============================================================\n",
        "[      46] ==============================================================\n"
       ]
      },
      {
       "output_type": "stream",
       "stream": "stdout",
       "text": [
        "[      46] Solving over interval [ 2.73000e-01, 2.74000e-01]\n",
        "[      46] ==============================================================\n",
        "[      46] ==============================================================\n"
       ]
      },
      {
       "output_type": "stream",
       "stream": "stdout",
       "text": [
        "[      46] Solving over interval [ 2.74000e-01, 2.75000e-01]\n",
        "[      46] ==============================================================\n",
        "[      46] ==============================================================\n"
       ]
      },
      {
       "output_type": "stream",
       "stream": "stdout",
       "text": [
        "[      46] Solving over interval [ 2.75000e-01, 2.76000e-01]\n",
        "[      46] ==============================================================\n",
        "[      46] ==============================================================\n"
       ]
      },
      {
       "output_type": "stream",
       "stream": "stdout",
       "text": [
        "[      46] Solving over interval [ 2.76000e-01, 2.77000e-01]\n",
        "[      46] ==============================================================\n",
        "[      47] ==============================================================\n"
       ]
      },
      {
       "output_type": "stream",
       "stream": "stdout",
       "text": [
        "[      47] Solving over interval [ 2.77000e-01, 2.78000e-01]\n",
        "[      47] ==============================================================\n",
        "[      47] ==============================================================\n"
       ]
      },
      {
       "output_type": "stream",
       "stream": "stdout",
       "text": [
        "[      47] Solving over interval [ 2.78000e-01, 2.79000e-01]\n",
        "[      47] ==============================================================\n",
        "[      47] ==============================================================\n"
       ]
      },
      {
       "output_type": "stream",
       "stream": "stdout",
       "text": [
        "[      47] Solving over interval [ 2.79000e-01, 2.80000e-01]\n",
        "[      47] ==============================================================\n",
        "[      47] ==============================================================\n"
       ]
      },
      {
       "output_type": "stream",
       "stream": "stdout",
       "text": [
        "[      47] Solving over interval [ 2.80000e-01, 2.81000e-01]\n",
        "[      47] ==============================================================\n",
        "[      47] ==============================================================\n"
       ]
      },
      {
       "output_type": "stream",
       "stream": "stdout",
       "text": [
        "[      47] Solving over interval [ 2.81000e-01, 2.82000e-01]\n",
        "[      47] ==============================================================\n",
        "[      48] ==============================================================\n"
       ]
      },
      {
       "output_type": "stream",
       "stream": "stdout",
       "text": [
        "[      48] Solving over interval [ 2.82000e-01, 2.83000e-01]\n",
        "[      48] ==============================================================\n",
        "[      48] ==============================================================\n"
       ]
      },
      {
       "output_type": "stream",
       "stream": "stdout",
       "text": [
        "[      48] Solving over interval [ 2.83000e-01, 2.84000e-01]\n",
        "[      48] ==============================================================\n",
        "[      48] ==============================================================\n"
       ]
      },
      {
       "output_type": "stream",
       "stream": "stdout",
       "text": [
        "[      48] Solving over interval [ 2.84000e-01, 2.85000e-01]\n",
        "[      48] ==============================================================\n",
        "[      48] ==============================================================\n"
       ]
      },
      {
       "output_type": "stream",
       "stream": "stdout",
       "text": [
        "[      48] Solving over interval [ 2.85000e-01, 2.86000e-01]\n",
        "[      48] ==============================================================\n",
        "[      49] ==============================================================\n"
       ]
      },
      {
       "output_type": "stream",
       "stream": "stdout",
       "text": [
        "[      49] Solving over interval [ 2.86000e-01, 2.87000e-01]\n",
        "[      49] ==============================================================\n",
        "[      49] ==============================================================\n"
       ]
      },
      {
       "output_type": "stream",
       "stream": "stdout",
       "text": [
        "[      49] Solving over interval [ 2.87000e-01, 2.88000e-01]\n",
        "[      49] ==============================================================\n",
        "[      49] ==============================================================\n"
       ]
      },
      {
       "output_type": "stream",
       "stream": "stdout",
       "text": [
        "[      49] Solving over interval [ 2.88000e-01, 2.89000e-01]\n",
        "[      49] ==============================================================\n",
        "[      49] ==============================================================\n"
       ]
      },
      {
       "output_type": "stream",
       "stream": "stdout",
       "text": [
        "[      49] Solving over interval [ 2.89000e-01, 2.90000e-01]\n",
        "[      49] ==============================================================\n",
        "[      50] ==============================================================\n"
       ]
      },
      {
       "output_type": "stream",
       "stream": "stdout",
       "text": [
        "[      50] Solving over interval [ 2.90000e-01, 2.91000e-01]\n",
        "[      50] ==============================================================\n",
        "[      50] ==============================================================\n"
       ]
      },
      {
       "output_type": "stream",
       "stream": "stdout",
       "text": [
        "[      50] Solving over interval [ 2.91000e-01, 2.92000e-01]\n",
        "[      50] ==============================================================\n",
        "[      50] ==============================================================\n"
       ]
      },
      {
       "output_type": "stream",
       "stream": "stdout",
       "text": [
        "[      50] Solving over interval [ 2.92000e-01, 2.93000e-01]\n",
        "[      50] ==============================================================\n",
        "[      50] ==============================================================\n"
       ]
      },
      {
       "output_type": "stream",
       "stream": "stdout",
       "text": [
        "[      50] Solving over interval [ 2.93000e-01, 2.94000e-01]\n",
        "[      50] ==============================================================\n",
        "[      50] ==============================================================\n"
       ]
      },
      {
       "output_type": "stream",
       "stream": "stdout",
       "text": [
        "[      50] Solving over interval [ 2.94000e-01, 2.95000e-01]\n",
        "[      50] ==============================================================\n",
        "[      51] ==============================================================\n"
       ]
      },
      {
       "output_type": "stream",
       "stream": "stdout",
       "text": [
        "[      51] Solving over interval [ 2.95000e-01, 2.96000e-01]\n",
        "[      51] ==============================================================\n",
        "[      51] ==============================================================\n"
       ]
      },
      {
       "output_type": "stream",
       "stream": "stdout",
       "text": [
        "[      51] Solving over interval [ 2.96000e-01, 2.97000e-01]\n",
        "[      51] ==============================================================\n",
        "[      51] ==============================================================\n"
       ]
      },
      {
       "output_type": "stream",
       "stream": "stdout",
       "text": [
        "[      51] Solving over interval [ 2.97000e-01, 2.98000e-01]\n",
        "[      51] ==============================================================\n",
        "[      51] ==============================================================\n"
       ]
      },
      {
       "output_type": "stream",
       "stream": "stdout",
       "text": [
        "[      51] Solving over interval [ 2.98000e-01, 2.99000e-01]\n",
        "[      51] ==============================================================\n",
        "[      52] ==============================================================\n"
       ]
      },
      {
       "output_type": "stream",
       "stream": "stdout",
       "text": [
        "[      52] Solving over interval [ 2.99000e-01, 3.00000e-01]\n",
        "[      52] ==============================================================\n",
        "[      52] ==============================================================\n"
       ]
      },
      {
       "output_type": "stream",
       "stream": "stdout",
       "text": [
        "[      52] Solving over interval [ 3.00000e-01, 3.01000e-01]\n",
        "[      52] ==============================================================\n",
        "[      52] ==============================================================\n"
       ]
      },
      {
       "output_type": "stream",
       "stream": "stdout",
       "text": [
        "[      52] Solving over interval [ 3.01000e-01, 3.02000e-01]\n",
        "[      52] ==============================================================\n",
        "[      52] ==============================================================\n"
       ]
      },
      {
       "output_type": "stream",
       "stream": "stdout",
       "text": [
        "[      52] Solving over interval [ 3.02000e-01, 3.03000e-01]\n",
        "[      52] ==============================================================\n",
        "[      53] ==============================================================\n"
       ]
      },
      {
       "output_type": "stream",
       "stream": "stdout",
       "text": [
        "[      53] Solving over interval [ 3.03000e-01, 3.04000e-01]\n",
        "[      53] ==============================================================\n",
        "[      53] ==============================================================\n"
       ]
      },
      {
       "output_type": "stream",
       "stream": "stdout",
       "text": [
        "[      53] Solving over interval [ 3.04000e-01, 3.05000e-01]\n",
        "[      53] ==============================================================\n",
        "[      53] ==============================================================\n"
       ]
      },
      {
       "output_type": "stream",
       "stream": "stdout",
       "text": [
        "[      53] Solving over interval [ 3.05000e-01, 3.06000e-01]\n",
        "[      53] ==============================================================\n",
        "[      53] ==============================================================\n"
       ]
      },
      {
       "output_type": "stream",
       "stream": "stdout",
       "text": [
        "[      53] Solving over interval [ 3.06000e-01, 3.07000e-01]\n",
        "[      53] ==============================================================\n",
        "[      54] ==============================================================\n"
       ]
      },
      {
       "output_type": "stream",
       "stream": "stdout",
       "text": [
        "[      54] Solving over interval [ 3.07000e-01, 3.08000e-01]\n",
        "[      54] ==============================================================\n",
        "[      54] ==============================================================\n"
       ]
      },
      {
       "output_type": "stream",
       "stream": "stdout",
       "text": [
        "[      54] Solving over interval [ 3.08000e-01, 3.09000e-01]\n",
        "[      54] ==============================================================\n",
        "[      54] ==============================================================\n"
       ]
      },
      {
       "output_type": "stream",
       "stream": "stdout",
       "text": [
        "[      54] Solving over interval [ 3.09000e-01, 3.10000e-01]\n",
        "[      54] ==============================================================\n",
        "[      54] ==============================================================\n"
       ]
      },
      {
       "output_type": "stream",
       "stream": "stdout",
       "text": [
        "[      54] Solving over interval [ 3.10000e-01, 3.11000e-01]\n",
        "[      54] ==============================================================\n",
        "[      55] ==============================================================\n"
       ]
      },
      {
       "output_type": "stream",
       "stream": "stdout",
       "text": [
        "[      55] Solving over interval [ 3.11000e-01, 3.12000e-01]\n",
        "[      55] ==============================================================\n",
        "[      55] ==============================================================\n"
       ]
      },
      {
       "output_type": "stream",
       "stream": "stdout",
       "text": [
        "[      55] Solving over interval [ 3.12000e-01, 3.13000e-01]\n",
        "[      55] ==============================================================\n",
        "[      55] ==============================================================\n"
       ]
      },
      {
       "output_type": "stream",
       "stream": "stdout",
       "text": [
        "[      55] Solving over interval [ 3.13000e-01, 3.14000e-01]\n",
        "[      55] ==============================================================\n",
        "[      55] ==============================================================\n"
       ]
      },
      {
       "output_type": "stream",
       "stream": "stdout",
       "text": [
        "[      55] Solving over interval [ 3.14000e-01, 3.15000e-01]\n",
        "[      55] ==============================================================\n",
        "[      56] ==============================================================\n"
       ]
      },
      {
       "output_type": "stream",
       "stream": "stdout",
       "text": [
        "[      56] Solving over interval [ 3.15000e-01, 3.16000e-01]\n",
        "[      56] ==============================================================\n",
        "[      56] ==============================================================\n"
       ]
      },
      {
       "output_type": "stream",
       "stream": "stdout",
       "text": [
        "[      56] Solving over interval [ 3.16000e-01, 3.17000e-01]\n",
        "[      56] ==============================================================\n",
        "[      56] ==============================================================\n"
       ]
      },
      {
       "output_type": "stream",
       "stream": "stdout",
       "text": [
        "[      56] Solving over interval [ 3.17000e-01, 3.18000e-01]\n",
        "[      56] ==============================================================\n",
        "[      56] ==============================================================\n"
       ]
      },
      {
       "output_type": "stream",
       "stream": "stdout",
       "text": [
        "[      56] Solving over interval [ 3.18000e-01, 3.19000e-01]\n",
        "[      56] ==============================================================\n",
        "[      57] ==============================================================\n"
       ]
      },
      {
       "output_type": "stream",
       "stream": "stdout",
       "text": [
        "[      57] Solving over interval [ 3.19000e-01, 3.20000e-01]\n",
        "[      57] ==============================================================\n",
        "[      57] ==============================================================\n"
       ]
      },
      {
       "output_type": "stream",
       "stream": "stdout",
       "text": [
        "[      57] Solving over interval [ 3.20000e-01, 3.21000e-01]\n",
        "[      57] ==============================================================\n",
        "[      57] ==============================================================\n"
       ]
      },
      {
       "output_type": "stream",
       "stream": "stdout",
       "text": [
        "[      57] Solving over interval [ 3.21000e-01, 3.22000e-01]\n",
        "[      57] ==============================================================\n",
        "[      57] ==============================================================\n"
       ]
      },
      {
       "output_type": "stream",
       "stream": "stdout",
       "text": [
        "[      57] Solving over interval [ 3.22000e-01, 3.23000e-01]\n",
        "[      57] ==============================================================\n",
        "[      58] ==============================================================\n"
       ]
      },
      {
       "output_type": "stream",
       "stream": "stdout",
       "text": [
        "[      58] Solving over interval [ 3.23000e-01, 3.24000e-01]\n",
        "[      58] ==============================================================\n",
        "[      58] ==============================================================\n"
       ]
      },
      {
       "output_type": "stream",
       "stream": "stdout",
       "text": [
        "[      58] Solving over interval [ 3.24000e-01, 3.25000e-01]\n",
        "[      58] ==============================================================\n",
        "[      58] ==============================================================\n"
       ]
      },
      {
       "output_type": "stream",
       "stream": "stdout",
       "text": [
        "[      58] Solving over interval [ 3.25000e-01, 3.26000e-01]\n",
        "[      58] ==============================================================\n",
        "[      58] ==============================================================\n"
       ]
      },
      {
       "output_type": "stream",
       "stream": "stdout",
       "text": [
        "[      58] Solving over interval [ 3.26000e-01, 3.27000e-01]\n",
        "[      58] ==============================================================\n",
        "[      59] ==============================================================\n"
       ]
      },
      {
       "output_type": "stream",
       "stream": "stdout",
       "text": [
        "[      59] Solving over interval [ 3.27000e-01, 3.28000e-01]\n",
        "[      59] ==============================================================\n",
        "[      59] ==============================================================\n"
       ]
      },
      {
       "output_type": "stream",
       "stream": "stdout",
       "text": [
        "[      59] Solving over interval [ 3.28000e-01, 3.29000e-01]\n",
        "[      59] ==============================================================\n",
        "[      59] ==============================================================\n"
       ]
      },
      {
       "output_type": "stream",
       "stream": "stdout",
       "text": [
        "[      59] Solving over interval [ 3.29000e-01, 3.30000e-01]\n",
        "[      59] ==============================================================\n",
        "[      59] ==============================================================\n"
       ]
      },
      {
       "output_type": "stream",
       "stream": "stdout",
       "text": [
        "[      59] Solving over interval [ 3.30000e-01, 3.31000e-01]\n",
        "[      59] ==============================================================\n",
        "[      60] ==============================================================\n"
       ]
      },
      {
       "output_type": "stream",
       "stream": "stdout",
       "text": [
        "[      60] Solving over interval [ 3.31000e-01, 3.32000e-01]\n",
        "[      60] ==============================================================\n",
        "[      60] ==============================================================\n"
       ]
      },
      {
       "output_type": "stream",
       "stream": "stdout",
       "text": [
        "[      60] Solving over interval [ 3.32000e-01, 3.33000e-01]\n",
        "[      60] ==============================================================\n",
        "[      60] ==============================================================\n"
       ]
      },
      {
       "output_type": "stream",
       "stream": "stdout",
       "text": [
        "[      60] Solving over interval [ 3.33000e-01, 3.34000e-01]\n",
        "[      60] ==============================================================\n",
        "[      60] ==============================================================\n"
       ]
      },
      {
       "output_type": "stream",
       "stream": "stdout",
       "text": [
        "[      60] Solving over interval [ 3.34000e-01, 3.35000e-01]\n",
        "[      60] ==============================================================\n",
        "[      61] ==============================================================\n"
       ]
      },
      {
       "output_type": "stream",
       "stream": "stdout",
       "text": [
        "[      61] Solving over interval [ 3.35000e-01, 3.36000e-01]\n",
        "[      61] ==============================================================\n",
        "[      61] ==============================================================\n"
       ]
      },
      {
       "output_type": "stream",
       "stream": "stdout",
       "text": [
        "[      61] Solving over interval [ 3.36000e-01, 3.37000e-01]\n",
        "[      61] ==============================================================\n",
        "[      61] ==============================================================\n"
       ]
      },
      {
       "output_type": "stream",
       "stream": "stdout",
       "text": [
        "[      61] Solving over interval [ 3.37000e-01, 3.38000e-01]\n",
        "[      61] ==============================================================\n",
        "[      61] ==============================================================\n"
       ]
      },
      {
       "output_type": "stream",
       "stream": "stdout",
       "text": [
        "[      61] Solving over interval [ 3.38000e-01, 3.39000e-01]\n",
        "[      61] ==============================================================\n",
        "[      62] ==============================================================\n"
       ]
      },
      {
       "output_type": "stream",
       "stream": "stdout",
       "text": [
        "[      62] Solving over interval [ 3.39000e-01, 3.40000e-01]\n",
        "[      62] ==============================================================\n",
        "[      62] ==============================================================\n"
       ]
      },
      {
       "output_type": "stream",
       "stream": "stdout",
       "text": [
        "[      62] Solving over interval [ 3.40000e-01, 3.41000e-01]\n",
        "[      62] ==============================================================\n",
        "[      62] ==============================================================\n"
       ]
      },
      {
       "output_type": "stream",
       "stream": "stdout",
       "text": [
        "[      62] Solving over interval [ 3.41000e-01, 3.42000e-01]\n",
        "[      62] ==============================================================\n",
        "[      62] ==============================================================\n"
       ]
      },
      {
       "output_type": "stream",
       "stream": "stdout",
       "text": [
        "[      62] Solving over interval [ 3.42000e-01, 3.43000e-01]\n",
        "[      62] ==============================================================\n",
        "[      63] ==============================================================\n"
       ]
      },
      {
       "output_type": "stream",
       "stream": "stdout",
       "text": [
        "[      63] Solving over interval [ 3.43000e-01, 3.44000e-01]\n",
        "[      63] ==============================================================\n",
        "[      63] ==============================================================\n"
       ]
      },
      {
       "output_type": "stream",
       "stream": "stdout",
       "text": [
        "[      63] Solving over interval [ 3.44000e-01, 3.45000e-01]\n",
        "[      63] ==============================================================\n",
        "[      63] ==============================================================\n"
       ]
      },
      {
       "output_type": "stream",
       "stream": "stdout",
       "text": [
        "[      63] Solving over interval [ 3.45000e-01, 3.46000e-01]\n",
        "[      63] ==============================================================\n",
        "[      63] ==============================================================\n"
       ]
      },
      {
       "output_type": "stream",
       "stream": "stdout",
       "text": [
        "[      63] Solving over interval [ 3.46000e-01, 3.47000e-01]\n",
        "[      63] ==============================================================\n",
        "[      64] ==============================================================\n"
       ]
      },
      {
       "output_type": "stream",
       "stream": "stdout",
       "text": [
        "[      64] Solving over interval [ 3.47000e-01, 3.48000e-01]\n",
        "[      64] ==============================================================\n",
        "[      64] ==============================================================\n"
       ]
      },
      {
       "output_type": "stream",
       "stream": "stdout",
       "text": [
        "[      64] Solving over interval [ 3.48000e-01, 3.49000e-01]\n",
        "[      64] ==============================================================\n",
        "[      64] ==============================================================\n"
       ]
      },
      {
       "output_type": "stream",
       "stream": "stdout",
       "text": [
        "[      64] Solving over interval [ 3.49000e-01, 3.50000e-01]\n",
        "[      64] ==============================================================\n",
        "[      65] ==============================================================\n"
       ]
      },
      {
       "output_type": "stream",
       "stream": "stdout",
       "text": [
        "[      65] Solving over interval [ 3.50000e-01, 3.51000e-01]\n",
        "[      65] ==============================================================\n",
        "[      65] ==============================================================\n"
       ]
      },
      {
       "output_type": "stream",
       "stream": "stdout",
       "text": [
        "[      65] Solving over interval [ 3.51000e-01, 3.52000e-01]\n",
        "[      65] ==============================================================\n",
        "[      65] ==============================================================\n"
       ]
      },
      {
       "output_type": "stream",
       "stream": "stdout",
       "text": [
        "[      65] Solving over interval [ 3.52000e-01, 3.53000e-01]\n",
        "[      65] ==============================================================\n",
        "[      65] ==============================================================\n"
       ]
      },
      {
       "output_type": "stream",
       "stream": "stdout",
       "text": [
        "[      65] Solving over interval [ 3.53000e-01, 3.54000e-01]\n",
        "[      65] ==============================================================\n",
        "[      66] ==============================================================\n"
       ]
      },
      {
       "output_type": "stream",
       "stream": "stdout",
       "text": [
        "[      66] Solving over interval [ 3.54000e-01, 3.55000e-01]\n",
        "[      66] ==============================================================\n",
        "[      66] ==============================================================\n"
       ]
      },
      {
       "output_type": "stream",
       "stream": "stdout",
       "text": [
        "[      66] Solving over interval [ 3.55000e-01, 3.56000e-01]\n",
        "[      66] ==============================================================\n",
        "[      66] ==============================================================\n"
       ]
      },
      {
       "output_type": "stream",
       "stream": "stdout",
       "text": [
        "[      66] Solving over interval [ 3.56000e-01, 3.57000e-01]\n",
        "[      66] ==============================================================\n",
        "[      66] ==============================================================\n"
       ]
      },
      {
       "output_type": "stream",
       "stream": "stdout",
       "text": [
        "[      66] Solving over interval [ 3.57000e-01, 3.58000e-01]\n",
        "[      66] ==============================================================\n",
        "[      67] ==============================================================\n"
       ]
      },
      {
       "output_type": "stream",
       "stream": "stdout",
       "text": [
        "[      67] Solving over interval [ 3.58000e-01, 3.59000e-01]\n",
        "[      67] ==============================================================\n",
        "[      67] ==============================================================\n"
       ]
      },
      {
       "output_type": "stream",
       "stream": "stdout",
       "text": [
        "[      67] Solving over interval [ 3.59000e-01, 3.60000e-01]\n",
        "[      67] ==============================================================\n",
        "[      67] ==============================================================\n"
       ]
      },
      {
       "output_type": "stream",
       "stream": "stdout",
       "text": [
        "[      67] Solving over interval [ 3.60000e-01, 3.61000e-01]\n",
        "[      67] ==============================================================\n",
        "[      68] ==============================================================\n"
       ]
      },
      {
       "output_type": "stream",
       "stream": "stdout",
       "text": [
        "[      68] Solving over interval [ 3.61000e-01, 3.62000e-01]\n",
        "[      68] ==============================================================\n",
        "[      68] ==============================================================\n"
       ]
      },
      {
       "output_type": "stream",
       "stream": "stdout",
       "text": [
        "[      68] Solving over interval [ 3.62000e-01, 3.63000e-01]\n",
        "[      68] ==============================================================\n",
        "[      68] ==============================================================\n"
       ]
      },
      {
       "output_type": "stream",
       "stream": "stdout",
       "text": [
        "[      68] Solving over interval [ 3.63000e-01, 3.64000e-01]\n",
        "[      68] ==============================================================\n",
        "[      68] ==============================================================\n"
       ]
      },
      {
       "output_type": "stream",
       "stream": "stdout",
       "text": [
        "[      68] Solving over interval [ 3.64000e-01, 3.65000e-01]\n",
        "[      68] ==============================================================\n",
        "[      69] ==============================================================\n"
       ]
      },
      {
       "output_type": "stream",
       "stream": "stdout",
       "text": [
        "[      69] Solving over interval [ 3.65000e-01, 3.66000e-01]\n",
        "[      69] ==============================================================\n",
        "[      69] ==============================================================\n"
       ]
      },
      {
       "output_type": "stream",
       "stream": "stdout",
       "text": [
        "[      69] Solving over interval [ 3.66000e-01, 3.67000e-01]\n",
        "[      69] ==============================================================\n",
        "[      69] ==============================================================\n"
       ]
      },
      {
       "output_type": "stream",
       "stream": "stdout",
       "text": [
        "[      69] Solving over interval [ 3.67000e-01, 3.68000e-01]\n",
        "[      69] ==============================================================\n",
        "[      69] ==============================================================\n"
       ]
      },
      {
       "output_type": "stream",
       "stream": "stdout",
       "text": [
        "[      69] Solving over interval [ 3.68000e-01, 3.69000e-01]\n",
        "[      69] ==============================================================\n",
        "[      70] ==============================================================\n"
       ]
      },
      {
       "output_type": "stream",
       "stream": "stdout",
       "text": [
        "[      70] Solving over interval [ 3.69000e-01, 3.70000e-01]\n",
        "[      70] ==============================================================\n",
        "[      70] ==============================================================\n"
       ]
      },
      {
       "output_type": "stream",
       "stream": "stdout",
       "text": [
        "[      70] Solving over interval [ 3.70000e-01, 3.71000e-01]\n",
        "[      70] ==============================================================\n",
        "[      70] ==============================================================\n"
       ]
      },
      {
       "output_type": "stream",
       "stream": "stdout",
       "text": [
        "[      70] Solving over interval [ 3.71000e-01, 3.72000e-01]\n",
        "[      70] ==============================================================\n",
        "[      71] ==============================================================\n"
       ]
      },
      {
       "output_type": "stream",
       "stream": "stdout",
       "text": [
        "[      71] Solving over interval [ 3.72000e-01, 3.73000e-01]\n",
        "[      71] ==============================================================\n",
        "[      71] ==============================================================\n"
       ]
      },
      {
       "output_type": "stream",
       "stream": "stdout",
       "text": [
        "[      71] Solving over interval [ 3.73000e-01, 3.74000e-01]\n",
        "[      71] ==============================================================\n",
        "[      71] ==============================================================\n"
       ]
      },
      {
       "output_type": "stream",
       "stream": "stdout",
       "text": [
        "[      71] Solving over interval [ 3.74000e-01, 3.75000e-01]\n",
        "[      71] ==============================================================\n",
        "[      71] ==============================================================\n"
       ]
      },
      {
       "output_type": "stream",
       "stream": "stdout",
       "text": [
        "[      71] Solving over interval [ 3.75000e-01, 3.76000e-01]\n",
        "[      71] ==============================================================\n",
        "[      72] ==============================================================\n"
       ]
      },
      {
       "output_type": "stream",
       "stream": "stdout",
       "text": [
        "[      72] Solving over interval [ 3.76000e-01, 3.77000e-01]\n",
        "[      72] ==============================================================\n",
        "[      72] ==============================================================\n"
       ]
      },
      {
       "output_type": "stream",
       "stream": "stdout",
       "text": [
        "[      72] Solving over interval [ 3.77000e-01, 3.78000e-01]\n",
        "[      72] ==============================================================\n",
        "[      72] ==============================================================\n"
       ]
      },
      {
       "output_type": "stream",
       "stream": "stdout",
       "text": [
        "[      72] Solving over interval [ 3.78000e-01, 3.79000e-01]\n",
        "[      72] ==============================================================\n",
        "[      73] ==============================================================\n"
       ]
      },
      {
       "output_type": "stream",
       "stream": "stdout",
       "text": [
        "[      73] Solving over interval [ 3.79000e-01, 3.80000e-01]\n",
        "[      73] ==============================================================\n",
        "[      73] ==============================================================\n"
       ]
      },
      {
       "output_type": "stream",
       "stream": "stdout",
       "text": [
        "[      73] Solving over interval [ 3.80000e-01, 3.81000e-01]\n",
        "[      73] ==============================================================\n",
        "[      73] ==============================================================\n"
       ]
      },
      {
       "output_type": "stream",
       "stream": "stdout",
       "text": [
        "[      73] Solving over interval [ 3.81000e-01, 3.82000e-01]\n",
        "[      73] ==============================================================\n",
        "[      73] ==============================================================\n"
       ]
      },
      {
       "output_type": "stream",
       "stream": "stdout",
       "text": [
        "[      73] Solving over interval [ 3.82000e-01, 3.83000e-01]\n",
        "[      73] ==============================================================\n",
        "[      74] ==============================================================\n"
       ]
      },
      {
       "output_type": "stream",
       "stream": "stdout",
       "text": [
        "[      74] Solving over interval [ 3.83000e-01, 3.84000e-01]\n",
        "[      74] ==============================================================\n",
        "[      74] ==============================================================\n"
       ]
      },
      {
       "output_type": "stream",
       "stream": "stdout",
       "text": [
        "[      74] Solving over interval [ 3.84000e-01, 3.85000e-01]\n",
        "[      74] ==============================================================\n",
        "[      74] ==============================================================\n"
       ]
      },
      {
       "output_type": "stream",
       "stream": "stdout",
       "text": [
        "[      74] Solving over interval [ 3.85000e-01, 3.86000e-01]\n",
        "[      74] ==============================================================\n",
        "[      75] ==============================================================\n"
       ]
      },
      {
       "output_type": "stream",
       "stream": "stdout",
       "text": [
        "[      75] Solving over interval [ 3.86000e-01, 3.87000e-01]\n",
        "[      75] ==============================================================\n",
        "[      75] ==============================================================\n"
       ]
      },
      {
       "output_type": "stream",
       "stream": "stdout",
       "text": [
        "[      75] Solving over interval [ 3.87000e-01, 3.88000e-01]\n",
        "[      75] ==============================================================\n",
        "[      75] ==============================================================\n"
       ]
      },
      {
       "output_type": "stream",
       "stream": "stdout",
       "text": [
        "[      75] Solving over interval [ 3.88000e-01, 3.89000e-01]\n",
        "[      75] ==============================================================\n",
        "[      76] ==============================================================\n"
       ]
      },
      {
       "output_type": "stream",
       "stream": "stdout",
       "text": [
        "[      76] Solving over interval [ 3.89000e-01, 3.90000e-01]\n",
        "[      76] ==============================================================\n",
        "[      76] ==============================================================\n"
       ]
      },
      {
       "output_type": "stream",
       "stream": "stdout",
       "text": [
        "[      76] Solving over interval [ 3.90000e-01, 3.91000e-01]\n",
        "[      76] ==============================================================\n",
        "[      76] ==============================================================\n"
       ]
      },
      {
       "output_type": "stream",
       "stream": "stdout",
       "text": [
        "[      76] Solving over interval [ 3.91000e-01, 3.92000e-01]\n",
        "[      76] ==============================================================\n",
        "[      76] ==============================================================\n"
       ]
      },
      {
       "output_type": "stream",
       "stream": "stdout",
       "text": [
        "[      76] Solving over interval [ 3.92000e-01, 3.93000e-01]\n",
        "[      76] ==============================================================\n",
        "[      77] ==============================================================\n"
       ]
      },
      {
       "output_type": "stream",
       "stream": "stdout",
       "text": [
        "[      77] Solving over interval [ 3.93000e-01, 3.94000e-01]\n",
        "[      77] ==============================================================\n",
        "[      77] ==============================================================\n"
       ]
      },
      {
       "output_type": "stream",
       "stream": "stdout",
       "text": [
        "[      77] Solving over interval [ 3.94000e-01, 3.95000e-01]\n",
        "[      77] ==============================================================\n",
        "[      77] ==============================================================\n"
       ]
      },
      {
       "output_type": "stream",
       "stream": "stdout",
       "text": [
        "[      77] Solving over interval [ 3.95000e-01, 3.96000e-01]\n",
        "[      77] ==============================================================\n",
        "[      78] ==============================================================\n"
       ]
      },
      {
       "output_type": "stream",
       "stream": "stdout",
       "text": [
        "[      78] Solving over interval [ 3.96000e-01, 3.97000e-01]\n",
        "[      78] ==============================================================\n",
        "[      78] ==============================================================\n"
       ]
      },
      {
       "output_type": "stream",
       "stream": "stdout",
       "text": [
        "[      78] Solving over interval [ 3.97000e-01, 3.98000e-01]\n",
        "[      78] ==============================================================\n",
        "[      78] ==============================================================\n"
       ]
      },
      {
       "output_type": "stream",
       "stream": "stdout",
       "text": [
        "[      78] Solving over interval [ 3.98000e-01, 3.99000e-01]\n",
        "[      78] ==============================================================\n",
        "[      79] ==============================================================\n"
       ]
      },
      {
       "output_type": "stream",
       "stream": "stdout",
       "text": [
        "[      79] Solving over interval [ 3.99000e-01, 4.00000e-01]\n",
        "[      79] ==============================================================\n",
        "[      79] ==============================================================\n"
       ]
      },
      {
       "output_type": "stream",
       "stream": "stdout",
       "text": [
        "[      79] Solving over interval [ 4.00000e-01, 4.01000e-01]\n",
        "[      79] ==============================================================\n",
        "[      79] ==============================================================\n"
       ]
      },
      {
       "output_type": "stream",
       "stream": "stdout",
       "text": [
        "[      79] Solving over interval [ 4.01000e-01, 4.02000e-01]\n",
        "[      79] ==============================================================\n",
        "[      79] ==============================================================\n"
       ]
      },
      {
       "output_type": "stream",
       "stream": "stdout",
       "text": [
        "[      79] Solving over interval [ 4.02000e-01, 4.03000e-01]\n",
        "[      79] ==============================================================\n",
        "[      80] ==============================================================\n"
       ]
      },
      {
       "output_type": "stream",
       "stream": "stdout",
       "text": [
        "[      80] Solving over interval [ 4.03000e-01, 4.04000e-01]\n",
        "[      80] ==============================================================\n",
        "[      80] ==============================================================\n"
       ]
      },
      {
       "output_type": "stream",
       "stream": "stdout",
       "text": [
        "[      80] Solving over interval [ 4.04000e-01, 4.05000e-01]\n",
        "[      80] ==============================================================\n",
        "[      80] ==============================================================\n"
       ]
      },
      {
       "output_type": "stream",
       "stream": "stdout",
       "text": [
        "[      80] Solving over interval [ 4.05000e-01, 4.06000e-01]\n",
        "[      80] ==============================================================\n",
        "[      81] ==============================================================\n"
       ]
      },
      {
       "output_type": "stream",
       "stream": "stdout",
       "text": [
        "[      81] Solving over interval [ 4.06000e-01, 4.07000e-01]\n",
        "[      81] ==============================================================\n",
        "[      81] ==============================================================\n"
       ]
      },
      {
       "output_type": "stream",
       "stream": "stdout",
       "text": [
        "[      81] Solving over interval [ 4.07000e-01, 4.08000e-01]\n",
        "[      81] ==============================================================\n",
        "[      81] ==============================================================\n"
       ]
      },
      {
       "output_type": "stream",
       "stream": "stdout",
       "text": [
        "[      81] Solving over interval [ 4.08000e-01, 4.09000e-01]\n",
        "[      81] ==============================================================\n",
        "[      82] ==============================================================\n"
       ]
      },
      {
       "output_type": "stream",
       "stream": "stdout",
       "text": [
        "[      82] Solving over interval [ 4.09000e-01, 4.10000e-01]\n",
        "[      82] ==============================================================\n",
        "[      82] ==============================================================\n"
       ]
      },
      {
       "output_type": "stream",
       "stream": "stdout",
       "text": [
        "[      82] Solving over interval [ 4.10000e-01, 4.11000e-01]\n",
        "[      82] ==============================================================\n",
        "[      82] ==============================================================\n"
       ]
      },
      {
       "output_type": "stream",
       "stream": "stdout",
       "text": [
        "[      82] Solving over interval [ 4.11000e-01, 4.12000e-01]\n",
        "[      82] ==============================================================\n",
        "[      82] ==============================================================\n"
       ]
      },
      {
       "output_type": "stream",
       "stream": "stdout",
       "text": [
        "[      82] Solving over interval [ 4.12000e-01, 4.13000e-01]\n",
        "[      82] ==============================================================\n",
        "[      83] ==============================================================\n"
       ]
      },
      {
       "output_type": "stream",
       "stream": "stdout",
       "text": [
        "[      83] Solving over interval [ 4.13000e-01, 4.14000e-01]\n",
        "[      83] ==============================================================\n",
        "[      83] ==============================================================\n"
       ]
      },
      {
       "output_type": "stream",
       "stream": "stdout",
       "text": [
        "[      83] Solving over interval [ 4.14000e-01, 4.15000e-01]\n",
        "[      83] ==============================================================\n",
        "[      83] ==============================================================\n"
       ]
      },
      {
       "output_type": "stream",
       "stream": "stdout",
       "text": [
        "[      83] Solving over interval [ 4.15000e-01, 4.16000e-01]\n",
        "[      83] ==============================================================\n",
        "[      84] ==============================================================\n"
       ]
      },
      {
       "output_type": "stream",
       "stream": "stdout",
       "text": [
        "[      84] Solving over interval [ 4.16000e-01, 4.17000e-01]\n",
        "[      84] ==============================================================\n",
        "[      84] ==============================================================\n"
       ]
      },
      {
       "output_type": "stream",
       "stream": "stdout",
       "text": [
        "[      84] Solving over interval [ 4.17000e-01, 4.18000e-01]\n",
        "[      84] ==============================================================\n",
        "[      84] ==============================================================\n"
       ]
      },
      {
       "output_type": "stream",
       "stream": "stdout",
       "text": [
        "[      84] Solving over interval [ 4.18000e-01, 4.19000e-01]\n",
        "[      84] ==============================================================\n",
        "[      85] ==============================================================\n"
       ]
      },
      {
       "output_type": "stream",
       "stream": "stdout",
       "text": [
        "[      85] Solving over interval [ 4.19000e-01, 4.20000e-01]\n",
        "[      85] ==============================================================\n",
        "[      85] ==============================================================\n"
       ]
      },
      {
       "output_type": "stream",
       "stream": "stdout",
       "text": [
        "[      85] Solving over interval [ 4.20000e-01, 4.21000e-01]\n",
        "[      85] ==============================================================\n",
        "[      85] ==============================================================\n"
       ]
      },
      {
       "output_type": "stream",
       "stream": "stdout",
       "text": [
        "[      85] Solving over interval [ 4.21000e-01, 4.22000e-01]\n",
        "[      85] ==============================================================\n",
        "[      86] ==============================================================\n"
       ]
      },
      {
       "output_type": "stream",
       "stream": "stdout",
       "text": [
        "[      86] Solving over interval [ 4.22000e-01, 4.23000e-01]\n",
        "[      86] ==============================================================\n",
        "[      86] ==============================================================\n"
       ]
      },
      {
       "output_type": "stream",
       "stream": "stdout",
       "text": [
        "[      86] Solving over interval [ 4.23000e-01, 4.24000e-01]\n",
        "[      86] ==============================================================\n",
        "[      86] ==============================================================\n"
       ]
      },
      {
       "output_type": "stream",
       "stream": "stdout",
       "text": [
        "[      86] Solving over interval [ 4.24000e-01, 4.25000e-01]\n",
        "[      86] ==============================================================\n",
        "[      87] ==============================================================\n"
       ]
      },
      {
       "output_type": "stream",
       "stream": "stdout",
       "text": [
        "[      87] Solving over interval [ 4.25000e-01, 4.26000e-01]\n",
        "[      87] ==============================================================\n",
        "[      87] ==============================================================\n"
       ]
      },
      {
       "output_type": "stream",
       "stream": "stdout",
       "text": [
        "[      87] Solving over interval [ 4.26000e-01, 4.27000e-01]\n",
        "[      87] ==============================================================\n",
        "[      87] ==============================================================\n"
       ]
      },
      {
       "output_type": "stream",
       "stream": "stdout",
       "text": [
        "[      87] Solving over interval [ 4.27000e-01, 4.28000e-01]\n",
        "[      87] ==============================================================\n",
        "[      87] ==============================================================\n"
       ]
      },
      {
       "output_type": "stream",
       "stream": "stdout",
       "text": [
        "[      87] Solving over interval [ 4.28000e-01, 4.29000e-01]\n",
        "[      87] ==============================================================\n",
        "[      88] ==============================================================\n"
       ]
      },
      {
       "output_type": "stream",
       "stream": "stdout",
       "text": [
        "[      88] Solving over interval [ 4.29000e-01, 4.30000e-01]\n",
        "[      88] ==============================================================\n",
        "[      88] ==============================================================\n"
       ]
      },
      {
       "output_type": "stream",
       "stream": "stdout",
       "text": [
        "[      88] Solving over interval [ 4.30000e-01, 4.31000e-01]\n",
        "[      88] ==============================================================\n",
        "[      88] ==============================================================\n"
       ]
      },
      {
       "output_type": "stream",
       "stream": "stdout",
       "text": [
        "[      88] Solving over interval [ 4.31000e-01, 4.32000e-01]\n",
        "[      88] ==============================================================\n",
        "[      89] ==============================================================\n"
       ]
      },
      {
       "output_type": "stream",
       "stream": "stdout",
       "text": [
        "[      89] Solving over interval [ 4.32000e-01, 4.33000e-01]\n",
        "[      89] ==============================================================\n",
        "[      89] ==============================================================\n"
       ]
      },
      {
       "output_type": "stream",
       "stream": "stdout",
       "text": [
        "[      89] Solving over interval [ 4.33000e-01, 4.34000e-01]\n",
        "[      89] ==============================================================\n",
        "[      89] ==============================================================\n"
       ]
      },
      {
       "output_type": "stream",
       "stream": "stdout",
       "text": [
        "[      89] Solving over interval [ 4.34000e-01, 4.35000e-01]\n",
        "[      89] ==============================================================\n",
        "[      90] ==============================================================\n"
       ]
      },
      {
       "output_type": "stream",
       "stream": "stdout",
       "text": [
        "[      90] Solving over interval [ 4.35000e-01, 4.36000e-01]\n",
        "[      90] ==============================================================\n",
        "[      90] ==============================================================\n"
       ]
      },
      {
       "output_type": "stream",
       "stream": "stdout",
       "text": [
        "[      90] Solving over interval [ 4.36000e-01, 4.37000e-01]\n",
        "[      90] ==============================================================\n",
        "[      90] ==============================================================\n"
       ]
      },
      {
       "output_type": "stream",
       "stream": "stdout",
       "text": [
        "[      90] Solving over interval [ 4.37000e-01, 4.38000e-01]\n",
        "[      90] ==============================================================\n",
        "[      91] ==============================================================\n"
       ]
      },
      {
       "output_type": "stream",
       "stream": "stdout",
       "text": [
        "[      91] Solving over interval [ 4.38000e-01, 4.39000e-01]\n",
        "[      91] ==============================================================\n",
        "[      91] ==============================================================\n"
       ]
      },
      {
       "output_type": "stream",
       "stream": "stdout",
       "text": [
        "[      91] Solving over interval [ 4.39000e-01, 4.40000e-01]\n",
        "[      91] ==============================================================\n",
        "[      91] ==============================================================\n"
       ]
      },
      {
       "output_type": "stream",
       "stream": "stdout",
       "text": [
        "[      91] Solving over interval [ 4.40000e-01, 4.41000e-01]\n",
        "[      91] ==============================================================\n",
        "[      92] ==============================================================\n"
       ]
      },
      {
       "output_type": "stream",
       "stream": "stdout",
       "text": [
        "[      92] Solving over interval [ 4.41000e-01, 4.42000e-01]\n",
        "[      92] ==============================================================\n",
        "[      92] ==============================================================\n"
       ]
      },
      {
       "output_type": "stream",
       "stream": "stdout",
       "text": [
        "[      92] Solving over interval [ 4.42000e-01, 4.43000e-01]\n",
        "[      92] ==============================================================\n",
        "[      92] ==============================================================\n"
       ]
      },
      {
       "output_type": "stream",
       "stream": "stdout",
       "text": [
        "[      92] Solving over interval [ 4.43000e-01, 4.44000e-01]\n",
        "[      92] ==============================================================\n",
        "[      93] ==============================================================\n"
       ]
      },
      {
       "output_type": "stream",
       "stream": "stdout",
       "text": [
        "[      93] Solving over interval [ 4.44000e-01, 4.45000e-01]\n",
        "[      93] ==============================================================\n",
        "[      93] ==============================================================\n"
       ]
      },
      {
       "output_type": "stream",
       "stream": "stdout",
       "text": [
        "[      93] Solving over interval [ 4.45000e-01, 4.46000e-01]\n",
        "[      93] ==============================================================\n",
        "[      93] ==============================================================\n"
       ]
      },
      {
       "output_type": "stream",
       "stream": "stdout",
       "text": [
        "[      93] Solving over interval [ 4.46000e-01, 4.47000e-01]\n",
        "[      93] ==============================================================\n",
        "[      94] ==============================================================\n"
       ]
      },
      {
       "output_type": "stream",
       "stream": "stdout",
       "text": [
        "[      94] Solving over interval [ 4.47000e-01, 4.48000e-01]\n",
        "[      94] ==============================================================\n",
        "[      94] ==============================================================\n"
       ]
      },
      {
       "output_type": "stream",
       "stream": "stdout",
       "text": [
        "[      94] Solving over interval [ 4.48000e-01, 4.49000e-01]\n",
        "[      94] ==============================================================\n",
        "[      94] ==============================================================\n"
       ]
      },
      {
       "output_type": "stream",
       "stream": "stdout",
       "text": [
        "[      94] Solving over interval [ 4.49000e-01, 4.50000e-01]\n",
        "[      94] ==============================================================\n",
        "[      95] ==============================================================\n"
       ]
      },
      {
       "output_type": "stream",
       "stream": "stdout",
       "text": [
        "[      95] Solving over interval [ 4.50000e-01, 4.51000e-01]\n",
        "[      95] ==============================================================\n",
        "[      95] ==============================================================\n"
       ]
      },
      {
       "output_type": "stream",
       "stream": "stdout",
       "text": [
        "[      95] Solving over interval [ 4.51000e-01, 4.52000e-01]\n",
        "[      95] ==============================================================\n",
        "[      95] ==============================================================\n"
       ]
      },
      {
       "output_type": "stream",
       "stream": "stdout",
       "text": [
        "[      95] Solving over interval [ 4.52000e-01, 4.53000e-01]\n",
        "[      95] ==============================================================\n",
        "[      96] ==============================================================\n"
       ]
      },
      {
       "output_type": "stream",
       "stream": "stdout",
       "text": [
        "[      96] Solving over interval [ 4.53000e-01, 4.54000e-01]\n",
        "[      96] ==============================================================\n",
        "[      96] ==============================================================\n"
       ]
      },
      {
       "output_type": "stream",
       "stream": "stdout",
       "text": [
        "[      96] Solving over interval [ 4.54000e-01, 4.55000e-01]\n",
        "[      96] ==============================================================\n",
        "[      96] ==============================================================\n"
       ]
      },
      {
       "output_type": "stream",
       "stream": "stdout",
       "text": [
        "[      96] Solving over interval [ 4.55000e-01, 4.56000e-01]\n",
        "[      96] ==============================================================\n",
        "[      97] ==============================================================\n"
       ]
      },
      {
       "output_type": "stream",
       "stream": "stdout",
       "text": [
        "[      97] Solving over interval [ 4.56000e-01, 4.57000e-01]\n",
        "[      97] ==============================================================\n",
        "[      97] ==============================================================\n"
       ]
      },
      {
       "output_type": "stream",
       "stream": "stdout",
       "text": [
        "[      97] Solving over interval [ 4.57000e-01, 4.58000e-01]\n",
        "[      97] ==============================================================\n",
        "[      97] ==============================================================\n"
       ]
      },
      {
       "output_type": "stream",
       "stream": "stdout",
       "text": [
        "[      97] Solving over interval [ 4.58000e-01, 4.59000e-01]\n",
        "[      97] ==============================================================\n",
        "[      98] ==============================================================\n"
       ]
      },
      {
       "output_type": "stream",
       "stream": "stdout",
       "text": [
        "[      98] Solving over interval [ 4.59000e-01, 4.60000e-01]\n",
        "[      98] ==============================================================\n",
        "[      98] ==============================================================\n"
       ]
      },
      {
       "output_type": "stream",
       "stream": "stdout",
       "text": [
        "[      98] Solving over interval [ 4.60000e-01, 4.61000e-01]\n",
        "[      98] ==============================================================\n",
        "[      98] ==============================================================\n"
       ]
      },
      {
       "output_type": "stream",
       "stream": "stdout",
       "text": [
        "[      98] Solving over interval [ 4.61000e-01, 4.62000e-01]\n",
        "[      98] ==============================================================\n",
        "[      99] ==============================================================\n"
       ]
      },
      {
       "output_type": "stream",
       "stream": "stdout",
       "text": [
        "[      99] Solving over interval [ 4.62000e-01, 4.63000e-01]\n",
        "[      99] ==============================================================\n",
        "[      99] ==============================================================\n"
       ]
      },
      {
       "output_type": "stream",
       "stream": "stdout",
       "text": [
        "[      99] Solving over interval [ 4.63000e-01, 4.64000e-01]\n",
        "[      99] ==============================================================\n",
        "[      99] ==============================================================\n"
       ]
      },
      {
       "output_type": "stream",
       "stream": "stdout",
       "text": [
        "[      99] Solving over interval [ 4.64000e-01, 4.65000e-01]\n",
        "[      99] ==============================================================\n",
        "[     100] ==============================================================\n"
       ]
      },
      {
       "output_type": "stream",
       "stream": "stdout",
       "text": [
        "[     100] Solving over interval [ 4.65000e-01, 4.66000e-01]\n",
        "[     100] ==============================================================\n",
        "[     100] ==============================================================\n"
       ]
      },
      {
       "output_type": "stream",
       "stream": "stdout",
       "text": [
        "[     100] Solving over interval [ 4.66000e-01, 4.67000e-01]\n",
        "[     100] ==============================================================\n",
        "[     100] ==============================================================\n"
       ]
      },
      {
       "output_type": "stream",
       "stream": "stdout",
       "text": [
        "[     100] Solving over interval [ 4.67000e-01, 4.68000e-01]\n",
        "[     100] ==============================================================\n",
        "[     101] ==============================================================\n"
       ]
      },
      {
       "output_type": "stream",
       "stream": "stdout",
       "text": [
        "[     101] Solving over interval [ 4.68000e-01, 4.69000e-01]\n",
        "[     101] ==============================================================\n",
        "[     101] ==============================================================\n"
       ]
      },
      {
       "output_type": "stream",
       "stream": "stdout",
       "text": [
        "[     101] Solving over interval [ 4.69000e-01, 4.70000e-01]\n",
        "[     101] ==============================================================\n",
        "[     101] ==============================================================\n"
       ]
      },
      {
       "output_type": "stream",
       "stream": "stdout",
       "text": [
        "[     101] Solving over interval [ 4.70000e-01, 4.71000e-01]\n",
        "[     101] ==============================================================\n",
        "[     102] ==============================================================\n"
       ]
      },
      {
       "output_type": "stream",
       "stream": "stdout",
       "text": [
        "[     102] Solving over interval [ 4.71000e-01, 4.72000e-01]\n",
        "[     102] ==============================================================\n",
        "[     102] ==============================================================\n"
       ]
      },
      {
       "output_type": "stream",
       "stream": "stdout",
       "text": [
        "[     102] Solving over interval [ 4.72000e-01, 4.73000e-01]\n",
        "[     102] ==============================================================\n",
        "[     102] ==============================================================\n"
       ]
      },
      {
       "output_type": "stream",
       "stream": "stdout",
       "text": [
        "[     102] Solving over interval [ 4.73000e-01, 4.74000e-01]\n",
        "[     102] ==============================================================\n",
        "[     103] ==============================================================\n"
       ]
      },
      {
       "output_type": "stream",
       "stream": "stdout",
       "text": [
        "[     103] Solving over interval [ 4.74000e-01, 4.75000e-01]\n",
        "[     103] ==============================================================\n",
        "[     103] ==============================================================\n"
       ]
      },
      {
       "output_type": "stream",
       "stream": "stdout",
       "text": [
        "[     103] Solving over interval [ 4.75000e-01, 4.76000e-01]\n",
        "[     103] ==============================================================\n",
        "[     104] ==============================================================\n"
       ]
      },
      {
       "output_type": "stream",
       "stream": "stdout",
       "text": [
        "[     104] Solving over interval [ 4.76000e-01, 4.77000e-01]\n",
        "[     104] ==============================================================\n",
        "[     104] ==============================================================\n"
       ]
      },
      {
       "output_type": "stream",
       "stream": "stdout",
       "text": [
        "[     104] Solving over interval [ 4.77000e-01, 4.78000e-01]\n",
        "[     104] ==============================================================\n",
        "[     104] ==============================================================\n"
       ]
      },
      {
       "output_type": "stream",
       "stream": "stdout",
       "text": [
        "[     104] Solving over interval [ 4.78000e-01, 4.79000e-01]\n",
        "[     104] ==============================================================\n",
        "[     105] ==============================================================\n"
       ]
      },
      {
       "output_type": "stream",
       "stream": "stdout",
       "text": [
        "[     105] Solving over interval [ 4.79000e-01, 4.80000e-01]\n",
        "[     105] ==============================================================\n",
        "[     105] ==============================================================\n"
       ]
      },
      {
       "output_type": "stream",
       "stream": "stdout",
       "text": [
        "[     105] Solving over interval [ 4.80000e-01, 4.81000e-01]\n",
        "[     105] ==============================================================\n",
        "[     105] ==============================================================\n"
       ]
      },
      {
       "output_type": "stream",
       "stream": "stdout",
       "text": [
        "[     105] Solving over interval [ 4.81000e-01, 4.82000e-01]\n",
        "[     105] ==============================================================\n",
        "[     106] ==============================================================\n"
       ]
      },
      {
       "output_type": "stream",
       "stream": "stdout",
       "text": [
        "[     106] Solving over interval [ 4.82000e-01, 4.83000e-01]\n",
        "[     106] ==============================================================\n",
        "[     106] ==============================================================\n"
       ]
      },
      {
       "output_type": "stream",
       "stream": "stdout",
       "text": [
        "[     106] Solving over interval [ 4.83000e-01, 4.84000e-01]\n",
        "[     106] ==============================================================\n",
        "[     106] ==============================================================\n"
       ]
      },
      {
       "output_type": "stream",
       "stream": "stdout",
       "text": [
        "[     106] Solving over interval [ 4.84000e-01, 4.85000e-01]\n",
        "[     106] ==============================================================\n",
        "[     107] ==============================================================\n"
       ]
      },
      {
       "output_type": "stream",
       "stream": "stdout",
       "text": [
        "[     107] Solving over interval [ 4.85000e-01, 4.86000e-01]\n",
        "[     107] ==============================================================\n",
        "[     107] ==============================================================\n"
       ]
      },
      {
       "output_type": "stream",
       "stream": "stdout",
       "text": [
        "[     107] Solving over interval [ 4.86000e-01, 4.87000e-01]\n",
        "[     107] ==============================================================\n",
        "[     107] ==============================================================\n"
       ]
      },
      {
       "output_type": "stream",
       "stream": "stdout",
       "text": [
        "[     107] Solving over interval [ 4.87000e-01, 4.88000e-01]\n",
        "[     107] ==============================================================\n",
        "[     108] ==============================================================\n"
       ]
      },
      {
       "output_type": "stream",
       "stream": "stdout",
       "text": [
        "[     108] Solving over interval [ 4.88000e-01, 4.89000e-01]\n",
        "[     108] ==============================================================\n",
        "[     108] ==============================================================\n"
       ]
      },
      {
       "output_type": "stream",
       "stream": "stdout",
       "text": [
        "[     108] Solving over interval [ 4.89000e-01, 4.90000e-01]\n",
        "[     108] ==============================================================\n",
        "[     108] ==============================================================\n"
       ]
      },
      {
       "output_type": "stream",
       "stream": "stdout",
       "text": [
        "[     108] Solving over interval [ 4.90000e-01, 4.91000e-01]\n",
        "[     108] ==============================================================\n",
        "[     109] ==============================================================\n"
       ]
      },
      {
       "output_type": "stream",
       "stream": "stdout",
       "text": [
        "[     109] Solving over interval [ 4.91000e-01, 4.92000e-01]\n",
        "[     109] ==============================================================\n",
        "[     109] ==============================================================\n"
       ]
      },
      {
       "output_type": "stream",
       "stream": "stdout",
       "text": [
        "[     109] Solving over interval [ 4.92000e-01, 4.93000e-01]\n",
        "[     109] ==============================================================\n",
        "[     110] ==============================================================\n"
       ]
      },
      {
       "output_type": "stream",
       "stream": "stdout",
       "text": [
        "[     110] Solving over interval [ 4.93000e-01, 4.94000e-01]\n",
        "[     110] ==============================================================\n",
        "[     110] ==============================================================\n"
       ]
      },
      {
       "output_type": "stream",
       "stream": "stdout",
       "text": [
        "[     110] Solving over interval [ 4.94000e-01, 4.95000e-01]\n",
        "[     110] ==============================================================\n",
        "[     110] ==============================================================\n"
       ]
      },
      {
       "output_type": "stream",
       "stream": "stdout",
       "text": [
        "[     110] Solving over interval [ 4.95000e-01, 4.96000e-01]\n",
        "[     110] ==============================================================\n",
        "[     111] ==============================================================\n"
       ]
      },
      {
       "output_type": "stream",
       "stream": "stdout",
       "text": [
        "[     111] Solving over interval [ 4.96000e-01, 4.97000e-01]\n",
        "[     111] ==============================================================\n",
        "[     111] ==============================================================\n"
       ]
      },
      {
       "output_type": "stream",
       "stream": "stdout",
       "text": [
        "[     111] Solving over interval [ 4.97000e-01, 4.98000e-01]\n",
        "[     111] ==============================================================\n",
        "[     111] ==============================================================\n"
       ]
      },
      {
       "output_type": "stream",
       "stream": "stdout",
       "text": [
        "[     111] Solving over interval [ 4.98000e-01, 4.99000e-01]\n",
        "[     111] ==============================================================\n",
        "[     112] ==============================================================\n"
       ]
      },
      {
       "output_type": "stream",
       "stream": "stdout",
       "text": [
        "[     112] Solving over interval [ 4.99000e-01, 5.00000e-01]\n",
        "[     112] ==============================================================\n",
        "[     112] ==============================================================\n"
       ]
      },
      {
       "output_type": "stream",
       "stream": "stdout",
       "text": [
        "[     112] Solving over interval [ 5.00000e-01, 5.01000e-01]\n",
        "[     112] ==============================================================\n",
        "[     112] ==============================================================\n"
       ]
      },
      {
       "output_type": "stream",
       "stream": "stdout",
       "text": [
        "[     112] Solving over interval [ 5.01000e-01, 5.02000e-01]\n",
        "[     112] ==============================================================\n",
        "[     113] ==============================================================\n"
       ]
      },
      {
       "output_type": "stream",
       "stream": "stdout",
       "text": [
        "[     113] Solving over interval [ 5.02000e-01, 5.03000e-01]\n",
        "[     113] ==============================================================\n",
        "[     113] ==============================================================\n"
       ]
      },
      {
       "output_type": "stream",
       "stream": "stdout",
       "text": [
        "[     113] Solving over interval [ 5.03000e-01, 5.04000e-01]\n",
        "[     113] ==============================================================\n",
        "[     114] ==============================================================\n"
       ]
      },
      {
       "output_type": "stream",
       "stream": "stdout",
       "text": [
        "[     114] Solving over interval [ 5.04000e-01, 5.05000e-01]\n",
        "[     114] ==============================================================\n",
        "[     114] ==============================================================\n"
       ]
      },
      {
       "output_type": "stream",
       "stream": "stdout",
       "text": [
        "[     114] Solving over interval [ 5.05000e-01, 5.06000e-01]\n",
        "[     114] ==============================================================\n",
        "[     114] ==============================================================\n"
       ]
      },
      {
       "output_type": "stream",
       "stream": "stdout",
       "text": [
        "[     114] Solving over interval [ 5.06000e-01, 5.07000e-01]\n",
        "[     114] ==============================================================\n",
        "[     115] ==============================================================\n"
       ]
      },
      {
       "output_type": "stream",
       "stream": "stdout",
       "text": [
        "[     115] Solving over interval [ 5.07000e-01, 5.08000e-01]\n",
        "[     115] ==============================================================\n",
        "[     115] ==============================================================\n"
       ]
      },
      {
       "output_type": "stream",
       "stream": "stdout",
       "text": [
        "[     115] Solving over interval [ 5.08000e-01, 5.09000e-01]\n",
        "[     115] ==============================================================\n",
        "[     115] ==============================================================\n"
       ]
      },
      {
       "output_type": "stream",
       "stream": "stdout",
       "text": [
        "[     115] Solving over interval [ 5.09000e-01, 5.10000e-01]\n",
        "[     115] ==============================================================\n",
        "[     116] ==============================================================\n"
       ]
      },
      {
       "output_type": "stream",
       "stream": "stdout",
       "text": [
        "[     116] Solving over interval [ 5.10000e-01, 5.11000e-01]\n",
        "[     116] ==============================================================\n",
        "[     116] ==============================================================\n"
       ]
      },
      {
       "output_type": "stream",
       "stream": "stdout",
       "text": [
        "[     116] Solving over interval [ 5.11000e-01, 5.12000e-01]\n",
        "[     116] ==============================================================\n",
        "[     116] ==============================================================\n"
       ]
      },
      {
       "output_type": "stream",
       "stream": "stdout",
       "text": [
        "[     116] Solving over interval [ 5.12000e-01, 5.13000e-01]\n",
        "[     116] ==============================================================\n",
        "[     117] ==============================================================\n"
       ]
      },
      {
       "output_type": "stream",
       "stream": "stdout",
       "text": [
        "[     117] Solving over interval [ 5.13000e-01, 5.14000e-01]\n",
        "[     117] ==============================================================\n",
        "[     117] ==============================================================\n"
       ]
      },
      {
       "output_type": "stream",
       "stream": "stdout",
       "text": [
        "[     117] Solving over interval [ 5.14000e-01, 5.15000e-01]\n",
        "[     117] ==============================================================\n",
        "[     118] ==============================================================\n"
       ]
      },
      {
       "output_type": "stream",
       "stream": "stdout",
       "text": [
        "[     118] Solving over interval [ 5.15000e-01, 5.16000e-01]\n",
        "[     118] ==============================================================\n",
        "[     118] ==============================================================\n"
       ]
      },
      {
       "output_type": "stream",
       "stream": "stdout",
       "text": [
        "[     118] Solving over interval [ 5.16000e-01, 5.17000e-01]\n",
        "[     118] ==============================================================\n",
        "[     118] ==============================================================\n"
       ]
      },
      {
       "output_type": "stream",
       "stream": "stdout",
       "text": [
        "[     118] Solving over interval [ 5.17000e-01, 5.18000e-01]\n",
        "[     118] ==============================================================\n",
        "[     119] ==============================================================\n"
       ]
      },
      {
       "output_type": "stream",
       "stream": "stdout",
       "text": [
        "[     119] Solving over interval [ 5.18000e-01, 5.19000e-01]\n",
        "[     119] ==============================================================\n",
        "[     119] ==============================================================\n"
       ]
      },
      {
       "output_type": "stream",
       "stream": "stdout",
       "text": [
        "[     119] Solving over interval [ 5.19000e-01, 5.20000e-01]\n",
        "[     119] ==============================================================\n",
        "[     119] ==============================================================\n"
       ]
      },
      {
       "output_type": "stream",
       "stream": "stdout",
       "text": [
        "[     119] Solving over interval [ 5.20000e-01, 5.21000e-01]\n",
        "[     119] ==============================================================\n",
        "[     120] ==============================================================\n"
       ]
      },
      {
       "output_type": "stream",
       "stream": "stdout",
       "text": [
        "[     120] Solving over interval [ 5.21000e-01, 5.22000e-01]\n",
        "[     120] ==============================================================\n",
        "[     120] ==============================================================\n"
       ]
      },
      {
       "output_type": "stream",
       "stream": "stdout",
       "text": [
        "[     120] Solving over interval [ 5.22000e-01, 5.23000e-01]\n",
        "[     120] ==============================================================\n",
        "[     121] ==============================================================\n"
       ]
      },
      {
       "output_type": "stream",
       "stream": "stdout",
       "text": [
        "[     121] Solving over interval [ 5.23000e-01, 5.24000e-01]\n",
        "[     121] ==============================================================\n",
        "[     121] ==============================================================\n"
       ]
      },
      {
       "output_type": "stream",
       "stream": "stdout",
       "text": [
        "[     121] Solving over interval [ 5.24000e-01, 5.25000e-01]\n",
        "[     121] ==============================================================\n",
        "[     121] ==============================================================\n"
       ]
      },
      {
       "output_type": "stream",
       "stream": "stdout",
       "text": [
        "[     121] Solving over interval [ 5.25000e-01, 5.26000e-01]\n",
        "[     121] ==============================================================\n",
        "[     122] ==============================================================\n"
       ]
      },
      {
       "output_type": "stream",
       "stream": "stdout",
       "text": [
        "[     122] Solving over interval [ 5.26000e-01, 5.27000e-01]\n",
        "[     122] ==============================================================\n",
        "[     122] ==============================================================\n"
       ]
      },
      {
       "output_type": "stream",
       "stream": "stdout",
       "text": [
        "[     122] Solving over interval [ 5.27000e-01, 5.28000e-01]\n",
        "[     122] ==============================================================\n",
        "[     123] ==============================================================\n"
       ]
      },
      {
       "output_type": "stream",
       "stream": "stdout",
       "text": [
        "[     123] Solving over interval [ 5.28000e-01, 5.29000e-01]\n",
        "[     123] ==============================================================\n",
        "[     123] ==============================================================\n"
       ]
      },
      {
       "output_type": "stream",
       "stream": "stdout",
       "text": [
        "[     123] Solving over interval [ 5.29000e-01, 5.30000e-01]\n",
        "[     123] ==============================================================\n",
        "[     123] ==============================================================\n"
       ]
      },
      {
       "output_type": "stream",
       "stream": "stdout",
       "text": [
        "[     123] Solving over interval [ 5.30000e-01, 5.31000e-01]\n",
        "[     123] ==============================================================\n",
        "[     124] ==============================================================\n"
       ]
      },
      {
       "output_type": "stream",
       "stream": "stdout",
       "text": [
        "[     124] Solving over interval [ 5.31000e-01, 5.32000e-01]\n",
        "[     124] ==============================================================\n",
        "[     124] ==============================================================\n"
       ]
      },
      {
       "output_type": "stream",
       "stream": "stdout",
       "text": [
        "[     124] Solving over interval [ 5.32000e-01, 5.33000e-01]\n",
        "[     124] ==============================================================\n",
        "[     125] ==============================================================\n"
       ]
      },
      {
       "output_type": "stream",
       "stream": "stdout",
       "text": [
        "[     125] Solving over interval [ 5.33000e-01, 5.34000e-01]\n",
        "[     125] ==============================================================\n",
        "[     125] ==============================================================\n"
       ]
      },
      {
       "output_type": "stream",
       "stream": "stdout",
       "text": [
        "[     125] Solving over interval [ 5.34000e-01, 5.35000e-01]\n",
        "[     125] ==============================================================\n",
        "[     125] ==============================================================\n"
       ]
      },
      {
       "output_type": "stream",
       "stream": "stdout",
       "text": [
        "[     125] Solving over interval [ 5.35000e-01, 5.36000e-01]\n",
        "[     125] ==============================================================\n",
        "[     126] ==============================================================\n"
       ]
      },
      {
       "output_type": "stream",
       "stream": "stdout",
       "text": [
        "[     126] Solving over interval [ 5.36000e-01, 5.37000e-01]\n",
        "[     126] ==============================================================\n",
        "[     126] ==============================================================\n"
       ]
      },
      {
       "output_type": "stream",
       "stream": "stdout",
       "text": [
        "[     126] Solving over interval [ 5.37000e-01, 5.38000e-01]\n",
        "[     126] ==============================================================\n",
        "[     127] ==============================================================\n"
       ]
      },
      {
       "output_type": "stream",
       "stream": "stdout",
       "text": [
        "[     127] Solving over interval [ 5.38000e-01, 5.39000e-01]\n",
        "[     127] ==============================================================\n",
        "[     127] ==============================================================\n"
       ]
      },
      {
       "output_type": "stream",
       "stream": "stdout",
       "text": [
        "[     127] Solving over interval [ 5.39000e-01, 5.40000e-01]\n",
        "[     127] ==============================================================\n",
        "[     127] ==============================================================\n"
       ]
      },
      {
       "output_type": "stream",
       "stream": "stdout",
       "text": [
        "[     127] Solving over interval [ 5.40000e-01, 5.41000e-01]\n",
        "[     127] ==============================================================\n",
        "[     128] ==============================================================\n"
       ]
      },
      {
       "output_type": "stream",
       "stream": "stdout",
       "text": [
        "[     128] Solving over interval [ 5.41000e-01, 5.42000e-01]\n",
        "[     128] ==============================================================\n",
        "[     128] ==============================================================\n"
       ]
      },
      {
       "output_type": "stream",
       "stream": "stdout",
       "text": [
        "[     128] Solving over interval [ 5.42000e-01, 5.43000e-01]\n",
        "[     128] ==============================================================\n",
        "[     128] ==============================================================\n"
       ]
      },
      {
       "output_type": "stream",
       "stream": "stdout",
       "text": [
        "[     128] Solving over interval [ 5.43000e-01, 5.44000e-01]\n",
        "[     128] ==============================================================\n",
        "[     129] ==============================================================\n"
       ]
      },
      {
       "output_type": "stream",
       "stream": "stdout",
       "text": [
        "[     129] Solving over interval [ 5.44000e-01, 5.45000e-01]\n",
        "[     129] ==============================================================\n",
        "[     129] ==============================================================\n"
       ]
      },
      {
       "output_type": "stream",
       "stream": "stdout",
       "text": [
        "[     129] Solving over interval [ 5.45000e-01, 5.46000e-01]\n",
        "[     129] ==============================================================\n",
        "[     130] ==============================================================\n"
       ]
      },
      {
       "output_type": "stream",
       "stream": "stdout",
       "text": [
        "[     130] Solving over interval [ 5.46000e-01, 5.47000e-01]\n",
        "[     130] ==============================================================\n",
        "[     130] ==============================================================\n"
       ]
      },
      {
       "output_type": "stream",
       "stream": "stdout",
       "text": [
        "[     130] Solving over interval [ 5.47000e-01, 5.48000e-01]\n",
        "[     130] ==============================================================\n",
        "[     130] ==============================================================\n"
       ]
      },
      {
       "output_type": "stream",
       "stream": "stdout",
       "text": [
        "[     130] Solving over interval [ 5.48000e-01, 5.49000e-01]\n",
        "[     130] ==============================================================\n",
        "[     131] ==============================================================\n"
       ]
      },
      {
       "output_type": "stream",
       "stream": "stdout",
       "text": [
        "[     131] Solving over interval [ 5.49000e-01, 5.50000e-01]\n",
        "[     131] ==============================================================\n",
        "[     131] ==============================================================\n"
       ]
      },
      {
       "output_type": "stream",
       "stream": "stdout",
       "text": [
        "[     131] Solving over interval [ 5.50000e-01, 5.51000e-01]\n",
        "[     131] ==============================================================\n",
        "[     132] ==============================================================\n"
       ]
      },
      {
       "output_type": "stream",
       "stream": "stdout",
       "text": [
        "[     132] Solving over interval [ 5.51000e-01, 5.52000e-01]\n",
        "[     132] ==============================================================\n",
        "[     132] ==============================================================\n"
       ]
      },
      {
       "output_type": "stream",
       "stream": "stdout",
       "text": [
        "[     132] Solving over interval [ 5.52000e-01, 5.53000e-01]\n",
        "[     132] ==============================================================\n",
        "[     132] ==============================================================\n"
       ]
      },
      {
       "output_type": "stream",
       "stream": "stdout",
       "text": [
        "[     132] Solving over interval [ 5.53000e-01, 5.54000e-01]\n",
        "[     132] ==============================================================\n",
        "[     133] ==============================================================\n"
       ]
      },
      {
       "output_type": "stream",
       "stream": "stdout",
       "text": [
        "[     133] Solving over interval [ 5.54000e-01, 5.55000e-01]\n",
        "[     133] ==============================================================\n",
        "[     133] ==============================================================\n"
       ]
      },
      {
       "output_type": "stream",
       "stream": "stdout",
       "text": [
        "[     133] Solving over interval [ 5.55000e-01, 5.56000e-01]\n",
        "[     133] ==============================================================\n",
        "[     134] ==============================================================\n"
       ]
      },
      {
       "output_type": "stream",
       "stream": "stdout",
       "text": [
        "[     134] Solving over interval [ 5.56000e-01, 5.57000e-01]\n",
        "[     134] ==============================================================\n",
        "[     134] ==============================================================\n"
       ]
      },
      {
       "output_type": "stream",
       "stream": "stdout",
       "text": [
        "[     134] Solving over interval [ 5.57000e-01, 5.58000e-01]\n",
        "[     134] ==============================================================\n",
        "[     134] ==============================================================\n"
       ]
      },
      {
       "output_type": "stream",
       "stream": "stdout",
       "text": [
        "[     134] Solving over interval [ 5.58000e-01, 5.59000e-01]\n",
        "[     134] ==============================================================\n",
        "[     135] ==============================================================\n"
       ]
      },
      {
       "output_type": "stream",
       "stream": "stdout",
       "text": [
        "[     135] Solving over interval [ 5.59000e-01, 5.60000e-01]\n",
        "[     135] ==============================================================\n",
        "[     135] ==============================================================\n"
       ]
      },
      {
       "output_type": "stream",
       "stream": "stdout",
       "text": [
        "[     135] Solving over interval [ 5.60000e-01, 5.61000e-01]\n",
        "[     135] ==============================================================\n",
        "[     136] ==============================================================\n"
       ]
      },
      {
       "output_type": "stream",
       "stream": "stdout",
       "text": [
        "[     136] Solving over interval [ 5.61000e-01, 5.62000e-01]\n",
        "[     136] ==============================================================\n",
        "[     136] ==============================================================\n"
       ]
      },
      {
       "output_type": "stream",
       "stream": "stdout",
       "text": [
        "[     136] Solving over interval [ 5.62000e-01, 5.63000e-01]\n",
        "[     136] ==============================================================\n",
        "[     136] ==============================================================\n"
       ]
      },
      {
       "output_type": "stream",
       "stream": "stdout",
       "text": [
        "[     136] Solving over interval [ 5.63000e-01, 5.64000e-01]\n",
        "[     136] ==============================================================\n",
        "[     137] ==============================================================\n"
       ]
      },
      {
       "output_type": "stream",
       "stream": "stdout",
       "text": [
        "[     137] Solving over interval [ 5.64000e-01, 5.65000e-01]\n",
        "[     137] ==============================================================\n",
        "[     137] ==============================================================\n"
       ]
      },
      {
       "output_type": "stream",
       "stream": "stdout",
       "text": [
        "[     137] Solving over interval [ 5.65000e-01, 5.66000e-01]\n",
        "[     137] ==============================================================\n",
        "[     138] ==============================================================\n"
       ]
      },
      {
       "output_type": "stream",
       "stream": "stdout",
       "text": [
        "[     138] Solving over interval [ 5.66000e-01, 5.67000e-01]\n",
        "[     138] ==============================================================\n",
        "[     138] ==============================================================\n"
       ]
      },
      {
       "output_type": "stream",
       "stream": "stdout",
       "text": [
        "[     138] Solving over interval [ 5.67000e-01, 5.68000e-01]\n",
        "[     138] ==============================================================\n",
        "[     139] ==============================================================\n"
       ]
      },
      {
       "output_type": "stream",
       "stream": "stdout",
       "text": [
        "[     139] Solving over interval [ 5.68000e-01, 5.69000e-01]\n",
        "[     139] ==============================================================\n",
        "[     139] ==============================================================\n"
       ]
      },
      {
       "output_type": "stream",
       "stream": "stdout",
       "text": [
        "[     139] Solving over interval [ 5.69000e-01, 5.70000e-01]\n",
        "[     139] ==============================================================\n",
        "[     139] ==============================================================\n"
       ]
      },
      {
       "output_type": "stream",
       "stream": "stdout",
       "text": [
        "[     139] Solving over interval [ 5.70000e-01, 5.71000e-01]\n",
        "[     139] ==============================================================\n",
        "[     140] ==============================================================\n"
       ]
      },
      {
       "output_type": "stream",
       "stream": "stdout",
       "text": [
        "[     140] Solving over interval [ 5.71000e-01, 5.72000e-01]\n",
        "[     140] ==============================================================\n",
        "[     140] ==============================================================\n"
       ]
      },
      {
       "output_type": "stream",
       "stream": "stdout",
       "text": [
        "[     140] Solving over interval [ 5.72000e-01, 5.73000e-01]\n",
        "[     140] ==============================================================\n",
        "[     141] ==============================================================\n"
       ]
      },
      {
       "output_type": "stream",
       "stream": "stdout",
       "text": [
        "[     141] Solving over interval [ 5.73000e-01, 5.74000e-01]\n",
        "[     141] ==============================================================\n",
        "[     141] ==============================================================\n"
       ]
      },
      {
       "output_type": "stream",
       "stream": "stdout",
       "text": [
        "[     141] Solving over interval [ 5.74000e-01, 5.75000e-01]\n",
        "[     141] ==============================================================\n",
        "[     141] ==============================================================\n"
       ]
      },
      {
       "output_type": "stream",
       "stream": "stdout",
       "text": [
        "[     141] Solving over interval [ 5.75000e-01, 5.76000e-01]\n",
        "[     141] ==============================================================\n",
        "[     142] ==============================================================\n"
       ]
      },
      {
       "output_type": "stream",
       "stream": "stdout",
       "text": [
        "[     142] Solving over interval [ 5.76000e-01, 5.77000e-01]\n",
        "[     142] ==============================================================\n",
        "[     142] ==============================================================\n"
       ]
      },
      {
       "output_type": "stream",
       "stream": "stdout",
       "text": [
        "[     142] Solving over interval [ 5.77000e-01, 5.78000e-01]\n",
        "[     142] ==============================================================\n",
        "[     143] ==============================================================\n"
       ]
      },
      {
       "output_type": "stream",
       "stream": "stdout",
       "text": [
        "[     143] Solving over interval [ 5.78000e-01, 5.79000e-01]\n",
        "[     143] ==============================================================\n",
        "[     143] ==============================================================\n"
       ]
      },
      {
       "output_type": "stream",
       "stream": "stdout",
       "text": [
        "[     143] Solving over interval [ 5.79000e-01, 5.80000e-01]\n",
        "[     143] ==============================================================\n",
        "[     144] ==============================================================\n"
       ]
      },
      {
       "output_type": "stream",
       "stream": "stdout",
       "text": [
        "[     144] Solving over interval [ 5.80000e-01, 5.81000e-01]\n",
        "[     144] ==============================================================\n",
        "[     144] ==============================================================\n"
       ]
      },
      {
       "output_type": "stream",
       "stream": "stdout",
       "text": [
        "[     144] Solving over interval [ 5.81000e-01, 5.82000e-01]\n",
        "[     144] ==============================================================\n",
        "[     144] ==============================================================\n"
       ]
      },
      {
       "output_type": "stream",
       "stream": "stdout",
       "text": [
        "[     144] Solving over interval [ 5.82000e-01, 5.83000e-01]\n",
        "[     144] ==============================================================\n",
        "[     145] ==============================================================\n"
       ]
      },
      {
       "output_type": "stream",
       "stream": "stdout",
       "text": [
        "[     145] Solving over interval [ 5.83000e-01, 5.84000e-01]\n",
        "[     145] ==============================================================\n",
        "[     145] ==============================================================\n"
       ]
      },
      {
       "output_type": "stream",
       "stream": "stdout",
       "text": [
        "[     145] Solving over interval [ 5.84000e-01, 5.85000e-01]\n",
        "[     145] ==============================================================\n",
        "[     146] ==============================================================\n"
       ]
      },
      {
       "output_type": "stream",
       "stream": "stdout",
       "text": [
        "[     146] Solving over interval [ 5.85000e-01, 5.86000e-01]\n",
        "[     146] ==============================================================\n",
        "[     146] ==============================================================\n"
       ]
      },
      {
       "output_type": "stream",
       "stream": "stdout",
       "text": [
        "[     146] Solving over interval [ 5.86000e-01, 5.87000e-01]\n",
        "[     146] ==============================================================\n",
        "[     146] ==============================================================\n"
       ]
      },
      {
       "output_type": "stream",
       "stream": "stdout",
       "text": [
        "[     146] Solving over interval [ 5.87000e-01, 5.88000e-01]\n",
        "[     146] ==============================================================\n",
        "[     147] ==============================================================\n"
       ]
      },
      {
       "output_type": "stream",
       "stream": "stdout",
       "text": [
        "[     147] Solving over interval [ 5.88000e-01, 5.89000e-01]\n",
        "[     147] ==============================================================\n",
        "[     147] ==============================================================\n"
       ]
      },
      {
       "output_type": "stream",
       "stream": "stdout",
       "text": [
        "[     147] Solving over interval [ 5.89000e-01, 5.90000e-01]\n",
        "[     147] ==============================================================\n",
        "[     148] ==============================================================\n"
       ]
      },
      {
       "output_type": "stream",
       "stream": "stdout",
       "text": [
        "[     148] Solving over interval [ 5.90000e-01, 5.91000e-01]\n",
        "[     148] ==============================================================\n",
        "[     148] ==============================================================\n"
       ]
      },
      {
       "output_type": "stream",
       "stream": "stdout",
       "text": [
        "[     148] Solving over interval [ 5.91000e-01, 5.92000e-01]\n",
        "[     148] ==============================================================\n",
        "[     149] ==============================================================\n"
       ]
      },
      {
       "output_type": "stream",
       "stream": "stdout",
       "text": [
        "[     149] Solving over interval [ 5.92000e-01, 5.93000e-01]\n",
        "[     149] ==============================================================\n",
        "[     149] ==============================================================\n"
       ]
      },
      {
       "output_type": "stream",
       "stream": "stdout",
       "text": [
        "[     149] Solving over interval [ 5.93000e-01, 5.94000e-01]\n",
        "[     149] ==============================================================\n",
        "[     149] ==============================================================\n"
       ]
      },
      {
       "output_type": "stream",
       "stream": "stdout",
       "text": [
        "[     149] Solving over interval [ 5.94000e-01, 5.95000e-01]\n",
        "[     149] ==============================================================\n",
        "[     150] ==============================================================\n"
       ]
      },
      {
       "output_type": "stream",
       "stream": "stdout",
       "text": [
        "[     150] Solving over interval [ 5.95000e-01, 5.96000e-01]\n",
        "[     150] ==============================================================\n",
        "[     150] ==============================================================\n"
       ]
      },
      {
       "output_type": "stream",
       "stream": "stdout",
       "text": [
        "[     150] Solving over interval [ 5.96000e-01, 5.97000e-01]\n",
        "[     150] ==============================================================\n",
        "[     151] ==============================================================\n"
       ]
      },
      {
       "output_type": "stream",
       "stream": "stdout",
       "text": [
        "[     151] Solving over interval [ 5.97000e-01, 5.98000e-01]\n",
        "[     151] ==============================================================\n",
        "[     151] ==============================================================\n"
       ]
      },
      {
       "output_type": "stream",
       "stream": "stdout",
       "text": [
        "[     151] Solving over interval [ 5.98000e-01, 5.99000e-01]\n",
        "[     151] ==============================================================\n",
        "[     152] ==============================================================\n"
       ]
      },
      {
       "output_type": "stream",
       "stream": "stdout",
       "text": [
        "[     152] Solving over interval [ 5.99000e-01, 6.00000e-01]\n",
        "[     152] ==============================================================\n",
        "[     152] ==============================================================\n"
       ]
      },
      {
       "output_type": "stream",
       "stream": "stdout",
       "text": [
        "[     152] Solving over interval [ 6.00000e-01, 6.01000e-01]\n",
        "[     152] ==============================================================\n",
        "[     152] ==============================================================\n"
       ]
      },
      {
       "output_type": "stream",
       "stream": "stdout",
       "text": [
        "[     152] Solving over interval [ 6.01000e-01, 6.02000e-01]\n",
        "[     152] ==============================================================\n",
        "[     153] ==============================================================\n"
       ]
      },
      {
       "output_type": "stream",
       "stream": "stdout",
       "text": [
        "[     153] Solving over interval [ 6.02000e-01, 6.03000e-01]\n",
        "[     153] ==============================================================\n",
        "[     153] ==============================================================\n"
       ]
      },
      {
       "output_type": "stream",
       "stream": "stdout",
       "text": [
        "[     153] Solving over interval [ 6.03000e-01, 6.04000e-01]\n",
        "[     153] ==============================================================\n",
        "[     154] ==============================================================\n"
       ]
      },
      {
       "output_type": "stream",
       "stream": "stdout",
       "text": [
        "[     154] Solving over interval [ 6.04000e-01, 6.05000e-01]\n",
        "[     154] ==============================================================\n",
        "[     154] ==============================================================\n"
       ]
      },
      {
       "output_type": "stream",
       "stream": "stdout",
       "text": [
        "[     154] Solving over interval [ 6.05000e-01, 6.06000e-01]\n",
        "[     154] ==============================================================\n",
        "[     155] ==============================================================\n"
       ]
      },
      {
       "output_type": "stream",
       "stream": "stdout",
       "text": [
        "[     155] Solving over interval [ 6.06000e-01, 6.07000e-01]\n",
        "[     155] ==============================================================\n",
        "[     155] ==============================================================\n"
       ]
      },
      {
       "output_type": "stream",
       "stream": "stdout",
       "text": [
        "[     155] Solving over interval [ 6.07000e-01, 6.08000e-01]\n",
        "[     155] ==============================================================\n",
        "[     155] ==============================================================\n"
       ]
      },
      {
       "output_type": "stream",
       "stream": "stdout",
       "text": [
        "[     155] Solving over interval [ 6.08000e-01, 6.09000e-01]\n",
        "[     155] ==============================================================\n",
        "[     156] ==============================================================\n"
       ]
      },
      {
       "output_type": "stream",
       "stream": "stdout",
       "text": [
        "[     156] Solving over interval [ 6.09000e-01, 6.10000e-01]\n",
        "[     156] ==============================================================\n",
        "[     156] ==============================================================\n"
       ]
      },
      {
       "output_type": "stream",
       "stream": "stdout",
       "text": [
        "[     156] Solving over interval [ 6.10000e-01, 6.11000e-01]\n",
        "[     156] ==============================================================\n",
        "[     157] ==============================================================\n"
       ]
      },
      {
       "output_type": "stream",
       "stream": "stdout",
       "text": [
        "[     157] Solving over interval [ 6.11000e-01, 6.12000e-01]\n",
        "[     157] ==============================================================\n",
        "[     157] ==============================================================\n"
       ]
      },
      {
       "output_type": "stream",
       "stream": "stdout",
       "text": [
        "[     157] Solving over interval [ 6.12000e-01, 6.13000e-01]\n",
        "[     157] ==============================================================\n",
        "[     158] ==============================================================\n"
       ]
      },
      {
       "output_type": "stream",
       "stream": "stdout",
       "text": [
        "[     158] Solving over interval [ 6.13000e-01, 6.14000e-01]\n",
        "[     158] ==============================================================\n",
        "[     158] ==============================================================\n"
       ]
      },
      {
       "output_type": "stream",
       "stream": "stdout",
       "text": [
        "[     158] Solving over interval [ 6.14000e-01, 6.15000e-01]\n",
        "[     158] ==============================================================\n",
        "[     158] ==============================================================\n"
       ]
      },
      {
       "output_type": "stream",
       "stream": "stdout",
       "text": [
        "[     158] Solving over interval [ 6.15000e-01, 6.16000e-01]\n",
        "[     158] ==============================================================\n",
        "[     159] ==============================================================\n"
       ]
      },
      {
       "output_type": "stream",
       "stream": "stdout",
       "text": [
        "[     159] Solving over interval [ 6.16000e-01, 6.17000e-01]\n",
        "[     159] ==============================================================\n",
        "[     159] ==============================================================\n"
       ]
      },
      {
       "output_type": "stream",
       "stream": "stdout",
       "text": [
        "[     159] Solving over interval [ 6.17000e-01, 6.18000e-01]\n",
        "[     159] ==============================================================\n",
        "[     160] ==============================================================\n"
       ]
      },
      {
       "output_type": "stream",
       "stream": "stdout",
       "text": [
        "[     160] Solving over interval [ 6.18000e-01, 6.19000e-01]\n",
        "[     160] ==============================================================\n",
        "[     160] ==============================================================\n"
       ]
      },
      {
       "output_type": "stream",
       "stream": "stdout",
       "text": [
        "[     160] Solving over interval [ 6.19000e-01, 6.20000e-01]\n",
        "[     160] ==============================================================\n",
        "[     161] ==============================================================\n"
       ]
      },
      {
       "output_type": "stream",
       "stream": "stdout",
       "text": [
        "[     161] Solving over interval [ 6.20000e-01, 6.21000e-01]\n",
        "[     161] ==============================================================\n",
        "[     161] ==============================================================\n"
       ]
      },
      {
       "output_type": "stream",
       "stream": "stdout",
       "text": [
        "[     161] Solving over interval [ 6.21000e-01, 6.22000e-01]\n",
        "[     161] ==============================================================\n",
        "[     162] ==============================================================\n"
       ]
      },
      {
       "output_type": "stream",
       "stream": "stdout",
       "text": [
        "[     162] Solving over interval [ 6.22000e-01, 6.23000e-01]\n",
        "[     162] ==============================================================\n",
        "[     162] ==============================================================\n"
       ]
      },
      {
       "output_type": "stream",
       "stream": "stdout",
       "text": [
        "[     162] Solving over interval [ 6.23000e-01, 6.24000e-01]\n",
        "[     162] ==============================================================\n",
        "[     162] ==============================================================\n"
       ]
      },
      {
       "output_type": "stream",
       "stream": "stdout",
       "text": [
        "[     162] Solving over interval [ 6.24000e-01, 6.25000e-01]\n",
        "[     162] ==============================================================\n",
        "[     163] ==============================================================\n"
       ]
      },
      {
       "output_type": "stream",
       "stream": "stdout",
       "text": [
        "[     163] Solving over interval [ 6.25000e-01, 6.26000e-01]\n",
        "[     163] ==============================================================\n",
        "[     163] ==============================================================\n"
       ]
      },
      {
       "output_type": "stream",
       "stream": "stdout",
       "text": [
        "[     163] Solving over interval [ 6.26000e-01, 6.27000e-01]\n",
        "[     163] ==============================================================\n",
        "[     164] ==============================================================\n"
       ]
      },
      {
       "output_type": "stream",
       "stream": "stdout",
       "text": [
        "[     164] Solving over interval [ 6.27000e-01, 6.28000e-01]\n",
        "[     164] ==============================================================\n",
        "[     164] ==============================================================\n"
       ]
      },
      {
       "output_type": "stream",
       "stream": "stdout",
       "text": [
        "[     164] Solving over interval [ 6.28000e-01, 6.29000e-01]\n",
        "[     164] ==============================================================\n",
        "[     165] ==============================================================\n"
       ]
      },
      {
       "output_type": "stream",
       "stream": "stdout",
       "text": [
        "[     165] Solving over interval [ 6.29000e-01, 6.30000e-01]\n",
        "[     165] ==============================================================\n",
        "[     165] ==============================================================\n"
       ]
      },
      {
       "output_type": "stream",
       "stream": "stdout",
       "text": [
        "[     165] Solving over interval [ 6.30000e-01, 6.31000e-01]\n",
        "[     165] ==============================================================\n",
        "[     166] ==============================================================\n"
       ]
      },
      {
       "output_type": "stream",
       "stream": "stdout",
       "text": [
        "[     166] Solving over interval [ 6.31000e-01, 6.32000e-01]\n",
        "[     166] ==============================================================\n",
        "[     166] ==============================================================\n"
       ]
      },
      {
       "output_type": "stream",
       "stream": "stdout",
       "text": [
        "[     166] Solving over interval [ 6.32000e-01, 6.33000e-01]\n",
        "[     166] ==============================================================\n",
        "[     166] ==============================================================\n"
       ]
      },
      {
       "output_type": "stream",
       "stream": "stdout",
       "text": [
        "[     166] Solving over interval [ 6.33000e-01, 6.34000e-01]\n",
        "[     166] ==============================================================\n",
        "[     167] ==============================================================\n"
       ]
      },
      {
       "output_type": "stream",
       "stream": "stdout",
       "text": [
        "[     167] Solving over interval [ 6.34000e-01, 6.35000e-01]\n",
        "[     167] ==============================================================\n",
        "[     167] ==============================================================\n"
       ]
      },
      {
       "output_type": "stream",
       "stream": "stdout",
       "text": [
        "[     167] Solving over interval [ 6.35000e-01, 6.36000e-01]\n",
        "[     167] ==============================================================\n",
        "[     168] ==============================================================\n"
       ]
      },
      {
       "output_type": "stream",
       "stream": "stdout",
       "text": [
        "[     168] Solving over interval [ 6.36000e-01, 6.37000e-01]\n",
        "[     168] ==============================================================\n",
        "[     168] ==============================================================\n"
       ]
      },
      {
       "output_type": "stream",
       "stream": "stdout",
       "text": [
        "[     168] Solving over interval [ 6.37000e-01, 6.38000e-01]\n",
        "[     168] ==============================================================\n",
        "[     169] ==============================================================\n"
       ]
      },
      {
       "output_type": "stream",
       "stream": "stdout",
       "text": [
        "[     169] Solving over interval [ 6.38000e-01, 6.39000e-01]\n",
        "[     169] ==============================================================\n",
        "[     169] ==============================================================\n"
       ]
      },
      {
       "output_type": "stream",
       "stream": "stdout",
       "text": [
        "[     169] Solving over interval [ 6.39000e-01, 6.40000e-01]\n",
        "[     169] ==============================================================\n",
        "[     170] ==============================================================\n"
       ]
      },
      {
       "output_type": "stream",
       "stream": "stdout",
       "text": [
        "[     170] Solving over interval [ 6.40000e-01, 6.41000e-01]\n",
        "[     170] ==============================================================\n",
        "[     170] ==============================================================\n"
       ]
      },
      {
       "output_type": "stream",
       "stream": "stdout",
       "text": [
        "[     170] Solving over interval [ 6.41000e-01, 6.42000e-01]\n",
        "[     170] ==============================================================\n",
        "[     170] ==============================================================\n"
       ]
      },
      {
       "output_type": "stream",
       "stream": "stdout",
       "text": [
        "[     170] Solving over interval [ 6.42000e-01, 6.43000e-01]\n",
        "[     170] ==============================================================\n",
        "[     171] ==============================================================\n"
       ]
      },
      {
       "output_type": "stream",
       "stream": "stdout",
       "text": [
        "[     171] Solving over interval [ 6.43000e-01, 6.44000e-01]\n",
        "[     171] ==============================================================\n",
        "[     171] ==============================================================\n"
       ]
      },
      {
       "output_type": "stream",
       "stream": "stdout",
       "text": [
        "[     171] Solving over interval [ 6.44000e-01, 6.45000e-01]\n",
        "[     171] ==============================================================\n",
        "[     172] ==============================================================\n"
       ]
      },
      {
       "output_type": "stream",
       "stream": "stdout",
       "text": [
        "[     172] Solving over interval [ 6.45000e-01, 6.46000e-01]\n",
        "[     172] ==============================================================\n",
        "[     172] ==============================================================\n"
       ]
      },
      {
       "output_type": "stream",
       "stream": "stdout",
       "text": [
        "[     172] Solving over interval [ 6.46000e-01, 6.47000e-01]\n",
        "[     172] ==============================================================\n",
        "[     173] ==============================================================\n"
       ]
      },
      {
       "output_type": "stream",
       "stream": "stdout",
       "text": [
        "[     173] Solving over interval [ 6.47000e-01, 6.48000e-01]\n",
        "[     173] ==============================================================\n",
        "[     173] ==============================================================\n"
       ]
      },
      {
       "output_type": "stream",
       "stream": "stdout",
       "text": [
        "[     173] Solving over interval [ 6.48000e-01, 6.49000e-01]\n",
        "[     173] ==============================================================\n",
        "[     174] ==============================================================\n"
       ]
      },
      {
       "output_type": "stream",
       "stream": "stdout",
       "text": [
        "[     174] Solving over interval [ 6.49000e-01, 6.50000e-01]\n",
        "[     174] ==============================================================\n",
        "[     174] ==============================================================\n"
       ]
      },
      {
       "output_type": "stream",
       "stream": "stdout",
       "text": [
        "[     174] Solving over interval [ 6.50000e-01, 6.51000e-01]\n",
        "[     174] ==============================================================\n",
        "[     175] ==============================================================\n"
       ]
      },
      {
       "output_type": "stream",
       "stream": "stdout",
       "text": [
        "[     175] Solving over interval [ 6.51000e-01, 6.52000e-01]\n",
        "[     175] ==============================================================\n",
        "[     175] ==============================================================\n"
       ]
      },
      {
       "output_type": "stream",
       "stream": "stdout",
       "text": [
        "[     175] Solving over interval [ 6.52000e-01, 6.53000e-01]\n",
        "[     175] ==============================================================\n",
        "[     176] ==============================================================\n"
       ]
      },
      {
       "output_type": "stream",
       "stream": "stdout",
       "text": [
        "[     176] Solving over interval [ 6.53000e-01, 6.54000e-01]\n",
        "[     176] ==============================================================\n",
        "[     176] ==============================================================\n"
       ]
      },
      {
       "output_type": "stream",
       "stream": "stdout",
       "text": [
        "[     176] Solving over interval [ 6.54000e-01, 6.55000e-01]\n",
        "[     176] ==============================================================\n",
        "[     176] ==============================================================\n"
       ]
      },
      {
       "output_type": "stream",
       "stream": "stdout",
       "text": [
        "[     176] Solving over interval [ 6.55000e-01, 6.56000e-01]\n",
        "[     176] ==============================================================\n",
        "[     177] ==============================================================\n"
       ]
      },
      {
       "output_type": "stream",
       "stream": "stdout",
       "text": [
        "[     177] Solving over interval [ 6.56000e-01, 6.57000e-01]\n",
        "[     177] ==============================================================\n",
        "[     177] ==============================================================\n"
       ]
      },
      {
       "output_type": "stream",
       "stream": "stdout",
       "text": [
        "[     177] Solving over interval [ 6.57000e-01, 6.58000e-01]\n",
        "[     177] ==============================================================\n",
        "[     178] ==============================================================\n"
       ]
      },
      {
       "output_type": "stream",
       "stream": "stdout",
       "text": [
        "[     178] Solving over interval [ 6.58000e-01, 6.59000e-01]\n",
        "[     178] ==============================================================\n",
        "[     178] ==============================================================\n"
       ]
      },
      {
       "output_type": "stream",
       "stream": "stdout",
       "text": [
        "[     178] Solving over interval [ 6.59000e-01, 6.60000e-01]\n",
        "[     178] ==============================================================\n",
        "[     179] ==============================================================\n"
       ]
      },
      {
       "output_type": "stream",
       "stream": "stdout",
       "text": [
        "[     179] Solving over interval [ 6.60000e-01, 6.61000e-01]\n",
        "[     179] ==============================================================\n",
        "[     179] ==============================================================\n"
       ]
      },
      {
       "output_type": "stream",
       "stream": "stdout",
       "text": [
        "[     179] Solving over interval [ 6.61000e-01, 6.62000e-01]\n",
        "[     179] ==============================================================\n",
        "[     180] ==============================================================\n"
       ]
      },
      {
       "output_type": "stream",
       "stream": "stdout",
       "text": [
        "[     180] Solving over interval [ 6.62000e-01, 6.63000e-01]\n",
        "[     180] ==============================================================\n",
        "[     180] ==============================================================\n"
       ]
      },
      {
       "output_type": "stream",
       "stream": "stdout",
       "text": [
        "[     180] Solving over interval [ 6.63000e-01, 6.64000e-01]\n",
        "[     180] ==============================================================\n",
        "[     181] ==============================================================\n"
       ]
      },
      {
       "output_type": "stream",
       "stream": "stdout",
       "text": [
        "[     181] Solving over interval [ 6.64000e-01, 6.65000e-01]\n",
        "[     181] ==============================================================\n",
        "[     181] ==============================================================\n"
       ]
      },
      {
       "output_type": "stream",
       "stream": "stdout",
       "text": [
        "[     181] Solving over interval [ 6.65000e-01, 6.66000e-01]\n",
        "[     181] ==============================================================\n",
        "[     182] ==============================================================\n"
       ]
      },
      {
       "output_type": "stream",
       "stream": "stdout",
       "text": [
        "[     182] Solving over interval [ 6.66000e-01, 6.67000e-01]\n",
        "[     182] ==============================================================\n",
        "[     182] ==============================================================\n"
       ]
      },
      {
       "output_type": "stream",
       "stream": "stdout",
       "text": [
        "[     182] Solving over interval [ 6.67000e-01, 6.68000e-01]\n",
        "[     182] ==============================================================\n",
        "[     182] ==============================================================\n"
       ]
      },
      {
       "output_type": "stream",
       "stream": "stdout",
       "text": [
        "[     182] Solving over interval [ 6.68000e-01, 6.69000e-01]\n",
        "[     182] ==============================================================\n",
        "[     183] ==============================================================\n"
       ]
      },
      {
       "output_type": "stream",
       "stream": "stdout",
       "text": [
        "[     183] Solving over interval [ 6.69000e-01, 6.70000e-01]\n",
        "[     183] ==============================================================\n",
        "[     183] ==============================================================\n"
       ]
      },
      {
       "output_type": "stream",
       "stream": "stdout",
       "text": [
        "[     183] Solving over interval [ 6.70000e-01, 6.71000e-01]\n",
        "[     183] ==============================================================\n",
        "[     184] ==============================================================\n"
       ]
      },
      {
       "output_type": "stream",
       "stream": "stdout",
       "text": [
        "[     184] Solving over interval [ 6.71000e-01, 6.72000e-01]\n",
        "[     184] ==============================================================\n",
        "[     184] ==============================================================\n"
       ]
      },
      {
       "output_type": "stream",
       "stream": "stdout",
       "text": [
        "[     184] Solving over interval [ 6.72000e-01, 6.73000e-01]\n",
        "[     184] ==============================================================\n",
        "[     185] ==============================================================\n"
       ]
      },
      {
       "output_type": "stream",
       "stream": "stdout",
       "text": [
        "[     185] Solving over interval [ 6.73000e-01, 6.74000e-01]\n",
        "[     185] ==============================================================\n",
        "[     185] ==============================================================\n"
       ]
      },
      {
       "output_type": "stream",
       "stream": "stdout",
       "text": [
        "[     185] Solving over interval [ 6.74000e-01, 6.75000e-01]\n",
        "[     185] ==============================================================\n",
        "[     186] ==============================================================\n"
       ]
      },
      {
       "output_type": "stream",
       "stream": "stdout",
       "text": [
        "[     186] Solving over interval [ 6.75000e-01, 6.76000e-01]\n",
        "[     186] ==============================================================\n",
        "[     186] ==============================================================\n"
       ]
      },
      {
       "output_type": "stream",
       "stream": "stdout",
       "text": [
        "[     186] Solving over interval [ 6.76000e-01, 6.77000e-01]\n",
        "[     186] ==============================================================\n",
        "[     187] ==============================================================\n"
       ]
      },
      {
       "output_type": "stream",
       "stream": "stdout",
       "text": [
        "[     187] Solving over interval [ 6.77000e-01, 6.78000e-01]\n",
        "[     187] ==============================================================\n",
        "[     187] ==============================================================\n"
       ]
      },
      {
       "output_type": "stream",
       "stream": "stdout",
       "text": [
        "[     187] Solving over interval [ 6.78000e-01, 6.79000e-01]\n",
        "[     187] ==============================================================\n",
        "[     188] ==============================================================\n"
       ]
      },
      {
       "output_type": "stream",
       "stream": "stdout",
       "text": [
        "[     188] Solving over interval [ 6.79000e-01, 6.80000e-01]\n",
        "[     188] ==============================================================\n",
        "[     188] ==============================================================\n"
       ]
      },
      {
       "output_type": "stream",
       "stream": "stdout",
       "text": [
        "[     188] Solving over interval [ 6.80000e-01, 6.81000e-01]\n",
        "[     188] ==============================================================\n",
        "[     189] ==============================================================\n"
       ]
      },
      {
       "output_type": "stream",
       "stream": "stdout",
       "text": [
        "[     189] Solving over interval [ 6.81000e-01, 6.82000e-01]\n",
        "[     189] ==============================================================\n",
        "[     189] ==============================================================\n"
       ]
      },
      {
       "output_type": "stream",
       "stream": "stdout",
       "text": [
        "[     189] Solving over interval [ 6.82000e-01, 6.83000e-01]\n",
        "[     189] ==============================================================\n",
        "[     190] ==============================================================\n"
       ]
      },
      {
       "output_type": "stream",
       "stream": "stdout",
       "text": [
        "[     190] Solving over interval [ 6.83000e-01, 6.84000e-01]\n",
        "[     190] ==============================================================\n",
        "[     190] ==============================================================\n"
       ]
      },
      {
       "output_type": "stream",
       "stream": "stdout",
       "text": [
        "[     190] Solving over interval [ 6.84000e-01, 6.85000e-01]\n",
        "[     190] ==============================================================\n",
        "[     191] ==============================================================\n"
       ]
      },
      {
       "output_type": "stream",
       "stream": "stdout",
       "text": [
        "[     191] Solving over interval [ 6.85000e-01, 6.86000e-01]\n",
        "[     191] ==============================================================\n",
        "[     191] ==============================================================\n"
       ]
      },
      {
       "output_type": "stream",
       "stream": "stdout",
       "text": [
        "[     191] Solving over interval [ 6.86000e-01, 6.87000e-01]\n",
        "[     191] ==============================================================\n",
        "[     192] ==============================================================\n"
       ]
      },
      {
       "output_type": "stream",
       "stream": "stdout",
       "text": [
        "[     192] Solving over interval [ 6.87000e-01, 6.88000e-01]\n",
        "[     192] ==============================================================\n",
        "[     192] ==============================================================\n"
       ]
      },
      {
       "output_type": "stream",
       "stream": "stdout",
       "text": [
        "[     192] Solving over interval [ 6.88000e-01, 6.89000e-01]\n",
        "[     192] ==============================================================\n",
        "[     192] ==============================================================\n"
       ]
      },
      {
       "output_type": "stream",
       "stream": "stdout",
       "text": [
        "[     192] Solving over interval [ 6.89000e-01, 6.90000e-01]\n",
        "[     192] ==============================================================\n",
        "[     193] ==============================================================\n"
       ]
      },
      {
       "output_type": "stream",
       "stream": "stdout",
       "text": [
        "[     193] Solving over interval [ 6.90000e-01, 6.91000e-01]\n",
        "[     193] ==============================================================\n",
        "[     193] ==============================================================\n"
       ]
      },
      {
       "output_type": "stream",
       "stream": "stdout",
       "text": [
        "[     193] Solving over interval [ 6.91000e-01, 6.92000e-01]\n",
        "[     193] ==============================================================\n",
        "[     194] ==============================================================\n"
       ]
      },
      {
       "output_type": "stream",
       "stream": "stdout",
       "text": [
        "[     194] Solving over interval [ 6.92000e-01, 6.93000e-01]\n",
        "[     194] ==============================================================\n",
        "[     194] ==============================================================\n"
       ]
      },
      {
       "output_type": "stream",
       "stream": "stdout",
       "text": [
        "[     194] Solving over interval [ 6.93000e-01, 6.94000e-01]\n",
        "[     194] ==============================================================\n",
        "[     195] ==============================================================\n"
       ]
      },
      {
       "output_type": "stream",
       "stream": "stdout",
       "text": [
        "[     195] Solving over interval [ 6.94000e-01, 6.95000e-01]\n",
        "[     195] ==============================================================\n",
        "[     195] ==============================================================\n"
       ]
      },
      {
       "output_type": "stream",
       "stream": "stdout",
       "text": [
        "[     195] Solving over interval [ 6.95000e-01, 6.96000e-01]\n",
        "[     195] ==============================================================\n",
        "[     196] ==============================================================\n"
       ]
      },
      {
       "output_type": "stream",
       "stream": "stdout",
       "text": [
        "[     196] Solving over interval [ 6.96000e-01, 6.97000e-01]\n",
        "[     196] ==============================================================\n",
        "[     196] ==============================================================\n"
       ]
      },
      {
       "output_type": "stream",
       "stream": "stdout",
       "text": [
        "[     196] Solving over interval [ 6.97000e-01, 6.98000e-01]\n",
        "[     196] ==============================================================\n",
        "[     197] ==============================================================\n"
       ]
      },
      {
       "output_type": "stream",
       "stream": "stdout",
       "text": [
        "[     197] Solving over interval [ 6.98000e-01, 6.99000e-01]\n",
        "[     197] ==============================================================\n",
        "[     197] ==============================================================\n"
       ]
      },
      {
       "output_type": "stream",
       "stream": "stdout",
       "text": [
        "[     197] Solving over interval [ 6.99000e-01, 7.00000e-01]\n",
        "[     197] ==============================================================\n",
        "[     198] ==============================================================\n"
       ]
      },
      {
       "output_type": "stream",
       "stream": "stdout",
       "text": [
        "[     198] Solving over interval [ 7.00000e-01, 7.01000e-01]\n",
        "[     198] ==============================================================\n",
        "[     198] ==============================================================\n"
       ]
      },
      {
       "output_type": "stream",
       "stream": "stdout",
       "text": [
        "[     198] Solving over interval [ 7.01000e-01, 7.02000e-01]\n",
        "[     198] ==============================================================\n",
        "[     199] ==============================================================\n"
       ]
      },
      {
       "output_type": "stream",
       "stream": "stdout",
       "text": [
        "[     199] Solving over interval [ 7.02000e-01, 7.03000e-01]\n",
        "[     199] ==============================================================\n",
        "[     199] ==============================================================\n"
       ]
      },
      {
       "output_type": "stream",
       "stream": "stdout",
       "text": [
        "[     199] Solving over interval [ 7.03000e-01, 7.04000e-01]\n",
        "[     199] ==============================================================\n",
        "[     200] ==============================================================\n"
       ]
      },
      {
       "output_type": "stream",
       "stream": "stdout",
       "text": [
        "[     200] Solving over interval [ 7.04000e-01, 7.05000e-01]\n",
        "[     200] ==============================================================\n",
        "[     200] ==============================================================\n"
       ]
      },
      {
       "output_type": "stream",
       "stream": "stdout",
       "text": [
        "[     200] Solving over interval [ 7.05000e-01, 7.06000e-01]\n",
        "[     200] ==============================================================\n",
        "[     201] ==============================================================\n"
       ]
      },
      {
       "output_type": "stream",
       "stream": "stdout",
       "text": [
        "[     201] Solving over interval [ 7.06000e-01, 7.07000e-01]\n",
        "[     201] ==============================================================\n",
        "[     201] ==============================================================\n"
       ]
      },
      {
       "output_type": "stream",
       "stream": "stdout",
       "text": [
        "[     201] Solving over interval [ 7.07000e-01, 7.08000e-01]\n",
        "[     201] ==============================================================\n",
        "[     202] ==============================================================\n"
       ]
      },
      {
       "output_type": "stream",
       "stream": "stdout",
       "text": [
        "[     202] Solving over interval [ 7.08000e-01, 7.09000e-01]\n",
        "[     202] ==============================================================\n",
        "[     202] ==============================================================\n"
       ]
      },
      {
       "output_type": "stream",
       "stream": "stdout",
       "text": [
        "[     202] Solving over interval [ 7.09000e-01, 7.10000e-01]\n",
        "[     202] ==============================================================\n",
        "[     203] ==============================================================\n"
       ]
      },
      {
       "output_type": "stream",
       "stream": "stdout",
       "text": [
        "[     203] Solving over interval [ 7.10000e-01, 7.11000e-01]\n",
        "[     203] ==============================================================\n",
        "[     203] ==============================================================\n"
       ]
      },
      {
       "output_type": "stream",
       "stream": "stdout",
       "text": [
        "[     203] Solving over interval [ 7.11000e-01, 7.12000e-01]\n",
        "[     203] ==============================================================\n",
        "[     204] ==============================================================\n"
       ]
      },
      {
       "output_type": "stream",
       "stream": "stdout",
       "text": [
        "[     204] Solving over interval [ 7.12000e-01, 7.13000e-01]\n",
        "[     204] ==============================================================\n",
        "[     204] ==============================================================\n"
       ]
      },
      {
       "output_type": "stream",
       "stream": "stdout",
       "text": [
        "[     204] Solving over interval [ 7.13000e-01, 7.14000e-01]\n",
        "[     204] ==============================================================\n",
        "[     205] ==============================================================\n"
       ]
      },
      {
       "output_type": "stream",
       "stream": "stdout",
       "text": [
        "[     205] Solving over interval [ 7.14000e-01, 7.15000e-01]\n",
        "[     205] ==============================================================\n",
        "[     205] ==============================================================\n"
       ]
      },
      {
       "output_type": "stream",
       "stream": "stdout",
       "text": [
        "[     205] Solving over interval [ 7.15000e-01, 7.16000e-01]\n",
        "[     205] ==============================================================\n",
        "[     206] ==============================================================\n"
       ]
      },
      {
       "output_type": "stream",
       "stream": "stdout",
       "text": [
        "[     206] Solving over interval [ 7.16000e-01, 7.17000e-01]\n",
        "[     206] ==============================================================\n",
        "[     206] ==============================================================\n"
       ]
      },
      {
       "output_type": "stream",
       "stream": "stdout",
       "text": [
        "[     206] Solving over interval [ 7.17000e-01, 7.18000e-01]\n",
        "[     206] ==============================================================\n",
        "[     207] ==============================================================\n"
       ]
      },
      {
       "output_type": "stream",
       "stream": "stdout",
       "text": [
        "[     207] Solving over interval [ 7.18000e-01, 7.19000e-01]\n",
        "[     207] ==============================================================\n",
        "[     207] ==============================================================\n"
       ]
      },
      {
       "output_type": "stream",
       "stream": "stdout",
       "text": [
        "[     207] Solving over interval [ 7.19000e-01, 7.20000e-01]\n",
        "[     207] ==============================================================\n",
        "[     208] ==============================================================\n"
       ]
      },
      {
       "output_type": "stream",
       "stream": "stdout",
       "text": [
        "[     208] Solving over interval [ 7.20000e-01, 7.21000e-01]\n",
        "[     208] ==============================================================\n",
        "[     208] ==============================================================\n"
       ]
      },
      {
       "output_type": "stream",
       "stream": "stdout",
       "text": [
        "[     208] Solving over interval [ 7.21000e-01, 7.22000e-01]\n",
        "[     208] ==============================================================\n",
        "[     209] ==============================================================\n"
       ]
      },
      {
       "output_type": "stream",
       "stream": "stdout",
       "text": [
        "[     209] Solving over interval [ 7.22000e-01, 7.23000e-01]\n",
        "[     209] ==============================================================\n",
        "[     209] ==============================================================\n"
       ]
      },
      {
       "output_type": "stream",
       "stream": "stdout",
       "text": [
        "[     209] Solving over interval [ 7.23000e-01, 7.24000e-01]\n",
        "[     209] ==============================================================\n",
        "[     210] ==============================================================\n"
       ]
      },
      {
       "output_type": "stream",
       "stream": "stdout",
       "text": [
        "[     210] Solving over interval [ 7.24000e-01, 7.25000e-01]\n",
        "[     210] ==============================================================\n",
        "[     210] ==============================================================\n"
       ]
      },
      {
       "output_type": "stream",
       "stream": "stdout",
       "text": [
        "[     210] Solving over interval [ 7.25000e-01, 7.26000e-01]\n",
        "[     210] ==============================================================\n",
        "[     211] ==============================================================\n"
       ]
      },
      {
       "output_type": "stream",
       "stream": "stdout",
       "text": [
        "[     211] Solving over interval [ 7.26000e-01, 7.27000e-01]\n",
        "[     211] ==============================================================\n",
        "[     211] ==============================================================\n"
       ]
      },
      {
       "output_type": "stream",
       "stream": "stdout",
       "text": [
        "[     211] Solving over interval [ 7.27000e-01, 7.28000e-01]\n",
        "[     211] ==============================================================\n",
        "[     212] ==============================================================\n"
       ]
      },
      {
       "output_type": "stream",
       "stream": "stdout",
       "text": [
        "[     212] Solving over interval [ 7.28000e-01, 7.29000e-01]\n",
        "[     212] ==============================================================\n",
        "[     212] ==============================================================\n"
       ]
      },
      {
       "output_type": "stream",
       "stream": "stdout",
       "text": [
        "[     212] Solving over interval [ 7.29000e-01, 7.30000e-01]\n",
        "[     212] ==============================================================\n",
        "[     213] ==============================================================\n"
       ]
      },
      {
       "output_type": "stream",
       "stream": "stdout",
       "text": [
        "[     213] Solving over interval [ 7.30000e-01, 7.31000e-01]\n",
        "[     213] ==============================================================\n",
        "[     213] ==============================================================\n"
       ]
      },
      {
       "output_type": "stream",
       "stream": "stdout",
       "text": [
        "[     213] Solving over interval [ 7.31000e-01, 7.32000e-01]\n",
        "[     213] ==============================================================\n",
        "[     214] ==============================================================\n"
       ]
      },
      {
       "output_type": "stream",
       "stream": "stdout",
       "text": [
        "[     214] Solving over interval [ 7.32000e-01, 7.33000e-01]\n",
        "[     214] ==============================================================\n",
        "[     214] ==============================================================\n"
       ]
      },
      {
       "output_type": "stream",
       "stream": "stdout",
       "text": [
        "[     214] Solving over interval [ 7.33000e-01, 7.34000e-01]\n",
        "[     214] ==============================================================\n",
        "[     215] ==============================================================\n"
       ]
      },
      {
       "output_type": "stream",
       "stream": "stdout",
       "text": [
        "[     215] Solving over interval [ 7.34000e-01, 7.35000e-01]\n",
        "[     215] ==============================================================\n",
        "[     216] ==============================================================\n"
       ]
      },
      {
       "output_type": "stream",
       "stream": "stdout",
       "text": [
        "[     216] Solving over interval [ 7.35000e-01, 7.36000e-01]\n",
        "[     216] ==============================================================\n",
        "[     216] ==============================================================\n"
       ]
      },
      {
       "output_type": "stream",
       "stream": "stdout",
       "text": [
        "[     216] Solving over interval [ 7.36000e-01, 7.37000e-01]\n",
        "[     216] ==============================================================\n",
        "[     217] ==============================================================\n"
       ]
      },
      {
       "output_type": "stream",
       "stream": "stdout",
       "text": [
        "[     217] Solving over interval [ 7.37000e-01, 7.38000e-01]\n",
        "[     217] ==============================================================\n",
        "[     217] ==============================================================\n"
       ]
      },
      {
       "output_type": "stream",
       "stream": "stdout",
       "text": [
        "[     217] Solving over interval [ 7.38000e-01, 7.39000e-01]\n",
        "[     217] ==============================================================\n",
        "[     218] ==============================================================\n"
       ]
      },
      {
       "output_type": "stream",
       "stream": "stdout",
       "text": [
        "[     218] Solving over interval [ 7.39000e-01, 7.40000e-01]\n",
        "[     218] ==============================================================\n",
        "[     218] ==============================================================\n"
       ]
      },
      {
       "output_type": "stream",
       "stream": "stdout",
       "text": [
        "[     218] Solving over interval [ 7.40000e-01, 7.41000e-01]\n",
        "[     218] ==============================================================\n",
        "[     219] ==============================================================\n"
       ]
      },
      {
       "output_type": "stream",
       "stream": "stdout",
       "text": [
        "[     219] Solving over interval [ 7.41000e-01, 7.42000e-01]\n",
        "[     219] ==============================================================\n",
        "[     220] ==============================================================\n"
       ]
      },
      {
       "output_type": "stream",
       "stream": "stdout",
       "text": [
        "[     220] Solving over interval [ 7.42000e-01, 7.43000e-01]\n",
        "[     220] ==============================================================\n",
        "[     220] ==============================================================\n"
       ]
      },
      {
       "output_type": "stream",
       "stream": "stdout",
       "text": [
        "[     220] Solving over interval [ 7.43000e-01, 7.44000e-01]\n",
        "[     220] ==============================================================\n",
        "[     221] ==============================================================\n"
       ]
      },
      {
       "output_type": "stream",
       "stream": "stdout",
       "text": [
        "[     221] Solving over interval [ 7.44000e-01, 7.45000e-01]\n",
        "[     221] ==============================================================\n",
        "[     221] ==============================================================\n"
       ]
      },
      {
       "output_type": "stream",
       "stream": "stdout",
       "text": [
        "[     221] Solving over interval [ 7.45000e-01, 7.46000e-01]\n",
        "[     221] ==============================================================\n",
        "[     222] ==============================================================\n"
       ]
      },
      {
       "output_type": "stream",
       "stream": "stdout",
       "text": [
        "[     222] Solving over interval [ 7.46000e-01, 7.47000e-01]\n",
        "[     222] ==============================================================\n",
        "[     222] ==============================================================\n"
       ]
      },
      {
       "output_type": "stream",
       "stream": "stdout",
       "text": [
        "[     222] Solving over interval [ 7.47000e-01, 7.48000e-01]\n",
        "[     222] ==============================================================\n",
        "[     223] ==============================================================\n"
       ]
      },
      {
       "output_type": "stream",
       "stream": "stdout",
       "text": [
        "[     223] Solving over interval [ 7.48000e-01, 7.49000e-01]\n",
        "[     223] ==============================================================\n",
        "[     224] ==============================================================\n"
       ]
      },
      {
       "output_type": "stream",
       "stream": "stdout",
       "text": [
        "[     224] Solving over interval [ 7.49000e-01, 7.50000e-01]\n",
        "[     224] ==============================================================\n",
        "[     224] ==============================================================\n"
       ]
      },
      {
       "output_type": "stream",
       "stream": "stdout",
       "text": [
        "[     224] Solving over interval [ 7.50000e-01, 7.51000e-01]\n",
        "[     224] ==============================================================\n",
        "[     225] ==============================================================\n"
       ]
      },
      {
       "output_type": "stream",
       "stream": "stdout",
       "text": [
        "[     225] Solving over interval [ 7.51000e-01, 7.52000e-01]\n",
        "[     225] ==============================================================\n",
        "[     225] ==============================================================\n"
       ]
      },
      {
       "output_type": "stream",
       "stream": "stdout",
       "text": [
        "[     225] Solving over interval [ 7.52000e-01, 7.53000e-01]\n",
        "[     225] ==============================================================\n",
        "[     226] ==============================================================\n"
       ]
      },
      {
       "output_type": "stream",
       "stream": "stdout",
       "text": [
        "[     226] Solving over interval [ 7.53000e-01, 7.54000e-01]\n",
        "[     226] ==============================================================\n",
        "[     226] ==============================================================\n"
       ]
      },
      {
       "output_type": "stream",
       "stream": "stdout",
       "text": [
        "[     226] Solving over interval [ 7.54000e-01, 7.55000e-01]\n",
        "[     226] ==============================================================\n",
        "[     227] ==============================================================\n"
       ]
      },
      {
       "output_type": "stream",
       "stream": "stdout",
       "text": [
        "[     227] Solving over interval [ 7.55000e-01, 7.56000e-01]\n",
        "[     227] ==============================================================\n",
        "[     228] ==============================================================\n"
       ]
      },
      {
       "output_type": "stream",
       "stream": "stdout",
       "text": [
        "[     228] Solving over interval [ 7.56000e-01, 7.57000e-01]\n",
        "[     228] ==============================================================\n",
        "[     228] ==============================================================\n"
       ]
      },
      {
       "output_type": "stream",
       "stream": "stdout",
       "text": [
        "[     228] Solving over interval [ 7.57000e-01, 7.58000e-01]\n",
        "[     228] ==============================================================\n",
        "[     229] ==============================================================\n"
       ]
      },
      {
       "output_type": "stream",
       "stream": "stdout",
       "text": [
        "[     229] Solving over interval [ 7.58000e-01, 7.59000e-01]\n",
        "[     229] ==============================================================\n",
        "[     229] ==============================================================\n"
       ]
      },
      {
       "output_type": "stream",
       "stream": "stdout",
       "text": [
        "[     229] Solving over interval [ 7.59000e-01, 7.60000e-01]\n",
        "[     229] ==============================================================\n",
        "[     230] ==============================================================\n"
       ]
      },
      {
       "output_type": "stream",
       "stream": "stdout",
       "text": [
        "[     230] Solving over interval [ 7.60000e-01, 7.61000e-01]\n",
        "[     230] ==============================================================\n",
        "[     231] ==============================================================\n"
       ]
      },
      {
       "output_type": "stream",
       "stream": "stdout",
       "text": [
        "[     231] Solving over interval [ 7.61000e-01, 7.62000e-01]\n",
        "[     231] ==============================================================\n",
        "[     231] ==============================================================\n"
       ]
      },
      {
       "output_type": "stream",
       "stream": "stdout",
       "text": [
        "[     231] Solving over interval [ 7.62000e-01, 7.63000e-01]\n",
        "[     231] ==============================================================\n",
        "[     232] ==============================================================\n"
       ]
      },
      {
       "output_type": "stream",
       "stream": "stdout",
       "text": [
        "[     232] Solving over interval [ 7.63000e-01, 7.64000e-01]\n",
        "[     232] ==============================================================\n",
        "[     232] ==============================================================\n"
       ]
      },
      {
       "output_type": "stream",
       "stream": "stdout",
       "text": [
        "[     232] Solving over interval [ 7.64000e-01, 7.65000e-01]\n",
        "[     232] ==============================================================\n",
        "[     233] ==============================================================\n"
       ]
      },
      {
       "output_type": "stream",
       "stream": "stdout",
       "text": [
        "[     233] Solving over interval [ 7.65000e-01, 7.66000e-01]\n",
        "[     233] ==============================================================\n",
        "[     233] ==============================================================\n"
       ]
      },
      {
       "output_type": "stream",
       "stream": "stdout",
       "text": [
        "[     233] Solving over interval [ 7.66000e-01, 7.67000e-01]\n",
        "[     233] ==============================================================\n",
        "[     234] ==============================================================\n"
       ]
      },
      {
       "output_type": "stream",
       "stream": "stdout",
       "text": [
        "[     234] Solving over interval [ 7.67000e-01, 7.68000e-01]\n",
        "[     234] ==============================================================\n",
        "[     235] ==============================================================\n"
       ]
      },
      {
       "output_type": "stream",
       "stream": "stdout",
       "text": [
        "[     235] Solving over interval [ 7.68000e-01, 7.69000e-01]\n",
        "[     235] ==============================================================\n",
        "[     235] ==============================================================\n"
       ]
      },
      {
       "output_type": "stream",
       "stream": "stdout",
       "text": [
        "[     235] Solving over interval [ 7.69000e-01, 7.70000e-01]\n",
        "[     235] ==============================================================\n",
        "[     236] ==============================================================\n"
       ]
      },
      {
       "output_type": "stream",
       "stream": "stdout",
       "text": [
        "[     236] Solving over interval [ 7.70000e-01, 7.71000e-01]\n",
        "[     236] ==============================================================\n",
        "[     236] ==============================================================\n"
       ]
      },
      {
       "output_type": "stream",
       "stream": "stdout",
       "text": [
        "[     236] Solving over interval [ 7.71000e-01, 7.72000e-01]\n",
        "[     236] ==============================================================\n",
        "[     237] ==============================================================\n"
       ]
      },
      {
       "output_type": "stream",
       "stream": "stdout",
       "text": [
        "[     237] Solving over interval [ 7.72000e-01, 7.73000e-01]\n",
        "[     237] ==============================================================\n",
        "[     237] ==============================================================\n"
       ]
      },
      {
       "output_type": "stream",
       "stream": "stdout",
       "text": [
        "[     237] Solving over interval [ 7.73000e-01, 7.74000e-01]\n",
        "[     237] ==============================================================\n",
        "[     238] ==============================================================\n"
       ]
      },
      {
       "output_type": "stream",
       "stream": "stdout",
       "text": [
        "[     238] Solving over interval [ 7.74000e-01, 7.75000e-01]\n",
        "[     238] ==============================================================\n",
        "[     239] ==============================================================\n"
       ]
      },
      {
       "output_type": "stream",
       "stream": "stdout",
       "text": [
        "[     239] Solving over interval [ 7.75000e-01, 7.76000e-01]\n",
        "[     239] ==============================================================\n",
        "[     239] ==============================================================\n"
       ]
      },
      {
       "output_type": "stream",
       "stream": "stdout",
       "text": [
        "[     239] Solving over interval [ 7.76000e-01, 7.77000e-01]\n",
        "[     239] ==============================================================\n",
        "[     240] ==============================================================\n"
       ]
      },
      {
       "output_type": "stream",
       "stream": "stdout",
       "text": [
        "[     240] Solving over interval [ 7.77000e-01, 7.78000e-01]\n",
        "[     240] ==============================================================\n",
        "[     240] ==============================================================\n"
       ]
      },
      {
       "output_type": "stream",
       "stream": "stdout",
       "text": [
        "[     240] Solving over interval [ 7.78000e-01, 7.79000e-01]\n",
        "[     240] ==============================================================\n",
        "[     241] ==============================================================\n"
       ]
      },
      {
       "output_type": "stream",
       "stream": "stdout",
       "text": [
        "[     241] Solving over interval [ 7.79000e-01, 7.80000e-01]\n",
        "[     241] ==============================================================\n",
        "[     242] ==============================================================\n"
       ]
      },
      {
       "output_type": "stream",
       "stream": "stdout",
       "text": [
        "[     242] Solving over interval [ 7.80000e-01, 7.81000e-01]\n",
        "[     242] ==============================================================\n",
        "[     242] ==============================================================\n"
       ]
      },
      {
       "output_type": "stream",
       "stream": "stdout",
       "text": [
        "[     242] Solving over interval [ 7.81000e-01, 7.82000e-01]\n",
        "[     242] ==============================================================\n",
        "[     243] ==============================================================\n"
       ]
      },
      {
       "output_type": "stream",
       "stream": "stdout",
       "text": [
        "[     243] Solving over interval [ 7.82000e-01, 7.83000e-01]\n",
        "[     243] ==============================================================\n",
        "[     243] ==============================================================\n"
       ]
      },
      {
       "output_type": "stream",
       "stream": "stdout",
       "text": [
        "[     243] Solving over interval [ 7.83000e-01, 7.84000e-01]\n",
        "[     243] ==============================================================\n",
        "[     244] ==============================================================\n"
       ]
      },
      {
       "output_type": "stream",
       "stream": "stdout",
       "text": [
        "[     244] Solving over interval [ 7.84000e-01, 7.85000e-01]\n",
        "[     244] ==============================================================\n",
        "[     245] ==============================================================\n"
       ]
      },
      {
       "output_type": "stream",
       "stream": "stdout",
       "text": [
        "[     245] Solving over interval [ 7.85000e-01, 7.86000e-01]\n",
        "[     245] ==============================================================\n",
        "[     245] ==============================================================\n"
       ]
      },
      {
       "output_type": "stream",
       "stream": "stdout",
       "text": [
        "[     245] Solving over interval [ 7.86000e-01, 7.87000e-01]\n",
        "[     245] ==============================================================\n",
        "[     246] ==============================================================\n"
       ]
      },
      {
       "output_type": "stream",
       "stream": "stdout",
       "text": [
        "[     246] Solving over interval [ 7.87000e-01, 7.88000e-01]\n",
        "[     246] ==============================================================\n",
        "[     246] ==============================================================\n"
       ]
      },
      {
       "output_type": "stream",
       "stream": "stdout",
       "text": [
        "[     246] Solving over interval [ 7.88000e-01, 7.89000e-01]\n",
        "[     246] ==============================================================\n",
        "[     247] ==============================================================\n"
       ]
      },
      {
       "output_type": "stream",
       "stream": "stdout",
       "text": [
        "[     247] Solving over interval [ 7.89000e-01, 7.90000e-01]\n",
        "[     247] ==============================================================\n",
        "[     248] ==============================================================\n"
       ]
      },
      {
       "output_type": "stream",
       "stream": "stdout",
       "text": [
        "[     248] Solving over interval [ 7.90000e-01, 7.91000e-01]\n",
        "[     248] ==============================================================\n",
        "[     248] ==============================================================\n"
       ]
      },
      {
       "output_type": "stream",
       "stream": "stdout",
       "text": [
        "[     248] Solving over interval [ 7.91000e-01, 7.92000e-01]\n",
        "[     248] ==============================================================\n",
        "[     249] ==============================================================\n"
       ]
      },
      {
       "output_type": "stream",
       "stream": "stdout",
       "text": [
        "[     249] Solving over interval [ 7.92000e-01, 7.93000e-01]\n",
        "[     249] ==============================================================\n",
        "[     249] ==============================================================\n"
       ]
      },
      {
       "output_type": "stream",
       "stream": "stdout",
       "text": [
        "[     249] Solving over interval [ 7.93000e-01, 7.94000e-01]\n",
        "[     249] ==============================================================\n",
        "[     250] ==============================================================\n"
       ]
      },
      {
       "output_type": "stream",
       "stream": "stdout",
       "text": [
        "[     250] Solving over interval [ 7.94000e-01, 7.95000e-01]\n",
        "[     250] ==============================================================\n",
        "[     251] ==============================================================\n"
       ]
      },
      {
       "output_type": "stream",
       "stream": "stdout",
       "text": [
        "[     251] Solving over interval [ 7.95000e-01, 7.96000e-01]\n",
        "[     251] ==============================================================\n",
        "[     251] ==============================================================\n"
       ]
      },
      {
       "output_type": "stream",
       "stream": "stdout",
       "text": [
        "[     251] Solving over interval [ 7.96000e-01, 7.97000e-01]\n",
        "[     251] ==============================================================\n",
        "[     252] ==============================================================\n"
       ]
      },
      {
       "output_type": "stream",
       "stream": "stdout",
       "text": [
        "[     252] Solving over interval [ 7.97000e-01, 7.98000e-01]\n",
        "[     252] ==============================================================\n",
        "[     252] ==============================================================\n"
       ]
      },
      {
       "output_type": "stream",
       "stream": "stdout",
       "text": [
        "[     252] Solving over interval [ 7.98000e-01, 7.99000e-01]\n",
        "[     252] ==============================================================\n",
        "[     253] ==============================================================\n"
       ]
      },
      {
       "output_type": "stream",
       "stream": "stdout",
       "text": [
        "[     253] Solving over interval [ 7.99000e-01, 8.00000e-01]\n",
        "[     253] ==============================================================\n",
        "[     254] ==============================================================\n"
       ]
      },
      {
       "output_type": "stream",
       "stream": "stdout",
       "text": [
        "[     254] Solving over interval [ 8.00000e-01, 8.01000e-01]\n",
        "[     254] ==============================================================\n",
        "[     254] ==============================================================\n"
       ]
      },
      {
       "output_type": "stream",
       "stream": "stdout",
       "text": [
        "[     254] Solving over interval [ 8.01000e-01, 8.02000e-01]\n",
        "[     254] ==============================================================\n",
        "[     255] ==============================================================\n"
       ]
      },
      {
       "output_type": "stream",
       "stream": "stdout",
       "text": [
        "[     255] Solving over interval [ 8.02000e-01, 8.03000e-01]\n",
        "[     255] ==============================================================\n",
        "[     255] ==============================================================\n"
       ]
      },
      {
       "output_type": "stream",
       "stream": "stdout",
       "text": [
        "[     255] Solving over interval [ 8.03000e-01, 8.04000e-01]\n",
        "[     255] ==============================================================\n",
        "[     256] ==============================================================\n"
       ]
      },
      {
       "output_type": "stream",
       "stream": "stdout",
       "text": [
        "[     256] Solving over interval [ 8.04000e-01, 8.05000e-01]\n",
        "[     256] ==============================================================\n",
        "[     257] ==============================================================\n"
       ]
      },
      {
       "output_type": "stream",
       "stream": "stdout",
       "text": [
        "[     257] Solving over interval [ 8.05000e-01, 8.06000e-01]\n",
        "[     257] ==============================================================\n",
        "[     257] ==============================================================\n"
       ]
      },
      {
       "output_type": "stream",
       "stream": "stdout",
       "text": [
        "[     257] Solving over interval [ 8.06000e-01, 8.07000e-01]\n",
        "[     257] ==============================================================\n",
        "[     258] ==============================================================\n"
       ]
      },
      {
       "output_type": "stream",
       "stream": "stdout",
       "text": [
        "[     258] Solving over interval [ 8.07000e-01, 8.08000e-01]\n",
        "[     258] ==============================================================\n",
        "[     258] ==============================================================\n"
       ]
      },
      {
       "output_type": "stream",
       "stream": "stdout",
       "text": [
        "[     258] Solving over interval [ 8.08000e-01, 8.09000e-01]\n",
        "[     258] ==============================================================\n",
        "[     259] ==============================================================\n"
       ]
      },
      {
       "output_type": "stream",
       "stream": "stdout",
       "text": [
        "[     259] Solving over interval [ 8.09000e-01, 8.10000e-01]\n",
        "[     259] ==============================================================\n",
        "[     260] ==============================================================\n"
       ]
      },
      {
       "output_type": "stream",
       "stream": "stdout",
       "text": [
        "[     260] Solving over interval [ 8.10000e-01, 8.11000e-01]\n",
        "[     260] ==============================================================\n",
        "[     260] ==============================================================\n"
       ]
      },
      {
       "output_type": "stream",
       "stream": "stdout",
       "text": [
        "[     260] Solving over interval [ 8.11000e-01, 8.12000e-01]\n",
        "[     260] ==============================================================\n",
        "[     261] ==============================================================\n"
       ]
      },
      {
       "output_type": "stream",
       "stream": "stdout",
       "text": [
        "[     261] Solving over interval [ 8.12000e-01, 8.13000e-01]\n",
        "[     261] ==============================================================\n",
        "[     261] ==============================================================\n"
       ]
      },
      {
       "output_type": "stream",
       "stream": "stdout",
       "text": [
        "[     261] Solving over interval [ 8.13000e-01, 8.14000e-01]\n",
        "[     261] ==============================================================\n",
        "[     262] ==============================================================\n"
       ]
      },
      {
       "output_type": "stream",
       "stream": "stdout",
       "text": [
        "[     262] Solving over interval [ 8.14000e-01, 8.15000e-01]\n",
        "[     262] ==============================================================\n",
        "[     263] ==============================================================\n"
       ]
      },
      {
       "output_type": "stream",
       "stream": "stdout",
       "text": [
        "[     263] Solving over interval [ 8.15000e-01, 8.16000e-01]\n",
        "[     263] ==============================================================\n",
        "[     263] ==============================================================\n"
       ]
      },
      {
       "output_type": "stream",
       "stream": "stdout",
       "text": [
        "[     263] Solving over interval [ 8.16000e-01, 8.17000e-01]\n",
        "[     263] ==============================================================\n",
        "[     264] ==============================================================\n"
       ]
      },
      {
       "output_type": "stream",
       "stream": "stdout",
       "text": [
        "[     264] Solving over interval [ 8.17000e-01, 8.18000e-01]\n",
        "[     264] ==============================================================\n",
        "[     265] ==============================================================\n"
       ]
      },
      {
       "output_type": "stream",
       "stream": "stdout",
       "text": [
        "[     265] Solving over interval [ 8.18000e-01, 8.19000e-01]\n",
        "[     265] ==============================================================\n",
        "[     265] ==============================================================\n"
       ]
      },
      {
       "output_type": "stream",
       "stream": "stdout",
       "text": [
        "[     265] Solving over interval [ 8.19000e-01, 8.20000e-01]\n",
        "[     265] ==============================================================\n",
        "[     266] ==============================================================\n"
       ]
      },
      {
       "output_type": "stream",
       "stream": "stdout",
       "text": [
        "[     266] Solving over interval [ 8.20000e-01, 8.21000e-01]\n",
        "[     266] ==============================================================\n",
        "[     266] ==============================================================\n"
       ]
      },
      {
       "output_type": "stream",
       "stream": "stdout",
       "text": [
        "[     266] Solving over interval [ 8.21000e-01, 8.22000e-01]\n",
        "[     266] ==============================================================\n",
        "[     267] ==============================================================\n"
       ]
      },
      {
       "output_type": "stream",
       "stream": "stdout",
       "text": [
        "[     267] Solving over interval [ 8.22000e-01, 8.23000e-01]\n",
        "[     267] ==============================================================\n",
        "[     268] ==============================================================\n"
       ]
      },
      {
       "output_type": "stream",
       "stream": "stdout",
       "text": [
        "[     268] Solving over interval [ 8.23000e-01, 8.24000e-01]\n",
        "[     268] ==============================================================\n",
        "[     268] ==============================================================\n"
       ]
      },
      {
       "output_type": "stream",
       "stream": "stdout",
       "text": [
        "[     268] Solving over interval [ 8.24000e-01, 8.25000e-01]\n",
        "[     268] ==============================================================\n",
        "[     269] ==============================================================\n"
       ]
      },
      {
       "output_type": "stream",
       "stream": "stdout",
       "text": [
        "[     269] Solving over interval [ 8.25000e-01, 8.26000e-01]\n",
        "[     269] ==============================================================\n",
        "[     269] ==============================================================\n"
       ]
      },
      {
       "output_type": "stream",
       "stream": "stdout",
       "text": [
        "[     269] Solving over interval [ 8.26000e-01, 8.27000e-01]\n",
        "[     269] ==============================================================\n",
        "[     270] ==============================================================\n"
       ]
      },
      {
       "output_type": "stream",
       "stream": "stdout",
       "text": [
        "[     270] Solving over interval [ 8.27000e-01, 8.28000e-01]\n",
        "[     270] ==============================================================\n",
        "[     271] ==============================================================\n"
       ]
      },
      {
       "output_type": "stream",
       "stream": "stdout",
       "text": [
        "[     271] Solving over interval [ 8.28000e-01, 8.29000e-01]\n",
        "[     271] ==============================================================\n",
        "[     271] ==============================================================\n"
       ]
      },
      {
       "output_type": "stream",
       "stream": "stdout",
       "text": [
        "[     271] Solving over interval [ 8.29000e-01, 8.30000e-01]\n",
        "[     271] ==============================================================\n",
        "[     272] ==============================================================\n"
       ]
      },
      {
       "output_type": "stream",
       "stream": "stdout",
       "text": [
        "[     272] Solving over interval [ 8.30000e-01, 8.31000e-01]\n",
        "[     272] ==============================================================\n",
        "[     273] ==============================================================\n"
       ]
      },
      {
       "output_type": "stream",
       "stream": "stdout",
       "text": [
        "[     273] Solving over interval [ 8.31000e-01, 8.32000e-01]\n",
        "[     273] ==============================================================\n",
        "[     273] ==============================================================\n"
       ]
      },
      {
       "output_type": "stream",
       "stream": "stdout",
       "text": [
        "[     273] Solving over interval [ 8.32000e-01, 8.33000e-01]\n",
        "[     273] ==============================================================\n",
        "[     274] ==============================================================\n"
       ]
      },
      {
       "output_type": "stream",
       "stream": "stdout",
       "text": [
        "[     274] Solving over interval [ 8.33000e-01, 8.34000e-01]\n",
        "[     274] ==============================================================\n",
        "[     274] ==============================================================\n"
       ]
      },
      {
       "output_type": "stream",
       "stream": "stdout",
       "text": [
        "[     274] Solving over interval [ 8.34000e-01, 8.35000e-01]\n",
        "[     274] ==============================================================\n",
        "[     275] ==============================================================\n"
       ]
      },
      {
       "output_type": "stream",
       "stream": "stdout",
       "text": [
        "[     275] Solving over interval [ 8.35000e-01, 8.36000e-01]\n",
        "[     275] ==============================================================\n",
        "[     276] ==============================================================\n"
       ]
      },
      {
       "output_type": "stream",
       "stream": "stdout",
       "text": [
        "[     276] Solving over interval [ 8.36000e-01, 8.37000e-01]\n",
        "[     276] ==============================================================\n",
        "[     276] ==============================================================\n"
       ]
      },
      {
       "output_type": "stream",
       "stream": "stdout",
       "text": [
        "[     276] Solving over interval [ 8.37000e-01, 8.38000e-01]\n",
        "[     276] ==============================================================\n",
        "[     277] ==============================================================\n"
       ]
      },
      {
       "output_type": "stream",
       "stream": "stdout",
       "text": [
        "[     277] Solving over interval [ 8.38000e-01, 8.39000e-01]\n",
        "[     277] ==============================================================\n",
        "[     278] ==============================================================\n"
       ]
      },
      {
       "output_type": "stream",
       "stream": "stdout",
       "text": [
        "[     278] Solving over interval [ 8.39000e-01, 8.40000e-01]\n",
        "[     278] ==============================================================\n",
        "[     278] ==============================================================\n"
       ]
      },
      {
       "output_type": "stream",
       "stream": "stdout",
       "text": [
        "[     278] Solving over interval [ 8.40000e-01, 8.41000e-01]\n",
        "[     278] ==============================================================\n",
        "[     279] ==============================================================\n"
       ]
      },
      {
       "output_type": "stream",
       "stream": "stdout",
       "text": [
        "[     279] Solving over interval [ 8.41000e-01, 8.42000e-01]\n",
        "[     279] ==============================================================\n",
        "[     280] ==============================================================\n"
       ]
      },
      {
       "output_type": "stream",
       "stream": "stdout",
       "text": [
        "[     280] Solving over interval [ 8.42000e-01, 8.43000e-01]\n",
        "[     280] ==============================================================\n",
        "[     280] ==============================================================\n"
       ]
      },
      {
       "output_type": "stream",
       "stream": "stdout",
       "text": [
        "[     280] Solving over interval [ 8.43000e-01, 8.44000e-01]\n",
        "[     280] ==============================================================\n",
        "[     281] ==============================================================\n"
       ]
      },
      {
       "output_type": "stream",
       "stream": "stdout",
       "text": [
        "[     281] Solving over interval [ 8.44000e-01, 8.45000e-01]\n",
        "[     281] ==============================================================\n",
        "[     281] ==============================================================\n"
       ]
      },
      {
       "output_type": "stream",
       "stream": "stdout",
       "text": [
        "[     281] Solving over interval [ 8.45000e-01, 8.46000e-01]\n",
        "[     281] ==============================================================\n",
        "[     282] ==============================================================\n"
       ]
      },
      {
       "output_type": "stream",
       "stream": "stdout",
       "text": [
        "[     282] Solving over interval [ 8.46000e-01, 8.47000e-01]\n",
        "[     282] ==============================================================\n",
        "[     283] ==============================================================\n"
       ]
      },
      {
       "output_type": "stream",
       "stream": "stdout",
       "text": [
        "[     283] Solving over interval [ 8.47000e-01, 8.48000e-01]\n",
        "[     283] ==============================================================\n",
        "[     283] ==============================================================\n"
       ]
      },
      {
       "output_type": "stream",
       "stream": "stdout",
       "text": [
        "[     283] Solving over interval [ 8.48000e-01, 8.49000e-01]\n",
        "[     283] ==============================================================\n",
        "[     284] ==============================================================\n"
       ]
      },
      {
       "output_type": "stream",
       "stream": "stdout",
       "text": [
        "[     284] Solving over interval [ 8.49000e-01, 8.50000e-01]\n",
        "[     284] ==============================================================\n",
        "[     285] ==============================================================\n"
       ]
      },
      {
       "output_type": "stream",
       "stream": "stdout",
       "text": [
        "[     285] Solving over interval [ 8.50000e-01, 8.51000e-01]\n",
        "[     285] ==============================================================\n",
        "[     286] ==============================================================\n"
       ]
      },
      {
       "output_type": "stream",
       "stream": "stdout",
       "text": [
        "[     286] Solving over interval [ 8.51000e-01, 8.52000e-01]\n",
        "[     286] ==============================================================\n",
        "[     286] ==============================================================\n"
       ]
      },
      {
       "output_type": "stream",
       "stream": "stdout",
       "text": [
        "[     286] Solving over interval [ 8.52000e-01, 8.53000e-01]\n",
        "[     286] ==============================================================\n",
        "[     287] ==============================================================\n"
       ]
      },
      {
       "output_type": "stream",
       "stream": "stdout",
       "text": [
        "[     287] Solving over interval [ 8.53000e-01, 8.54000e-01]\n",
        "[     287] ==============================================================\n",
        "[     288] ==============================================================\n"
       ]
      },
      {
       "output_type": "stream",
       "stream": "stdout",
       "text": [
        "[     288] Solving over interval [ 8.54000e-01, 8.55000e-01]\n",
        "[     288] ==============================================================\n",
        "[     288] ==============================================================\n"
       ]
      },
      {
       "output_type": "stream",
       "stream": "stdout",
       "text": [
        "[     288] Solving over interval [ 8.55000e-01, 8.56000e-01]\n",
        "[     288] ==============================================================\n",
        "[     289] ==============================================================\n"
       ]
      },
      {
       "output_type": "stream",
       "stream": "stdout",
       "text": [
        "[     289] Solving over interval [ 8.56000e-01, 8.57000e-01]\n",
        "[     289] ==============================================================\n",
        "[     290] ==============================================================\n"
       ]
      },
      {
       "output_type": "stream",
       "stream": "stdout",
       "text": [
        "[     290] Solving over interval [ 8.57000e-01, 8.58000e-01]\n",
        "[     290] ==============================================================\n",
        "[     290] ==============================================================\n"
       ]
      },
      {
       "output_type": "stream",
       "stream": "stdout",
       "text": [
        "[     290] Solving over interval [ 8.58000e-01, 8.59000e-01]\n",
        "[     290] ==============================================================\n",
        "[     291] ==============================================================\n"
       ]
      },
      {
       "output_type": "stream",
       "stream": "stdout",
       "text": [
        "[     291] Solving over interval [ 8.59000e-01, 8.60000e-01]\n",
        "[     291] ==============================================================\n",
        "[     292] ==============================================================\n"
       ]
      },
      {
       "output_type": "stream",
       "stream": "stdout",
       "text": [
        "[     292] Solving over interval [ 8.60000e-01, 8.61000e-01]\n",
        "[     292] ==============================================================\n",
        "[     292] ==============================================================\n"
       ]
      },
      {
       "output_type": "stream",
       "stream": "stdout",
       "text": [
        "[     292] Solving over interval [ 8.61000e-01, 8.62000e-01]\n",
        "[     292] ==============================================================\n",
        "[     293] ==============================================================\n"
       ]
      },
      {
       "output_type": "stream",
       "stream": "stdout",
       "text": [
        "[     293] Solving over interval [ 8.62000e-01, 8.63000e-01]\n",
        "[     293] ==============================================================\n",
        "[     294] ==============================================================\n"
       ]
      },
      {
       "output_type": "stream",
       "stream": "stdout",
       "text": [
        "[     294] Solving over interval [ 8.63000e-01, 8.64000e-01]\n",
        "[     294] ==============================================================\n",
        "[     294] ==============================================================\n"
       ]
      },
      {
       "output_type": "stream",
       "stream": "stdout",
       "text": [
        "[     294] Solving over interval [ 8.64000e-01, 8.65000e-01]\n",
        "[     294] ==============================================================\n",
        "[     295] ==============================================================\n"
       ]
      },
      {
       "output_type": "stream",
       "stream": "stdout",
       "text": [
        "[     295] Solving over interval [ 8.65000e-01, 8.66000e-01]\n",
        "[     295] ==============================================================\n",
        "[     295] ==============================================================\n"
       ]
      },
      {
       "output_type": "stream",
       "stream": "stdout",
       "text": [
        "[     295] Solving over interval [ 8.66000e-01, 8.67000e-01]\n",
        "[     295] ==============================================================\n",
        "[     296] ==============================================================\n"
       ]
      },
      {
       "output_type": "stream",
       "stream": "stdout",
       "text": [
        "[     296] Solving over interval [ 8.67000e-01, 8.68000e-01]\n",
        "[     296] ==============================================================\n",
        "[     297] ==============================================================\n"
       ]
      },
      {
       "output_type": "stream",
       "stream": "stdout",
       "text": [
        "[     297] Solving over interval [ 8.68000e-01, 8.69000e-01]\n",
        "[     297] ==============================================================\n",
        "[     297] ==============================================================\n"
       ]
      },
      {
       "output_type": "stream",
       "stream": "stdout",
       "text": [
        "[     297] Solving over interval [ 8.69000e-01, 8.70000e-01]\n",
        "[     297] ==============================================================\n",
        "[     298] ==============================================================\n"
       ]
      },
      {
       "output_type": "stream",
       "stream": "stdout",
       "text": [
        "[     298] Solving over interval [ 8.70000e-01, 8.71000e-01]\n",
        "[     298] ==============================================================\n",
        "[     299] ==============================================================\n"
       ]
      },
      {
       "output_type": "stream",
       "stream": "stdout",
       "text": [
        "[     299] Solving over interval [ 8.71000e-01, 8.72000e-01]\n",
        "[     299] ==============================================================\n",
        "[     299] ==============================================================\n"
       ]
      },
      {
       "output_type": "stream",
       "stream": "stdout",
       "text": [
        "[     299] Solving over interval [ 8.72000e-01, 8.73000e-01]\n",
        "[     299] ==============================================================\n",
        "[     300] ==============================================================\n"
       ]
      },
      {
       "output_type": "stream",
       "stream": "stdout",
       "text": [
        "[     300] Solving over interval [ 8.73000e-01, 8.74000e-01]\n",
        "[     300] ==============================================================\n",
        "[     301] ==============================================================\n"
       ]
      },
      {
       "output_type": "stream",
       "stream": "stdout",
       "text": [
        "[     301] Solving over interval [ 8.74000e-01, 8.75000e-01]\n",
        "[     301] ==============================================================\n",
        "[     301] ==============================================================\n"
       ]
      },
      {
       "output_type": "stream",
       "stream": "stdout",
       "text": [
        "[     301] Solving over interval [ 8.75000e-01, 8.76000e-01]\n",
        "[     301] ==============================================================\n",
        "[     302] ==============================================================\n"
       ]
      },
      {
       "output_type": "stream",
       "stream": "stdout",
       "text": [
        "[     302] Solving over interval [ 8.76000e-01, 8.77000e-01]\n",
        "[     302] ==============================================================\n",
        "[     303] ==============================================================\n"
       ]
      },
      {
       "output_type": "stream",
       "stream": "stdout",
       "text": [
        "[     303] Solving over interval [ 8.77000e-01, 8.78000e-01]\n",
        "[     303] ==============================================================\n",
        "[     303] ==============================================================\n"
       ]
      },
      {
       "output_type": "stream",
       "stream": "stdout",
       "text": [
        "[     303] Solving over interval [ 8.78000e-01, 8.79000e-01]\n",
        "[     303] ==============================================================\n",
        "[     304] ==============================================================\n"
       ]
      },
      {
       "output_type": "stream",
       "stream": "stdout",
       "text": [
        "[     304] Solving over interval [ 8.79000e-01, 8.80000e-01]\n",
        "[     304] ==============================================================\n",
        "[     305] ==============================================================\n"
       ]
      },
      {
       "output_type": "stream",
       "stream": "stdout",
       "text": [
        "[     305] Solving over interval [ 8.80000e-01, 8.81000e-01]\n",
        "[     305] ==============================================================\n",
        "[     305] ==============================================================\n"
       ]
      },
      {
       "output_type": "stream",
       "stream": "stdout",
       "text": [
        "[     305] Solving over interval [ 8.81000e-01, 8.82000e-01]\n",
        "[     305] ==============================================================\n",
        "[     306] ==============================================================\n"
       ]
      },
      {
       "output_type": "stream",
       "stream": "stdout",
       "text": [
        "[     306] Solving over interval [ 8.82000e-01, 8.83000e-01]\n",
        "[     306] ==============================================================\n",
        "[     307] ==============================================================\n"
       ]
      },
      {
       "output_type": "stream",
       "stream": "stdout",
       "text": [
        "[     307] Solving over interval [ 8.83000e-01, 8.84000e-01]\n",
        "[     307] ==============================================================\n",
        "[     307] ==============================================================\n"
       ]
      },
      {
       "output_type": "stream",
       "stream": "stdout",
       "text": [
        "[     307] Solving over interval [ 8.84000e-01, 8.85000e-01]\n",
        "[     307] ==============================================================\n",
        "[     308] ==============================================================\n"
       ]
      },
      {
       "output_type": "stream",
       "stream": "stdout",
       "text": [
        "[     308] Solving over interval [ 8.85000e-01, 8.86000e-01]\n",
        "[     308] ==============================================================\n",
        "[     309] ==============================================================\n"
       ]
      },
      {
       "output_type": "stream",
       "stream": "stdout",
       "text": [
        "[     309] Solving over interval [ 8.86000e-01, 8.87000e-01]\n",
        "[     309] ==============================================================\n",
        "[     309] ==============================================================\n"
       ]
      },
      {
       "output_type": "stream",
       "stream": "stdout",
       "text": [
        "[     309] Solving over interval [ 8.87000e-01, 8.88000e-01]\n",
        "[     309] ==============================================================\n",
        "[     310] ==============================================================\n"
       ]
      },
      {
       "output_type": "stream",
       "stream": "stdout",
       "text": [
        "[     310] Solving over interval [ 8.88000e-01, 8.89000e-01]\n",
        "[     310] ==============================================================\n",
        "[     311] ==============================================================\n"
       ]
      },
      {
       "output_type": "stream",
       "stream": "stdout",
       "text": [
        "[     311] Solving over interval [ 8.89000e-01, 8.90000e-01]\n",
        "[     311] ==============================================================\n",
        "[     311] ==============================================================\n"
       ]
      },
      {
       "output_type": "stream",
       "stream": "stdout",
       "text": [
        "[     311] Solving over interval [ 8.90000e-01, 8.91000e-01]\n",
        "[     311] ==============================================================\n",
        "[     312] ==============================================================\n"
       ]
      },
      {
       "output_type": "stream",
       "stream": "stdout",
       "text": [
        "[     312] Solving over interval [ 8.91000e-01, 8.92000e-01]\n",
        "[     312] ==============================================================\n",
        "[     313] ==============================================================\n"
       ]
      },
      {
       "output_type": "stream",
       "stream": "stdout",
       "text": [
        "[     313] Solving over interval [ 8.92000e-01, 8.93000e-01]\n",
        "[     313] ==============================================================\n",
        "[     313] ==============================================================\n"
       ]
      },
      {
       "output_type": "stream",
       "stream": "stdout",
       "text": [
        "[     313] Solving over interval [ 8.93000e-01, 8.94000e-01]\n",
        "[     313] ==============================================================\n",
        "[     314] ==============================================================\n"
       ]
      },
      {
       "output_type": "stream",
       "stream": "stdout",
       "text": [
        "[     314] Solving over interval [ 8.94000e-01, 8.95000e-01]\n",
        "[     314] ==============================================================\n",
        "[     315] ==============================================================\n"
       ]
      },
      {
       "output_type": "stream",
       "stream": "stdout",
       "text": [
        "[     315] Solving over interval [ 8.95000e-01, 8.96000e-01]\n",
        "[     315] ==============================================================\n",
        "[     315] ==============================================================\n"
       ]
      },
      {
       "output_type": "stream",
       "stream": "stdout",
       "text": [
        "[     315] Solving over interval [ 8.96000e-01, 8.97000e-01]\n",
        "[     315] ==============================================================\n",
        "[     316] ==============================================================\n"
       ]
      },
      {
       "output_type": "stream",
       "stream": "stdout",
       "text": [
        "[     316] Solving over interval [ 8.97000e-01, 8.98000e-01]\n",
        "[     316] ==============================================================\n",
        "[     317] ==============================================================\n"
       ]
      },
      {
       "output_type": "stream",
       "stream": "stdout",
       "text": [
        "[     317] Solving over interval [ 8.98000e-01, 8.99000e-01]\n",
        "[     317] ==============================================================\n",
        "[     317] ==============================================================\n"
       ]
      },
      {
       "output_type": "stream",
       "stream": "stdout",
       "text": [
        "[     317] Solving over interval [ 8.99000e-01, 9.00000e-01]\n",
        "[     317] ==============================================================\n",
        "[     318] ==============================================================\n"
       ]
      },
      {
       "output_type": "stream",
       "stream": "stdout",
       "text": [
        "[     318] Solving over interval [ 9.00000e-01, 9.01000e-01]\n",
        "[     318] ==============================================================\n",
        "[     319] ==============================================================\n"
       ]
      },
      {
       "output_type": "stream",
       "stream": "stdout",
       "text": [
        "[     319] Solving over interval [ 9.01000e-01, 9.02000e-01]\n",
        "[     319] ==============================================================\n",
        "[     319] ==============================================================\n"
       ]
      },
      {
       "output_type": "stream",
       "stream": "stdout",
       "text": [
        "[     319] Solving over interval [ 9.02000e-01, 9.03000e-01]\n",
        "[     319] ==============================================================\n",
        "[     320] ==============================================================\n"
       ]
      },
      {
       "output_type": "stream",
       "stream": "stdout",
       "text": [
        "[     320] Solving over interval [ 9.03000e-01, 9.04000e-01]\n",
        "[     320] ==============================================================\n",
        "[     321] ==============================================================\n"
       ]
      },
      {
       "output_type": "stream",
       "stream": "stdout",
       "text": [
        "[     321] Solving over interval [ 9.04000e-01, 9.05000e-01]\n",
        "[     321] ==============================================================\n",
        "[     321] ==============================================================\n"
       ]
      },
      {
       "output_type": "stream",
       "stream": "stdout",
       "text": [
        "[     321] Solving over interval [ 9.05000e-01, 9.06000e-01]\n",
        "[     321] ==============================================================\n",
        "[     322] ==============================================================\n"
       ]
      },
      {
       "output_type": "stream",
       "stream": "stdout",
       "text": [
        "[     322] Solving over interval [ 9.06000e-01, 9.07000e-01]\n",
        "[     322] ==============================================================\n",
        "[     323] ==============================================================\n"
       ]
      },
      {
       "output_type": "stream",
       "stream": "stdout",
       "text": [
        "[     323] Solving over interval [ 9.07000e-01, 9.08000e-01]\n",
        "[     323] ==============================================================\n",
        "[     323] ==============================================================\n"
       ]
      },
      {
       "output_type": "stream",
       "stream": "stdout",
       "text": [
        "[     323] Solving over interval [ 9.08000e-01, 9.09000e-01]\n",
        "[     323] ==============================================================\n",
        "[     324] ==============================================================\n"
       ]
      },
      {
       "output_type": "stream",
       "stream": "stdout",
       "text": [
        "[     324] Solving over interval [ 9.09000e-01, 9.10000e-01]\n",
        "[     324] ==============================================================\n",
        "[     325] ==============================================================\n"
       ]
      },
      {
       "output_type": "stream",
       "stream": "stdout",
       "text": [
        "[     325] Solving over interval [ 9.10000e-01, 9.11000e-01]\n",
        "[     325] ==============================================================\n",
        "[     325] ==============================================================\n"
       ]
      },
      {
       "output_type": "stream",
       "stream": "stdout",
       "text": [
        "[     325] Solving over interval [ 9.11000e-01, 9.12000e-01]\n",
        "[     325] ==============================================================\n",
        "[     326] ==============================================================\n"
       ]
      },
      {
       "output_type": "stream",
       "stream": "stdout",
       "text": [
        "[     326] Solving over interval [ 9.12000e-01, 9.13000e-01]\n",
        "[     326] ==============================================================\n",
        "[     327] ==============================================================\n"
       ]
      },
      {
       "output_type": "stream",
       "stream": "stdout",
       "text": [
        "[     327] Solving over interval [ 9.13000e-01, 9.14000e-01]\n",
        "[     327] ==============================================================\n",
        "[     328] ==============================================================\n"
       ]
      },
      {
       "output_type": "stream",
       "stream": "stdout",
       "text": [
        "[     328] Solving over interval [ 9.14000e-01, 9.15000e-01]\n",
        "[     328] ==============================================================\n",
        "[     328] ==============================================================\n"
       ]
      },
      {
       "output_type": "stream",
       "stream": "stdout",
       "text": [
        "[     328] Solving over interval [ 9.15000e-01, 9.16000e-01]\n",
        "[     328] ==============================================================\n",
        "[     329] ==============================================================\n"
       ]
      },
      {
       "output_type": "stream",
       "stream": "stdout",
       "text": [
        "[     329] Solving over interval [ 9.16000e-01, 9.17000e-01]\n",
        "[     329] ==============================================================\n",
        "[     330] ==============================================================\n"
       ]
      },
      {
       "output_type": "stream",
       "stream": "stdout",
       "text": [
        "[     330] Solving over interval [ 9.17000e-01, 9.18000e-01]\n",
        "[     330] ==============================================================\n",
        "[     330] ==============================================================\n"
       ]
      },
      {
       "output_type": "stream",
       "stream": "stdout",
       "text": [
        "[     330] Solving over interval [ 9.18000e-01, 9.19000e-01]\n",
        "[     330] ==============================================================\n",
        "[     331] ==============================================================\n"
       ]
      },
      {
       "output_type": "stream",
       "stream": "stdout",
       "text": [
        "[     331] Solving over interval [ 9.19000e-01, 9.20000e-01]\n",
        "[     331] ==============================================================\n",
        "[     332] ==============================================================\n"
       ]
      },
      {
       "output_type": "stream",
       "stream": "stdout",
       "text": [
        "[     332] Solving over interval [ 9.20000e-01, 9.21000e-01]\n",
        "[     332] ==============================================================\n",
        "[     332] ==============================================================\n"
       ]
      },
      {
       "output_type": "stream",
       "stream": "stdout",
       "text": [
        "[     332] Solving over interval [ 9.21000e-01, 9.22000e-01]\n",
        "[     332] ==============================================================\n",
        "[     333] ==============================================================\n"
       ]
      },
      {
       "output_type": "stream",
       "stream": "stdout",
       "text": [
        "[     333] Solving over interval [ 9.22000e-01, 9.23000e-01]\n",
        "[     333] ==============================================================\n",
        "[     334] ==============================================================\n"
       ]
      },
      {
       "output_type": "stream",
       "stream": "stdout",
       "text": [
        "[     334] Solving over interval [ 9.23000e-01, 9.24000e-01]\n",
        "[     334] ==============================================================\n",
        "[     334] ==============================================================\n"
       ]
      },
      {
       "output_type": "stream",
       "stream": "stdout",
       "text": [
        "[     334] Solving over interval [ 9.24000e-01, 9.25000e-01]\n",
        "[     334] ==============================================================\n",
        "[     335] ==============================================================\n"
       ]
      },
      {
       "output_type": "stream",
       "stream": "stdout",
       "text": [
        "[     335] Solving over interval [ 9.25000e-01, 9.26000e-01]\n",
        "[     335] ==============================================================\n",
        "[     336] ==============================================================\n"
       ]
      },
      {
       "output_type": "stream",
       "stream": "stdout",
       "text": [
        "[     336] Solving over interval [ 9.26000e-01, 9.27000e-01]\n",
        "[     336] ==============================================================\n",
        "[     336] ==============================================================\n"
       ]
      },
      {
       "output_type": "stream",
       "stream": "stdout",
       "text": [
        "[     336] Solving over interval [ 9.27000e-01, 9.28000e-01]\n",
        "[     336] ==============================================================\n",
        "[     337] ==============================================================\n"
       ]
      },
      {
       "output_type": "stream",
       "stream": "stdout",
       "text": [
        "[     337] Solving over interval [ 9.28000e-01, 9.29000e-01]\n",
        "[     337] ==============================================================\n",
        "[     338] ==============================================================\n"
       ]
      },
      {
       "output_type": "stream",
       "stream": "stdout",
       "text": [
        "[     338] Solving over interval [ 9.29000e-01, 9.30000e-01]\n",
        "[     338] ==============================================================\n",
        "[     338] ==============================================================\n"
       ]
      },
      {
       "output_type": "stream",
       "stream": "stdout",
       "text": [
        "[     338] Solving over interval [ 9.30000e-01, 9.31000e-01]\n",
        "[     338] ==============================================================\n",
        "[     339] ==============================================================\n"
       ]
      },
      {
       "output_type": "stream",
       "stream": "stdout",
       "text": [
        "[     339] Solving over interval [ 9.31000e-01, 9.32000e-01]\n",
        "[     339] ==============================================================\n",
        "[     340] ==============================================================\n"
       ]
      },
      {
       "output_type": "stream",
       "stream": "stdout",
       "text": [
        "[     340] Solving over interval [ 9.32000e-01, 9.33000e-01]\n",
        "[     340] ==============================================================\n",
        "[     340] ==============================================================\n"
       ]
      },
      {
       "output_type": "stream",
       "stream": "stdout",
       "text": [
        "[     340] Solving over interval [ 9.33000e-01, 9.34000e-01]\n",
        "[     340] ==============================================================\n",
        "[     341] ==============================================================\n"
       ]
      },
      {
       "output_type": "stream",
       "stream": "stdout",
       "text": [
        "[     341] Solving over interval [ 9.34000e-01, 9.35000e-01]\n",
        "[     341] ==============================================================\n",
        "[     342] ==============================================================\n"
       ]
      },
      {
       "output_type": "stream",
       "stream": "stdout",
       "text": [
        "[     342] Solving over interval [ 9.35000e-01, 9.36000e-01]\n",
        "[     342] ==============================================================\n",
        "[     343] ==============================================================\n"
       ]
      },
      {
       "output_type": "stream",
       "stream": "stdout",
       "text": [
        "[     343] Solving over interval [ 9.36000e-01, 9.37000e-01]\n",
        "[     343] ==============================================================\n",
        "[     343] ==============================================================\n"
       ]
      },
      {
       "output_type": "stream",
       "stream": "stdout",
       "text": [
        "[     343] Solving over interval [ 9.37000e-01, 9.38000e-01]\n",
        "[     343] ==============================================================\n",
        "[     344] ==============================================================\n"
       ]
      },
      {
       "output_type": "stream",
       "stream": "stdout",
       "text": [
        "[     344] Solving over interval [ 9.38000e-01, 9.39000e-01]\n",
        "[     344] ==============================================================\n",
        "[     345] ==============================================================\n"
       ]
      },
      {
       "output_type": "stream",
       "stream": "stdout",
       "text": [
        "[     345] Solving over interval [ 9.39000e-01, 9.40000e-01]\n",
        "[     345] ==============================================================\n",
        "[     345] ==============================================================\n"
       ]
      },
      {
       "output_type": "stream",
       "stream": "stdout",
       "text": [
        "[     345] Solving over interval [ 9.40000e-01, 9.41000e-01]\n",
        "[     345] ==============================================================\n",
        "[     346] ==============================================================\n"
       ]
      },
      {
       "output_type": "stream",
       "stream": "stdout",
       "text": [
        "[     346] Solving over interval [ 9.41000e-01, 9.42000e-01]\n",
        "[     346] ==============================================================\n",
        "[     347] ==============================================================\n"
       ]
      },
      {
       "output_type": "stream",
       "stream": "stdout",
       "text": [
        "[     347] Solving over interval [ 9.42000e-01, 9.43000e-01]\n",
        "[     347] ==============================================================\n",
        "[     347] ==============================================================\n"
       ]
      },
      {
       "output_type": "stream",
       "stream": "stdout",
       "text": [
        "[     347] Solving over interval [ 9.43000e-01, 9.44000e-01]\n",
        "[     347] ==============================================================\n",
        "[     348] ==============================================================\n"
       ]
      },
      {
       "output_type": "stream",
       "stream": "stdout",
       "text": [
        "[     348] Solving over interval [ 9.44000e-01, 9.45000e-01]\n",
        "[     348] ==============================================================\n",
        "[     349] ==============================================================\n"
       ]
      },
      {
       "output_type": "stream",
       "stream": "stdout",
       "text": [
        "[     349] Solving over interval [ 9.45000e-01, 9.46000e-01]\n",
        "[     349] ==============================================================\n",
        "[     349] ==============================================================\n"
       ]
      },
      {
       "output_type": "stream",
       "stream": "stdout",
       "text": [
        "[     349] Solving over interval [ 9.46000e-01, 9.47000e-01]\n",
        "[     349] ==============================================================\n",
        "[     350] ==============================================================\n"
       ]
      },
      {
       "output_type": "stream",
       "stream": "stdout",
       "text": [
        "[     350] Solving over interval [ 9.47000e-01, 9.48000e-01]\n",
        "[     350] ==============================================================\n",
        "[     351] ==============================================================\n"
       ]
      },
      {
       "output_type": "stream",
       "stream": "stdout",
       "text": [
        "[     351] Solving over interval [ 9.48000e-01, 9.49000e-01]\n",
        "[     351] ==============================================================\n",
        "[     352] ==============================================================\n"
       ]
      },
      {
       "output_type": "stream",
       "stream": "stdout",
       "text": [
        "[     352] Solving over interval [ 9.49000e-01, 9.50000e-01]\n",
        "[     352] ==============================================================\n",
        "[     352] ==============================================================\n"
       ]
      },
      {
       "output_type": "stream",
       "stream": "stdout",
       "text": [
        "[     352] Solving over interval [ 9.50000e-01, 9.51000e-01]\n",
        "[     352] ==============================================================\n",
        "[     353] ==============================================================\n"
       ]
      },
      {
       "output_type": "stream",
       "stream": "stdout",
       "text": [
        "[     353] Solving over interval [ 9.51000e-01, 9.52000e-01]\n",
        "[     353] ==============================================================\n",
        "[     354] ==============================================================\n"
       ]
      },
      {
       "output_type": "stream",
       "stream": "stdout",
       "text": [
        "[     354] Solving over interval [ 9.52000e-01, 9.53000e-01]\n",
        "[     354] ==============================================================\n",
        "[     354] ==============================================================\n"
       ]
      },
      {
       "output_type": "stream",
       "stream": "stdout",
       "text": [
        "[     354] Solving over interval [ 9.53000e-01, 9.54000e-01]\n",
        "[     354] ==============================================================\n",
        "[     355] ==============================================================\n"
       ]
      },
      {
       "output_type": "stream",
       "stream": "stdout",
       "text": [
        "[     355] Solving over interval [ 9.54000e-01, 9.55000e-01]\n",
        "[     355] ==============================================================\n",
        "[     356] ==============================================================\n"
       ]
      },
      {
       "output_type": "stream",
       "stream": "stdout",
       "text": [
        "[     356] Solving over interval [ 9.55000e-01, 9.56000e-01]\n",
        "[     356] ==============================================================\n",
        "[     357] ==============================================================\n"
       ]
      },
      {
       "output_type": "stream",
       "stream": "stdout",
       "text": [
        "[     357] Solving over interval [ 9.56000e-01, 9.57000e-01]\n",
        "[     357] ==============================================================\n",
        "[     357] ==============================================================\n"
       ]
      },
      {
       "output_type": "stream",
       "stream": "stdout",
       "text": [
        "[     357] Solving over interval [ 9.57000e-01, 9.58000e-01]\n",
        "[     357] ==============================================================\n",
        "[     358] ==============================================================\n"
       ]
      },
      {
       "output_type": "stream",
       "stream": "stdout",
       "text": [
        "[     358] Solving over interval [ 9.58000e-01, 9.59000e-01]\n",
        "[     358] ==============================================================\n",
        "[     359] ==============================================================\n"
       ]
      },
      {
       "output_type": "stream",
       "stream": "stdout",
       "text": [
        "[     359] Solving over interval [ 9.59000e-01, 9.60000e-01]\n",
        "[     359] ==============================================================\n",
        "[     359] ==============================================================\n"
       ]
      },
      {
       "output_type": "stream",
       "stream": "stdout",
       "text": [
        "[     359] Solving over interval [ 9.60000e-01, 9.61000e-01]\n",
        "[     359] ==============================================================\n",
        "[     360] ==============================================================\n"
       ]
      },
      {
       "output_type": "stream",
       "stream": "stdout",
       "text": [
        "[     360] Solving over interval [ 9.61000e-01, 9.62000e-01]\n",
        "[     360] ==============================================================\n",
        "[     361] ==============================================================\n"
       ]
      },
      {
       "output_type": "stream",
       "stream": "stdout",
       "text": [
        "[     361] Solving over interval [ 9.62000e-01, 9.63000e-01]\n",
        "[     361] ==============================================================\n",
        "[     362] ==============================================================\n"
       ]
      },
      {
       "output_type": "stream",
       "stream": "stdout",
       "text": [
        "[     362] Solving over interval [ 9.63000e-01, 9.64000e-01]\n",
        "[     362] ==============================================================\n",
        "[     362] ==============================================================\n"
       ]
      },
      {
       "output_type": "stream",
       "stream": "stdout",
       "text": [
        "[     362] Solving over interval [ 9.64000e-01, 9.65000e-01]\n",
        "[     362] ==============================================================\n",
        "[     363] ==============================================================\n"
       ]
      },
      {
       "output_type": "stream",
       "stream": "stdout",
       "text": [
        "[     363] Solving over interval [ 9.65000e-01, 9.66000e-01]\n",
        "[     363] ==============================================================\n",
        "[     364] ==============================================================\n"
       ]
      },
      {
       "output_type": "stream",
       "stream": "stdout",
       "text": [
        "[     364] Solving over interval [ 9.66000e-01, 9.67000e-01]\n",
        "[     364] ==============================================================\n",
        "[     364] ==============================================================\n"
       ]
      },
      {
       "output_type": "stream",
       "stream": "stdout",
       "text": [
        "[     364] Solving over interval [ 9.67000e-01, 9.68000e-01]\n",
        "[     364] ==============================================================\n",
        "[     365] ==============================================================\n"
       ]
      },
      {
       "output_type": "stream",
       "stream": "stdout",
       "text": [
        "[     365] Solving over interval [ 9.68000e-01, 9.69000e-01]\n",
        "[     365] ==============================================================\n",
        "[     366] ==============================================================\n"
       ]
      },
      {
       "output_type": "stream",
       "stream": "stdout",
       "text": [
        "[     366] Solving over interval [ 9.69000e-01, 9.70000e-01]\n",
        "[     366] ==============================================================\n",
        "[     367] ==============================================================\n"
       ]
      },
      {
       "output_type": "stream",
       "stream": "stdout",
       "text": [
        "[     367] Solving over interval [ 9.70000e-01, 9.71000e-01]\n",
        "[     367] ==============================================================\n",
        "[     367] ==============================================================\n"
       ]
      },
      {
       "output_type": "stream",
       "stream": "stdout",
       "text": [
        "[     367] Solving over interval [ 9.71000e-01, 9.72000e-01]\n",
        "[     367] ==============================================================\n",
        "[     368] ==============================================================\n"
       ]
      },
      {
       "output_type": "stream",
       "stream": "stdout",
       "text": [
        "[     368] Solving over interval [ 9.72000e-01, 9.73000e-01]\n",
        "[     368] ==============================================================\n",
        "[     369] ==============================================================\n"
       ]
      },
      {
       "output_type": "stream",
       "stream": "stdout",
       "text": [
        "[     369] Solving over interval [ 9.73000e-01, 9.74000e-01]\n",
        "[     369] ==============================================================\n",
        "[     369] ==============================================================\n"
       ]
      },
      {
       "output_type": "stream",
       "stream": "stdout",
       "text": [
        "[     369] Solving over interval [ 9.74000e-01, 9.75000e-01]\n",
        "[     369] ==============================================================\n",
        "[     370] ==============================================================\n"
       ]
      },
      {
       "output_type": "stream",
       "stream": "stdout",
       "text": [
        "[     370] Solving over interval [ 9.75000e-01, 9.76000e-01]\n",
        "[     370] ==============================================================\n",
        "[     371] ==============================================================\n"
       ]
      },
      {
       "output_type": "stream",
       "stream": "stdout",
       "text": [
        "[     371] Solving over interval [ 9.76000e-01, 9.77000e-01]\n",
        "[     371] ==============================================================\n",
        "[     372] ==============================================================\n"
       ]
      },
      {
       "output_type": "stream",
       "stream": "stdout",
       "text": [
        "[     372] Solving over interval [ 9.77000e-01, 9.78000e-01]\n",
        "[     372] ==============================================================\n",
        "[     372] ==============================================================\n"
       ]
      },
      {
       "output_type": "stream",
       "stream": "stdout",
       "text": [
        "[     372] Solving over interval [ 9.78000e-01, 9.79000e-01]\n",
        "[     372] ==============================================================\n",
        "[     373] ==============================================================\n"
       ]
      },
      {
       "output_type": "stream",
       "stream": "stdout",
       "text": [
        "[     373] Solving over interval [ 9.79000e-01, 9.80000e-01]\n",
        "[     373] ==============================================================\n",
        "[     374] ==============================================================\n"
       ]
      },
      {
       "output_type": "stream",
       "stream": "stdout",
       "text": [
        "[     374] Solving over interval [ 9.80000e-01, 9.81000e-01]\n",
        "[     374] ==============================================================\n",
        "[     374] ==============================================================\n"
       ]
      },
      {
       "output_type": "stream",
       "stream": "stdout",
       "text": [
        "[     374] Solving over interval [ 9.81000e-01, 9.82000e-01]\n",
        "[     374] ==============================================================\n",
        "[     375] ==============================================================\n"
       ]
      },
      {
       "output_type": "stream",
       "stream": "stdout",
       "text": [
        "[     375] Solving over interval [ 9.82000e-01, 9.83000e-01]\n",
        "[     375] ==============================================================\n",
        "[     376] ==============================================================\n"
       ]
      },
      {
       "output_type": "stream",
       "stream": "stdout",
       "text": [
        "[     376] Solving over interval [ 9.83000e-01, 9.84000e-01]\n",
        "[     376] ==============================================================\n",
        "[     377] ==============================================================\n"
       ]
      },
      {
       "output_type": "stream",
       "stream": "stdout",
       "text": [
        "[     377] Solving over interval [ 9.84000e-01, 9.85000e-01]\n",
        "[     377] ==============================================================\n",
        "[     377] ==============================================================\n"
       ]
      },
      {
       "output_type": "stream",
       "stream": "stdout",
       "text": [
        "[     377] Solving over interval [ 9.85000e-01, 9.86000e-01]\n",
        "[     377] ==============================================================\n",
        "[     378] ==============================================================\n"
       ]
      },
      {
       "output_type": "stream",
       "stream": "stdout",
       "text": [
        "[     378] Solving over interval [ 9.86000e-01, 9.87000e-01]\n",
        "[     378] ==============================================================\n",
        "[     379] ==============================================================\n"
       ]
      },
      {
       "output_type": "stream",
       "stream": "stdout",
       "text": [
        "[     379] Solving over interval [ 9.87000e-01, 9.88000e-01]\n",
        "[     379] ==============================================================\n",
        "[     379] ==============================================================\n"
       ]
      },
      {
       "output_type": "stream",
       "stream": "stdout",
       "text": [
        "[     379] Solving over interval [ 9.88000e-01, 9.89000e-01]\n",
        "[     379] ==============================================================\n",
        "[     380] ==============================================================\n"
       ]
      },
      {
       "output_type": "stream",
       "stream": "stdout",
       "text": [
        "[     380] Solving over interval [ 9.89000e-01, 9.90000e-01]\n",
        "[     380] ==============================================================\n",
        "[     381] ==============================================================\n"
       ]
      },
      {
       "output_type": "stream",
       "stream": "stdout",
       "text": [
        "[     381] Solving over interval [ 9.90000e-01, 9.91000e-01]\n",
        "[     381] ==============================================================\n",
        "[     382] ==============================================================\n"
       ]
      },
      {
       "output_type": "stream",
       "stream": "stdout",
       "text": [
        "[     382] Solving over interval [ 9.91000e-01, 9.92000e-01]\n",
        "[     382] ==============================================================\n",
        "[     382] ==============================================================\n"
       ]
      },
      {
       "output_type": "stream",
       "stream": "stdout",
       "text": [
        "[     382] Solving over interval [ 9.92000e-01, 9.93000e-01]\n",
        "[     382] ==============================================================\n",
        "[     383] ==============================================================\n"
       ]
      },
      {
       "output_type": "stream",
       "stream": "stdout",
       "text": [
        "[     383] Solving over interval [ 9.93000e-01, 9.94000e-01]\n",
        "[     383] ==============================================================\n",
        "[     384] ==============================================================\n"
       ]
      },
      {
       "output_type": "stream",
       "stream": "stdout",
       "text": [
        "[     384] Solving over interval [ 9.94000e-01, 9.95000e-01]\n",
        "[     384] ==============================================================\n",
        "[     385] ==============================================================\n"
       ]
      },
      {
       "output_type": "stream",
       "stream": "stdout",
       "text": [
        "[     385] Solving over interval [ 9.95000e-01, 9.96000e-01]\n",
        "[     385] ==============================================================\n",
        "[     385] ==============================================================\n"
       ]
      },
      {
       "output_type": "stream",
       "stream": "stdout",
       "text": [
        "[     385] Solving over interval [ 9.96000e-01, 9.97000e-01]\n",
        "[     385] ==============================================================\n",
        "[     386] ==============================================================\n"
       ]
      },
      {
       "output_type": "stream",
       "stream": "stdout",
       "text": [
        "[     386] Solving over interval [ 9.97000e-01, 9.98000e-01]\n",
        "[     386] ==============================================================\n",
        "[     387] ==============================================================\n"
       ]
      },
      {
       "output_type": "stream",
       "stream": "stdout",
       "text": [
        "[     387] Solving over interval [ 9.98000e-01, 9.99000e-01]\n",
        "[     387] ==============================================================\n",
        "[     387] ==============================================================\n"
       ]
      },
      {
       "output_type": "stream",
       "stream": "stdout",
       "text": [
        "[     387] Solving over interval [ 9.99000e-01, 1.00000e+00]\n",
        "[     387] ==============================================================\n"
       ]
      }
     ],
     "prompt_number": 9
    },
    {
     "cell_type": "heading",
     "level": 2,
     "metadata": {},
     "source": [
      "Post processing"
     ]
    },
    {
     "cell_type": "heading",
     "level": 3,
     "metadata": {},
     "source": [
      "Standard deviation and variance."
     ]
    },
    {
     "cell_type": "markdown",
     "metadata": {},
     "source": [
      "Polynomial expansion allows to calculate the moments of the distribution. Assuming that\n",
      "\n",
      "\\begin{equation}\n",
      "u(x, t, Z) = \\sum_{k=0}^N v_k(x,t) \\Phi_k(Z),\n",
      "\\end{equation}\n",
      "the mean of the solution can be obtained by:\n",
      "\\begin{equation}\n",
      " \\mu_u = \\mathbb{E}(u(x, t, z)) = \\int \\! \\sum_{k=0}^N v_k(x,t) \\Phi_k(z)w(z)\\, \\mathrm{d} z = v_0(x, t)\n",
      "\\end{equation}\n",
      "where the last equality is based on the fact that $\\Phi(z) = 1$ and $\\Phi_k(z)$ are orthonormal. The variance is slighlty more complicated\n",
      "\\begin{equation}\n",
      "\\mathrm{Var}(u(x, t, Z) = \\mathbb{E}(u(x, t, z) - \\mu_u)^2 \\approx \\sum_{k=0}^N v_k^2\n",
      "\\end{equation}\n",
      "The approximation in the last step is due to the necessary truncation."
     ]
    },
    {
     "cell_type": "code",
     "collapsed": false,
     "input": [
      "%matplotlib inline\n",
      "import pylab\n",
      "x = ns.modelList[0].levelModelList[-1].mesh.nodeArray[:,0]\n",
      "v = dict((k, ns.modelList[0].levelModelList[-1].u[k].dof) for k in range(N))\n",
      "pylab.suptitle(\"Mean\")\n",
      "ax = pylab.gca()\n",
      "ax.set_xticks((0, np.pi, 2*np.pi))\n",
      "ax.set_xticklabels((\"0\", \"$\\pi$\", \"$2\\pi$\"))\n",
      "ax.set_xlabel(\"$x$\")\n",
      "ax.set_ylabel(\"$\\mu_u$\")\n",
      "\n",
      "pylab.plot(x[0:-1],v[0][0:-1:3])\n",
      "pylab.show()"
     ],
     "language": "python",
     "metadata": {},
     "outputs": [
      {
       "metadata": {},
       "output_type": "display_data",
       "png": "[encoded data removed]",
       "text": [
        "<matplotlib.figure.Figure at 0x7fa938272c90>"
       ]
      }
     ],
     "prompt_number": 17
    },
    {
     "cell_type": "code",
     "collapsed": false,
     "input": [
      "var = v[0][0:-1:3]**2\n",
      "\n",
      "for k in np.arange(1,N):\n",
      "    var = var + v[k][0:-1:3]**2\n",
      "    \n",
      "pylab.suptitle(\"Variance\")\n",
      "ax = pylab.gca()\n",
      "ax.set_xticks((0, np.pi, 2*np.pi))\n",
      "ax.set_xticklabels((\"0\", \"$\\pi$\", \"$2\\pi$\"))\n",
      "ax.set_xlabel(\"$x$\")\n",
      "ax.set_ylabel(\"Var(u)\")    \n",
      "pylab.plot(x[0:-1],var)\n",
      "pylab.show()"
     ],
     "language": "python",
     "metadata": {},
     "outputs": [
      {
       "metadata": {},
       "output_type": "display_data",
       "png": "[encoded data removed]",
       "text": [
        "<matplotlib.figure.Figure at 0x7fa937e6e450>"
       ]
      }
     ],
     "prompt_number": 20
    },
    {
     "cell_type": "code",
     "collapsed": false,
     "input": [],
     "language": "python",
     "metadata": {},
     "outputs": []
    }
   ],
   "metadata": {}
  }
 ]
}