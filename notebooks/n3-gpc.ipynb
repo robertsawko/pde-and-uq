{
 "metadata": {
  "name": "",
  "signature": "sha256:e1f11fbf46a04c84c69ba78f6675dba39b2abbc11c60c861dc4df9700c143acd"
 },
 "nbformat": 3,
 "nbformat_minor": 0,
 "worksheets": [
  {
   "cells": [
    {
     "cell_type": "markdown",
     "metadata": {},
     "source": [
      "# Introduction\n",
      "\n",
      "The Galerkin approach to Burgers' equation generates the following set of equations for the coefficients of the gPC expansion.\n",
      "\n",
      "\\begin{align}\n",
      "\\frac{\\partial v_k}{\\partial t} + \\frac{1}{\\gamma_k}\\sum_i^N \\sum_j^N e_{ijk} v_i\\frac{\\partial v_j}{\\partial x} & = \\nu \\frac{\\partial^2v_k}{\\partial x^2}, \\quad x \\in [0, 2\\pi], \\quad t\\geq0\n",
      "\\\\\n",
      "v_0(x,0) & = \\sin(x)\n",
      "\\\\\n",
      "v_1(x,0) & = 1\n",
      "\\\\\n",
      "v_k(x,0) & = 0, \\quad k > 1\n",
      "\\\\\n",
      "v_k(2\\pi,t) & = v_k(0,t)\n",
      "\\end{align}\n",
      "where $\\gamma_k$ and $e_{ijk}$ are known coefficients calculated as integrals of appropriate polynomial base. They are given by\n",
      "\n",
      "\\begin{gather}\n",
      "e_{ijk} = \\mathbb{E}(\\Phi_i \\Phi_j \\Phi_k)\n",
      "\\\\\n",
      "\\gamma_k = \\mathbb{E}(\\Phi_k^2)\n",
      "\\end{gather}\n"
     ]
    },
    {
     "cell_type": "heading",
     "level": 2,
     "metadata": {},
     "source": [
      "Derivation of equation coefficients"
     ]
    },
    {
     "cell_type": "markdown",
     "metadata": {},
     "source": [
      "The dot product between polynomials is defined with respect to a weight function. The weight function in our case will be the PDF of a Gaussian distribution. Polynomial family that is orthogonal with respect to that weight function.  We choose Hermite polynomials as the orthogonal basis for our expansion. They are referred to as 'probabilistic' polynomials as they are orthogonal with respect to\n",
      "\n",
      "\\begin{equation}\n",
      "w(x) = \\frac{1}{\\sqrt{2\\pi}} \\mathrm{exp}\\left(-\\frac{x^2}{2}\\right)\n",
      "\\end{equation}\n",
      "The Hermite polynomials are then given by:\n",
      "\\begin{equation}\n",
      "He_n(x) = 2^{-\\frac{n}{2}} H_n\\left(\\frac{x}{\\sqrt{2}}\\right)\n",
      "\\end{equation}\n",
      "where $H_n$ is the more standard 'physycists' Hermite polynomial of order $n$. The latter are available from scipy/sympy packages. Additionally we divide th polynomial by $\\sqrt{n!}$ which is the norm of $n$th polynomial and therefore form a orthonormal basis."
     ]
    },
    {
     "cell_type": "code",
     "collapsed": false,
     "input": [
      "import sympy as sym\n",
      "import numpy as np\n",
      "from sympy import oo\n",
      "from sympy import hermite\n",
      "from sympy import factorial\n",
      "\n",
      "\n",
      "def f(z, sigma=1):\n",
      "    return sym.exp(-z**2 / (2 * sigma)) / sym.sqrt(2 * sym.pi * sigma)\n",
      "\n",
      "N = 5\n",
      "\n",
      "z = sym.symbols('z')\n",
      "\n",
      "\n",
      "def hermitehe(n, z):\n",
      "    return 2**(-float(n)/2) \\\n",
      "        * hermite(n, z / sym.sqrt(2)) / sym.sqrt(factorial(n))\n",
      "\n",
      "# Triple correlations of Hermite polynomials\n",
      "e = np.zeros((N, N, N))\n",
      "for i in range(N):\n",
      "    for j in range(N):\n",
      "        for k in range(N):\n",
      "            e[i, j, k] = sym.integrate(\n",
      "                hermitehe(i, z) * hermitehe(j, z) * hermitehe(k, z) * f(z),\n",
      "                (z, -oo, oo))\n"
     ],
     "language": "python",
     "metadata": {},
     "outputs": [],
     "prompt_number": 1
    },
    {
     "cell_type": "heading",
     "level": 2,
     "metadata": {},
     "source": [
      "Formulating the problem in Proteus"
     ]
    },
    {
     "cell_type": "markdown",
     "metadata": {},
     "source": [
      "We will use a conservative formulation which means that we need to define only the mass and the advection function. The canonical form of Proteus equation is:\n",
      "\\begin{equation}\n",
      "\\mathbf{u} = \\left[ u^0,u^1,\\ldots,u^{nc-1} \\right]\n",
      "\\end{equation}\n",
      "\\begin{equation*}\n",
      "m^i_t + \\nabla \\cdot \\left(\\mathbf{f}^i - \\sum_k^{nc-1} \\mathbf{a}^{i,k} \\nabla \\phi^k(\\mathbf{u}) \\right) + r^i + H^i(\\nabla u)= 0 \\qquad \\mbox{for } i=0,\\ldots,nc-1\n",
      "\\end{equation*}\n",
      "\n",
      "- $m$ is \"mass\"\n",
      "- $\\mathbf{f}$ is advection\n",
      "- $\\mathbf{a}$ is diffution\n",
      "- $\\phi$ is potential\n",
      "- $H$ is Hamiltonian\n",
      "- $r$ is reaction\n",
      "                   \n",
      "Our components $u^k=v_k$. The $e_{ijk}$ is symmetrical so all indices can be permuted. I didn't take advantage of it, actually, and I should cut all of my for loops by half.\n",
      "1\\begin{gather}\n",
      "m^k(u) = v_k\\\\\n",
      "f^k(v_0, v_1, ..., v_{N-1}) =\n",
      "\\frac{1}{2} \\sum_{i=0}^{N-1}\\sum_{j=0}^{N - 1} e_{ijk} v_iv_j\n",
      "\\end{gather}\n",
      "\n",
      "I would probably prefer to have it written out as a flux operator but I don't think it's possible at all."
     ]
    },
    {
     "cell_type": "code",
     "collapsed": false,
     "input": [
      "import proteus.default_p as p\n",
      "from proteus.TransportCoefficients import TC_base\n",
      "\n",
      "p.nd = 1\n",
      "p.L = [2 * np.pi]\n",
      "p.nc = N\n",
      "\n",
      "class gPCBurgersEqn(TC_base):\n",
      "    def __init__(self, nu=0.0, nc=3):\n",
      "        advection = {}\n",
      "        diffusion = {}\n",
      "        mass = {}\n",
      "        potential = {}\n",
      "        for k in range(nc):\n",
      "            mass[k] = {k: 'linear'}\n",
      "            diffusion[k] = {k: {k: 'constant'}}\n",
      "            potential[k] = {k: {k: 'u'}}\n",
      "            advection[k] = dict((j, 'nonlinear') for j in range(nc))\n",
      "        TC_base.__init__(\n",
      "            self, nc=nc,\n",
      "            mass=mass,\n",
      "            advection=advection,\n",
      "            diffusion=diffusion,\n",
      "            potential=potential,\n",
      "            reaction={},\n",
      "            hamiltonian={},\n",
      "            variableNames=['v{0}'.format(i) for i in range(nc)]\n",
      "            )\n",
      "        self.nu = nu\n",
      "        self.nc = nc\n",
      "\n",
      "    def evaluate(self, t, c):\n",
      "        for k in range(self.nc):\n",
      "            vk = c[('u', k)]\n",
      "            c[('m', k)][:] = vk\n",
      "            c[('dm', k, k)][:] = 1\n",
      "            c[('a', k, k)][..., 0, 0] = self.nu\n",
      "\n",
      "            c[('f', k)][..., 0] = 0.0\n",
      "            for i in range(self.nc):\n",
      "                vi = c[('u', i)]\n",
      "                for j in range(self.nc):\n",
      "                    vj = c[('u', j)]\n",
      "                    c[('f', k)][..., 0] = c[('f', k)][..., 0] + \\\n",
      "                        0.5 * vi * vj * e[i, j, k]\n",
      "                    c[('df', k, i)][..., 0] = vj * e[i, j, k]\n",
      "\n",
      "\n",
      "p.coefficients = gPCBurgersEqn(nu=1e-6, nc=p.nc)\n",
      "\n"
     ],
     "language": "python",
     "metadata": {},
     "outputs": [],
     "prompt_number": 2
    },
    {
     "cell_type": "markdown",
     "metadata": {},
     "source": [
      "Periodic boundary conditions..."
     ]
    },
    {
     "cell_type": "code",
     "collapsed": false,
     "input": [
      "def emptyBC(x):\n",
      "    return None\n",
      "\n",
      "p.dirichletConditions = dict((i, emptyBC) for i in range(N))\n",
      "p.advectiveFluxBoundaryconditions = dict((i, emptyBC) for i in range(N))\n",
      "p.diffusiveFluxBoundaryConditions = dict((i, {}) for i in range(N))\n",
      "\n",
      "\n",
      "def getPBC(x):\n",
      "    eps = 1.0e-8\n",
      "    if x[0] < eps or x[0] >= p.L[0] - eps:\n",
      "        return np.array([0.0, 0.0, 0.0])\n",
      "\n",
      "p.periodicDirichletConditions = dict((i, getPBC) for i in range(N))\n"
     ],
     "language": "python",
     "metadata": {},
     "outputs": [],
     "prompt_number": 3
    },
    {
     "cell_type": "markdown",
     "metadata": {},
     "source": [
      "The initial condition, mentioned in the introduction, can be written in Proteus as follows."
     ]
    },
    {
     "cell_type": "code",
     "collapsed": false,
     "input": [
      "class vkIC:\n",
      "    def __init__(self, k):\n",
      "        self.k = k\n",
      "\n",
      "    def uOfXT(self, x, t):\n",
      "        if self.k is 0:\n",
      "            return np.sin(x[0])\n",
      "        elif self.k is 1:\n",
      "            return 1.0\n",
      "        else:\n",
      "            return 0.0\n",
      "\n",
      "p.initialConditions = dict((k, vkIC(k=k)) for k in range(N))\n",
      "p.fluxBoundaryConditions = dict((i, 'outFlow') for i in range(N))\n",
      "\n",
      "p.T = 1.0"
     ],
     "language": "python",
     "metadata": {},
     "outputs": [],
     "prompt_number": 4
    },
    {
     "cell_type": "heading",
     "level": 2,
     "metadata": {},
     "source": [
      "Numerical setup"
     ]
    },
    {
     "cell_type": "code",
     "collapsed": false,
     "input": [
      "import proteus.default_n as n\n",
      "from proteus.iproteus import * \n",
      "import proteus as pr\n",
      "from proteus.Archiver import ArchiveFlags\n",
      "archiveFlag = ArchiveFlags.EVERY_USER_STEP\n",
      "Profiling.logLevel = 1\n",
      "Profiling.verbose = True\n",
      "\n",
      "n.timeOrder = 3\n",
      "n.nStagesTime = n.timeOrder\n",
      "\n",
      "n.DT = None\n",
      "n.runCFL = 0.1\n",
      "\n",
      "n.limiterType = pr.TimeIntegration.DGlimiterP2Lagrange1d\n",
      "\n",
      "n.timeIntegration = pr.TimeIntegration.SSPRKPIintegration\n",
      "# stepController = FixedStep\n",
      "n.nSteps = 1000\n",
      "# dt = T/float(nSteps+1)\n",
      "n.stepController = pr.StepControl.Min_dt_RKcontroller\n",
      "n.nDTout = 10\n",
      "n.tnList = [float(k)/n.nSteps*p.T for k in range(n.nSteps + 1)]\n",
      "\n",
      "n.tnList.insert(1, 1e-6)\n",
      "\n",
      "n.femSpaces = dict(\n",
      "    (i, pr.FemTools.DG_AffineQuadraticOnSimplexWithNodalBasis)\n",
      "    for i in range(N))\n",
      "\n",
      "n.elementQuadrature = pr.Quadrature.SimplexGaussQuadrature(p.nd, 4)\n",
      "n.elementBoundaryQuadrature = pr.Quadrature.SimplexGaussQuadrature(p.nd-1, 4)\n",
      "\n",
      "n.nn = 401\n",
      "n.nLevels = 1\n",
      "\n",
      "n.subgridError = None\n",
      "n.massLumping = False\n",
      "\n",
      "n.numericalFluxType = pr.NumericalFlux.RusanovNumericalFlux_Diagonal\n",
      "\n",
      "n.shockCapturing = None\n",
      "n.multilevelNonlinearSolver = n.NLNI\n",
      "# maxNonlinearIts = 100\n",
      "\n",
      "n.usingSSPRKNewton = True\n",
      "n.levelNonlinearSolver = n.SSPRKNewton\n",
      "\n",
      "n.nonlinearSmoother = n.NLGaussSeidel\n",
      "\n",
      "n.fullNewtonFlag = True\n",
      "\n",
      "n.tolFac = 0.01\n",
      "\n",
      "n.nl_atol_res = 1.0e-8\n",
      "\n",
      "n.matrix = n.SparseMatrix\n",
      "\n",
      "n.multilevelLinearSolver = n.LU\n",
      "\n",
      "n.levelLinearSolver = n.LU\n",
      "\n",
      "n.linearSmoother = n.GaussSeidel\n",
      "\n",
      "n.linTolFac = 0.001\n",
      "n.l_atol_res = 0.001 * n.nl_atol_res\n",
      "\n",
      "n.conservativeFlux = None\n",
      "\n",
      "n.checkMass = True\n",
      "\n",
      "n.periodicDirichletConditions = dict((i, getPBC) for i in range(N))\n",
      "n.parallelPeriodic = False\n",
      "n.parallelPartitioningType = n.MeshParallelPartitioningTypes.element\n",
      "n.nLayersOfOverlapForParallel = 0\n"
     ],
     "language": "python",
     "metadata": {},
     "outputs": [],
     "prompt_number": 11
    },
    {
     "cell_type": "code",
     "collapsed": false,
     "input": [
      "from proteus import default_s, default_so\n",
      "\n",
      "p.name = \"gpc\"\n",
      "so = default_so\n",
      "so.name = p.name\n",
      "so.sList = [default_s]\n",
      "so.tnList = n.tnList"
     ],
     "language": "python",
     "metadata": {},
     "outputs": [],
     "prompt_number": 12
    },
    {
     "cell_type": "code",
     "collapsed": false,
     "input": [
      "ns = NumericalSolution.NS_base(so, [p], [n], so.sList, opts)"
     ],
     "language": "python",
     "metadata": {},
     "outputs": [],
     "prompt_number": 13
    },
    {
     "cell_type": "code",
     "collapsed": false,
     "input": [
      "failed = ns.calculateSolution(\"gpcN{0}\".format(N))\n",
      "assert(not failed)"
     ],
     "language": "python",
     "metadata": {},
     "outputs": [
      {
       "output_type": "stream",
       "stream": "stdout",
       "text": [
        "[    4588] Setting initial conditions\n",
        "[    4588] Starting time stepping\n"
       ]
      },
      {
       "output_type": "stream",
       "stream": "stdout",
       "text": [
        "[    4588] ==============================================================\n",
        "[    4588] Solving over interval [ 0.00000e+00, 1.00000e-06]\n",
        "[    4588] ==============================================================\n",
        "[    4588] ==============================================================\n"
       ]
      },
      {
       "output_type": "stream",
       "stream": "stdout",
       "text": [
        "[    4588] Solving over interval [ 1.00000e-06, 1.00000e-03]\n",
        "[    4588] ==============================================================\n",
        "[    4590] ==============================================================\n"
       ]
      },
      {
       "output_type": "stream",
       "stream": "stdout",
       "text": [
        "[    4590] Solving over interval [ 1.00000e-03, 2.00000e-03]\n",
        "[    4590] ==============================================================\n",
        "[    4591] ==============================================================\n"
       ]
      },
      {
       "output_type": "stream",
       "stream": "stdout",
       "text": [
        "[    4591] Solving over interval [ 2.00000e-03, 3.00000e-03]\n",
        "[    4591] ==============================================================\n",
        "[    4591] ==============================================================\n"
       ]
      },
      {
       "output_type": "stream",
       "stream": "stdout",
       "text": [
        "[    4591] Solving over interval [ 3.00000e-03, 4.00000e-03]\n",
        "[    4591] ==============================================================\n",
        "[    4591] ==============================================================\n"
       ]
      },
      {
       "output_type": "stream",
       "stream": "stdout",
       "text": [
        "[    4591] Solving over interval [ 4.00000e-03, 5.00000e-03]\n",
        "[    4591] ==============================================================\n",
        "[    4591] ==============================================================\n"
       ]
      },
      {
       "output_type": "stream",
       "stream": "stdout",
       "text": [
        "[    4591] Solving over interval [ 5.00000e-03, 6.00000e-03]\n",
        "[    4591] ==============================================================\n",
        "[    4591] ==============================================================\n"
       ]
      },
      {
       "output_type": "stream",
       "stream": "stdout",
       "text": [
        "[    4591] Solving over interval [ 6.00000e-03, 7.00000e-03]\n",
        "[    4591] ==============================================================\n",
        "[    4592] ==============================================================\n"
       ]
      },
      {
       "output_type": "stream",
       "stream": "stdout",
       "text": [
        "[    4592] Solving over interval [ 7.00000e-03, 8.00000e-03]\n",
        "[    4592] ==============================================================\n",
        "[    4592] ==============================================================\n"
       ]
      },
      {
       "output_type": "stream",
       "stream": "stdout",
       "text": [
        "[    4592] Solving over interval [ 8.00000e-03, 9.00000e-03]\n",
        "[    4592] ==============================================================\n",
        "[    4593] ==============================================================\n"
       ]
      },
      {
       "output_type": "stream",
       "stream": "stdout",
       "text": [
        "[    4593] Solving over interval [ 9.00000e-03, 1.00000e-02]\n",
        "[    4593] ==============================================================\n",
        "[    4593] ==============================================================\n"
       ]
      },
      {
       "output_type": "stream",
       "stream": "stdout",
       "text": [
        "[    4593] Solving over interval [ 1.00000e-02, 1.10000e-02]\n",
        "[    4593] ==============================================================\n",
        "[    4593] ==============================================================\n"
       ]
      },
      {
       "output_type": "stream",
       "stream": "stdout",
       "text": [
        "[    4593] Solving over interval [ 1.10000e-02, 1.20000e-02]\n",
        "[    4593] ==============================================================\n",
        "[    4593] ==============================================================\n"
       ]
      },
      {
       "output_type": "stream",
       "stream": "stdout",
       "text": [
        "[    4593] Solving over interval [ 1.20000e-02, 1.30000e-02]\n",
        "[    4593] ==============================================================\n",
        "[    4594] ==============================================================\n"
       ]
      },
      {
       "output_type": "stream",
       "stream": "stdout",
       "text": [
        "[    4594] Solving over interval [ 1.30000e-02, 1.40000e-02]\n",
        "[    4594] ==============================================================\n",
        "[    4594] ==============================================================\n"
       ]
      },
      {
       "output_type": "stream",
       "stream": "stdout",
       "text": [
        "[    4594] Solving over interval [ 1.40000e-02, 1.50000e-02]\n",
        "[    4594] ==============================================================\n",
        "[    4594] ==============================================================\n"
       ]
      },
      {
       "output_type": "stream",
       "stream": "stdout",
       "text": [
        "[    4594] Solving over interval [ 1.50000e-02, 1.60000e-02]\n",
        "[    4594] ==============================================================\n",
        "[    4594] ==============================================================\n"
       ]
      },
      {
       "output_type": "stream",
       "stream": "stdout",
       "text": [
        "[    4594] Solving over interval [ 1.60000e-02, 1.70000e-02]\n",
        "[    4594] ==============================================================\n",
        "[    4595] ==============================================================\n"
       ]
      },
      {
       "output_type": "stream",
       "stream": "stdout",
       "text": [
        "[    4595] Solving over interval [ 1.70000e-02, 1.80000e-02]\n",
        "[    4595] ==============================================================\n",
        "[    4595] ==============================================================\n"
       ]
      },
      {
       "output_type": "stream",
       "stream": "stdout",
       "text": [
        "[    4595] Solving over interval [ 1.80000e-02, 1.90000e-02]\n",
        "[    4595] ==============================================================\n",
        "[    4595] ==============================================================\n"
       ]
      },
      {
       "output_type": "stream",
       "stream": "stdout",
       "text": [
        "[    4595] Solving over interval [ 1.90000e-02, 2.00000e-02]\n",
        "[    4595] ==============================================================\n",
        "[    4596] ==============================================================\n"
       ]
      },
      {
       "output_type": "stream",
       "stream": "stdout",
       "text": [
        "[    4596] Solving over interval [ 2.00000e-02, 2.10000e-02]\n",
        "[    4596] ==============================================================\n",
        "[    4596] ==============================================================\n"
       ]
      },
      {
       "output_type": "stream",
       "stream": "stdout",
       "text": [
        "[    4596] Solving over interval [ 2.10000e-02, 2.20000e-02]\n",
        "[    4596] ==============================================================\n",
        "[    4596] ==============================================================\n"
       ]
      },
      {
       "output_type": "stream",
       "stream": "stdout",
       "text": [
        "[    4596] Solving over interval [ 2.20000e-02, 2.30000e-02]\n",
        "[    4596] ==============================================================\n",
        "[    4596] ==============================================================\n"
       ]
      },
      {
       "output_type": "stream",
       "stream": "stdout",
       "text": [
        "[    4596] Solving over interval [ 2.30000e-02, 2.40000e-02]\n",
        "[    4596] ==============================================================\n",
        "[    4597] ==============================================================\n"
       ]
      },
      {
       "output_type": "stream",
       "stream": "stdout",
       "text": [
        "[    4597] Solving over interval [ 2.40000e-02, 2.50000e-02]\n",
        "[    4597] ==============================================================\n",
        "[    4597] ==============================================================\n"
       ]
      },
      {
       "output_type": "stream",
       "stream": "stdout",
       "text": [
        "[    4597] Solving over interval [ 2.50000e-02, 2.60000e-02]\n",
        "[    4597] ==============================================================\n",
        "[    4597] ==============================================================\n"
       ]
      },
      {
       "output_type": "stream",
       "stream": "stdout",
       "text": [
        "[    4597] Solving over interval [ 2.60000e-02, 2.70000e-02]\n",
        "[    4597] ==============================================================\n",
        "[    4598] ==============================================================\n"
       ]
      },
      {
       "output_type": "stream",
       "stream": "stdout",
       "text": [
        "[    4598] Solving over interval [ 2.70000e-02, 2.80000e-02]\n",
        "[    4598] ==============================================================\n",
        "[    4598] ==============================================================\n"
       ]
      },
      {
       "output_type": "stream",
       "stream": "stdout",
       "text": [
        "[    4598] Solving over interval [ 2.80000e-02, 2.90000e-02]\n",
        "[    4598] ==============================================================\n",
        "[    4598] ==============================================================\n"
       ]
      },
      {
       "output_type": "stream",
       "stream": "stdout",
       "text": [
        "[    4598] Solving over interval [ 2.90000e-02, 3.00000e-02]\n",
        "[    4598] ==============================================================\n",
        "[    4598] ==============================================================\n"
       ]
      },
      {
       "output_type": "stream",
       "stream": "stdout",
       "text": [
        "[    4598] Solving over interval [ 3.00000e-02, 3.10000e-02]\n",
        "[    4598] ==============================================================\n",
        "[    4599] ==============================================================\n"
       ]
      },
      {
       "output_type": "stream",
       "stream": "stdout",
       "text": [
        "[    4599] Solving over interval [ 3.10000e-02, 3.20000e-02]\n",
        "[    4599] ==============================================================\n",
        "[    4599] ==============================================================\n"
       ]
      },
      {
       "output_type": "stream",
       "stream": "stdout",
       "text": [
        "[    4599] Solving over interval [ 3.20000e-02, 3.30000e-02]\n",
        "[    4599] ==============================================================\n",
        "[    4599] ==============================================================\n"
       ]
      },
      {
       "output_type": "stream",
       "stream": "stdout",
       "text": [
        "[    4599] Solving over interval [ 3.30000e-02, 3.40000e-02]\n",
        "[    4599] ==============================================================\n",
        "[    4600] ==============================================================\n"
       ]
      },
      {
       "output_type": "stream",
       "stream": "stdout",
       "text": [
        "[    4600] Solving over interval [ 3.40000e-02, 3.50000e-02]\n",
        "[    4600] ==============================================================\n",
        "[    4600] ==============================================================\n"
       ]
      },
      {
       "output_type": "stream",
       "stream": "stdout",
       "text": [
        "[    4600] Solving over interval [ 3.50000e-02, 3.60000e-02]\n",
        "[    4600] ==============================================================\n",
        "[    4601] ==============================================================\n"
       ]
      },
      {
       "output_type": "stream",
       "stream": "stdout",
       "text": [
        "[    4601] Solving over interval [ 3.60000e-02, 3.70000e-02]\n",
        "[    4601] ==============================================================\n",
        "[    4601] ==============================================================\n"
       ]
      },
      {
       "output_type": "stream",
       "stream": "stdout",
       "text": [
        "[    4601] Solving over interval [ 3.70000e-02, 3.80000e-02]\n",
        "[    4601] ==============================================================\n",
        "[    4601] ==============================================================\n"
       ]
      },
      {
       "output_type": "stream",
       "stream": "stdout",
       "text": [
        "[    4601] Solving over interval [ 3.80000e-02, 3.90000e-02]\n",
        "[    4601] ==============================================================\n",
        "[    4601] ==============================================================\n"
       ]
      },
      {
       "output_type": "stream",
       "stream": "stdout",
       "text": [
        "[    4601] Solving over interval [ 3.90000e-02, 4.00000e-02]\n",
        "[    4601] ==============================================================\n",
        "[    4602] ==============================================================\n"
       ]
      },
      {
       "output_type": "stream",
       "stream": "stdout",
       "text": [
        "[    4602] Solving over interval [ 4.00000e-02, 4.10000e-02]\n",
        "[    4602] ==============================================================\n",
        "[    4602] ==============================================================\n"
       ]
      },
      {
       "output_type": "stream",
       "stream": "stdout",
       "text": [
        "[    4602] Solving over interval [ 4.10000e-02, 4.20000e-02]\n",
        "[    4602] ==============================================================\n",
        "[    4602] ==============================================================\n"
       ]
      },
      {
       "output_type": "stream",
       "stream": "stdout",
       "text": [
        "[    4602] Solving over interval [ 4.20000e-02, 4.30000e-02]\n",
        "[    4602] ==============================================================\n",
        "[    4602] ==============================================================\n"
       ]
      },
      {
       "output_type": "stream",
       "stream": "stdout",
       "text": [
        "[    4602] Solving over interval [ 4.30000e-02, 4.40000e-02]\n",
        "[    4602] ==============================================================\n",
        "[    4603] ==============================================================\n"
       ]
      },
      {
       "output_type": "stream",
       "stream": "stdout",
       "text": [
        "[    4603] Solving over interval [ 4.40000e-02, 4.50000e-02]\n",
        "[    4603] ==============================================================\n",
        "[    4603] ==============================================================\n"
       ]
      },
      {
       "output_type": "stream",
       "stream": "stdout",
       "text": [
        "[    4603] Solving over interval [ 4.50000e-02, 4.60000e-02]\n",
        "[    4603] ==============================================================\n",
        "[    4603] ==============================================================\n"
       ]
      },
      {
       "output_type": "stream",
       "stream": "stdout",
       "text": [
        "[    4603] Solving over interval [ 4.60000e-02, 4.70000e-02]\n",
        "[    4603] ==============================================================\n",
        "[    4604] ==============================================================\n"
       ]
      },
      {
       "output_type": "stream",
       "stream": "stdout",
       "text": [
        "[    4604] Solving over interval [ 4.70000e-02, 4.80000e-02]\n",
        "[    4604] ==============================================================\n",
        "[    4604] ==============================================================\n"
       ]
      },
      {
       "output_type": "stream",
       "stream": "stdout",
       "text": [
        "[    4604] Solving over interval [ 4.80000e-02, 4.90000e-02]\n",
        "[    4604] ==============================================================\n",
        "[    4604] ==============================================================\n"
       ]
      },
      {
       "output_type": "stream",
       "stream": "stdout",
       "text": [
        "[    4604] Solving over interval [ 4.90000e-02, 5.00000e-02]\n",
        "[    4604] ==============================================================\n",
        "[    4605] ==============================================================\n"
       ]
      },
      {
       "output_type": "stream",
       "stream": "stdout",
       "text": [
        "[    4605] Solving over interval [ 5.00000e-02, 5.10000e-02]\n",
        "[    4605] ==============================================================\n",
        "[    4605] ==============================================================\n"
       ]
      },
      {
       "output_type": "stream",
       "stream": "stdout",
       "text": [
        "[    4605] Solving over interval [ 5.10000e-02, 5.20000e-02]\n",
        "[    4605] ==============================================================\n",
        "[    4605] ==============================================================\n"
       ]
      },
      {
       "output_type": "stream",
       "stream": "stdout",
       "text": [
        "[    4605] Solving over interval [ 5.20000e-02, 5.30000e-02]\n",
        "[    4605] ==============================================================\n",
        "[    4606] ==============================================================\n"
       ]
      },
      {
       "output_type": "stream",
       "stream": "stdout",
       "text": [
        "[    4606] Solving over interval [ 5.30000e-02, 5.40000e-02]\n",
        "[    4606] ==============================================================\n",
        "[    4606] ==============================================================\n"
       ]
      },
      {
       "output_type": "stream",
       "stream": "stdout",
       "text": [
        "[    4606] Solving over interval [ 5.40000e-02, 5.50000e-02]\n",
        "[    4606] ==============================================================\n",
        "[    4606] ==============================================================\n"
       ]
      },
      {
       "output_type": "stream",
       "stream": "stdout",
       "text": [
        "[    4606] Solving over interval [ 5.50000e-02, 5.60000e-02]\n",
        "[    4606] ==============================================================\n",
        "[    4606] ==============================================================\n"
       ]
      },
      {
       "output_type": "stream",
       "stream": "stdout",
       "text": [
        "[    4606] Solving over interval [ 5.60000e-02, 5.70000e-02]\n",
        "[    4606] ==============================================================\n",
        "[    4607] ==============================================================\n"
       ]
      },
      {
       "output_type": "stream",
       "stream": "stdout",
       "text": [
        "[    4607] Solving over interval [ 5.70000e-02, 5.80000e-02]\n",
        "[    4607] ==============================================================\n",
        "[    4607] ==============================================================\n"
       ]
      },
      {
       "output_type": "stream",
       "stream": "stdout",
       "text": [
        "[    4607] Solving over interval [ 5.80000e-02, 5.90000e-02]\n",
        "[    4607] ==============================================================\n",
        "[    4608] ==============================================================\n"
       ]
      },
      {
       "output_type": "stream",
       "stream": "stdout",
       "text": [
        "[    4608] Solving over interval [ 5.90000e-02, 6.00000e-02]\n",
        "[    4608] ==============================================================\n",
        "[    4608] ==============================================================\n"
       ]
      },
      {
       "output_type": "stream",
       "stream": "stdout",
       "text": [
        "[    4608] Solving over interval [ 6.00000e-02, 6.10000e-02]\n",
        "[    4608] ==============================================================\n",
        "[    4608] ==============================================================\n"
       ]
      },
      {
       "output_type": "stream",
       "stream": "stdout",
       "text": [
        "[    4608] Solving over interval [ 6.10000e-02, 6.20000e-02]\n",
        "[    4608] ==============================================================\n",
        "[    4608] ==============================================================\n"
       ]
      },
      {
       "output_type": "stream",
       "stream": "stdout",
       "text": [
        "[    4608] Solving over interval [ 6.20000e-02, 6.30000e-02]\n",
        "[    4608] ==============================================================\n",
        "[    4609] ==============================================================\n"
       ]
      },
      {
       "output_type": "stream",
       "stream": "stdout",
       "text": [
        "[    4609] Solving over interval [ 6.30000e-02, 6.40000e-02]\n",
        "[    4609] ==============================================================\n",
        "[    4609] ==============================================================\n"
       ]
      },
      {
       "output_type": "stream",
       "stream": "stdout",
       "text": [
        "[    4609] Solving over interval [ 6.40000e-02, 6.50000e-02]\n",
        "[    4609] ==============================================================\n",
        "[    4609] ==============================================================\n"
       ]
      },
      {
       "output_type": "stream",
       "stream": "stdout",
       "text": [
        "[    4609] Solving over interval [ 6.50000e-02, 6.60000e-02]\n",
        "[    4609] ==============================================================\n",
        "[    4610] ==============================================================\n"
       ]
      },
      {
       "output_type": "stream",
       "stream": "stdout",
       "text": [
        "[    4610] Solving over interval [ 6.60000e-02, 6.70000e-02]\n",
        "[    4610] ==============================================================\n",
        "[    4610] ==============================================================\n"
       ]
      },
      {
       "output_type": "stream",
       "stream": "stdout",
       "text": [
        "[    4610] Solving over interval [ 6.70000e-02, 6.80000e-02]\n",
        "[    4610] ==============================================================\n",
        "[    4610] ==============================================================\n"
       ]
      },
      {
       "output_type": "stream",
       "stream": "stdout",
       "text": [
        "[    4610] Solving over interval [ 6.80000e-02, 6.90000e-02]\n",
        "[    4610] ==============================================================\n",
        "[    4611] ==============================================================\n"
       ]
      },
      {
       "output_type": "stream",
       "stream": "stdout",
       "text": [
        "[    4611] Solving over interval [ 6.90000e-02, 7.00000e-02]\n",
        "[    4611] ==============================================================\n",
        "[    4611] ==============================================================\n"
       ]
      },
      {
       "output_type": "stream",
       "stream": "stdout",
       "text": [
        "[    4611] Solving over interval [ 7.00000e-02, 7.10000e-02]\n",
        "[    4611] ==============================================================\n",
        "[    4611] ==============================================================\n"
       ]
      },
      {
       "output_type": "stream",
       "stream": "stdout",
       "text": [
        "[    4611] Solving over interval [ 7.10000e-02, 7.20000e-02]\n",
        "[    4611] ==============================================================\n",
        "[    4612] ==============================================================\n"
       ]
      },
      {
       "output_type": "stream",
       "stream": "stdout",
       "text": [
        "[    4612] Solving over interval [ 7.20000e-02, 7.30000e-02]\n",
        "[    4612] ==============================================================\n",
        "[    4612] ==============================================================\n"
       ]
      },
      {
       "output_type": "stream",
       "stream": "stdout",
       "text": [
        "[    4612] Solving over interval [ 7.30000e-02, 7.40000e-02]\n",
        "[    4612] ==============================================================\n",
        "[    4612] ==============================================================\n"
       ]
      },
      {
       "output_type": "stream",
       "stream": "stdout",
       "text": [
        "[    4612] Solving over interval [ 7.40000e-02, 7.50000e-02]\n",
        "[    4612] ==============================================================\n",
        "[    4613] ==============================================================\n"
       ]
      },
      {
       "output_type": "stream",
       "stream": "stdout",
       "text": [
        "[    4613] Solving over interval [ 7.50000e-02, 7.60000e-02]\n",
        "[    4613] ==============================================================\n",
        "[    4613] ==============================================================\n"
       ]
      },
      {
       "output_type": "stream",
       "stream": "stdout",
       "text": [
        "[    4613] Solving over interval [ 7.60000e-02, 7.70000e-02]\n",
        "[    4613] ==============================================================\n",
        "[    4613] ==============================================================\n"
       ]
      },
      {
       "output_type": "stream",
       "stream": "stdout",
       "text": [
        "[    4613] Solving over interval [ 7.70000e-02, 7.80000e-02]\n",
        "[    4613] ==============================================================\n",
        "[    4614] ==============================================================\n"
       ]
      },
      {
       "output_type": "stream",
       "stream": "stdout",
       "text": [
        "[    4614] Solving over interval [ 7.80000e-02, 7.90000e-02]\n",
        "[    4614] ==============================================================\n",
        "[    4614] ==============================================================\n"
       ]
      },
      {
       "output_type": "stream",
       "stream": "stdout",
       "text": [
        "[    4614] Solving over interval [ 7.90000e-02, 8.00000e-02]\n",
        "[    4614] ==============================================================\n",
        "[    4614] ==============================================================\n"
       ]
      },
      {
       "output_type": "stream",
       "stream": "stdout",
       "text": [
        "[    4614] Solving over interval [ 8.00000e-02, 8.10000e-02]\n",
        "[    4614] ==============================================================\n",
        "[    4615] ==============================================================\n"
       ]
      },
      {
       "output_type": "stream",
       "stream": "stdout",
       "text": [
        "[    4615] Solving over interval [ 8.10000e-02, 8.20000e-02]\n",
        "[    4615] ==============================================================\n",
        "[    4615] ==============================================================\n"
       ]
      },
      {
       "output_type": "stream",
       "stream": "stdout",
       "text": [
        "[    4615] Solving over interval [ 8.20000e-02, 8.30000e-02]\n",
        "[    4615] ==============================================================\n",
        "[    4615] ==============================================================\n"
       ]
      },
      {
       "output_type": "stream",
       "stream": "stdout",
       "text": [
        "[    4615] Solving over interval [ 8.30000e-02, 8.40000e-02]\n",
        "[    4615] ==============================================================\n",
        "[    4616] ==============================================================\n"
       ]
      },
      {
       "output_type": "stream",
       "stream": "stdout",
       "text": [
        "[    4616] Solving over interval [ 8.40000e-02, 8.50000e-02]\n",
        "[    4616] ==============================================================\n",
        "[    4616] ==============================================================\n"
       ]
      },
      {
       "output_type": "stream",
       "stream": "stdout",
       "text": [
        "[    4616] Solving over interval [ 8.50000e-02, 8.60000e-02]\n",
        "[    4616] ==============================================================\n",
        "[    4616] ==============================================================\n"
       ]
      },
      {
       "output_type": "stream",
       "stream": "stdout",
       "text": [
        "[    4616] Solving over interval [ 8.60000e-02, 8.70000e-02]\n",
        "[    4616] ==============================================================\n",
        "[    4617] ==============================================================\n"
       ]
      },
      {
       "output_type": "stream",
       "stream": "stdout",
       "text": [
        "[    4617] Solving over interval [ 8.70000e-02, 8.80000e-02]\n",
        "[    4617] ==============================================================\n",
        "[    4617] ==============================================================\n"
       ]
      },
      {
       "output_type": "stream",
       "stream": "stdout",
       "text": [
        "[    4617] Solving over interval [ 8.80000e-02, 8.90000e-02]\n",
        "[    4617] ==============================================================\n",
        "[    4618] ==============================================================\n"
       ]
      },
      {
       "output_type": "stream",
       "stream": "stdout",
       "text": [
        "[    4618] Solving over interval [ 8.90000e-02, 9.00000e-02]\n",
        "[    4618] ==============================================================\n",
        "[    4618] ==============================================================\n"
       ]
      },
      {
       "output_type": "stream",
       "stream": "stdout",
       "text": [
        "[    4618] Solving over interval [ 9.00000e-02, 9.10000e-02]\n",
        "[    4618] ==============================================================\n",
        "[    4618] ==============================================================\n"
       ]
      },
      {
       "output_type": "stream",
       "stream": "stdout",
       "text": [
        "[    4618] Solving over interval [ 9.10000e-02, 9.20000e-02]\n",
        "[    4618] ==============================================================\n",
        "[    4619] ==============================================================\n"
       ]
      },
      {
       "output_type": "stream",
       "stream": "stdout",
       "text": [
        "[    4619] Solving over interval [ 9.20000e-02, 9.30000e-02]\n",
        "[    4619] ==============================================================\n",
        "[    4619] ==============================================================\n"
       ]
      },
      {
       "output_type": "stream",
       "stream": "stdout",
       "text": [
        "[    4619] Solving over interval [ 9.30000e-02, 9.40000e-02]\n",
        "[    4619] ==============================================================\n",
        "[    4619] ==============================================================\n"
       ]
      },
      {
       "output_type": "stream",
       "stream": "stdout",
       "text": [
        "[    4619] Solving over interval [ 9.40000e-02, 9.50000e-02]\n",
        "[    4619] ==============================================================\n",
        "[    4620] ==============================================================\n"
       ]
      },
      {
       "output_type": "stream",
       "stream": "stdout",
       "text": [
        "[    4620] Solving over interval [ 9.50000e-02, 9.60000e-02]\n",
        "[    4620] ==============================================================\n",
        "[    4620] ==============================================================\n"
       ]
      },
      {
       "output_type": "stream",
       "stream": "stdout",
       "text": [
        "[    4620] Solving over interval [ 9.60000e-02, 9.70000e-02]\n",
        "[    4620] ==============================================================\n",
        "[    4620] ==============================================================\n"
       ]
      },
      {
       "output_type": "stream",
       "stream": "stdout",
       "text": [
        "[    4620] Solving over interval [ 9.70000e-02, 9.80000e-02]\n",
        "[    4620] ==============================================================\n",
        "[    4621] ==============================================================\n"
       ]
      },
      {
       "output_type": "stream",
       "stream": "stdout",
       "text": [
        "[    4621] Solving over interval [ 9.80000e-02, 9.90000e-02]\n",
        "[    4621] ==============================================================\n",
        "[    4621] ==============================================================\n"
       ]
      },
      {
       "output_type": "stream",
       "stream": "stdout",
       "text": [
        "[    4621] Solving over interval [ 9.90000e-02, 1.00000e-01]\n",
        "[    4621] ==============================================================\n",
        "[    4622] ==============================================================\n"
       ]
      },
      {
       "output_type": "stream",
       "stream": "stdout",
       "text": [
        "[    4622] Solving over interval [ 1.00000e-01, 1.01000e-01]\n",
        "[    4622] ==============================================================\n",
        "[    4622] ==============================================================\n"
       ]
      },
      {
       "output_type": "stream",
       "stream": "stdout",
       "text": [
        "[    4622] Solving over interval [ 1.01000e-01, 1.02000e-01]\n",
        "[    4622] ==============================================================\n",
        "[    4622] ==============================================================\n"
       ]
      },
      {
       "output_type": "stream",
       "stream": "stdout",
       "text": [
        "[    4622] Solving over interval [ 1.02000e-01, 1.03000e-01]\n",
        "[    4622] ==============================================================\n",
        "[    4623] ==============================================================\n"
       ]
      },
      {
       "output_type": "stream",
       "stream": "stdout",
       "text": [
        "[    4623] Solving over interval [ 1.03000e-01, 1.04000e-01]\n",
        "[    4623] ==============================================================\n",
        "[    4623] ==============================================================\n"
       ]
      },
      {
       "output_type": "stream",
       "stream": "stdout",
       "text": [
        "[    4623] Solving over interval [ 1.04000e-01, 1.05000e-01]\n",
        "[    4623] ==============================================================\n",
        "[    4623] ==============================================================\n"
       ]
      },
      {
       "output_type": "stream",
       "stream": "stdout",
       "text": [
        "[    4623] Solving over interval [ 1.05000e-01, 1.06000e-01]\n",
        "[    4623] ==============================================================\n",
        "[    4624] ==============================================================\n"
       ]
      },
      {
       "output_type": "stream",
       "stream": "stdout",
       "text": [
        "[    4624] Solving over interval [ 1.06000e-01, 1.07000e-01]\n",
        "[    4624] ==============================================================\n",
        "[    4624] ==============================================================\n"
       ]
      },
      {
       "output_type": "stream",
       "stream": "stdout",
       "text": [
        "[    4624] Solving over interval [ 1.07000e-01, 1.08000e-01]\n",
        "[    4624] ==============================================================\n",
        "[    4624] ==============================================================\n"
       ]
      },
      {
       "output_type": "stream",
       "stream": "stdout",
       "text": [
        "[    4624] Solving over interval [ 1.08000e-01, 1.09000e-01]\n",
        "[    4624] ==============================================================\n",
        "[    4625] ==============================================================\n"
       ]
      },
      {
       "output_type": "stream",
       "stream": "stdout",
       "text": [
        "[    4625] Solving over interval [ 1.09000e-01, 1.10000e-01]\n",
        "[    4625] ==============================================================\n",
        "[    4625] ==============================================================\n"
       ]
      },
      {
       "output_type": "stream",
       "stream": "stdout",
       "text": [
        "[    4625] Solving over interval [ 1.10000e-01, 1.11000e-01]\n",
        "[    4625] ==============================================================\n",
        "[    4626] ==============================================================\n"
       ]
      },
      {
       "output_type": "stream",
       "stream": "stdout",
       "text": [
        "[    4626] Solving over interval [ 1.11000e-01, 1.12000e-01]\n",
        "[    4626] ==============================================================\n",
        "[    4626] ==============================================================\n"
       ]
      },
      {
       "output_type": "stream",
       "stream": "stdout",
       "text": [
        "[    4626] Solving over interval [ 1.12000e-01, 1.13000e-01]\n",
        "[    4626] ==============================================================\n",
        "[    4626] ==============================================================\n"
       ]
      },
      {
       "output_type": "stream",
       "stream": "stdout",
       "text": [
        "[    4626] Solving over interval [ 1.13000e-01, 1.14000e-01]\n",
        "[    4626] ==============================================================\n",
        "[    4627] ==============================================================\n"
       ]
      },
      {
       "output_type": "stream",
       "stream": "stdout",
       "text": [
        "[    4627] Solving over interval [ 1.14000e-01, 1.15000e-01]\n",
        "[    4627] ==============================================================\n",
        "[    4627] ==============================================================\n"
       ]
      },
      {
       "output_type": "stream",
       "stream": "stdout",
       "text": [
        "[    4627] Solving over interval [ 1.15000e-01, 1.16000e-01]\n",
        "[    4627] ==============================================================\n",
        "[    4627] ==============================================================\n"
       ]
      },
      {
       "output_type": "stream",
       "stream": "stdout",
       "text": [
        "[    4627] Solving over interval [ 1.16000e-01, 1.17000e-01]\n",
        "[    4627] ==============================================================\n",
        "[    4628] ==============================================================\n"
       ]
      },
      {
       "output_type": "stream",
       "stream": "stdout",
       "text": [
        "[    4628] Solving over interval [ 1.17000e-01, 1.18000e-01]\n",
        "[    4628] ==============================================================\n",
        "[    4628] ==============================================================\n"
       ]
      },
      {
       "output_type": "stream",
       "stream": "stdout",
       "text": [
        "[    4628] Solving over interval [ 1.18000e-01, 1.19000e-01]\n",
        "[    4628] ==============================================================\n",
        "[    4629] ==============================================================\n"
       ]
      },
      {
       "output_type": "stream",
       "stream": "stdout",
       "text": [
        "[    4629] Solving over interval [ 1.19000e-01, 1.20000e-01]\n",
        "[    4629] ==============================================================\n",
        "[    4629] ==============================================================\n"
       ]
      },
      {
       "output_type": "stream",
       "stream": "stdout",
       "text": [
        "[    4629] Solving over interval [ 1.20000e-01, 1.21000e-01]\n",
        "[    4629] ==============================================================\n",
        "[    4629] ==============================================================\n"
       ]
      },
      {
       "output_type": "stream",
       "stream": "stdout",
       "text": [
        "[    4629] Solving over interval [ 1.21000e-01, 1.22000e-01]\n",
        "[    4629] ==============================================================\n",
        "[    4630] ==============================================================\n"
       ]
      },
      {
       "output_type": "stream",
       "stream": "stdout",
       "text": [
        "[    4630] Solving over interval [ 1.22000e-01, 1.23000e-01]\n",
        "[    4630] ==============================================================\n",
        "[    4630] ==============================================================\n"
       ]
      },
      {
       "output_type": "stream",
       "stream": "stdout",
       "text": [
        "[    4630] Solving over interval [ 1.23000e-01, 1.24000e-01]\n",
        "[    4630] ==============================================================\n",
        "[    4631] ==============================================================\n"
       ]
      },
      {
       "output_type": "stream",
       "stream": "stdout",
       "text": [
        "[    4631] Solving over interval [ 1.24000e-01, 1.25000e-01]\n",
        "[    4631] ==============================================================\n",
        "[    4631] ==============================================================\n"
       ]
      },
      {
       "output_type": "stream",
       "stream": "stdout",
       "text": [
        "[    4631] Solving over interval [ 1.25000e-01, 1.26000e-01]\n",
        "[    4631] ==============================================================\n",
        "[    4631] ==============================================================\n"
       ]
      },
      {
       "output_type": "stream",
       "stream": "stdout",
       "text": [
        "[    4631] Solving over interval [ 1.26000e-01, 1.27000e-01]\n",
        "[    4631] ==============================================================\n",
        "[    4632] ==============================================================\n"
       ]
      },
      {
       "output_type": "stream",
       "stream": "stdout",
       "text": [
        "[    4632] Solving over interval [ 1.27000e-01, 1.28000e-01]\n",
        "[    4632] ==============================================================\n",
        "[    4632] ==============================================================\n"
       ]
      },
      {
       "output_type": "stream",
       "stream": "stdout",
       "text": [
        "[    4632] Solving over interval [ 1.28000e-01, 1.29000e-01]\n",
        "[    4632] ==============================================================\n",
        "[    4633] ==============================================================\n"
       ]
      },
      {
       "output_type": "stream",
       "stream": "stdout",
       "text": [
        "[    4633] Solving over interval [ 1.29000e-01, 1.30000e-01]\n",
        "[    4633] ==============================================================\n",
        "[    4633] ==============================================================\n"
       ]
      },
      {
       "output_type": "stream",
       "stream": "stdout",
       "text": [
        "[    4633] Solving over interval [ 1.30000e-01, 1.31000e-01]\n",
        "[    4633] ==============================================================\n",
        "[    4633] ==============================================================\n"
       ]
      },
      {
       "output_type": "stream",
       "stream": "stdout",
       "text": [
        "[    4633] Solving over interval [ 1.31000e-01, 1.32000e-01]\n",
        "[    4633] ==============================================================\n",
        "[    4634] ==============================================================\n"
       ]
      },
      {
       "output_type": "stream",
       "stream": "stdout",
       "text": [
        "[    4634] Solving over interval [ 1.32000e-01, 1.33000e-01]\n",
        "[    4634] ==============================================================\n",
        "[    4634] ==============================================================\n"
       ]
      },
      {
       "output_type": "stream",
       "stream": "stdout",
       "text": [
        "[    4634] Solving over interval [ 1.33000e-01, 1.34000e-01]\n",
        "[    4634] ==============================================================\n",
        "[    4635] ==============================================================\n"
       ]
      },
      {
       "output_type": "stream",
       "stream": "stdout",
       "text": [
        "[    4635] Solving over interval [ 1.34000e-01, 1.35000e-01]\n",
        "[    4635] ==============================================================\n",
        "[    4635] ==============================================================\n"
       ]
      },
      {
       "output_type": "stream",
       "stream": "stdout",
       "text": [
        "[    4635] Solving over interval [ 1.35000e-01, 1.36000e-01]\n",
        "[    4635] ==============================================================\n",
        "[    4635] ==============================================================\n"
       ]
      },
      {
       "output_type": "stream",
       "stream": "stdout",
       "text": [
        "[    4635] Solving over interval [ 1.36000e-01, 1.37000e-01]\n",
        "[    4635] ==============================================================\n",
        "[    4636] ==============================================================\n"
       ]
      },
      {
       "output_type": "stream",
       "stream": "stdout",
       "text": [
        "[    4636] Solving over interval [ 1.37000e-01, 1.38000e-01]\n",
        "[    4636] ==============================================================\n",
        "[    4636] ==============================================================\n"
       ]
      },
      {
       "output_type": "stream",
       "stream": "stdout",
       "text": [
        "[    4636] Solving over interval [ 1.38000e-01, 1.39000e-01]\n",
        "[    4636] ==============================================================\n",
        "[    4637] ==============================================================\n"
       ]
      },
      {
       "output_type": "stream",
       "stream": "stdout",
       "text": [
        "[    4637] Solving over interval [ 1.39000e-01, 1.40000e-01]\n",
        "[    4637] ==============================================================\n",
        "[    4637] ==============================================================\n"
       ]
      },
      {
       "output_type": "stream",
       "stream": "stdout",
       "text": [
        "[    4637] Solving over interval [ 1.40000e-01, 1.41000e-01]\n",
        "[    4637] ==============================================================\n",
        "[    4637] ==============================================================\n"
       ]
      },
      {
       "output_type": "stream",
       "stream": "stdout",
       "text": [
        "[    4637] Solving over interval [ 1.41000e-01, 1.42000e-01]\n",
        "[    4637] ==============================================================\n",
        "[    4638] ==============================================================\n"
       ]
      },
      {
       "output_type": "stream",
       "stream": "stdout",
       "text": [
        "[    4638] Solving over interval [ 1.42000e-01, 1.43000e-01]\n",
        "[    4638] ==============================================================\n",
        "[    4638] ==============================================================\n"
       ]
      },
      {
       "output_type": "stream",
       "stream": "stdout",
       "text": [
        "[    4638] Solving over interval [ 1.43000e-01, 1.44000e-01]\n",
        "[    4638] ==============================================================\n",
        "[    4639] ==============================================================\n"
       ]
      },
      {
       "output_type": "stream",
       "stream": "stdout",
       "text": [
        "[    4639] Solving over interval [ 1.44000e-01, 1.45000e-01]\n",
        "[    4639] ==============================================================\n",
        "[    4639] ==============================================================\n"
       ]
      },
      {
       "output_type": "stream",
       "stream": "stdout",
       "text": [
        "[    4639] Solving over interval [ 1.45000e-01, 1.46000e-01]\n",
        "[    4639] ==============================================================\n",
        "[    4640] ==============================================================\n"
       ]
      },
      {
       "output_type": "stream",
       "stream": "stdout",
       "text": [
        "[    4640] Solving over interval [ 1.46000e-01, 1.47000e-01]\n",
        "[    4640] ==============================================================\n",
        "[    4640] ==============================================================\n"
       ]
      },
      {
       "output_type": "stream",
       "stream": "stdout",
       "text": [
        "[    4640] Solving over interval [ 1.47000e-01, 1.48000e-01]\n",
        "[    4640] ==============================================================\n",
        "[    4640] ==============================================================\n"
       ]
      },
      {
       "output_type": "stream",
       "stream": "stdout",
       "text": [
        "[    4640] Solving over interval [ 1.48000e-01, 1.49000e-01]\n",
        "[    4640] ==============================================================\n",
        "[    4641] ==============================================================\n"
       ]
      },
      {
       "output_type": "stream",
       "stream": "stdout",
       "text": [
        "[    4641] Solving over interval [ 1.49000e-01, 1.50000e-01]\n",
        "[    4641] ==============================================================\n",
        "[    4641] ==============================================================\n"
       ]
      },
      {
       "output_type": "stream",
       "stream": "stdout",
       "text": [
        "[    4641] Solving over interval [ 1.50000e-01, 1.51000e-01]\n",
        "[    4641] ==============================================================\n",
        "[    4642] ==============================================================\n"
       ]
      },
      {
       "output_type": "stream",
       "stream": "stdout",
       "text": [
        "[    4642] Solving over interval [ 1.51000e-01, 1.52000e-01]\n",
        "[    4642] ==============================================================\n",
        "[    4642] ==============================================================\n"
       ]
      },
      {
       "output_type": "stream",
       "stream": "stdout",
       "text": [
        "[    4642] Solving over interval [ 1.52000e-01, 1.53000e-01]\n",
        "[    4642] ==============================================================\n",
        "[    4643] ==============================================================\n"
       ]
      },
      {
       "output_type": "stream",
       "stream": "stdout",
       "text": [
        "[    4643] Solving over interval [ 1.53000e-01, 1.54000e-01]\n",
        "[    4643] ==============================================================\n",
        "[    4643] ==============================================================\n"
       ]
      },
      {
       "output_type": "stream",
       "stream": "stdout",
       "text": [
        "[    4643] Solving over interval [ 1.54000e-01, 1.55000e-01]\n",
        "[    4643] ==============================================================\n",
        "[    4643] ==============================================================\n"
       ]
      },
      {
       "output_type": "stream",
       "stream": "stdout",
       "text": [
        "[    4643] Solving over interval [ 1.55000e-01, 1.56000e-01]\n",
        "[    4643] ==============================================================\n",
        "[    4644] ==============================================================\n"
       ]
      },
      {
       "output_type": "stream",
       "stream": "stdout",
       "text": [
        "[    4644] Solving over interval [ 1.56000e-01, 1.57000e-01]\n",
        "[    4644] ==============================================================\n",
        "[    4644] ==============================================================\n"
       ]
      },
      {
       "output_type": "stream",
       "stream": "stdout",
       "text": [
        "[    4644] Solving over interval [ 1.57000e-01, 1.58000e-01]\n",
        "[    4644] ==============================================================\n",
        "[    4645] ==============================================================\n"
       ]
      },
      {
       "output_type": "stream",
       "stream": "stdout",
       "text": [
        "[    4645] Solving over interval [ 1.58000e-01, 1.59000e-01]\n",
        "[    4645] ==============================================================\n",
        "[    4645] ==============================================================\n"
       ]
      },
      {
       "output_type": "stream",
       "stream": "stdout",
       "text": [
        "[    4645] Solving over interval [ 1.59000e-01, 1.60000e-01]\n",
        "[    4645] ==============================================================\n",
        "[    4646] ==============================================================\n"
       ]
      },
      {
       "output_type": "stream",
       "stream": "stdout",
       "text": [
        "[    4646] Solving over interval [ 1.60000e-01, 1.61000e-01]\n",
        "[    4646] ==============================================================\n",
        "[    4646] ==============================================================\n"
       ]
      },
      {
       "output_type": "stream",
       "stream": "stdout",
       "text": [
        "[    4646] Solving over interval [ 1.61000e-01, 1.62000e-01]\n",
        "[    4646] ==============================================================\n",
        "[    4647] ==============================================================\n"
       ]
      },
      {
       "output_type": "stream",
       "stream": "stdout",
       "text": [
        "[    4647] Solving over interval [ 1.62000e-01, 1.63000e-01]\n",
        "[    4647] ==============================================================\n",
        "[    4647] ==============================================================\n"
       ]
      },
      {
       "output_type": "stream",
       "stream": "stdout",
       "text": [
        "[    4647] Solving over interval [ 1.63000e-01, 1.64000e-01]\n",
        "[    4647] ==============================================================\n",
        "[    4647] ==============================================================\n"
       ]
      },
      {
       "output_type": "stream",
       "stream": "stdout",
       "text": [
        "[    4647] Solving over interval [ 1.64000e-01, 1.65000e-01]\n",
        "[    4647] ==============================================================\n",
        "[    4648] ==============================================================\n"
       ]
      },
      {
       "output_type": "stream",
       "stream": "stdout",
       "text": [
        "[    4648] Solving over interval [ 1.65000e-01, 1.66000e-01]\n",
        "[    4648] ==============================================================\n",
        "[    4648] ==============================================================\n"
       ]
      },
      {
       "output_type": "stream",
       "stream": "stdout",
       "text": [
        "[    4648] Solving over interval [ 1.66000e-01, 1.67000e-01]\n",
        "[    4648] ==============================================================\n",
        "[    4649] ==============================================================\n"
       ]
      },
      {
       "output_type": "stream",
       "stream": "stdout",
       "text": [
        "[    4649] Solving over interval [ 1.67000e-01, 1.68000e-01]\n",
        "[    4649] ==============================================================\n",
        "[    4649] ==============================================================\n"
       ]
      },
      {
       "output_type": "stream",
       "stream": "stdout",
       "text": [
        "[    4649] Solving over interval [ 1.68000e-01, 1.69000e-01]\n",
        "[    4649] ==============================================================\n",
        "[    4650] ==============================================================\n"
       ]
      },
      {
       "output_type": "stream",
       "stream": "stdout",
       "text": [
        "[    4650] Solving over interval [ 1.69000e-01, 1.70000e-01]\n",
        "[    4650] ==============================================================\n",
        "[    4650] ==============================================================\n"
       ]
      },
      {
       "output_type": "stream",
       "stream": "stdout",
       "text": [
        "[    4650] Solving over interval [ 1.70000e-01, 1.71000e-01]\n",
        "[    4650] ==============================================================\n",
        "[    4651] ==============================================================\n"
       ]
      },
      {
       "output_type": "stream",
       "stream": "stdout",
       "text": [
        "[    4651] Solving over interval [ 1.71000e-01, 1.72000e-01]\n",
        "[    4651] ==============================================================\n",
        "[    4651] ==============================================================\n"
       ]
      },
      {
       "output_type": "stream",
       "stream": "stdout",
       "text": [
        "[    4651] Solving over interval [ 1.72000e-01, 1.73000e-01]\n",
        "[    4651] ==============================================================\n",
        "[    4652] ==============================================================\n"
       ]
      },
      {
       "output_type": "stream",
       "stream": "stdout",
       "text": [
        "[    4652] Solving over interval [ 1.73000e-01, 1.74000e-01]\n",
        "[    4652] ==============================================================\n",
        "[    4652] ==============================================================\n"
       ]
      },
      {
       "output_type": "stream",
       "stream": "stdout",
       "text": [
        "[    4652] Solving over interval [ 1.74000e-01, 1.75000e-01]\n",
        "[    4652] ==============================================================\n",
        "[    4652] ==============================================================\n"
       ]
      },
      {
       "output_type": "stream",
       "stream": "stdout",
       "text": [
        "[    4652] Solving over interval [ 1.75000e-01, 1.76000e-01]\n",
        "[    4652] ==============================================================\n",
        "[    4653] ==============================================================\n"
       ]
      },
      {
       "output_type": "stream",
       "stream": "stdout",
       "text": [
        "[    4653] Solving over interval [ 1.76000e-01, 1.77000e-01]\n",
        "[    4653] ==============================================================\n",
        "[    4653] ==============================================================\n"
       ]
      },
      {
       "output_type": "stream",
       "stream": "stdout",
       "text": [
        "[    4653] Solving over interval [ 1.77000e-01, 1.78000e-01]\n",
        "[    4653] ==============================================================\n",
        "[    4654] ==============================================================\n"
       ]
      },
      {
       "output_type": "stream",
       "stream": "stdout",
       "text": [
        "[    4654] Solving over interval [ 1.78000e-01, 1.79000e-01]\n",
        "[    4654] ==============================================================\n",
        "[    4654] ==============================================================\n"
       ]
      },
      {
       "output_type": "stream",
       "stream": "stdout",
       "text": [
        "[    4654] Solving over interval [ 1.79000e-01, 1.80000e-01]\n",
        "[    4654] ==============================================================\n",
        "[    4655] ==============================================================\n"
       ]
      },
      {
       "output_type": "stream",
       "stream": "stdout",
       "text": [
        "[    4655] Solving over interval [ 1.80000e-01, 1.81000e-01]\n",
        "[    4655] ==============================================================\n",
        "[    4655] ==============================================================\n"
       ]
      },
      {
       "output_type": "stream",
       "stream": "stdout",
       "text": [
        "[    4655] Solving over interval [ 1.81000e-01, 1.82000e-01]\n",
        "[    4655] ==============================================================\n",
        "[    4656] ==============================================================\n"
       ]
      },
      {
       "output_type": "stream",
       "stream": "stdout",
       "text": [
        "[    4656] Solving over interval [ 1.82000e-01, 1.83000e-01]\n",
        "[    4656] ==============================================================\n",
        "[    4656] ==============================================================\n"
       ]
      },
      {
       "output_type": "stream",
       "stream": "stdout",
       "text": [
        "[    4656] Solving over interval [ 1.83000e-01, 1.84000e-01]\n",
        "[    4656] ==============================================================\n",
        "[    4657] ==============================================================\n"
       ]
      },
      {
       "output_type": "stream",
       "stream": "stdout",
       "text": [
        "[    4657] Solving over interval [ 1.84000e-01, 1.85000e-01]\n",
        "[    4657] ==============================================================\n",
        "[    4657] ==============================================================\n"
       ]
      },
      {
       "output_type": "stream",
       "stream": "stdout",
       "text": [
        "[    4657] Solving over interval [ 1.85000e-01, 1.86000e-01]\n",
        "[    4657] ==============================================================\n",
        "[    4658] ==============================================================\n"
       ]
      },
      {
       "output_type": "stream",
       "stream": "stdout",
       "text": [
        "[    4658] Solving over interval [ 1.86000e-01, 1.87000e-01]\n",
        "[    4658] ==============================================================\n",
        "[    4658] ==============================================================\n"
       ]
      },
      {
       "output_type": "stream",
       "stream": "stdout",
       "text": [
        "[    4658] Solving over interval [ 1.87000e-01, 1.88000e-01]\n",
        "[    4658] ==============================================================\n",
        "[    4659] ==============================================================\n"
       ]
      },
      {
       "output_type": "stream",
       "stream": "stdout",
       "text": [
        "[    4659] Solving over interval [ 1.88000e-01, 1.89000e-01]\n",
        "[    4659] ==============================================================\n",
        "[    4659] ==============================================================\n"
       ]
      },
      {
       "output_type": "stream",
       "stream": "stdout",
       "text": [
        "[    4659] Solving over interval [ 1.89000e-01, 1.90000e-01]\n",
        "[    4659] ==============================================================\n",
        "[    4659] ==============================================================\n"
       ]
      },
      {
       "output_type": "stream",
       "stream": "stdout",
       "text": [
        "[    4659] Solving over interval [ 1.90000e-01, 1.91000e-01]\n",
        "[    4659] ==============================================================\n",
        "[    4660] ==============================================================\n"
       ]
      },
      {
       "output_type": "stream",
       "stream": "stdout",
       "text": [
        "[    4660] Solving over interval [ 1.91000e-01, 1.92000e-01]\n",
        "[    4660] ==============================================================\n",
        "[    4660] ==============================================================\n"
       ]
      },
      {
       "output_type": "stream",
       "stream": "stdout",
       "text": [
        "[    4660] Solving over interval [ 1.92000e-01, 1.93000e-01]\n",
        "[    4660] ==============================================================\n",
        "[    4661] ==============================================================\n"
       ]
      },
      {
       "output_type": "stream",
       "stream": "stdout",
       "text": [
        "[    4661] Solving over interval [ 1.93000e-01, 1.94000e-01]\n",
        "[    4661] ==============================================================\n",
        "[    4661] ==============================================================\n"
       ]
      },
      {
       "output_type": "stream",
       "stream": "stdout",
       "text": [
        "[    4661] Solving over interval [ 1.94000e-01, 1.95000e-01]\n",
        "[    4661] ==============================================================\n",
        "[    4662] ==============================================================\n"
       ]
      },
      {
       "output_type": "stream",
       "stream": "stdout",
       "text": [
        "[    4662] Solving over interval [ 1.95000e-01, 1.96000e-01]\n",
        "[    4662] ==============================================================\n",
        "[    4662] ==============================================================\n"
       ]
      },
      {
       "output_type": "stream",
       "stream": "stdout",
       "text": [
        "[    4662] Solving over interval [ 1.96000e-01, 1.97000e-01]\n",
        "[    4662] ==============================================================\n",
        "[    4663] ==============================================================\n"
       ]
      },
      {
       "output_type": "stream",
       "stream": "stdout",
       "text": [
        "[    4663] Solving over interval [ 1.97000e-01, 1.98000e-01]\n",
        "[    4663] ==============================================================\n",
        "[    4663] ==============================================================\n"
       ]
      },
      {
       "output_type": "stream",
       "stream": "stdout",
       "text": [
        "[    4663] Solving over interval [ 1.98000e-01, 1.99000e-01]\n",
        "[    4663] ==============================================================\n",
        "[    4664] ==============================================================\n"
       ]
      },
      {
       "output_type": "stream",
       "stream": "stdout",
       "text": [
        "[    4664] Solving over interval [ 1.99000e-01, 2.00000e-01]\n",
        "[    4664] ==============================================================\n",
        "[    4664] ==============================================================\n"
       ]
      },
      {
       "output_type": "stream",
       "stream": "stdout",
       "text": [
        "[    4664] Solving over interval [ 2.00000e-01, 2.01000e-01]\n",
        "[    4664] ==============================================================\n",
        "[    4665] ==============================================================\n"
       ]
      },
      {
       "output_type": "stream",
       "stream": "stdout",
       "text": [
        "[    4665] Solving over interval [ 2.01000e-01, 2.02000e-01]\n",
        "[    4665] ==============================================================\n",
        "[    4665] ==============================================================\n"
       ]
      },
      {
       "output_type": "stream",
       "stream": "stdout",
       "text": [
        "[    4665] Solving over interval [ 2.02000e-01, 2.03000e-01]\n",
        "[    4665] ==============================================================\n",
        "[    4666] ==============================================================\n"
       ]
      },
      {
       "output_type": "stream",
       "stream": "stdout",
       "text": [
        "[    4666] Solving over interval [ 2.03000e-01, 2.04000e-01]\n",
        "[    4666] ==============================================================\n",
        "[    4666] ==============================================================\n"
       ]
      },
      {
       "output_type": "stream",
       "stream": "stdout",
       "text": [
        "[    4666] Solving over interval [ 2.04000e-01, 2.05000e-01]\n",
        "[    4666] ==============================================================\n",
        "[    4667] ==============================================================\n"
       ]
      },
      {
       "output_type": "stream",
       "stream": "stdout",
       "text": [
        "[    4667] Solving over interval [ 2.05000e-01, 2.06000e-01]\n",
        "[    4667] ==============================================================\n",
        "[    4667] ==============================================================\n"
       ]
      },
      {
       "output_type": "stream",
       "stream": "stdout",
       "text": [
        "[    4667] Solving over interval [ 2.06000e-01, 2.07000e-01]\n",
        "[    4667] ==============================================================\n",
        "[    4668] ==============================================================\n"
       ]
      },
      {
       "output_type": "stream",
       "stream": "stdout",
       "text": [
        "[    4668] Solving over interval [ 2.07000e-01, 2.08000e-01]\n",
        "[    4668] ==============================================================\n",
        "[    4668] ==============================================================\n"
       ]
      },
      {
       "output_type": "stream",
       "stream": "stdout",
       "text": [
        "[    4668] Solving over interval [ 2.08000e-01, 2.09000e-01]\n",
        "[    4668] ==============================================================\n",
        "[    4669] ==============================================================\n"
       ]
      },
      {
       "output_type": "stream",
       "stream": "stdout",
       "text": [
        "[    4669] Solving over interval [ 2.09000e-01, 2.10000e-01]\n",
        "[    4669] ==============================================================\n",
        "[    4669] ==============================================================\n"
       ]
      },
      {
       "output_type": "stream",
       "stream": "stdout",
       "text": [
        "[    4669] Solving over interval [ 2.10000e-01, 2.11000e-01]\n",
        "[    4669] ==============================================================\n",
        "[    4670] ==============================================================\n"
       ]
      },
      {
       "output_type": "stream",
       "stream": "stdout",
       "text": [
        "[    4670] Solving over interval [ 2.11000e-01, 2.12000e-01]\n",
        "[    4670] ==============================================================\n",
        "[    4670] ==============================================================\n"
       ]
      },
      {
       "output_type": "stream",
       "stream": "stdout",
       "text": [
        "[    4670] Solving over interval [ 2.12000e-01, 2.13000e-01]\n",
        "[    4670] ==============================================================\n",
        "[    4671] ==============================================================\n"
       ]
      },
      {
       "output_type": "stream",
       "stream": "stdout",
       "text": [
        "[    4671] Solving over interval [ 2.13000e-01, 2.14000e-01]\n",
        "[    4671] ==============================================================\n",
        "[    4671] ==============================================================\n"
       ]
      },
      {
       "output_type": "stream",
       "stream": "stdout",
       "text": [
        "[    4671] Solving over interval [ 2.14000e-01, 2.15000e-01]\n",
        "[    4671] ==============================================================\n",
        "[    4672] ==============================================================\n"
       ]
      },
      {
       "output_type": "stream",
       "stream": "stdout",
       "text": [
        "[    4672] Solving over interval [ 2.15000e-01, 2.16000e-01]\n",
        "[    4672] ==============================================================\n",
        "[    4672] ==============================================================\n"
       ]
      },
      {
       "output_type": "stream",
       "stream": "stdout",
       "text": [
        "[    4672] Solving over interval [ 2.16000e-01, 2.17000e-01]\n",
        "[    4672] ==============================================================\n",
        "[    4673] ==============================================================\n"
       ]
      },
      {
       "output_type": "stream",
       "stream": "stdout",
       "text": [
        "[    4673] Solving over interval [ 2.17000e-01, 2.18000e-01]\n",
        "[    4673] ==============================================================\n",
        "[    4673] ==============================================================\n"
       ]
      },
      {
       "output_type": "stream",
       "stream": "stdout",
       "text": [
        "[    4673] Solving over interval [ 2.18000e-01, 2.19000e-01]\n",
        "[    4673] ==============================================================\n",
        "[    4674] ==============================================================\n"
       ]
      },
      {
       "output_type": "stream",
       "stream": "stdout",
       "text": [
        "[    4674] Solving over interval [ 2.19000e-01, 2.20000e-01]\n",
        "[    4674] ==============================================================\n",
        "[    4674] ==============================================================\n"
       ]
      },
      {
       "output_type": "stream",
       "stream": "stdout",
       "text": [
        "[    4674] Solving over interval [ 2.20000e-01, 2.21000e-01]\n",
        "[    4674] ==============================================================\n",
        "[    4675] ==============================================================\n"
       ]
      },
      {
       "output_type": "stream",
       "stream": "stdout",
       "text": [
        "[    4675] Solving over interval [ 2.21000e-01, 2.22000e-01]\n",
        "[    4675] ==============================================================\n",
        "[    4675] ==============================================================\n"
       ]
      },
      {
       "output_type": "stream",
       "stream": "stdout",
       "text": [
        "[    4675] Solving over interval [ 2.22000e-01, 2.23000e-01]\n",
        "[    4675] ==============================================================\n",
        "[    4676] ==============================================================\n"
       ]
      },
      {
       "output_type": "stream",
       "stream": "stdout",
       "text": [
        "[    4676] Solving over interval [ 2.23000e-01, 2.24000e-01]\n",
        "[    4676] ==============================================================\n",
        "[    4676] ==============================================================\n"
       ]
      },
      {
       "output_type": "stream",
       "stream": "stdout",
       "text": [
        "[    4676] Solving over interval [ 2.24000e-01, 2.25000e-01]\n",
        "[    4676] ==============================================================\n",
        "[    4677] ==============================================================\n"
       ]
      },
      {
       "output_type": "stream",
       "stream": "stdout",
       "text": [
        "[    4677] Solving over interval [ 2.25000e-01, 2.26000e-01]\n",
        "[    4677] ==============================================================\n",
        "[    4677] ==============================================================\n"
       ]
      },
      {
       "output_type": "stream",
       "stream": "stdout",
       "text": [
        "[    4677] Solving over interval [ 2.26000e-01, 2.27000e-01]\n",
        "[    4677] ==============================================================\n",
        "[    4678] ==============================================================\n"
       ]
      },
      {
       "output_type": "stream",
       "stream": "stdout",
       "text": [
        "[    4678] Solving over interval [ 2.27000e-01, 2.28000e-01]\n",
        "[    4678] ==============================================================\n",
        "[    4679] ==============================================================\n"
       ]
      },
      {
       "output_type": "stream",
       "stream": "stdout",
       "text": [
        "[    4679] Solving over interval [ 2.28000e-01, 2.29000e-01]\n",
        "[    4679] ==============================================================\n",
        "[    4679] ==============================================================\n"
       ]
      },
      {
       "output_type": "stream",
       "stream": "stdout",
       "text": [
        "[    4679] Solving over interval [ 2.29000e-01, 2.30000e-01]\n",
        "[    4679] ==============================================================\n",
        "[    4680] ==============================================================\n"
       ]
      },
      {
       "output_type": "stream",
       "stream": "stdout",
       "text": [
        "[    4680] Solving over interval [ 2.30000e-01, 2.31000e-01]\n",
        "[    4680] ==============================================================\n",
        "[    4680] ==============================================================\n"
       ]
      },
      {
       "output_type": "stream",
       "stream": "stdout",
       "text": [
        "[    4680] Solving over interval [ 2.31000e-01, 2.32000e-01]\n",
        "[    4680] ==============================================================\n",
        "[    4681] ==============================================================\n"
       ]
      },
      {
       "output_type": "stream",
       "stream": "stdout",
       "text": [
        "[    4681] Solving over interval [ 2.32000e-01, 2.33000e-01]\n",
        "[    4681] ==============================================================\n",
        "[    4681] ==============================================================\n"
       ]
      },
      {
       "output_type": "stream",
       "stream": "stdout",
       "text": [
        "[    4681] Solving over interval [ 2.33000e-01, 2.34000e-01]\n",
        "[    4681] ==============================================================\n",
        "[    4682] ==============================================================\n"
       ]
      },
      {
       "output_type": "stream",
       "stream": "stdout",
       "text": [
        "[    4682] Solving over interval [ 2.34000e-01, 2.35000e-01]\n",
        "[    4682] ==============================================================\n",
        "[    4682] ==============================================================\n"
       ]
      },
      {
       "output_type": "stream",
       "stream": "stdout",
       "text": [
        "[    4682] Solving over interval [ 2.35000e-01, 2.36000e-01]\n",
        "[    4682] ==============================================================\n",
        "[    4683] ==============================================================\n"
       ]
      },
      {
       "output_type": "stream",
       "stream": "stdout",
       "text": [
        "[    4683] Solving over interval [ 2.36000e-01, 2.37000e-01]\n",
        "[    4683] ==============================================================\n",
        "[    4683] ==============================================================\n"
       ]
      },
      {
       "output_type": "stream",
       "stream": "stdout",
       "text": [
        "[    4683] Solving over interval [ 2.37000e-01, 2.38000e-01]\n",
        "[    4683] ==============================================================\n",
        "[    4684] ==============================================================\n"
       ]
      },
      {
       "output_type": "stream",
       "stream": "stdout",
       "text": [
        "[    4684] Solving over interval [ 2.38000e-01, 2.39000e-01]\n",
        "[    4684] ==============================================================\n",
        "[    4685] ==============================================================\n"
       ]
      },
      {
       "output_type": "stream",
       "stream": "stdout",
       "text": [
        "[    4685] Solving over interval [ 2.39000e-01, 2.40000e-01]\n",
        "[    4685] ==============================================================\n",
        "[    4685] ==============================================================\n"
       ]
      },
      {
       "output_type": "stream",
       "stream": "stdout",
       "text": [
        "[    4685] Solving over interval [ 2.40000e-01, 2.41000e-01]\n",
        "[    4685] ==============================================================\n",
        "[    4686] ==============================================================\n"
       ]
      },
      {
       "output_type": "stream",
       "stream": "stdout",
       "text": [
        "[    4686] Solving over interval [ 2.41000e-01, 2.42000e-01]\n",
        "[    4686] ==============================================================\n",
        "[    4686] ==============================================================\n"
       ]
      },
      {
       "output_type": "stream",
       "stream": "stdout",
       "text": [
        "[    4686] Solving over interval [ 2.42000e-01, 2.43000e-01]\n",
        "[    4686] ==============================================================\n",
        "[    4687] ==============================================================\n"
       ]
      },
      {
       "output_type": "stream",
       "stream": "stdout",
       "text": [
        "[    4687] Solving over interval [ 2.43000e-01, 2.44000e-01]\n",
        "[    4687] ==============================================================\n",
        "[    4687] ==============================================================\n"
       ]
      },
      {
       "output_type": "stream",
       "stream": "stdout",
       "text": [
        "[    4687] Solving over interval [ 2.44000e-01, 2.45000e-01]\n",
        "[    4687] ==============================================================\n",
        "[    4688] ==============================================================\n"
       ]
      },
      {
       "output_type": "stream",
       "stream": "stdout",
       "text": [
        "[    4688] Solving over interval [ 2.45000e-01, 2.46000e-01]\n",
        "[    4688] ==============================================================\n",
        "[    4688] ==============================================================\n"
       ]
      },
      {
       "output_type": "stream",
       "stream": "stdout",
       "text": [
        "[    4688] Solving over interval [ 2.46000e-01, 2.47000e-01]\n",
        "[    4688] ==============================================================\n",
        "[    4689] ==============================================================\n"
       ]
      },
      {
       "output_type": "stream",
       "stream": "stdout",
       "text": [
        "[    4689] Solving over interval [ 2.47000e-01, 2.48000e-01]\n",
        "[    4689] ==============================================================\n",
        "[    4689] ==============================================================\n"
       ]
      },
      {
       "output_type": "stream",
       "stream": "stdout",
       "text": [
        "[    4689] Solving over interval [ 2.48000e-01, 2.49000e-01]\n",
        "[    4689] ==============================================================\n",
        "[    4690] ==============================================================\n"
       ]
      },
      {
       "output_type": "stream",
       "stream": "stdout",
       "text": [
        "[    4690] Solving over interval [ 2.49000e-01, 2.50000e-01]\n",
        "[    4690] ==============================================================\n",
        "[    4691] ==============================================================\n"
       ]
      },
      {
       "output_type": "stream",
       "stream": "stdout",
       "text": [
        "[    4691] Solving over interval [ 2.50000e-01, 2.51000e-01]\n",
        "[    4691] ==============================================================\n",
        "[    4691] ==============================================================\n"
       ]
      },
      {
       "output_type": "stream",
       "stream": "stdout",
       "text": [
        "[    4691] Solving over interval [ 2.51000e-01, 2.52000e-01]\n",
        "[    4691] ==============================================================\n",
        "[    4692] ==============================================================\n"
       ]
      },
      {
       "output_type": "stream",
       "stream": "stdout",
       "text": [
        "[    4692] Solving over interval [ 2.52000e-01, 2.53000e-01]\n",
        "[    4692] ==============================================================\n",
        "[    4692] ==============================================================\n"
       ]
      },
      {
       "output_type": "stream",
       "stream": "stdout",
       "text": [
        "[    4692] Solving over interval [ 2.53000e-01, 2.54000e-01]\n",
        "[    4692] ==============================================================\n",
        "[    4693] ==============================================================\n"
       ]
      },
      {
       "output_type": "stream",
       "stream": "stdout",
       "text": [
        "[    4693] Solving over interval [ 2.54000e-01, 2.55000e-01]\n",
        "[    4693] ==============================================================\n",
        "[    4693] ==============================================================\n"
       ]
      },
      {
       "output_type": "stream",
       "stream": "stdout",
       "text": [
        "[    4693] Solving over interval [ 2.55000e-01, 2.56000e-01]\n",
        "[    4693] ==============================================================\n",
        "[    4694] ==============================================================\n"
       ]
      },
      {
       "output_type": "stream",
       "stream": "stdout",
       "text": [
        "[    4694] Solving over interval [ 2.56000e-01, 2.57000e-01]\n",
        "[    4694] ==============================================================\n",
        "[    4694] ==============================================================\n"
       ]
      },
      {
       "output_type": "stream",
       "stream": "stdout",
       "text": [
        "[    4694] Solving over interval [ 2.57000e-01, 2.58000e-01]\n",
        "[    4694] ==============================================================\n",
        "[    4695] ==============================================================\n"
       ]
      },
      {
       "output_type": "stream",
       "stream": "stdout",
       "text": [
        "[    4695] Solving over interval [ 2.58000e-01, 2.59000e-01]\n",
        "[    4695] ==============================================================\n",
        "[    4696] ==============================================================\n"
       ]
      },
      {
       "output_type": "stream",
       "stream": "stdout",
       "text": [
        "[    4696] Solving over interval [ 2.59000e-01, 2.60000e-01]\n",
        "[    4696] ==============================================================\n",
        "[    4696] ==============================================================\n"
       ]
      },
      {
       "output_type": "stream",
       "stream": "stdout",
       "text": [
        "[    4696] Solving over interval [ 2.60000e-01, 2.61000e-01]\n",
        "[    4696] ==============================================================\n",
        "[    4697] ==============================================================\n"
       ]
      },
      {
       "output_type": "stream",
       "stream": "stdout",
       "text": [
        "[    4697] Solving over interval [ 2.61000e-01, 2.62000e-01]\n",
        "[    4697] ==============================================================\n",
        "[    4697] ==============================================================\n"
       ]
      },
      {
       "output_type": "stream",
       "stream": "stdout",
       "text": [
        "[    4697] Solving over interval [ 2.62000e-01, 2.63000e-01]\n",
        "[    4697] ==============================================================\n",
        "[    4698] ==============================================================\n"
       ]
      },
      {
       "output_type": "stream",
       "stream": "stdout",
       "text": [
        "[    4698] Solving over interval [ 2.63000e-01, 2.64000e-01]\n",
        "[    4698] ==============================================================\n",
        "[    4698] ==============================================================\n"
       ]
      },
      {
       "output_type": "stream",
       "stream": "stdout",
       "text": [
        "[    4698] Solving over interval [ 2.64000e-01, 2.65000e-01]\n",
        "[    4698] ==============================================================\n",
        "[    4699] ==============================================================\n"
       ]
      },
      {
       "output_type": "stream",
       "stream": "stdout",
       "text": [
        "[    4699] Solving over interval [ 2.65000e-01, 2.66000e-01]\n",
        "[    4699] ==============================================================\n",
        "[    4700] ==============================================================\n"
       ]
      },
      {
       "output_type": "stream",
       "stream": "stdout",
       "text": [
        "[    4700] Solving over interval [ 2.66000e-01, 2.67000e-01]\n",
        "[    4700] ==============================================================\n",
        "[    4700] ==============================================================\n"
       ]
      },
      {
       "output_type": "stream",
       "stream": "stdout",
       "text": [
        "[    4700] Solving over interval [ 2.67000e-01, 2.68000e-01]\n",
        "[    4700] ==============================================================\n",
        "[    4701] ==============================================================\n"
       ]
      },
      {
       "output_type": "stream",
       "stream": "stdout",
       "text": [
        "[    4701] Solving over interval [ 2.68000e-01, 2.69000e-01]\n",
        "[    4701] ==============================================================\n",
        "[    4701] ==============================================================\n"
       ]
      },
      {
       "output_type": "stream",
       "stream": "stdout",
       "text": [
        "[    4701] Solving over interval [ 2.69000e-01, 2.70000e-01]\n",
        "[    4701] ==============================================================\n",
        "[    4702] ==============================================================\n"
       ]
      },
      {
       "output_type": "stream",
       "stream": "stdout",
       "text": [
        "[    4702] Solving over interval [ 2.70000e-01, 2.71000e-01]\n",
        "[    4702] ==============================================================\n",
        "[    4702] ==============================================================\n"
       ]
      },
      {
       "output_type": "stream",
       "stream": "stdout",
       "text": [
        "[    4702] Solving over interval [ 2.71000e-01, 2.72000e-01]\n",
        "[    4702] ==============================================================\n",
        "[    4703] ==============================================================\n"
       ]
      },
      {
       "output_type": "stream",
       "stream": "stdout",
       "text": [
        "[    4703] Solving over interval [ 2.72000e-01, 2.73000e-01]\n",
        "[    4703] ==============================================================\n",
        "[    4704] ==============================================================\n"
       ]
      },
      {
       "output_type": "stream",
       "stream": "stdout",
       "text": [
        "[    4704] Solving over interval [ 2.73000e-01, 2.74000e-01]\n",
        "[    4704] ==============================================================\n",
        "[    4704] ==============================================================\n"
       ]
      },
      {
       "output_type": "stream",
       "stream": "stdout",
       "text": [
        "[    4704] Solving over interval [ 2.74000e-01, 2.75000e-01]\n",
        "[    4704] ==============================================================\n",
        "[    4705] ==============================================================\n"
       ]
      },
      {
       "output_type": "stream",
       "stream": "stdout",
       "text": [
        "[    4705] Solving over interval [ 2.75000e-01, 2.76000e-01]\n",
        "[    4705] ==============================================================\n",
        "[    4705] ==============================================================\n"
       ]
      },
      {
       "output_type": "stream",
       "stream": "stdout",
       "text": [
        "[    4705] Solving over interval [ 2.76000e-01, 2.77000e-01]\n",
        "[    4705] ==============================================================\n",
        "[    4706] ==============================================================\n"
       ]
      },
      {
       "output_type": "stream",
       "stream": "stdout",
       "text": [
        "[    4706] Solving over interval [ 2.77000e-01, 2.78000e-01]\n",
        "[    4706] ==============================================================\n",
        "[    4707] ==============================================================\n"
       ]
      },
      {
       "output_type": "stream",
       "stream": "stdout",
       "text": [
        "[    4707] Solving over interval [ 2.78000e-01, 2.79000e-01]\n",
        "[    4707] ==============================================================\n",
        "[    4707] ==============================================================\n"
       ]
      },
      {
       "output_type": "stream",
       "stream": "stdout",
       "text": [
        "[    4707] Solving over interval [ 2.79000e-01, 2.80000e-01]\n",
        "[    4707] ==============================================================\n",
        "[    4708] ==============================================================\n"
       ]
      },
      {
       "output_type": "stream",
       "stream": "stdout",
       "text": [
        "[    4708] Solving over interval [ 2.80000e-01, 2.81000e-01]\n",
        "[    4708] ==============================================================\n",
        "[    4708] ==============================================================\n"
       ]
      },
      {
       "output_type": "stream",
       "stream": "stdout",
       "text": [
        "[    4708] Solving over interval [ 2.81000e-01, 2.82000e-01]\n",
        "[    4708] ==============================================================\n",
        "[    4709] ==============================================================\n"
       ]
      },
      {
       "output_type": "stream",
       "stream": "stdout",
       "text": [
        "[    4709] Solving over interval [ 2.82000e-01, 2.83000e-01]\n",
        "[    4709] ==============================================================\n",
        "[    4710] ==============================================================\n"
       ]
      },
      {
       "output_type": "stream",
       "stream": "stdout",
       "text": [
        "[    4710] Solving over interval [ 2.83000e-01, 2.84000e-01]\n",
        "[    4710] ==============================================================\n",
        "[    4710] ==============================================================\n"
       ]
      },
      {
       "output_type": "stream",
       "stream": "stdout",
       "text": [
        "[    4710] Solving over interval [ 2.84000e-01, 2.85000e-01]\n",
        "[    4710] ==============================================================\n",
        "[    4711] ==============================================================\n"
       ]
      },
      {
       "output_type": "stream",
       "stream": "stdout",
       "text": [
        "[    4711] Solving over interval [ 2.85000e-01, 2.86000e-01]\n",
        "[    4711] ==============================================================\n",
        "[    4711] ==============================================================\n"
       ]
      },
      {
       "output_type": "stream",
       "stream": "stdout",
       "text": [
        "[    4711] Solving over interval [ 2.86000e-01, 2.87000e-01]\n",
        "[    4711] ==============================================================\n",
        "[    4712] ==============================================================\n"
       ]
      },
      {
       "output_type": "stream",
       "stream": "stdout",
       "text": [
        "[    4712] Solving over interval [ 2.87000e-01, 2.88000e-01]\n",
        "[    4712] ==============================================================\n",
        "[    4713] ==============================================================\n"
       ]
      },
      {
       "output_type": "stream",
       "stream": "stdout",
       "text": [
        "[    4713] Solving over interval [ 2.88000e-01, 2.89000e-01]\n",
        "[    4713] ==============================================================\n",
        "[    4713] ==============================================================\n"
       ]
      },
      {
       "output_type": "stream",
       "stream": "stdout",
       "text": [
        "[    4713] Solving over interval [ 2.89000e-01, 2.90000e-01]\n",
        "[    4713] ==============================================================\n",
        "[    4714] ==============================================================\n"
       ]
      },
      {
       "output_type": "stream",
       "stream": "stdout",
       "text": [
        "[    4714] Solving over interval [ 2.90000e-01, 2.91000e-01]\n",
        "[    4714] ==============================================================\n",
        "[    4714] ==============================================================\n"
       ]
      },
      {
       "output_type": "stream",
       "stream": "stdout",
       "text": [
        "[    4714] Solving over interval [ 2.91000e-01, 2.92000e-01]\n",
        "[    4714] ==============================================================\n",
        "[    4715] ==============================================================\n"
       ]
      },
      {
       "output_type": "stream",
       "stream": "stdout",
       "text": [
        "[    4715] Solving over interval [ 2.92000e-01, 2.93000e-01]\n",
        "[    4715] ==============================================================\n",
        "[    4716] ==============================================================\n"
       ]
      },
      {
       "output_type": "stream",
       "stream": "stdout",
       "text": [
        "[    4716] Solving over interval [ 2.93000e-01, 2.94000e-01]\n",
        "[    4716] ==============================================================\n",
        "[    4716] ==============================================================\n"
       ]
      },
      {
       "output_type": "stream",
       "stream": "stdout",
       "text": [
        "[    4716] Solving over interval [ 2.94000e-01, 2.95000e-01]\n",
        "[    4716] ==============================================================\n",
        "[    4717] ==============================================================\n"
       ]
      },
      {
       "output_type": "stream",
       "stream": "stdout",
       "text": [
        "[    4717] Solving over interval [ 2.95000e-01, 2.96000e-01]\n",
        "[    4717] ==============================================================\n",
        "[    4717] ==============================================================\n"
       ]
      },
      {
       "output_type": "stream",
       "stream": "stdout",
       "text": [
        "[    4717] Solving over interval [ 2.96000e-01, 2.97000e-01]\n",
        "[    4717] ==============================================================\n",
        "[    4718] ==============================================================\n"
       ]
      },
      {
       "output_type": "stream",
       "stream": "stdout",
       "text": [
        "[    4718] Solving over interval [ 2.97000e-01, 2.98000e-01]\n",
        "[    4718] ==============================================================\n",
        "[    4719] ==============================================================\n"
       ]
      },
      {
       "output_type": "stream",
       "stream": "stdout",
       "text": [
        "[    4719] Solving over interval [ 2.98000e-01, 2.99000e-01]\n",
        "[    4719] ==============================================================\n",
        "[    4719] ==============================================================\n"
       ]
      },
      {
       "output_type": "stream",
       "stream": "stdout",
       "text": [
        "[    4719] Solving over interval [ 2.99000e-01, 3.00000e-01]\n",
        "[    4719] ==============================================================\n",
        "[    4720] ==============================================================\n"
       ]
      },
      {
       "output_type": "stream",
       "stream": "stdout",
       "text": [
        "[    4720] Solving over interval [ 3.00000e-01, 3.01000e-01]\n",
        "[    4720] ==============================================================\n",
        "[    4720] ==============================================================\n"
       ]
      },
      {
       "output_type": "stream",
       "stream": "stdout",
       "text": [
        "[    4720] Solving over interval [ 3.01000e-01, 3.02000e-01]\n",
        "[    4720] ==============================================================\n",
        "[    4721] ==============================================================\n"
       ]
      },
      {
       "output_type": "stream",
       "stream": "stdout",
       "text": [
        "[    4721] Solving over interval [ 3.02000e-01, 3.03000e-01]\n",
        "[    4721] ==============================================================\n",
        "[    4722] ==============================================================\n"
       ]
      },
      {
       "output_type": "stream",
       "stream": "stdout",
       "text": [
        "[    4722] Solving over interval [ 3.03000e-01, 3.04000e-01]\n",
        "[    4722] ==============================================================\n",
        "[    4722] ==============================================================\n"
       ]
      },
      {
       "output_type": "stream",
       "stream": "stdout",
       "text": [
        "[    4722] Solving over interval [ 3.04000e-01, 3.05000e-01]\n",
        "[    4722] ==============================================================\n",
        "[    4723] ==============================================================\n"
       ]
      },
      {
       "output_type": "stream",
       "stream": "stdout",
       "text": [
        "[    4723] Solving over interval [ 3.05000e-01, 3.06000e-01]\n",
        "[    4723] ==============================================================\n",
        "[    4724] ==============================================================\n"
       ]
      },
      {
       "output_type": "stream",
       "stream": "stdout",
       "text": [
        "[    4724] Solving over interval [ 3.06000e-01, 3.07000e-01]\n",
        "[    4724] ==============================================================\n",
        "[    4724] ==============================================================\n"
       ]
      },
      {
       "output_type": "stream",
       "stream": "stdout",
       "text": [
        "[    4724] Solving over interval [ 3.07000e-01, 3.08000e-01]\n",
        "[    4724] ==============================================================\n",
        "[    4725] ==============================================================\n"
       ]
      },
      {
       "output_type": "stream",
       "stream": "stdout",
       "text": [
        "[    4725] Solving over interval [ 3.08000e-01, 3.09000e-01]\n",
        "[    4725] ==============================================================\n",
        "[    4725] ==============================================================\n"
       ]
      },
      {
       "output_type": "stream",
       "stream": "stdout",
       "text": [
        "[    4725] Solving over interval [ 3.09000e-01, 3.10000e-01]\n",
        "[    4725] ==============================================================\n",
        "[    4726] ==============================================================\n"
       ]
      },
      {
       "output_type": "stream",
       "stream": "stdout",
       "text": [
        "[    4726] Solving over interval [ 3.10000e-01, 3.11000e-01]\n",
        "[    4726] ==============================================================\n",
        "[    4727] ==============================================================\n"
       ]
      },
      {
       "output_type": "stream",
       "stream": "stdout",
       "text": [
        "[    4727] Solving over interval [ 3.11000e-01, 3.12000e-01]\n",
        "[    4727] ==============================================================\n",
        "[    4727] ==============================================================\n"
       ]
      },
      {
       "output_type": "stream",
       "stream": "stdout",
       "text": [
        "[    4727] Solving over interval [ 3.12000e-01, 3.13000e-01]\n",
        "[    4727] ==============================================================\n",
        "[    4728] ==============================================================\n"
       ]
      },
      {
       "output_type": "stream",
       "stream": "stdout",
       "text": [
        "[    4728] Solving over interval [ 3.13000e-01, 3.14000e-01]\n",
        "[    4728] ==============================================================\n",
        "[    4729] ==============================================================\n"
       ]
      },
      {
       "output_type": "stream",
       "stream": "stdout",
       "text": [
        "[    4729] Solving over interval [ 3.14000e-01, 3.15000e-01]\n",
        "[    4729] ==============================================================\n",
        "[    4729] ==============================================================\n"
       ]
      },
      {
       "output_type": "stream",
       "stream": "stdout",
       "text": [
        "[    4729] Solving over interval [ 3.15000e-01, 3.16000e-01]\n",
        "[    4729] ==============================================================\n",
        "[    4730] ==============================================================\n"
       ]
      },
      {
       "output_type": "stream",
       "stream": "stdout",
       "text": [
        "[    4730] Solving over interval [ 3.16000e-01, 3.17000e-01]\n",
        "[    4730] ==============================================================\n",
        "[    4731] ==============================================================\n"
       ]
      },
      {
       "output_type": "stream",
       "stream": "stdout",
       "text": [
        "[    4731] Solving over interval [ 3.17000e-01, 3.18000e-01]\n",
        "[    4731] ==============================================================\n",
        "[    4731] ==============================================================\n"
       ]
      },
      {
       "output_type": "stream",
       "stream": "stdout",
       "text": [
        "[    4731] Solving over interval [ 3.18000e-01, 3.19000e-01]\n",
        "[    4731] ==============================================================\n",
        "[    4732] ==============================================================\n"
       ]
      },
      {
       "output_type": "stream",
       "stream": "stdout",
       "text": [
        "[    4732] Solving over interval [ 3.19000e-01, 3.20000e-01]\n",
        "[    4732] ==============================================================\n",
        "[    4733] ==============================================================\n"
       ]
      },
      {
       "output_type": "stream",
       "stream": "stdout",
       "text": [
        "[    4733] Solving over interval [ 3.20000e-01, 3.21000e-01]\n",
        "[    4733] ==============================================================\n",
        "[    4733] ==============================================================\n"
       ]
      },
      {
       "output_type": "stream",
       "stream": "stdout",
       "text": [
        "[    4733] Solving over interval [ 3.21000e-01, 3.22000e-01]\n",
        "[    4733] ==============================================================\n",
        "[    4734] ==============================================================\n"
       ]
      },
      {
       "output_type": "stream",
       "stream": "stdout",
       "text": [
        "[    4734] Solving over interval [ 3.22000e-01, 3.23000e-01]\n",
        "[    4734] ==============================================================\n",
        "[    4735] ==============================================================\n"
       ]
      },
      {
       "output_type": "stream",
       "stream": "stdout",
       "text": [
        "[    4735] Solving over interval [ 3.23000e-01, 3.24000e-01]\n",
        "[    4735] ==============================================================\n",
        "[    4735] ==============================================================\n"
       ]
      },
      {
       "output_type": "stream",
       "stream": "stdout",
       "text": [
        "[    4735] Solving over interval [ 3.24000e-01, 3.25000e-01]\n",
        "[    4735] ==============================================================\n",
        "[    4736] ==============================================================\n"
       ]
      },
      {
       "output_type": "stream",
       "stream": "stdout",
       "text": [
        "[    4736] Solving over interval [ 3.25000e-01, 3.26000e-01]\n",
        "[    4736] ==============================================================\n",
        "[    4737] ==============================================================\n"
       ]
      },
      {
       "output_type": "stream",
       "stream": "stdout",
       "text": [
        "[    4737] Solving over interval [ 3.26000e-01, 3.27000e-01]\n",
        "[    4737] ==============================================================\n",
        "[    4737] ==============================================================\n"
       ]
      },
      {
       "output_type": "stream",
       "stream": "stdout",
       "text": [
        "[    4737] Solving over interval [ 3.27000e-01, 3.28000e-01]\n",
        "[    4737] ==============================================================\n",
        "[    4738] ==============================================================\n"
       ]
      },
      {
       "output_type": "stream",
       "stream": "stdout",
       "text": [
        "[    4738] Solving over interval [ 3.28000e-01, 3.29000e-01]\n",
        "[    4738] ==============================================================\n",
        "[    4739] ==============================================================\n"
       ]
      },
      {
       "output_type": "stream",
       "stream": "stdout",
       "text": [
        "[    4739] Solving over interval [ 3.29000e-01, 3.30000e-01]\n",
        "[    4739] ==============================================================\n",
        "[    4739] ==============================================================\n"
       ]
      },
      {
       "output_type": "stream",
       "stream": "stdout",
       "text": [
        "[    4739] Solving over interval [ 3.30000e-01, 3.31000e-01]\n",
        "[    4739] ==============================================================\n",
        "[    4740] ==============================================================\n"
       ]
      },
      {
       "output_type": "stream",
       "stream": "stdout",
       "text": [
        "[    4740] Solving over interval [ 3.31000e-01, 3.32000e-01]\n",
        "[    4740] ==============================================================\n",
        "[    4741] ==============================================================\n"
       ]
      },
      {
       "output_type": "stream",
       "stream": "stdout",
       "text": [
        "[    4741] Solving over interval [ 3.32000e-01, 3.33000e-01]\n",
        "[    4741] ==============================================================\n",
        "[    4741] ==============================================================\n"
       ]
      },
      {
       "output_type": "stream",
       "stream": "stdout",
       "text": [
        "[    4741] Solving over interval [ 3.33000e-01, 3.34000e-01]\n",
        "[    4741] ==============================================================\n",
        "[    4742] ==============================================================\n"
       ]
      },
      {
       "output_type": "stream",
       "stream": "stdout",
       "text": [
        "[    4742] Solving over interval [ 3.34000e-01, 3.35000e-01]\n",
        "[    4742] ==============================================================\n",
        "[    4743] ==============================================================\n"
       ]
      },
      {
       "output_type": "stream",
       "stream": "stdout",
       "text": [
        "[    4743] Solving over interval [ 3.35000e-01, 3.36000e-01]\n",
        "[    4743] ==============================================================\n",
        "[    4743] ==============================================================\n"
       ]
      },
      {
       "output_type": "stream",
       "stream": "stdout",
       "text": [
        "[    4743] Solving over interval [ 3.36000e-01, 3.37000e-01]\n",
        "[    4743] ==============================================================\n",
        "[    4744] ==============================================================\n"
       ]
      },
      {
       "output_type": "stream",
       "stream": "stdout",
       "text": [
        "[    4744] Solving over interval [ 3.37000e-01, 3.38000e-01]\n",
        "[    4744] ==============================================================\n",
        "[    4745] ==============================================================\n"
       ]
      },
      {
       "output_type": "stream",
       "stream": "stdout",
       "text": [
        "[    4745] Solving over interval [ 3.38000e-01, 3.39000e-01]\n",
        "[    4745] ==============================================================\n",
        "[    4745] ==============================================================\n"
       ]
      },
      {
       "output_type": "stream",
       "stream": "stdout",
       "text": [
        "[    4745] Solving over interval [ 3.39000e-01, 3.40000e-01]\n",
        "[    4745] ==============================================================\n",
        "[    4746] ==============================================================\n"
       ]
      },
      {
       "output_type": "stream",
       "stream": "stdout",
       "text": [
        "[    4746] Solving over interval [ 3.40000e-01, 3.41000e-01]\n",
        "[    4746] ==============================================================\n",
        "[    4747] ==============================================================\n"
       ]
      },
      {
       "output_type": "stream",
       "stream": "stdout",
       "text": [
        "[    4747] Solving over interval [ 3.41000e-01, 3.42000e-01]\n",
        "[    4747] ==============================================================\n",
        "[    4747] ==============================================================\n"
       ]
      },
      {
       "output_type": "stream",
       "stream": "stdout",
       "text": [
        "[    4747] Solving over interval [ 3.42000e-01, 3.43000e-01]\n",
        "[    4747] ==============================================================\n",
        "[    4748] ==============================================================\n"
       ]
      },
      {
       "output_type": "stream",
       "stream": "stdout",
       "text": [
        "[    4748] Solving over interval [ 3.43000e-01, 3.44000e-01]\n",
        "[    4748] ==============================================================\n",
        "[    4749] ==============================================================\n"
       ]
      },
      {
       "output_type": "stream",
       "stream": "stdout",
       "text": [
        "[    4749] Solving over interval [ 3.44000e-01, 3.45000e-01]\n",
        "[    4749] ==============================================================\n",
        "[    4749] ==============================================================\n"
       ]
      },
      {
       "output_type": "stream",
       "stream": "stdout",
       "text": [
        "[    4749] Solving over interval [ 3.45000e-01, 3.46000e-01]\n",
        "[    4749] ==============================================================\n",
        "[    4750] ==============================================================\n"
       ]
      },
      {
       "output_type": "stream",
       "stream": "stdout",
       "text": [
        "[    4750] Solving over interval [ 3.46000e-01, 3.47000e-01]\n",
        "[    4750] ==============================================================\n",
        "[    4751] ==============================================================\n"
       ]
      },
      {
       "output_type": "stream",
       "stream": "stdout",
       "text": [
        "[    4751] Solving over interval [ 3.47000e-01, 3.48000e-01]\n",
        "[    4751] ==============================================================\n",
        "[    4751] ==============================================================\n"
       ]
      },
      {
       "output_type": "stream",
       "stream": "stdout",
       "text": [
        "[    4751] Solving over interval [ 3.48000e-01, 3.49000e-01]\n",
        "[    4751] ==============================================================\n",
        "[    4752] ==============================================================\n"
       ]
      },
      {
       "output_type": "stream",
       "stream": "stdout",
       "text": [
        "[    4752] Solving over interval [ 3.49000e-01, 3.50000e-01]\n",
        "[    4752] ==============================================================\n",
        "[    4753] ==============================================================\n"
       ]
      },
      {
       "output_type": "stream",
       "stream": "stdout",
       "text": [
        "[    4753] Solving over interval [ 3.50000e-01, 3.51000e-01]\n",
        "[    4753] ==============================================================\n",
        "[    4753] ==============================================================\n"
       ]
      },
      {
       "output_type": "stream",
       "stream": "stdout",
       "text": [
        "[    4753] Solving over interval [ 3.51000e-01, 3.52000e-01]\n",
        "[    4753] ==============================================================\n",
        "[    4754] ==============================================================\n"
       ]
      },
      {
       "output_type": "stream",
       "stream": "stdout",
       "text": [
        "[    4754] Solving over interval [ 3.52000e-01, 3.53000e-01]\n",
        "[    4754] ==============================================================\n",
        "[    4755] ==============================================================\n"
       ]
      },
      {
       "output_type": "stream",
       "stream": "stdout",
       "text": [
        "[    4755] Solving over interval [ 3.53000e-01, 3.54000e-01]\n",
        "[    4755] ==============================================================\n",
        "[    4756] ==============================================================\n"
       ]
      },
      {
       "output_type": "stream",
       "stream": "stdout",
       "text": [
        "[    4756] Solving over interval [ 3.54000e-01, 3.55000e-01]\n",
        "[    4756] ==============================================================\n",
        "[    4756] ==============================================================\n"
       ]
      },
      {
       "output_type": "stream",
       "stream": "stdout",
       "text": [
        "[    4756] Solving over interval [ 3.55000e-01, 3.56000e-01]\n",
        "[    4756] ==============================================================\n",
        "[    4757] ==============================================================\n"
       ]
      },
      {
       "output_type": "stream",
       "stream": "stdout",
       "text": [
        "[    4757] Solving over interval [ 3.56000e-01, 3.57000e-01]\n",
        "[    4757] ==============================================================\n",
        "[    4758] ==============================================================\n"
       ]
      },
      {
       "output_type": "stream",
       "stream": "stdout",
       "text": [
        "[    4758] Solving over interval [ 3.57000e-01, 3.58000e-01]\n",
        "[    4758] ==============================================================\n",
        "[    4758] ==============================================================\n"
       ]
      },
      {
       "output_type": "stream",
       "stream": "stdout",
       "text": [
        "[    4758] Solving over interval [ 3.58000e-01, 3.59000e-01]\n",
        "[    4758] ==============================================================\n",
        "[    4759] ==============================================================\n"
       ]
      },
      {
       "output_type": "stream",
       "stream": "stdout",
       "text": [
        "[    4759] Solving over interval [ 3.59000e-01, 3.60000e-01]\n",
        "[    4759] ==============================================================\n",
        "[    4760] ==============================================================\n"
       ]
      },
      {
       "output_type": "stream",
       "stream": "stdout",
       "text": [
        "[    4760] Solving over interval [ 3.60000e-01, 3.61000e-01]\n",
        "[    4760] ==============================================================\n",
        "[    4760] ==============================================================\n"
       ]
      },
      {
       "output_type": "stream",
       "stream": "stdout",
       "text": [
        "[    4760] Solving over interval [ 3.61000e-01, 3.62000e-01]\n",
        "[    4760] ==============================================================\n",
        "[    4761] ==============================================================\n"
       ]
      },
      {
       "output_type": "stream",
       "stream": "stdout",
       "text": [
        "[    4761] Solving over interval [ 3.62000e-01, 3.63000e-01]\n",
        "[    4761] ==============================================================\n",
        "[    4762] ==============================================================\n"
       ]
      },
      {
       "output_type": "stream",
       "stream": "stdout",
       "text": [
        "[    4762] Solving over interval [ 3.63000e-01, 3.64000e-01]\n",
        "[    4762] ==============================================================\n",
        "[    4763] ==============================================================\n"
       ]
      },
      {
       "output_type": "stream",
       "stream": "stdout",
       "text": [
        "[    4763] Solving over interval [ 3.64000e-01, 3.65000e-01]\n",
        "[    4763] ==============================================================\n",
        "[    4763] ==============================================================\n"
       ]
      },
      {
       "output_type": "stream",
       "stream": "stdout",
       "text": [
        "[    4763] Solving over interval [ 3.65000e-01, 3.66000e-01]\n",
        "[    4763] ==============================================================\n",
        "[    4764] ==============================================================\n"
       ]
      },
      {
       "output_type": "stream",
       "stream": "stdout",
       "text": [
        "[    4764] Solving over interval [ 3.66000e-01, 3.67000e-01]\n",
        "[    4764] ==============================================================\n",
        "[    4765] ==============================================================\n"
       ]
      },
      {
       "output_type": "stream",
       "stream": "stdout",
       "text": [
        "[    4765] Solving over interval [ 3.67000e-01, 3.68000e-01]\n",
        "[    4765] ==============================================================\n",
        "[    4765] ==============================================================\n"
       ]
      },
      {
       "output_type": "stream",
       "stream": "stdout",
       "text": [
        "[    4765] Solving over interval [ 3.68000e-01, 3.69000e-01]\n",
        "[    4765] ==============================================================\n",
        "[    4766] ==============================================================\n"
       ]
      },
      {
       "output_type": "stream",
       "stream": "stdout",
       "text": [
        "[    4766] Solving over interval [ 3.69000e-01, 3.70000e-01]\n",
        "[    4766] ==============================================================\n",
        "[    4767] ==============================================================\n"
       ]
      },
      {
       "output_type": "stream",
       "stream": "stdout",
       "text": [
        "[    4767] Solving over interval [ 3.70000e-01, 3.71000e-01]\n",
        "[    4767] ==============================================================\n",
        "[    4767] ==============================================================\n"
       ]
      },
      {
       "output_type": "stream",
       "stream": "stdout",
       "text": [
        "[    4767] Solving over interval [ 3.71000e-01, 3.72000e-01]\n",
        "[    4767] ==============================================================\n",
        "[    4768] ==============================================================\n"
       ]
      },
      {
       "output_type": "stream",
       "stream": "stdout",
       "text": [
        "[    4768] Solving over interval [ 3.72000e-01, 3.73000e-01]\n",
        "[    4768] ==============================================================\n",
        "[    4769] ==============================================================\n"
       ]
      },
      {
       "output_type": "stream",
       "stream": "stdout",
       "text": [
        "[    4769] Solving over interval [ 3.73000e-01, 3.74000e-01]\n",
        "[    4769] ==============================================================\n",
        "[    4770] ==============================================================\n"
       ]
      },
      {
       "output_type": "stream",
       "stream": "stdout",
       "text": [
        "[    4770] Solving over interval [ 3.74000e-01, 3.75000e-01]\n",
        "[    4770] ==============================================================\n",
        "[    4770] ==============================================================\n"
       ]
      },
      {
       "output_type": "stream",
       "stream": "stdout",
       "text": [
        "[    4770] Solving over interval [ 3.75000e-01, 3.76000e-01]\n",
        "[    4770] ==============================================================\n",
        "[    4771] ==============================================================\n"
       ]
      },
      {
       "output_type": "stream",
       "stream": "stdout",
       "text": [
        "[    4771] Solving over interval [ 3.76000e-01, 3.77000e-01]\n",
        "[    4771] ==============================================================\n",
        "[    4772] ==============================================================\n"
       ]
      },
      {
       "output_type": "stream",
       "stream": "stdout",
       "text": [
        "[    4772] Solving over interval [ 3.77000e-01, 3.78000e-01]\n",
        "[    4772] ==============================================================\n",
        "[    4773] ==============================================================\n"
       ]
      },
      {
       "output_type": "stream",
       "stream": "stdout",
       "text": [
        "[    4773] Solving over interval [ 3.78000e-01, 3.79000e-01]\n",
        "[    4773] ==============================================================\n",
        "[    4773] ==============================================================\n"
       ]
      },
      {
       "output_type": "stream",
       "stream": "stdout",
       "text": [
        "[    4773] Solving over interval [ 3.79000e-01, 3.80000e-01]\n",
        "[    4773] ==============================================================\n",
        "[    4774] ==============================================================\n"
       ]
      },
      {
       "output_type": "stream",
       "stream": "stdout",
       "text": [
        "[    4774] Solving over interval [ 3.80000e-01, 3.81000e-01]\n",
        "[    4774] ==============================================================\n",
        "[    4775] ==============================================================\n"
       ]
      },
      {
       "output_type": "stream",
       "stream": "stdout",
       "text": [
        "[    4775] Solving over interval [ 3.81000e-01, 3.82000e-01]\n",
        "[    4775] ==============================================================\n",
        "[    4775] ==============================================================\n"
       ]
      },
      {
       "output_type": "stream",
       "stream": "stdout",
       "text": [
        "[    4775] Solving over interval [ 3.82000e-01, 3.83000e-01]\n",
        "[    4775] ==============================================================\n",
        "[    4776] ==============================================================\n"
       ]
      },
      {
       "output_type": "stream",
       "stream": "stdout",
       "text": [
        "[    4776] Solving over interval [ 3.83000e-01, 3.84000e-01]\n",
        "[    4776] ==============================================================\n",
        "[    4777] ==============================================================\n"
       ]
      },
      {
       "output_type": "stream",
       "stream": "stdout",
       "text": [
        "[    4777] Solving over interval [ 3.84000e-01, 3.85000e-01]\n",
        "[    4777] ==============================================================\n",
        "[    4778] ==============================================================\n"
       ]
      },
      {
       "output_type": "stream",
       "stream": "stdout",
       "text": [
        "[    4778] Solving over interval [ 3.85000e-01, 3.86000e-01]\n",
        "[    4778] ==============================================================\n",
        "[    4778] ==============================================================\n"
       ]
      },
      {
       "output_type": "stream",
       "stream": "stdout",
       "text": [
        "[    4778] Solving over interval [ 3.86000e-01, 3.87000e-01]\n",
        "[    4778] ==============================================================\n",
        "[    4779] ==============================================================\n"
       ]
      },
      {
       "output_type": "stream",
       "stream": "stdout",
       "text": [
        "[    4779] Solving over interval [ 3.87000e-01, 3.88000e-01]\n",
        "[    4779] ==============================================================\n",
        "[    4780] ==============================================================\n"
       ]
      },
      {
       "output_type": "stream",
       "stream": "stdout",
       "text": [
        "[    4780] Solving over interval [ 3.88000e-01, 3.89000e-01]\n",
        "[    4780] ==============================================================\n",
        "[    4781] ==============================================================\n"
       ]
      },
      {
       "output_type": "stream",
       "stream": "stdout",
       "text": [
        "[    4781] Solving over interval [ 3.89000e-01, 3.90000e-01]\n",
        "[    4781] ==============================================================\n",
        "[    4781] ==============================================================\n"
       ]
      },
      {
       "output_type": "stream",
       "stream": "stdout",
       "text": [
        "[    4781] Solving over interval [ 3.90000e-01, 3.91000e-01]\n",
        "[    4781] ==============================================================\n",
        "[    4782] ==============================================================\n"
       ]
      },
      {
       "output_type": "stream",
       "stream": "stdout",
       "text": [
        "[    4782] Solving over interval [ 3.91000e-01, 3.92000e-01]\n",
        "[    4782] ==============================================================\n",
        "[    4783] ==============================================================\n"
       ]
      },
      {
       "output_type": "stream",
       "stream": "stdout",
       "text": [
        "[    4783] Solving over interval [ 3.92000e-01, 3.93000e-01]\n",
        "[    4783] ==============================================================\n",
        "[    4784] ==============================================================\n"
       ]
      },
      {
       "output_type": "stream",
       "stream": "stdout",
       "text": [
        "[    4784] Solving over interval [ 3.93000e-01, 3.94000e-01]\n",
        "[    4784] ==============================================================\n",
        "[    4784] ==============================================================\n"
       ]
      },
      {
       "output_type": "stream",
       "stream": "stdout",
       "text": [
        "[    4784] Solving over interval [ 3.94000e-01, 3.95000e-01]\n",
        "[    4784] ==============================================================\n",
        "[    4785] ==============================================================\n"
       ]
      },
      {
       "output_type": "stream",
       "stream": "stdout",
       "text": [
        "[    4785] Solving over interval [ 3.95000e-01, 3.96000e-01]\n",
        "[    4785] ==============================================================\n",
        "[    4786] ==============================================================\n"
       ]
      },
      {
       "output_type": "stream",
       "stream": "stdout",
       "text": [
        "[    4786] Solving over interval [ 3.96000e-01, 3.97000e-01]\n",
        "[    4786] ==============================================================\n",
        "[    4787] ==============================================================\n"
       ]
      },
      {
       "output_type": "stream",
       "stream": "stdout",
       "text": [
        "[    4787] Solving over interval [ 3.97000e-01, 3.98000e-01]\n",
        "[    4787] ==============================================================\n",
        "[    4787] ==============================================================\n"
       ]
      },
      {
       "output_type": "stream",
       "stream": "stdout",
       "text": [
        "[    4787] Solving over interval [ 3.98000e-01, 3.99000e-01]\n",
        "[    4787] ==============================================================\n",
        "[    4788] ==============================================================\n"
       ]
      },
      {
       "output_type": "stream",
       "stream": "stdout",
       "text": [
        "[    4788] Solving over interval [ 3.99000e-01, 4.00000e-01]\n",
        "[    4788] ==============================================================\n",
        "[    4789] ==============================================================\n"
       ]
      },
      {
       "output_type": "stream",
       "stream": "stdout",
       "text": [
        "[    4789] Solving over interval [ 4.00000e-01, 4.01000e-01]\n",
        "[    4789] ==============================================================\n",
        "[    4790] ==============================================================\n"
       ]
      },
      {
       "output_type": "stream",
       "stream": "stdout",
       "text": [
        "[    4790] Solving over interval [ 4.01000e-01, 4.02000e-01]\n",
        "[    4790] ==============================================================\n",
        "[    4790] ==============================================================\n"
       ]
      },
      {
       "output_type": "stream",
       "stream": "stdout",
       "text": [
        "[    4790] Solving over interval [ 4.02000e-01, 4.03000e-01]\n",
        "[    4790] ==============================================================\n",
        "[    4791] ==============================================================\n"
       ]
      },
      {
       "output_type": "stream",
       "stream": "stdout",
       "text": [
        "[    4791] Solving over interval [ 4.03000e-01, 4.04000e-01]\n",
        "[    4791] ==============================================================\n",
        "[    4792] ==============================================================\n"
       ]
      },
      {
       "output_type": "stream",
       "stream": "stdout",
       "text": [
        "[    4792] Solving over interval [ 4.04000e-01, 4.05000e-01]\n",
        "[    4792] ==============================================================\n",
        "[    4793] ==============================================================\n"
       ]
      },
      {
       "output_type": "stream",
       "stream": "stdout",
       "text": [
        "[    4793] Solving over interval [ 4.05000e-01, 4.06000e-01]\n",
        "[    4793] ==============================================================\n",
        "[    4793] ==============================================================\n"
       ]
      },
      {
       "output_type": "stream",
       "stream": "stdout",
       "text": [
        "[    4793] Solving over interval [ 4.06000e-01, 4.07000e-01]\n",
        "[    4793] ==============================================================\n",
        "[    4794] ==============================================================\n"
       ]
      },
      {
       "output_type": "stream",
       "stream": "stdout",
       "text": [
        "[    4794] Solving over interval [ 4.07000e-01, 4.08000e-01]\n",
        "[    4794] ==============================================================\n",
        "[    4795] ==============================================================\n"
       ]
      },
      {
       "output_type": "stream",
       "stream": "stdout",
       "text": [
        "[    4795] Solving over interval [ 4.08000e-01, 4.09000e-01]\n",
        "[    4795] ==============================================================\n",
        "[    4796] ==============================================================\n"
       ]
      },
      {
       "output_type": "stream",
       "stream": "stdout",
       "text": [
        "[    4796] Solving over interval [ 4.09000e-01, 4.10000e-01]\n",
        "[    4796] ==============================================================\n",
        "[    4796] ==============================================================\n"
       ]
      },
      {
       "output_type": "stream",
       "stream": "stdout",
       "text": [
        "[    4796] Solving over interval [ 4.10000e-01, 4.11000e-01]\n",
        "[    4796] ==============================================================\n",
        "[    4797] ==============================================================\n"
       ]
      },
      {
       "output_type": "stream",
       "stream": "stdout",
       "text": [
        "[    4797] Solving over interval [ 4.11000e-01, 4.12000e-01]\n",
        "[    4797] ==============================================================\n",
        "[    4798] ==============================================================\n"
       ]
      },
      {
       "output_type": "stream",
       "stream": "stdout",
       "text": [
        "[    4798] Solving over interval [ 4.12000e-01, 4.13000e-01]\n",
        "[    4798] ==============================================================\n",
        "[    4799] ==============================================================\n"
       ]
      },
      {
       "output_type": "stream",
       "stream": "stdout",
       "text": [
        "[    4799] Solving over interval [ 4.13000e-01, 4.14000e-01]\n",
        "[    4799] ==============================================================\n",
        "[    4800] ==============================================================\n"
       ]
      },
      {
       "output_type": "stream",
       "stream": "stdout",
       "text": [
        "[    4800] Solving over interval [ 4.14000e-01, 4.15000e-01]\n",
        "[    4800] ==============================================================\n",
        "[    4800] ==============================================================\n"
       ]
      },
      {
       "output_type": "stream",
       "stream": "stdout",
       "text": [
        "[    4800] Solving over interval [ 4.15000e-01, 4.16000e-01]\n",
        "[    4800] ==============================================================\n",
        "[    4801] ==============================================================\n"
       ]
      },
      {
       "output_type": "stream",
       "stream": "stdout",
       "text": [
        "[    4801] Solving over interval [ 4.16000e-01, 4.17000e-01]\n",
        "[    4801] ==============================================================\n",
        "[    4802] ==============================================================\n"
       ]
      },
      {
       "output_type": "stream",
       "stream": "stdout",
       "text": [
        "[    4802] Solving over interval [ 4.17000e-01, 4.18000e-01]\n",
        "[    4802] ==============================================================\n",
        "[    4803] ==============================================================\n"
       ]
      },
      {
       "output_type": "stream",
       "stream": "stdout",
       "text": [
        "[    4803] Solving over interval [ 4.18000e-01, 4.19000e-01]\n",
        "[    4803] ==============================================================\n",
        "[    4804] ==============================================================\n"
       ]
      },
      {
       "output_type": "stream",
       "stream": "stdout",
       "text": [
        "[    4804] Solving over interval [ 4.19000e-01, 4.20000e-01]\n",
        "[    4804] ==============================================================\n",
        "[    4804] ==============================================================\n"
       ]
      },
      {
       "output_type": "stream",
       "stream": "stdout",
       "text": [
        "[    4804] Solving over interval [ 4.20000e-01, 4.21000e-01]\n",
        "[    4804] ==============================================================\n",
        "[    4805] ==============================================================\n"
       ]
      },
      {
       "output_type": "stream",
       "stream": "stdout",
       "text": [
        "[    4805] Solving over interval [ 4.21000e-01, 4.22000e-01]\n",
        "[    4805] ==============================================================\n",
        "[    4806] ==============================================================\n"
       ]
      },
      {
       "output_type": "stream",
       "stream": "stdout",
       "text": [
        "[    4806] Solving over interval [ 4.22000e-01, 4.23000e-01]\n",
        "[    4806] ==============================================================\n",
        "[    4807] ==============================================================\n"
       ]
      },
      {
       "output_type": "stream",
       "stream": "stdout",
       "text": [
        "[    4807] Solving over interval [ 4.23000e-01, 4.24000e-01]\n",
        "[    4807] ==============================================================\n",
        "[    4808] ==============================================================\n"
       ]
      },
      {
       "output_type": "stream",
       "stream": "stdout",
       "text": [
        "[    4808] Solving over interval [ 4.24000e-01, 4.25000e-01]\n",
        "[    4808] ==============================================================\n",
        "[    4808] ==============================================================\n"
       ]
      },
      {
       "output_type": "stream",
       "stream": "stdout",
       "text": [
        "[    4808] Solving over interval [ 4.25000e-01, 4.26000e-01]\n",
        "[    4808] ==============================================================\n",
        "[    4809] ==============================================================\n"
       ]
      },
      {
       "output_type": "stream",
       "stream": "stdout",
       "text": [
        "[    4809] Solving over interval [ 4.26000e-01, 4.27000e-01]\n",
        "[    4809] ==============================================================\n",
        "[    4810] ==============================================================\n"
       ]
      },
      {
       "output_type": "stream",
       "stream": "stdout",
       "text": [
        "[    4810] Solving over interval [ 4.27000e-01, 4.28000e-01]\n",
        "[    4810] ==============================================================\n",
        "[    4811] ==============================================================\n"
       ]
      },
      {
       "output_type": "stream",
       "stream": "stdout",
       "text": [
        "[    4811] Solving over interval [ 4.28000e-01, 4.29000e-01]\n",
        "[    4811] ==============================================================\n",
        "[    4812] ==============================================================\n"
       ]
      },
      {
       "output_type": "stream",
       "stream": "stdout",
       "text": [
        "[    4812] Solving over interval [ 4.29000e-01, 4.30000e-01]\n",
        "[    4812] ==============================================================\n",
        "[    4812] ==============================================================\n"
       ]
      },
      {
       "output_type": "stream",
       "stream": "stdout",
       "text": [
        "[    4812] Solving over interval [ 4.30000e-01, 4.31000e-01]\n",
        "[    4812] ==============================================================\n",
        "[    4813] ==============================================================\n"
       ]
      },
      {
       "output_type": "stream",
       "stream": "stdout",
       "text": [
        "[    4813] Solving over interval [ 4.31000e-01, 4.32000e-01]\n",
        "[    4813] ==============================================================\n",
        "[    4814] ==============================================================\n"
       ]
      },
      {
       "output_type": "stream",
       "stream": "stdout",
       "text": [
        "[    4814] Solving over interval [ 4.32000e-01, 4.33000e-01]\n",
        "[    4814] ==============================================================\n",
        "[    4815] ==============================================================\n"
       ]
      },
      {
       "output_type": "stream",
       "stream": "stdout",
       "text": [
        "[    4815] Solving over interval [ 4.33000e-01, 4.34000e-01]\n",
        "[    4815] ==============================================================\n",
        "[    4815] ==============================================================\n"
       ]
      },
      {
       "output_type": "stream",
       "stream": "stdout",
       "text": [
        "[    4815] Solving over interval [ 4.34000e-01, 4.35000e-01]\n",
        "[    4815] ==============================================================\n",
        "[    4816] ==============================================================\n"
       ]
      },
      {
       "output_type": "stream",
       "stream": "stdout",
       "text": [
        "[    4816] Solving over interval [ 4.35000e-01, 4.36000e-01]\n",
        "[    4816] ==============================================================\n",
        "[    4817] ==============================================================\n"
       ]
      },
      {
       "output_type": "stream",
       "stream": "stdout",
       "text": [
        "[    4817] Solving over interval [ 4.36000e-01, 4.37000e-01]\n",
        "[    4817] ==============================================================\n",
        "[    4818] ==============================================================\n"
       ]
      },
      {
       "output_type": "stream",
       "stream": "stdout",
       "text": [
        "[    4818] Solving over interval [ 4.37000e-01, 4.38000e-01]\n",
        "[    4818] ==============================================================\n",
        "[    4819] ==============================================================\n"
       ]
      },
      {
       "output_type": "stream",
       "stream": "stdout",
       "text": [
        "[    4819] Solving over interval [ 4.38000e-01, 4.39000e-01]\n",
        "[    4819] ==============================================================\n",
        "[    4820] ==============================================================\n"
       ]
      },
      {
       "output_type": "stream",
       "stream": "stdout",
       "text": [
        "[    4820] Solving over interval [ 4.39000e-01, 4.40000e-01]\n",
        "[    4820] ==============================================================\n",
        "[    4820] ==============================================================\n"
       ]
      },
      {
       "output_type": "stream",
       "stream": "stdout",
       "text": [
        "[    4820] Solving over interval [ 4.40000e-01, 4.41000e-01]\n",
        "[    4820] ==============================================================\n",
        "[    4821] ==============================================================\n"
       ]
      },
      {
       "output_type": "stream",
       "stream": "stdout",
       "text": [
        "[    4821] Solving over interval [ 4.41000e-01, 4.42000e-01]\n",
        "[    4821] ==============================================================\n",
        "[    4822] ==============================================================\n"
       ]
      },
      {
       "output_type": "stream",
       "stream": "stdout",
       "text": [
        "[    4822] Solving over interval [ 4.42000e-01, 4.43000e-01]\n",
        "[    4822] ==============================================================\n",
        "[    4823] ==============================================================\n"
       ]
      },
      {
       "output_type": "stream",
       "stream": "stdout",
       "text": [
        "[    4823] Solving over interval [ 4.43000e-01, 4.44000e-01]\n",
        "[    4823] ==============================================================\n",
        "[    4824] ==============================================================\n"
       ]
      },
      {
       "output_type": "stream",
       "stream": "stdout",
       "text": [
        "[    4824] Solving over interval [ 4.44000e-01, 4.45000e-01]\n",
        "[    4824] ==============================================================\n",
        "[    4824] ==============================================================\n"
       ]
      },
      {
       "output_type": "stream",
       "stream": "stdout",
       "text": [
        "[    4824] Solving over interval [ 4.45000e-01, 4.46000e-01]\n",
        "[    4824] ==============================================================\n",
        "[    4825] ==============================================================\n"
       ]
      },
      {
       "output_type": "stream",
       "stream": "stdout",
       "text": [
        "[    4825] Solving over interval [ 4.46000e-01, 4.47000e-01]\n",
        "[    4825] ==============================================================\n",
        "[    4826] ==============================================================\n"
       ]
      },
      {
       "output_type": "stream",
       "stream": "stdout",
       "text": [
        "[    4826] Solving over interval [ 4.47000e-01, 4.48000e-01]\n",
        "[    4826] ==============================================================\n",
        "[    4827] ==============================================================\n"
       ]
      },
      {
       "output_type": "stream",
       "stream": "stdout",
       "text": [
        "[    4827] Solving over interval [ 4.48000e-01, 4.49000e-01]\n",
        "[    4827] ==============================================================\n",
        "[    4828] ==============================================================\n"
       ]
      },
      {
       "output_type": "stream",
       "stream": "stdout",
       "text": [
        "[    4828] Solving over interval [ 4.49000e-01, 4.50000e-01]\n",
        "[    4828] ==============================================================\n",
        "[    4829] ==============================================================\n"
       ]
      },
      {
       "output_type": "stream",
       "stream": "stdout",
       "text": [
        "[    4829] Solving over interval [ 4.50000e-01, 4.51000e-01]\n",
        "[    4829] ==============================================================\n",
        "[    4829] ==============================================================\n"
       ]
      },
      {
       "output_type": "stream",
       "stream": "stdout",
       "text": [
        "[    4829] Solving over interval [ 4.51000e-01, 4.52000e-01]\n",
        "[    4829] ==============================================================\n",
        "[    4830] ==============================================================\n"
       ]
      },
      {
       "output_type": "stream",
       "stream": "stdout",
       "text": [
        "[    4830] Solving over interval [ 4.52000e-01, 4.53000e-01]\n",
        "[    4830] ==============================================================\n",
        "[    4831] ==============================================================\n"
       ]
      },
      {
       "output_type": "stream",
       "stream": "stdout",
       "text": [
        "[    4831] Solving over interval [ 4.53000e-01, 4.54000e-01]\n",
        "[    4831] ==============================================================\n",
        "[    4832] ==============================================================\n"
       ]
      },
      {
       "output_type": "stream",
       "stream": "stdout",
       "text": [
        "[    4832] Solving over interval [ 4.54000e-01, 4.55000e-01]\n",
        "[    4832] ==============================================================\n",
        "[    4833] ==============================================================\n"
       ]
      },
      {
       "output_type": "stream",
       "stream": "stdout",
       "text": [
        "[    4833] Solving over interval [ 4.55000e-01, 4.56000e-01]\n",
        "[    4833] ==============================================================\n",
        "[    4833] ==============================================================\n"
       ]
      },
      {
       "output_type": "stream",
       "stream": "stdout",
       "text": [
        "[    4833] Solving over interval [ 4.56000e-01, 4.57000e-01]\n",
        "[    4833] ==============================================================\n",
        "[    4834] ==============================================================\n"
       ]
      },
      {
       "output_type": "stream",
       "stream": "stdout",
       "text": [
        "[    4834] Solving over interval [ 4.57000e-01, 4.58000e-01]\n",
        "[    4834] ==============================================================\n",
        "[    4835] ==============================================================\n"
       ]
      },
      {
       "output_type": "stream",
       "stream": "stdout",
       "text": [
        "[    4835] Solving over interval [ 4.58000e-01, 4.59000e-01]\n",
        "[    4835] ==============================================================\n",
        "[    4836] ==============================================================\n"
       ]
      },
      {
       "output_type": "stream",
       "stream": "stdout",
       "text": [
        "[    4836] Solving over interval [ 4.59000e-01, 4.60000e-01]\n",
        "[    4836] ==============================================================\n",
        "[    4837] ==============================================================\n"
       ]
      },
      {
       "output_type": "stream",
       "stream": "stdout",
       "text": [
        "[    4837] Solving over interval [ 4.60000e-01, 4.61000e-01]\n",
        "[    4837] ==============================================================\n",
        "[    4838] ==============================================================\n"
       ]
      },
      {
       "output_type": "stream",
       "stream": "stdout",
       "text": [
        "[    4838] Solving over interval [ 4.61000e-01, 4.62000e-01]\n",
        "[    4838] ==============================================================\n",
        "[    4838] ==============================================================\n"
       ]
      },
      {
       "output_type": "stream",
       "stream": "stdout",
       "text": [
        "[    4838] Solving over interval [ 4.62000e-01, 4.63000e-01]\n",
        "[    4838] ==============================================================\n",
        "[    4839] ==============================================================\n"
       ]
      },
      {
       "output_type": "stream",
       "stream": "stdout",
       "text": [
        "[    4839] Solving over interval [ 4.63000e-01, 4.64000e-01]\n",
        "[    4839] ==============================================================\n",
        "[    4840] ==============================================================\n"
       ]
      },
      {
       "output_type": "stream",
       "stream": "stdout",
       "text": [
        "[    4840] Solving over interval [ 4.64000e-01, 4.65000e-01]\n",
        "[    4840] ==============================================================\n",
        "[    4841] ==============================================================\n"
       ]
      },
      {
       "output_type": "stream",
       "stream": "stdout",
       "text": [
        "[    4841] Solving over interval [ 4.65000e-01, 4.66000e-01]\n",
        "[    4841] ==============================================================\n",
        "[    4842] ==============================================================\n"
       ]
      },
      {
       "output_type": "stream",
       "stream": "stdout",
       "text": [
        "[    4842] Solving over interval [ 4.66000e-01, 4.67000e-01]\n",
        "[    4842] ==============================================================\n",
        "[    4843] ==============================================================\n"
       ]
      },
      {
       "output_type": "stream",
       "stream": "stdout",
       "text": [
        "[    4843] Solving over interval [ 4.67000e-01, 4.68000e-01]\n",
        "[    4843] ==============================================================\n",
        "[    4843] ==============================================================\n"
       ]
      },
      {
       "output_type": "stream",
       "stream": "stdout",
       "text": [
        "[    4843] Solving over interval [ 4.68000e-01, 4.69000e-01]\n",
        "[    4843] ==============================================================\n",
        "[    4844] ==============================================================\n"
       ]
      },
      {
       "output_type": "stream",
       "stream": "stdout",
       "text": [
        "[    4844] Solving over interval [ 4.69000e-01, 4.70000e-01]\n",
        "[    4844] ==============================================================\n",
        "[    4845] ==============================================================\n"
       ]
      },
      {
       "output_type": "stream",
       "stream": "stdout",
       "text": [
        "[    4845] Solving over interval [ 4.70000e-01, 4.71000e-01]\n",
        "[    4845] ==============================================================\n",
        "[    4846] ==============================================================\n"
       ]
      },
      {
       "output_type": "stream",
       "stream": "stdout",
       "text": [
        "[    4846] Solving over interval [ 4.71000e-01, 4.72000e-01]\n",
        "[    4846] ==============================================================\n",
        "[    4847] ==============================================================\n"
       ]
      },
      {
       "output_type": "stream",
       "stream": "stdout",
       "text": [
        "[    4847] Solving over interval [ 4.72000e-01, 4.73000e-01]\n",
        "[    4847] ==============================================================\n",
        "[    4848] ==============================================================\n"
       ]
      },
      {
       "output_type": "stream",
       "stream": "stdout",
       "text": [
        "[    4848] Solving over interval [ 4.73000e-01, 4.74000e-01]\n",
        "[    4848] ==============================================================\n",
        "[    4849] ==============================================================\n"
       ]
      },
      {
       "output_type": "stream",
       "stream": "stdout",
       "text": [
        "[    4849] Solving over interval [ 4.74000e-01, 4.75000e-01]\n",
        "[    4849] ==============================================================\n",
        "[    4849] ==============================================================\n"
       ]
      },
      {
       "output_type": "stream",
       "stream": "stdout",
       "text": [
        "[    4849] Solving over interval [ 4.75000e-01, 4.76000e-01]\n",
        "[    4849] ==============================================================\n",
        "[    4850] ==============================================================\n"
       ]
      },
      {
       "output_type": "stream",
       "stream": "stdout",
       "text": [
        "[    4850] Solving over interval [ 4.76000e-01, 4.77000e-01]\n",
        "[    4850] ==============================================================\n",
        "[    4851] ==============================================================\n"
       ]
      },
      {
       "output_type": "stream",
       "stream": "stdout",
       "text": [
        "[    4851] Solving over interval [ 4.77000e-01, 4.78000e-01]\n",
        "[    4851] ==============================================================\n",
        "[    4852] ==============================================================\n"
       ]
      },
      {
       "output_type": "stream",
       "stream": "stdout",
       "text": [
        "[    4852] Solving over interval [ 4.78000e-01, 4.79000e-01]\n",
        "[    4852] ==============================================================\n",
        "[    4853] ==============================================================\n"
       ]
      },
      {
       "output_type": "stream",
       "stream": "stdout",
       "text": [
        "[    4853] Solving over interval [ 4.79000e-01, 4.80000e-01]\n",
        "[    4853] ==============================================================\n",
        "[    4854] ==============================================================\n"
       ]
      },
      {
       "output_type": "stream",
       "stream": "stdout",
       "text": [
        "[    4854] Solving over interval [ 4.80000e-01, 4.81000e-01]\n",
        "[    4854] ==============================================================\n",
        "[    4855] ==============================================================\n"
       ]
      },
      {
       "output_type": "stream",
       "stream": "stdout",
       "text": [
        "[    4855] Solving over interval [ 4.81000e-01, 4.82000e-01]\n",
        "[    4855] ==============================================================\n",
        "[    4855] ==============================================================\n"
       ]
      },
      {
       "output_type": "stream",
       "stream": "stdout",
       "text": [
        "[    4855] Solving over interval [ 4.82000e-01, 4.83000e-01]\n",
        "[    4855] ==============================================================\n",
        "[    4856] ==============================================================\n"
       ]
      },
      {
       "output_type": "stream",
       "stream": "stdout",
       "text": [
        "[    4856] Solving over interval [ 4.83000e-01, 4.84000e-01]\n",
        "[    4856] ==============================================================\n",
        "[    4857] ==============================================================\n"
       ]
      },
      {
       "output_type": "stream",
       "stream": "stdout",
       "text": [
        "[    4857] Solving over interval [ 4.84000e-01, 4.85000e-01]\n",
        "[    4857] ==============================================================\n",
        "[    4858] ==============================================================\n"
       ]
      },
      {
       "output_type": "stream",
       "stream": "stdout",
       "text": [
        "[    4858] Solving over interval [ 4.85000e-01, 4.86000e-01]\n",
        "[    4858] ==============================================================\n",
        "[    4859] ==============================================================\n"
       ]
      },
      {
       "output_type": "stream",
       "stream": "stdout",
       "text": [
        "[    4859] Solving over interval [ 4.86000e-01, 4.87000e-01]\n",
        "[    4859] ==============================================================\n",
        "[    4860] ==============================================================\n"
       ]
      },
      {
       "output_type": "stream",
       "stream": "stdout",
       "text": [
        "[    4860] Solving over interval [ 4.87000e-01, 4.88000e-01]\n",
        "[    4860] ==============================================================\n",
        "[    4861] ==============================================================\n"
       ]
      },
      {
       "output_type": "stream",
       "stream": "stdout",
       "text": [
        "[    4861] Solving over interval [ 4.88000e-01, 4.89000e-01]\n",
        "[    4861] ==============================================================\n",
        "[    4862] ==============================================================\n"
       ]
      },
      {
       "output_type": "stream",
       "stream": "stdout",
       "text": [
        "[    4862] Solving over interval [ 4.89000e-01, 4.90000e-01]\n",
        "[    4862] ==============================================================\n",
        "[    4862] ==============================================================\n"
       ]
      },
      {
       "output_type": "stream",
       "stream": "stdout",
       "text": [
        "[    4862] Solving over interval [ 4.90000e-01, 4.91000e-01]\n",
        "[    4862] ==============================================================\n",
        "[    4863] ==============================================================\n"
       ]
      },
      {
       "output_type": "stream",
       "stream": "stdout",
       "text": [
        "[    4863] Solving over interval [ 4.91000e-01, 4.92000e-01]\n",
        "[    4863] ==============================================================\n",
        "[    4864] ==============================================================\n"
       ]
      },
      {
       "output_type": "stream",
       "stream": "stdout",
       "text": [
        "[    4864] Solving over interval [ 4.92000e-01, 4.93000e-01]\n",
        "[    4864] ==============================================================\n",
        "[    4865] ==============================================================\n"
       ]
      },
      {
       "output_type": "stream",
       "stream": "stdout",
       "text": [
        "[    4865] Solving over interval [ 4.93000e-01, 4.94000e-01]\n",
        "[    4865] ==============================================================\n",
        "[    4866] ==============================================================\n"
       ]
      },
      {
       "output_type": "stream",
       "stream": "stdout",
       "text": [
        "[    4866] Solving over interval [ 4.94000e-01, 4.95000e-01]\n",
        "[    4866] ==============================================================\n",
        "[    4867] ==============================================================\n"
       ]
      },
      {
       "output_type": "stream",
       "stream": "stdout",
       "text": [
        "[    4867] Solving over interval [ 4.95000e-01, 4.96000e-01]\n",
        "[    4867] ==============================================================\n",
        "[    4868] ==============================================================\n"
       ]
      },
      {
       "output_type": "stream",
       "stream": "stdout",
       "text": [
        "[    4868] Solving over interval [ 4.96000e-01, 4.97000e-01]\n",
        "[    4868] ==============================================================\n",
        "[    4869] ==============================================================\n"
       ]
      },
      {
       "output_type": "stream",
       "stream": "stdout",
       "text": [
        "[    4869] Solving over interval [ 4.97000e-01, 4.98000e-01]\n",
        "[    4869] ==============================================================\n",
        "[    4870] ==============================================================\n"
       ]
      },
      {
       "output_type": "stream",
       "stream": "stdout",
       "text": [
        "[    4870] Solving over interval [ 4.98000e-01, 4.99000e-01]\n",
        "[    4870] ==============================================================\n",
        "[    4870] ==============================================================\n"
       ]
      },
      {
       "output_type": "stream",
       "stream": "stdout",
       "text": [
        "[    4870] Solving over interval [ 4.99000e-01, 5.00000e-01]\n",
        "[    4870] ==============================================================\n",
        "[    4871] ==============================================================\n"
       ]
      },
      {
       "output_type": "stream",
       "stream": "stdout",
       "text": [
        "[    4871] Solving over interval [ 5.00000e-01, 5.01000e-01]\n",
        "[    4871] ==============================================================\n",
        "[    4872] ==============================================================\n"
       ]
      },
      {
       "output_type": "stream",
       "stream": "stdout",
       "text": [
        "[    4872] Solving over interval [ 5.01000e-01, 5.02000e-01]\n",
        "[    4872] ==============================================================\n",
        "[    4873] ==============================================================\n"
       ]
      },
      {
       "output_type": "stream",
       "stream": "stdout",
       "text": [
        "[    4873] Solving over interval [ 5.02000e-01, 5.03000e-01]\n",
        "[    4873] ==============================================================\n",
        "[    4874] ==============================================================\n"
       ]
      },
      {
       "output_type": "stream",
       "stream": "stdout",
       "text": [
        "[    4874] Solving over interval [ 5.03000e-01, 5.04000e-01]\n",
        "[    4874] ==============================================================\n",
        "[    4875] ==============================================================\n"
       ]
      },
      {
       "output_type": "stream",
       "stream": "stdout",
       "text": [
        "[    4875] Solving over interval [ 5.04000e-01, 5.05000e-01]\n",
        "[    4875] ==============================================================\n",
        "[    4876] ==============================================================\n"
       ]
      },
      {
       "output_type": "stream",
       "stream": "stdout",
       "text": [
        "[    4876] Solving over interval [ 5.05000e-01, 5.06000e-01]\n",
        "[    4876] ==============================================================\n",
        "[    4877] ==============================================================\n"
       ]
      },
      {
       "output_type": "stream",
       "stream": "stdout",
       "text": [
        "[    4877] Solving over interval [ 5.06000e-01, 5.07000e-01]\n",
        "[    4877] ==============================================================\n",
        "[    4878] ==============================================================\n"
       ]
      },
      {
       "output_type": "stream",
       "stream": "stdout",
       "text": [
        "[    4878] Solving over interval [ 5.07000e-01, 5.08000e-01]\n",
        "[    4878] ==============================================================\n",
        "[    4879] ==============================================================\n"
       ]
      },
      {
       "output_type": "stream",
       "stream": "stdout",
       "text": [
        "[    4879] Solving over interval [ 5.08000e-01, 5.09000e-01]\n",
        "[    4879] ==============================================================\n",
        "[    4880] ==============================================================\n"
       ]
      },
      {
       "output_type": "stream",
       "stream": "stdout",
       "text": [
        "[    4880] Solving over interval [ 5.09000e-01, 5.10000e-01]\n",
        "[    4880] ==============================================================\n",
        "[    4882] ==============================================================\n"
       ]
      },
      {
       "output_type": "stream",
       "stream": "stdout",
       "text": [
        "[    4882] Solving over interval [ 5.10000e-01, 5.11000e-01]\n",
        "[    4882] ==============================================================\n",
        "[    4883] ==============================================================\n"
       ]
      },
      {
       "output_type": "stream",
       "stream": "stdout",
       "text": [
        "[    4883] Solving over interval [ 5.11000e-01, 5.12000e-01]\n",
        "[    4883] ==============================================================\n",
        "[    4884] ==============================================================\n"
       ]
      },
      {
       "output_type": "stream",
       "stream": "stdout",
       "text": [
        "[    4884] Solving over interval [ 5.12000e-01, 5.13000e-01]\n",
        "[    4884] ==============================================================\n",
        "[    4885] ==============================================================\n"
       ]
      },
      {
       "output_type": "stream",
       "stream": "stdout",
       "text": [
        "[    4885] Solving over interval [ 5.13000e-01, 5.14000e-01]\n",
        "[    4885] ==============================================================\n",
        "[    4886] ==============================================================\n"
       ]
      },
      {
       "output_type": "stream",
       "stream": "stdout",
       "text": [
        "[    4886] Solving over interval [ 5.14000e-01, 5.15000e-01]\n",
        "[    4886] ==============================================================\n",
        "[    4887] ==============================================================\n"
       ]
      },
      {
       "output_type": "stream",
       "stream": "stdout",
       "text": [
        "[    4887] Solving over interval [ 5.15000e-01, 5.16000e-01]\n",
        "[    4887] ==============================================================\n",
        "[    4888] ==============================================================\n"
       ]
      },
      {
       "output_type": "stream",
       "stream": "stdout",
       "text": [
        "[    4888] Solving over interval [ 5.16000e-01, 5.17000e-01]\n",
        "[    4888] ==============================================================\n",
        "[    4890] ==============================================================\n"
       ]
      },
      {
       "output_type": "stream",
       "stream": "stdout",
       "text": [
        "[    4890] Solving over interval [ 5.17000e-01, 5.18000e-01]\n",
        "[    4890] ==============================================================\n",
        "[    4891] ==============================================================\n"
       ]
      },
      {
       "output_type": "stream",
       "stream": "stdout",
       "text": [
        "[    4891] Solving over interval [ 5.18000e-01, 5.19000e-01]\n",
        "[    4891] ==============================================================\n",
        "[    4892] ==============================================================\n"
       ]
      },
      {
       "output_type": "stream",
       "stream": "stdout",
       "text": [
        "[    4892] Solving over interval [ 5.19000e-01, 5.20000e-01]\n",
        "[    4892] ==============================================================\n",
        "[    4894] ==============================================================\n"
       ]
      },
      {
       "output_type": "stream",
       "stream": "stdout",
       "text": [
        "[    4894] Solving over interval [ 5.20000e-01, 5.21000e-01]\n",
        "[    4894] ==============================================================\n",
        "[    4895] ==============================================================\n"
       ]
      },
      {
       "output_type": "stream",
       "stream": "stdout",
       "text": [
        "[    4895] Solving over interval [ 5.21000e-01, 5.22000e-01]\n",
        "[    4895] ==============================================================\n",
        "[    4896] ==============================================================\n"
       ]
      },
      {
       "output_type": "stream",
       "stream": "stdout",
       "text": [
        "[    4896] Solving over interval [ 5.22000e-01, 5.23000e-01]\n",
        "[    4896] ==============================================================\n",
        "[    4897] ==============================================================\n"
       ]
      },
      {
       "output_type": "stream",
       "stream": "stdout",
       "text": [
        "[    4897] Solving over interval [ 5.23000e-01, 5.24000e-01]\n",
        "[    4897] ==============================================================\n",
        "[    4898] ==============================================================\n"
       ]
      },
      {
       "output_type": "stream",
       "stream": "stdout",
       "text": [
        "[    4898] Solving over interval [ 5.24000e-01, 5.25000e-01]\n",
        "[    4898] ==============================================================\n",
        "[    4899] ==============================================================\n"
       ]
      },
      {
       "output_type": "stream",
       "stream": "stdout",
       "text": [
        "[    4899] Solving over interval [ 5.25000e-01, 5.26000e-01]\n",
        "[    4899] ==============================================================\n",
        "[    4900] ==============================================================\n"
       ]
      },
      {
       "output_type": "stream",
       "stream": "stdout",
       "text": [
        "[    4900] Solving over interval [ 5.26000e-01, 5.27000e-01]\n",
        "[    4900] ==============================================================\n",
        "[    4902] ==============================================================\n"
       ]
      },
      {
       "output_type": "stream",
       "stream": "stdout",
       "text": [
        "[    4902] Solving over interval [ 5.27000e-01, 5.28000e-01]\n",
        "[    4902] ==============================================================\n",
        "[    4903] ==============================================================\n"
       ]
      },
      {
       "output_type": "stream",
       "stream": "stdout",
       "text": [
        "[    4903] Solving over interval [ 5.28000e-01, 5.29000e-01]\n",
        "[    4903] ==============================================================\n",
        "[    4904] ==============================================================\n"
       ]
      },
      {
       "output_type": "stream",
       "stream": "stdout",
       "text": [
        "[    4904] Solving over interval [ 5.29000e-01, 5.30000e-01]\n",
        "[    4904] ==============================================================\n",
        "[    4905] ==============================================================\n"
       ]
      },
      {
       "output_type": "stream",
       "stream": "stdout",
       "text": [
        "[    4905] Solving over interval [ 5.30000e-01, 5.31000e-01]\n",
        "[    4905] ==============================================================\n",
        "[    4906] ==============================================================\n"
       ]
      },
      {
       "output_type": "stream",
       "stream": "stdout",
       "text": [
        "[    4906] Solving over interval [ 5.31000e-01, 5.32000e-01]\n",
        "[    4906] ==============================================================\n",
        "[    4907] ==============================================================\n"
       ]
      },
      {
       "output_type": "stream",
       "stream": "stdout",
       "text": [
        "[    4907] Solving over interval [ 5.32000e-01, 5.33000e-01]\n",
        "[    4907] ==============================================================\n",
        "[    4909] ==============================================================\n"
       ]
      },
      {
       "output_type": "stream",
       "stream": "stdout",
       "text": [
        "[    4909] Solving over interval [ 5.33000e-01, 5.34000e-01]\n",
        "[    4909] ==============================================================\n",
        "[    4910] ==============================================================\n"
       ]
      },
      {
       "output_type": "stream",
       "stream": "stdout",
       "text": [
        "[    4910] Solving over interval [ 5.34000e-01, 5.35000e-01]\n",
        "[    4910] ==============================================================\n",
        "[    4911] ==============================================================\n"
       ]
      },
      {
       "output_type": "stream",
       "stream": "stdout",
       "text": [
        "[    4911] Solving over interval [ 5.35000e-01, 5.36000e-01]\n",
        "[    4911] ==============================================================\n",
        "[    4912] ==============================================================\n"
       ]
      },
      {
       "output_type": "stream",
       "stream": "stdout",
       "text": [
        "[    4912] Solving over interval [ 5.36000e-01, 5.37000e-01]\n",
        "[    4912] ==============================================================\n",
        "[    4913] ==============================================================\n"
       ]
      },
      {
       "output_type": "stream",
       "stream": "stdout",
       "text": [
        "[    4913] Solving over interval [ 5.37000e-01, 5.38000e-01]\n",
        "[    4913] ==============================================================\n",
        "[    4914] ==============================================================\n"
       ]
      },
      {
       "output_type": "stream",
       "stream": "stdout",
       "text": [
        "[    4914] Solving over interval [ 5.38000e-01, 5.39000e-01]\n",
        "[    4914] ==============================================================\n",
        "[    4915] ==============================================================\n"
       ]
      },
      {
       "output_type": "stream",
       "stream": "stdout",
       "text": [
        "[    4915] Solving over interval [ 5.39000e-01, 5.40000e-01]\n",
        "[    4915] ==============================================================\n",
        "[    4917] ==============================================================\n"
       ]
      },
      {
       "output_type": "stream",
       "stream": "stdout",
       "text": [
        "[    4917] Solving over interval [ 5.40000e-01, 5.41000e-01]\n",
        "[    4917] ==============================================================\n",
        "[    4918] ==============================================================\n"
       ]
      },
      {
       "output_type": "stream",
       "stream": "stdout",
       "text": [
        "[    4918] Solving over interval [ 5.41000e-01, 5.42000e-01]\n",
        "[    4918] ==============================================================\n",
        "[    4919] ==============================================================\n"
       ]
      },
      {
       "output_type": "stream",
       "stream": "stdout",
       "text": [
        "[    4919] Solving over interval [ 5.42000e-01, 5.43000e-01]\n",
        "[    4919] ==============================================================\n",
        "[    4920] ==============================================================\n"
       ]
      },
      {
       "output_type": "stream",
       "stream": "stdout",
       "text": [
        "[    4920] Solving over interval [ 5.43000e-01, 5.44000e-01]\n",
        "[    4920] ==============================================================\n",
        "[    4921] ==============================================================\n"
       ]
      },
      {
       "output_type": "stream",
       "stream": "stdout",
       "text": [
        "[    4921] Solving over interval [ 5.44000e-01, 5.45000e-01]\n",
        "[    4921] ==============================================================\n",
        "[    4922] ==============================================================\n"
       ]
      },
      {
       "output_type": "stream",
       "stream": "stdout",
       "text": [
        "[    4922] Solving over interval [ 5.45000e-01, 5.46000e-01]\n",
        "[    4922] ==============================================================\n",
        "[    4923] ==============================================================\n"
       ]
      },
      {
       "output_type": "stream",
       "stream": "stdout",
       "text": [
        "[    4923] Solving over interval [ 5.46000e-01, 5.47000e-01]\n",
        "[    4923] ==============================================================\n",
        "[    4925] ==============================================================\n"
       ]
      },
      {
       "output_type": "stream",
       "stream": "stdout",
       "text": [
        "[    4925] Solving over interval [ 5.47000e-01, 5.48000e-01]\n",
        "[    4925] ==============================================================\n",
        "[    4926] ==============================================================\n"
       ]
      },
      {
       "output_type": "stream",
       "stream": "stdout",
       "text": [
        "[    4926] Solving over interval [ 5.48000e-01, 5.49000e-01]\n",
        "[    4926] ==============================================================\n",
        "[    4927] ==============================================================\n"
       ]
      },
      {
       "output_type": "stream",
       "stream": "stdout",
       "text": [
        "[    4927] Solving over interval [ 5.49000e-01, 5.50000e-01]\n",
        "[    4927] ==============================================================\n",
        "[    4928] ==============================================================\n"
       ]
      },
      {
       "output_type": "stream",
       "stream": "stdout",
       "text": [
        "[    4928] Solving over interval [ 5.50000e-01, 5.51000e-01]\n",
        "[    4928] ==============================================================\n",
        "[    4929] ==============================================================\n"
       ]
      },
      {
       "output_type": "stream",
       "stream": "stdout",
       "text": [
        "[    4929] Solving over interval [ 5.51000e-01, 5.52000e-01]\n",
        "[    4929] ==============================================================\n",
        "[    4930] ==============================================================\n"
       ]
      },
      {
       "output_type": "stream",
       "stream": "stdout",
       "text": [
        "[    4930] Solving over interval [ 5.52000e-01, 5.53000e-01]\n",
        "[    4930] ==============================================================\n",
        "[    4932] ==============================================================\n"
       ]
      },
      {
       "output_type": "stream",
       "stream": "stdout",
       "text": [
        "[    4932] Solving over interval [ 5.53000e-01, 5.54000e-01]\n",
        "[    4932] ==============================================================\n",
        "[    4933] ==============================================================\n"
       ]
      },
      {
       "output_type": "stream",
       "stream": "stdout",
       "text": [
        "[    4933] Solving over interval [ 5.54000e-01, 5.55000e-01]\n",
        "[    4933] ==============================================================\n",
        "[    4934] ==============================================================\n"
       ]
      },
      {
       "output_type": "stream",
       "stream": "stdout",
       "text": [
        "[    4934] Solving over interval [ 5.55000e-01, 5.56000e-01]\n",
        "[    4934] ==============================================================\n",
        "[    4935] ==============================================================\n"
       ]
      },
      {
       "output_type": "stream",
       "stream": "stdout",
       "text": [
        "[    4935] Solving over interval [ 5.56000e-01, 5.57000e-01]\n",
        "[    4935] ==============================================================\n",
        "[    4936] ==============================================================\n"
       ]
      },
      {
       "output_type": "stream",
       "stream": "stdout",
       "text": [
        "[    4936] Solving over interval [ 5.57000e-01, 5.58000e-01]\n",
        "[    4936] ==============================================================\n",
        "[    4937] ==============================================================\n"
       ]
      },
      {
       "output_type": "stream",
       "stream": "stdout",
       "text": [
        "[    4937] Solving over interval [ 5.58000e-01, 5.59000e-01]\n",
        "[    4937] ==============================================================\n",
        "[    4939] ==============================================================\n"
       ]
      },
      {
       "output_type": "stream",
       "stream": "stdout",
       "text": [
        "[    4939] Solving over interval [ 5.59000e-01, 5.60000e-01]\n",
        "[    4939] ==============================================================\n",
        "[    4940] ==============================================================\n"
       ]
      },
      {
       "output_type": "stream",
       "stream": "stdout",
       "text": [
        "[    4940] Solving over interval [ 5.60000e-01, 5.61000e-01]\n",
        "[    4940] ==============================================================\n",
        "[    4941] ==============================================================\n"
       ]
      },
      {
       "output_type": "stream",
       "stream": "stdout",
       "text": [
        "[    4941] Solving over interval [ 5.61000e-01, 5.62000e-01]\n",
        "[    4941] ==============================================================\n",
        "[    4942] ==============================================================\n"
       ]
      },
      {
       "output_type": "stream",
       "stream": "stdout",
       "text": [
        "[    4942] Solving over interval [ 5.62000e-01, 5.63000e-01]\n",
        "[    4942] ==============================================================\n",
        "[    4943] ==============================================================\n"
       ]
      },
      {
       "output_type": "stream",
       "stream": "stdout",
       "text": [
        "[    4943] Solving over interval [ 5.63000e-01, 5.64000e-01]\n",
        "[    4943] ==============================================================\n",
        "[    4944] ==============================================================\n"
       ]
      },
      {
       "output_type": "stream",
       "stream": "stdout",
       "text": [
        "[    4944] Solving over interval [ 5.64000e-01, 5.65000e-01]\n",
        "[    4944] ==============================================================\n",
        "[    4946] ==============================================================\n"
       ]
      },
      {
       "output_type": "stream",
       "stream": "stdout",
       "text": [
        "[    4946] Solving over interval [ 5.65000e-01, 5.66000e-01]\n",
        "[    4946] ==============================================================\n",
        "[    4947] ==============================================================\n"
       ]
      },
      {
       "output_type": "stream",
       "stream": "stdout",
       "text": [
        "[    4947] Solving over interval [ 5.66000e-01, 5.67000e-01]\n",
        "[    4947] ==============================================================\n",
        "[    4948] ==============================================================\n"
       ]
      },
      {
       "output_type": "stream",
       "stream": "stdout",
       "text": [
        "[    4948] Solving over interval [ 5.67000e-01, 5.68000e-01]\n",
        "[    4948] ==============================================================\n",
        "[    4949] ==============================================================\n"
       ]
      },
      {
       "output_type": "stream",
       "stream": "stdout",
       "text": [
        "[    4949] Solving over interval [ 5.68000e-01, 5.69000e-01]\n",
        "[    4949] ==============================================================\n",
        "[    4950] ==============================================================\n"
       ]
      },
      {
       "output_type": "stream",
       "stream": "stdout",
       "text": [
        "[    4950] Solving over interval [ 5.69000e-01, 5.70000e-01]\n",
        "[    4950] ==============================================================\n",
        "[    4952] ==============================================================\n"
       ]
      },
      {
       "output_type": "stream",
       "stream": "stdout",
       "text": [
        "[    4952] Solving over interval [ 5.70000e-01, 5.71000e-01]\n",
        "[    4952] ==============================================================\n",
        "[    4953] ==============================================================\n"
       ]
      },
      {
       "output_type": "stream",
       "stream": "stdout",
       "text": [
        "[    4953] Solving over interval [ 5.71000e-01, 5.72000e-01]\n",
        "[    4953] ==============================================================\n",
        "[    4954] ==============================================================\n"
       ]
      },
      {
       "output_type": "stream",
       "stream": "stdout",
       "text": [
        "[    4954] Solving over interval [ 5.72000e-01, 5.73000e-01]\n",
        "[    4954] ==============================================================\n",
        "[    4955] ==============================================================\n"
       ]
      },
      {
       "output_type": "stream",
       "stream": "stdout",
       "text": [
        "[    4955] Solving over interval [ 5.73000e-01, 5.74000e-01]\n",
        "[    4955] ==============================================================\n",
        "[    4956] ==============================================================\n"
       ]
      },
      {
       "output_type": "stream",
       "stream": "stdout",
       "text": [
        "[    4956] Solving over interval [ 5.74000e-01, 5.75000e-01]\n",
        "[    4956] ==============================================================\n",
        "[    4958] ==============================================================\n"
       ]
      },
      {
       "output_type": "stream",
       "stream": "stdout",
       "text": [
        "[    4958] Solving over interval [ 5.75000e-01, 5.76000e-01]\n",
        "[    4958] ==============================================================\n",
        "[    4959] ==============================================================\n"
       ]
      },
      {
       "output_type": "stream",
       "stream": "stdout",
       "text": [
        "[    4959] Solving over interval [ 5.76000e-01, 5.77000e-01]\n",
        "[    4959] ==============================================================\n",
        "[    4960] ==============================================================\n"
       ]
      },
      {
       "output_type": "stream",
       "stream": "stdout",
       "text": [
        "[    4960] Solving over interval [ 5.77000e-01, 5.78000e-01]\n",
        "[    4960] ==============================================================\n",
        "[    4961] ==============================================================\n"
       ]
      },
      {
       "output_type": "stream",
       "stream": "stdout",
       "text": [
        "[    4961] Solving over interval [ 5.78000e-01, 5.79000e-01]\n",
        "[    4961] ==============================================================\n",
        "[    4962] ==============================================================\n"
       ]
      },
      {
       "output_type": "stream",
       "stream": "stdout",
       "text": [
        "[    4962] Solving over interval [ 5.79000e-01, 5.80000e-01]\n",
        "[    4962] ==============================================================\n",
        "[    4964] ==============================================================\n"
       ]
      },
      {
       "output_type": "stream",
       "stream": "stdout",
       "text": [
        "[    4964] Solving over interval [ 5.80000e-01, 5.81000e-01]\n",
        "[    4964] ==============================================================\n",
        "[    4965] ==============================================================\n"
       ]
      },
      {
       "output_type": "stream",
       "stream": "stdout",
       "text": [
        "[    4965] Solving over interval [ 5.81000e-01, 5.82000e-01]\n",
        "[    4965] ==============================================================\n",
        "[    4966] ==============================================================\n"
       ]
      },
      {
       "output_type": "stream",
       "stream": "stdout",
       "text": [
        "[    4966] Solving over interval [ 5.82000e-01, 5.83000e-01]\n",
        "[    4966] ==============================================================\n",
        "[    4967] ==============================================================\n"
       ]
      },
      {
       "output_type": "stream",
       "stream": "stdout",
       "text": [
        "[    4967] Solving over interval [ 5.83000e-01, 5.84000e-01]\n",
        "[    4967] ==============================================================\n",
        "[    4968] ==============================================================\n"
       ]
      },
      {
       "output_type": "stream",
       "stream": "stdout",
       "text": [
        "[    4968] Solving over interval [ 5.84000e-01, 5.85000e-01]\n",
        "[    4968] ==============================================================\n",
        "[    4970] ==============================================================\n"
       ]
      },
      {
       "output_type": "stream",
       "stream": "stdout",
       "text": [
        "[    4970] Solving over interval [ 5.85000e-01, 5.86000e-01]\n",
        "[    4970] ==============================================================\n",
        "[    4971] ==============================================================\n"
       ]
      },
      {
       "output_type": "stream",
       "stream": "stdout",
       "text": [
        "[    4971] Solving over interval [ 5.86000e-01, 5.87000e-01]\n",
        "[    4971] ==============================================================\n",
        "[    4972] ==============================================================\n"
       ]
      },
      {
       "output_type": "stream",
       "stream": "stdout",
       "text": [
        "[    4972] Solving over interval [ 5.87000e-01, 5.88000e-01]\n",
        "[    4972] ==============================================================\n",
        "[    4973] ==============================================================\n"
       ]
      },
      {
       "output_type": "stream",
       "stream": "stdout",
       "text": [
        "[    4973] Solving over interval [ 5.88000e-01, 5.89000e-01]\n",
        "[    4973] ==============================================================\n",
        "[    4974] ==============================================================\n"
       ]
      },
      {
       "output_type": "stream",
       "stream": "stdout",
       "text": [
        "[    4974] Solving over interval [ 5.89000e-01, 5.90000e-01]\n",
        "[    4974] ==============================================================\n",
        "[    4976] ==============================================================\n"
       ]
      },
      {
       "output_type": "stream",
       "stream": "stdout",
       "text": [
        "[    4976] Solving over interval [ 5.90000e-01, 5.91000e-01]\n",
        "[    4976] ==============================================================\n",
        "[    4977] ==============================================================\n"
       ]
      },
      {
       "output_type": "stream",
       "stream": "stdout",
       "text": [
        "[    4977] Solving over interval [ 5.91000e-01, 5.92000e-01]\n",
        "[    4977] ==============================================================\n",
        "[    4978] ==============================================================\n"
       ]
      },
      {
       "output_type": "stream",
       "stream": "stdout",
       "text": [
        "[    4978] Solving over interval [ 5.92000e-01, 5.93000e-01]\n",
        "[    4978] ==============================================================\n",
        "[    4979] ==============================================================\n"
       ]
      },
      {
       "output_type": "stream",
       "stream": "stdout",
       "text": [
        "[    4979] Solving over interval [ 5.93000e-01, 5.94000e-01]\n",
        "[    4979] ==============================================================\n",
        "[    4980] ==============================================================\n"
       ]
      },
      {
       "output_type": "stream",
       "stream": "stdout",
       "text": [
        "[    4980] Solving over interval [ 5.94000e-01, 5.95000e-01]\n",
        "[    4980] ==============================================================\n",
        "[    4982] ==============================================================\n"
       ]
      },
      {
       "output_type": "stream",
       "stream": "stdout",
       "text": [
        "[    4982] Solving over interval [ 5.95000e-01, 5.96000e-01]\n",
        "[    4982] ==============================================================\n",
        "[    4983] ==============================================================\n"
       ]
      },
      {
       "output_type": "stream",
       "stream": "stdout",
       "text": [
        "[    4983] Solving over interval [ 5.96000e-01, 5.97000e-01]\n",
        "[    4983] ==============================================================\n",
        "[    4984] ==============================================================\n"
       ]
      },
      {
       "output_type": "stream",
       "stream": "stdout",
       "text": [
        "[    4984] Solving over interval [ 5.97000e-01, 5.98000e-01]\n",
        "[    4984] ==============================================================\n",
        "[    4985] ==============================================================\n"
       ]
      },
      {
       "output_type": "stream",
       "stream": "stdout",
       "text": [
        "[    4985] Solving over interval [ 5.98000e-01, 5.99000e-01]\n",
        "[    4985] ==============================================================\n",
        "[    4987] ==============================================================\n"
       ]
      },
      {
       "output_type": "stream",
       "stream": "stdout",
       "text": [
        "[    4987] Solving over interval [ 5.99000e-01, 6.00000e-01]\n",
        "[    4987] ==============================================================\n",
        "[    4988] ==============================================================\n"
       ]
      },
      {
       "output_type": "stream",
       "stream": "stdout",
       "text": [
        "[    4988] Solving over interval [ 6.00000e-01, 6.01000e-01]\n",
        "[    4988] ==============================================================\n",
        "[    4989] ==============================================================\n"
       ]
      },
      {
       "output_type": "stream",
       "stream": "stdout",
       "text": [
        "[    4989] Solving over interval [ 6.01000e-01, 6.02000e-01]\n",
        "[    4989] ==============================================================\n",
        "[    4990] ==============================================================\n"
       ]
      },
      {
       "output_type": "stream",
       "stream": "stdout",
       "text": [
        "[    4990] Solving over interval [ 6.02000e-01, 6.03000e-01]\n",
        "[    4990] ==============================================================\n",
        "[    4992] ==============================================================\n"
       ]
      },
      {
       "output_type": "stream",
       "stream": "stdout",
       "text": [
        "[    4992] Solving over interval [ 6.03000e-01, 6.04000e-01]\n",
        "[    4992] ==============================================================\n",
        "[    4993] ==============================================================\n"
       ]
      },
      {
       "output_type": "stream",
       "stream": "stdout",
       "text": [
        "[    4993] Solving over interval [ 6.04000e-01, 6.05000e-01]\n",
        "[    4993] ==============================================================\n",
        "[    4994] ==============================================================\n"
       ]
      },
      {
       "output_type": "stream",
       "stream": "stdout",
       "text": [
        "[    4994] Solving over interval [ 6.05000e-01, 6.06000e-01]\n",
        "[    4994] ==============================================================\n",
        "[    4995] ==============================================================\n"
       ]
      },
      {
       "output_type": "stream",
       "stream": "stdout",
       "text": [
        "[    4995] Solving over interval [ 6.06000e-01, 6.07000e-01]\n",
        "[    4995] ==============================================================\n",
        "[    4996] ==============================================================\n"
       ]
      },
      {
       "output_type": "stream",
       "stream": "stdout",
       "text": [
        "[    4996] Solving over interval [ 6.07000e-01, 6.08000e-01]\n",
        "[    4996] ==============================================================\n",
        "[    4998] ==============================================================\n"
       ]
      },
      {
       "output_type": "stream",
       "stream": "stdout",
       "text": [
        "[    4998] Solving over interval [ 6.08000e-01, 6.09000e-01]\n",
        "[    4998] ==============================================================\n",
        "[    4999] ==============================================================\n"
       ]
      },
      {
       "output_type": "stream",
       "stream": "stdout",
       "text": [
        "[    4999] Solving over interval [ 6.09000e-01, 6.10000e-01]\n",
        "[    4999] ==============================================================\n",
        "[    5000] ==============================================================\n"
       ]
      },
      {
       "output_type": "stream",
       "stream": "stdout",
       "text": [
        "[    5000] Solving over interval [ 6.10000e-01, 6.11000e-01]\n",
        "[    5000] ==============================================================\n",
        "[    5001] ==============================================================\n"
       ]
      },
      {
       "output_type": "stream",
       "stream": "stdout",
       "text": [
        "[    5001] Solving over interval [ 6.11000e-01, 6.12000e-01]\n",
        "[    5001] ==============================================================\n",
        "[    5003] ==============================================================\n"
       ]
      },
      {
       "output_type": "stream",
       "stream": "stdout",
       "text": [
        "[    5003] Solving over interval [ 6.12000e-01, 6.13000e-01]\n",
        "[    5003] ==============================================================\n",
        "[    5004] ==============================================================\n"
       ]
      },
      {
       "output_type": "stream",
       "stream": "stdout",
       "text": [
        "[    5004] Solving over interval [ 6.13000e-01, 6.14000e-01]\n",
        "[    5004] ==============================================================\n",
        "[    5005] ==============================================================\n"
       ]
      },
      {
       "output_type": "stream",
       "stream": "stdout",
       "text": [
        "[    5005] Solving over interval [ 6.14000e-01, 6.15000e-01]\n",
        "[    5005] ==============================================================\n",
        "[    5006] ==============================================================\n"
       ]
      },
      {
       "output_type": "stream",
       "stream": "stdout",
       "text": [
        "[    5006] Solving over interval [ 6.15000e-01, 6.16000e-01]\n",
        "[    5006] ==============================================================\n",
        "[    5008] ==============================================================\n"
       ]
      },
      {
       "output_type": "stream",
       "stream": "stdout",
       "text": [
        "[    5008] Solving over interval [ 6.16000e-01, 6.17000e-01]\n",
        "[    5008] ==============================================================\n",
        "[    5009] ==============================================================\n"
       ]
      },
      {
       "output_type": "stream",
       "stream": "stdout",
       "text": [
        "[    5009] Solving over interval [ 6.17000e-01, 6.18000e-01]\n",
        "[    5009] ==============================================================\n",
        "[    5010] ==============================================================\n"
       ]
      },
      {
       "output_type": "stream",
       "stream": "stdout",
       "text": [
        "[    5010] Solving over interval [ 6.18000e-01, 6.19000e-01]\n",
        "[    5010] ==============================================================\n",
        "[    5011] ==============================================================\n"
       ]
      },
      {
       "output_type": "stream",
       "stream": "stdout",
       "text": [
        "[    5011] Solving over interval [ 6.19000e-01, 6.20000e-01]\n",
        "[    5011] ==============================================================\n",
        "[    5013] ==============================================================\n"
       ]
      },
      {
       "output_type": "stream",
       "stream": "stdout",
       "text": [
        "[    5013] Solving over interval [ 6.20000e-01, 6.21000e-01]\n",
        "[    5013] ==============================================================\n",
        "[    5014] ==============================================================\n"
       ]
      },
      {
       "output_type": "stream",
       "stream": "stdout",
       "text": [
        "[    5014] Solving over interval [ 6.21000e-01, 6.22000e-01]\n",
        "[    5014] ==============================================================\n",
        "[    5015] ==============================================================\n"
       ]
      },
      {
       "output_type": "stream",
       "stream": "stdout",
       "text": [
        "[    5015] Solving over interval [ 6.22000e-01, 6.23000e-01]\n",
        "[    5015] ==============================================================\n",
        "[    5016] ==============================================================\n"
       ]
      },
      {
       "output_type": "stream",
       "stream": "stdout",
       "text": [
        "[    5016] Solving over interval [ 6.23000e-01, 6.24000e-01]\n",
        "[    5016] ==============================================================\n",
        "[    5018] ==============================================================\n"
       ]
      },
      {
       "output_type": "stream",
       "stream": "stdout",
       "text": [
        "[    5018] Solving over interval [ 6.24000e-01, 6.25000e-01]\n",
        "[    5018] ==============================================================\n",
        "[    5019] ==============================================================\n"
       ]
      },
      {
       "output_type": "stream",
       "stream": "stdout",
       "text": [
        "[    5019] Solving over interval [ 6.25000e-01, 6.26000e-01]\n",
        "[    5019] ==============================================================\n",
        "[    5020] ==============================================================\n"
       ]
      },
      {
       "output_type": "stream",
       "stream": "stdout",
       "text": [
        "[    5020] Solving over interval [ 6.26000e-01, 6.27000e-01]\n",
        "[    5020] ==============================================================\n",
        "[    5021] ==============================================================\n"
       ]
      },
      {
       "output_type": "stream",
       "stream": "stdout",
       "text": [
        "[    5021] Solving over interval [ 6.27000e-01, 6.28000e-01]\n",
        "[    5021] ==============================================================\n",
        "[    5023] ==============================================================\n"
       ]
      },
      {
       "output_type": "stream",
       "stream": "stdout",
       "text": [
        "[    5023] Solving over interval [ 6.28000e-01, 6.29000e-01]\n",
        "[    5023] ==============================================================\n",
        "[    5024] ==============================================================\n"
       ]
      },
      {
       "output_type": "stream",
       "stream": "stdout",
       "text": [
        "[    5024] Solving over interval [ 6.29000e-01, 6.30000e-01]\n",
        "[    5024] ==============================================================\n",
        "[    5025] ==============================================================\n"
       ]
      },
      {
       "output_type": "stream",
       "stream": "stdout",
       "text": [
        "[    5025] Solving over interval [ 6.30000e-01, 6.31000e-01]\n",
        "[    5025] ==============================================================\n",
        "[    5027] ==============================================================\n"
       ]
      },
      {
       "output_type": "stream",
       "stream": "stdout",
       "text": [
        "[    5027] Solving over interval [ 6.31000e-01, 6.32000e-01]\n",
        "[    5027] ==============================================================\n",
        "[    5028] ==============================================================\n"
       ]
      },
      {
       "output_type": "stream",
       "stream": "stdout",
       "text": [
        "[    5028] Solving over interval [ 6.32000e-01, 6.33000e-01]\n",
        "[    5028] ==============================================================\n",
        "[    5029] ==============================================================\n"
       ]
      },
      {
       "output_type": "stream",
       "stream": "stdout",
       "text": [
        "[    5029] Solving over interval [ 6.33000e-01, 6.34000e-01]\n",
        "[    5029] ==============================================================\n",
        "[    5030] ==============================================================\n"
       ]
      },
      {
       "output_type": "stream",
       "stream": "stdout",
       "text": [
        "[    5030] Solving over interval [ 6.34000e-01, 6.35000e-01]\n",
        "[    5030] ==============================================================\n",
        "[    5032] ==============================================================\n"
       ]
      },
      {
       "output_type": "stream",
       "stream": "stdout",
       "text": [
        "[    5032] Solving over interval [ 6.35000e-01, 6.36000e-01]\n",
        "[    5032] ==============================================================\n",
        "[    5033] ==============================================================\n"
       ]
      },
      {
       "output_type": "stream",
       "stream": "stdout",
       "text": [
        "[    5033] Solving over interval [ 6.36000e-01, 6.37000e-01]\n",
        "[    5033] ==============================================================\n",
        "[    5034] ==============================================================\n"
       ]
      },
      {
       "output_type": "stream",
       "stream": "stdout",
       "text": [
        "[    5034] Solving over interval [ 6.37000e-01, 6.38000e-01]\n",
        "[    5034] ==============================================================\n",
        "[    5036] ==============================================================\n"
       ]
      },
      {
       "output_type": "stream",
       "stream": "stdout",
       "text": [
        "[    5036] Solving over interval [ 6.38000e-01, 6.39000e-01]\n",
        "[    5036] ==============================================================\n",
        "[    5037] ==============================================================\n"
       ]
      },
      {
       "output_type": "stream",
       "stream": "stdout",
       "text": [
        "[    5037] Solving over interval [ 6.39000e-01, 6.40000e-01]\n",
        "[    5037] ==============================================================\n",
        "[    5038] ==============================================================\n"
       ]
      },
      {
       "output_type": "stream",
       "stream": "stdout",
       "text": [
        "[    5038] Solving over interval [ 6.40000e-01, 6.41000e-01]\n",
        "[    5038] ==============================================================\n",
        "[    5040] ==============================================================\n"
       ]
      },
      {
       "output_type": "stream",
       "stream": "stdout",
       "text": [
        "[    5040] Solving over interval [ 6.41000e-01, 6.42000e-01]\n",
        "[    5040] ==============================================================\n",
        "[    5041] ==============================================================\n"
       ]
      },
      {
       "output_type": "stream",
       "stream": "stdout",
       "text": [
        "[    5041] Solving over interval [ 6.42000e-01, 6.43000e-01]\n",
        "[    5041] ==============================================================\n",
        "[    5043] ==============================================================\n"
       ]
      },
      {
       "output_type": "stream",
       "stream": "stdout",
       "text": [
        "[    5043] Solving over interval [ 6.43000e-01, 6.44000e-01]\n",
        "[    5043] ==============================================================\n",
        "[    5044] ==============================================================\n"
       ]
      },
      {
       "output_type": "stream",
       "stream": "stdout",
       "text": [
        "[    5044] Solving over interval [ 6.44000e-01, 6.45000e-01]\n",
        "[    5044] ==============================================================\n",
        "[    5046] ==============================================================\n"
       ]
      },
      {
       "output_type": "stream",
       "stream": "stdout",
       "text": [
        "[    5046] Solving over interval [ 6.45000e-01, 6.46000e-01]\n",
        "[    5046] ==============================================================\n",
        "[    5047] ==============================================================\n"
       ]
      },
      {
       "output_type": "stream",
       "stream": "stdout",
       "text": [
        "[    5047] Solving over interval [ 6.46000e-01, 6.47000e-01]\n",
        "[    5047] ==============================================================\n",
        "[    5049] ==============================================================\n"
       ]
      },
      {
       "output_type": "stream",
       "stream": "stdout",
       "text": [
        "[    5049] Solving over interval [ 6.47000e-01, 6.48000e-01]\n",
        "[    5049] ==============================================================\n",
        "[    5050] ==============================================================\n"
       ]
      },
      {
       "output_type": "stream",
       "stream": "stdout",
       "text": [
        "[    5050] Solving over interval [ 6.48000e-01, 6.49000e-01]\n",
        "[    5050] ==============================================================\n",
        "[    5052] ==============================================================\n"
       ]
      },
      {
       "output_type": "stream",
       "stream": "stdout",
       "text": [
        "[    5052] Solving over interval [ 6.49000e-01, 6.50000e-01]\n",
        "[    5052] ==============================================================\n",
        "[    5053] ==============================================================\n"
       ]
      },
      {
       "output_type": "stream",
       "stream": "stdout",
       "text": [
        "[    5053] Solving over interval [ 6.50000e-01, 6.51000e-01]\n",
        "[    5053] ==============================================================\n",
        "[    5055] ==============================================================\n"
       ]
      },
      {
       "output_type": "stream",
       "stream": "stdout",
       "text": [
        "[    5055] Solving over interval [ 6.51000e-01, 6.52000e-01]\n",
        "[    5055] ==============================================================\n",
        "[    5056] ==============================================================\n"
       ]
      },
      {
       "output_type": "stream",
       "stream": "stdout",
       "text": [
        "[    5056] Solving over interval [ 6.52000e-01, 6.53000e-01]\n",
        "[    5056] ==============================================================\n",
        "[    5058] ==============================================================\n"
       ]
      },
      {
       "output_type": "stream",
       "stream": "stdout",
       "text": [
        "[    5058] Solving over interval [ 6.53000e-01, 6.54000e-01]\n",
        "[    5058] ==============================================================\n",
        "[    5059] ==============================================================\n"
       ]
      },
      {
       "output_type": "stream",
       "stream": "stdout",
       "text": [
        "[    5059] Solving over interval [ 6.54000e-01, 6.55000e-01]\n",
        "[    5059] ==============================================================\n",
        "[    5061] ==============================================================\n"
       ]
      },
      {
       "output_type": "stream",
       "stream": "stdout",
       "text": [
        "[    5061] Solving over interval [ 6.55000e-01, 6.56000e-01]\n",
        "[    5061] ==============================================================\n",
        "[    5062] ==============================================================\n"
       ]
      },
      {
       "output_type": "stream",
       "stream": "stdout",
       "text": [
        "[    5062] Solving over interval [ 6.56000e-01, 6.57000e-01]\n",
        "[    5062] ==============================================================\n",
        "[    5064] ==============================================================\n"
       ]
      },
      {
       "output_type": "stream",
       "stream": "stdout",
       "text": [
        "[    5064] Solving over interval [ 6.57000e-01, 6.58000e-01]\n",
        "[    5064] ==============================================================\n",
        "[    5065] ==============================================================\n"
       ]
      },
      {
       "output_type": "stream",
       "stream": "stdout",
       "text": [
        "[    5065] Solving over interval [ 6.58000e-01, 6.59000e-01]\n",
        "[    5065] ==============================================================\n",
        "[    5067] ==============================================================\n"
       ]
      },
      {
       "output_type": "stream",
       "stream": "stdout",
       "text": [
        "[    5067] Solving over interval [ 6.59000e-01, 6.60000e-01]\n",
        "[    5067] ==============================================================\n",
        "[    5068] ==============================================================\n"
       ]
      },
      {
       "output_type": "stream",
       "stream": "stdout",
       "text": [
        "[    5068] Solving over interval [ 6.60000e-01, 6.61000e-01]\n",
        "[    5068] ==============================================================\n",
        "[    5070] ==============================================================\n"
       ]
      },
      {
       "output_type": "stream",
       "stream": "stdout",
       "text": [
        "[    5070] Solving over interval [ 6.61000e-01, 6.62000e-01]\n",
        "[    5070] ==============================================================\n",
        "[    5071] ==============================================================\n"
       ]
      },
      {
       "output_type": "stream",
       "stream": "stdout",
       "text": [
        "[    5071] Solving over interval [ 6.62000e-01, 6.63000e-01]\n",
        "[    5071] ==============================================================\n",
        "[    5073] ==============================================================\n"
       ]
      },
      {
       "output_type": "stream",
       "stream": "stdout",
       "text": [
        "[    5073] Solving over interval [ 6.63000e-01, 6.64000e-01]\n",
        "[    5073] ==============================================================\n",
        "[    5074] ==============================================================\n"
       ]
      },
      {
       "output_type": "stream",
       "stream": "stdout",
       "text": [
        "[    5074] Solving over interval [ 6.64000e-01, 6.65000e-01]\n",
        "[    5074] ==============================================================\n",
        "[    5076] ==============================================================\n"
       ]
      },
      {
       "output_type": "stream",
       "stream": "stdout",
       "text": [
        "[    5076] Solving over interval [ 6.65000e-01, 6.66000e-01]\n",
        "[    5076] ==============================================================\n",
        "[    5077] ==============================================================\n"
       ]
      },
      {
       "output_type": "stream",
       "stream": "stdout",
       "text": [
        "[    5077] Solving over interval [ 6.66000e-01, 6.67000e-01]\n",
        "[    5077] ==============================================================\n",
        "[    5079] ==============================================================\n"
       ]
      },
      {
       "output_type": "stream",
       "stream": "stdout",
       "text": [
        "[    5079] Solving over interval [ 6.67000e-01, 6.68000e-01]\n",
        "[    5079] ==============================================================\n",
        "[    5080] ==============================================================\n"
       ]
      },
      {
       "output_type": "stream",
       "stream": "stdout",
       "text": [
        "[    5080] Solving over interval [ 6.68000e-01, 6.69000e-01]\n",
        "[    5080] ==============================================================\n",
        "[    5082] ==============================================================\n"
       ]
      },
      {
       "output_type": "stream",
       "stream": "stdout",
       "text": [
        "[    5082] Solving over interval [ 6.69000e-01, 6.70000e-01]\n",
        "[    5082] ==============================================================\n",
        "[    5083] ==============================================================\n"
       ]
      },
      {
       "output_type": "stream",
       "stream": "stdout",
       "text": [
        "[    5083] Solving over interval [ 6.70000e-01, 6.71000e-01]\n",
        "[    5083] ==============================================================\n",
        "[    5085] ==============================================================\n"
       ]
      },
      {
       "output_type": "stream",
       "stream": "stdout",
       "text": [
        "[    5085] Solving over interval [ 6.71000e-01, 6.72000e-01]\n",
        "[    5085] ==============================================================\n",
        "[    5086] ==============================================================\n"
       ]
      },
      {
       "output_type": "stream",
       "stream": "stdout",
       "text": [
        "[    5086] Solving over interval [ 6.72000e-01, 6.73000e-01]\n",
        "[    5086] ==============================================================\n",
        "[    5088] ==============================================================\n"
       ]
      },
      {
       "output_type": "stream",
       "stream": "stdout",
       "text": [
        "[    5088] Solving over interval [ 6.73000e-01, 6.74000e-01]\n",
        "[    5088] ==============================================================\n",
        "[    5090] ==============================================================\n"
       ]
      },
      {
       "output_type": "stream",
       "stream": "stdout",
       "text": [
        "[    5090] Solving over interval [ 6.74000e-01, 6.75000e-01]\n",
        "[    5090] ==============================================================\n",
        "[    5091] ==============================================================\n"
       ]
      },
      {
       "output_type": "stream",
       "stream": "stdout",
       "text": [
        "[    5091] Solving over interval [ 6.75000e-01, 6.76000e-01]\n",
        "[    5091] ==============================================================\n",
        "[    5093] ==============================================================\n"
       ]
      },
      {
       "output_type": "stream",
       "stream": "stdout",
       "text": [
        "[    5093] Solving over interval [ 6.76000e-01, 6.77000e-01]\n",
        "[    5093] ==============================================================\n",
        "[    5094] ==============================================================\n"
       ]
      },
      {
       "output_type": "stream",
       "stream": "stdout",
       "text": [
        "[    5094] Solving over interval [ 6.77000e-01, 6.78000e-01]\n",
        "[    5094] ==============================================================\n",
        "[    5096] ==============================================================\n"
       ]
      },
      {
       "output_type": "stream",
       "stream": "stdout",
       "text": [
        "[    5096] Solving over interval [ 6.78000e-01, 6.79000e-01]\n",
        "[    5096] ==============================================================\n",
        "[    5097] ==============================================================\n"
       ]
      },
      {
       "output_type": "stream",
       "stream": "stdout",
       "text": [
        "[    5097] Solving over interval [ 6.79000e-01, 6.80000e-01]\n",
        "[    5097] ==============================================================\n",
        "[    5099] ==============================================================\n"
       ]
      },
      {
       "output_type": "stream",
       "stream": "stdout",
       "text": [
        "[    5099] Solving over interval [ 6.80000e-01, 6.81000e-01]\n",
        "[    5099] ==============================================================\n",
        "[    5100] ==============================================================\n"
       ]
      },
      {
       "output_type": "stream",
       "stream": "stdout",
       "text": [
        "[    5100] Solving over interval [ 6.81000e-01, 6.82000e-01]\n",
        "[    5100] ==============================================================\n",
        "[    5102] ==============================================================\n"
       ]
      },
      {
       "output_type": "stream",
       "stream": "stdout",
       "text": [
        "[    5102] Solving over interval [ 6.82000e-01, 6.83000e-01]\n",
        "[    5102] ==============================================================\n",
        "[    5103] ==============================================================\n"
       ]
      },
      {
       "output_type": "stream",
       "stream": "stdout",
       "text": [
        "[    5103] Solving over interval [ 6.83000e-01, 6.84000e-01]\n",
        "[    5103] ==============================================================\n",
        "[    5105] ==============================================================\n"
       ]
      },
      {
       "output_type": "stream",
       "stream": "stdout",
       "text": [
        "[    5105] Solving over interval [ 6.84000e-01, 6.85000e-01]\n",
        "[    5105] ==============================================================\n",
        "[    5107] ==============================================================\n"
       ]
      },
      {
       "output_type": "stream",
       "stream": "stdout",
       "text": [
        "[    5107] Solving over interval [ 6.85000e-01, 6.86000e-01]\n",
        "[    5107] ==============================================================\n",
        "[    5108] ==============================================================\n"
       ]
      },
      {
       "output_type": "stream",
       "stream": "stdout",
       "text": [
        "[    5108] Solving over interval [ 6.86000e-01, 6.87000e-01]\n",
        "[    5108] ==============================================================\n",
        "[    5110] ==============================================================\n"
       ]
      },
      {
       "output_type": "stream",
       "stream": "stdout",
       "text": [
        "[    5110] Solving over interval [ 6.87000e-01, 6.88000e-01]\n",
        "[    5110] ==============================================================\n",
        "[    5111] ==============================================================\n"
       ]
      },
      {
       "output_type": "stream",
       "stream": "stdout",
       "text": [
        "[    5111] Solving over interval [ 6.88000e-01, 6.89000e-01]\n",
        "[    5111] ==============================================================\n",
        "[    5113] ==============================================================\n"
       ]
      },
      {
       "output_type": "stream",
       "stream": "stdout",
       "text": [
        "[    5113] Solving over interval [ 6.89000e-01, 6.90000e-01]\n",
        "[    5113] ==============================================================\n",
        "[    5114] ==============================================================\n"
       ]
      },
      {
       "output_type": "stream",
       "stream": "stdout",
       "text": [
        "[    5114] Solving over interval [ 6.90000e-01, 6.91000e-01]\n",
        "[    5114] ==============================================================\n",
        "[    5116] ==============================================================\n"
       ]
      },
      {
       "output_type": "stream",
       "stream": "stdout",
       "text": [
        "[    5116] Solving over interval [ 6.91000e-01, 6.92000e-01]\n",
        "[    5116] ==============================================================\n",
        "[    5117] ==============================================================\n"
       ]
      },
      {
       "output_type": "stream",
       "stream": "stdout",
       "text": [
        "[    5117] Solving over interval [ 6.92000e-01, 6.93000e-01]\n",
        "[    5117] ==============================================================\n",
        "[    5119] ==============================================================\n"
       ]
      },
      {
       "output_type": "stream",
       "stream": "stdout",
       "text": [
        "[    5119] Solving over interval [ 6.93000e-01, 6.94000e-01]\n",
        "[    5119] ==============================================================\n",
        "[    5120] ==============================================================\n"
       ]
      },
      {
       "output_type": "stream",
       "stream": "stdout",
       "text": [
        "[    5120] Solving over interval [ 6.94000e-01, 6.95000e-01]\n",
        "[    5120] ==============================================================\n",
        "[    5122] ==============================================================\n"
       ]
      },
      {
       "output_type": "stream",
       "stream": "stdout",
       "text": [
        "[    5122] Solving over interval [ 6.95000e-01, 6.96000e-01]\n",
        "[    5122] ==============================================================\n",
        "[    5124] ==============================================================\n"
       ]
      },
      {
       "output_type": "stream",
       "stream": "stdout",
       "text": [
        "[    5124] Solving over interval [ 6.96000e-01, 6.97000e-01]\n",
        "[    5124] ==============================================================\n",
        "[    5125] ==============================================================\n"
       ]
      },
      {
       "output_type": "stream",
       "stream": "stdout",
       "text": [
        "[    5125] Solving over interval [ 6.97000e-01, 6.98000e-01]\n",
        "[    5125] ==============================================================\n",
        "[    5127] ==============================================================\n"
       ]
      },
      {
       "output_type": "stream",
       "stream": "stdout",
       "text": [
        "[    5127] Solving over interval [ 6.98000e-01, 6.99000e-01]\n",
        "[    5127] ==============================================================\n",
        "[    5128] ==============================================================\n"
       ]
      },
      {
       "output_type": "stream",
       "stream": "stdout",
       "text": [
        "[    5128] Solving over interval [ 6.99000e-01, 7.00000e-01]\n",
        "[    5128] ==============================================================\n",
        "[    5130] ==============================================================\n"
       ]
      },
      {
       "output_type": "stream",
       "stream": "stdout",
       "text": [
        "[    5130] Solving over interval [ 7.00000e-01, 7.01000e-01]\n",
        "[    5130] ==============================================================\n",
        "[    5131] ==============================================================\n"
       ]
      },
      {
       "output_type": "stream",
       "stream": "stdout",
       "text": [
        "[    5131] Solving over interval [ 7.01000e-01, 7.02000e-01]\n",
        "[    5131] ==============================================================\n",
        "[    5133] ==============================================================\n"
       ]
      },
      {
       "output_type": "stream",
       "stream": "stdout",
       "text": [
        "[    5133] Solving over interval [ 7.02000e-01, 7.03000e-01]\n",
        "[    5133] ==============================================================\n",
        "[    5135] ==============================================================\n"
       ]
      },
      {
       "output_type": "stream",
       "stream": "stdout",
       "text": [
        "[    5135] Solving over interval [ 7.03000e-01, 7.04000e-01]\n",
        "[    5135] ==============================================================\n",
        "[    5136] ==============================================================\n"
       ]
      },
      {
       "output_type": "stream",
       "stream": "stdout",
       "text": [
        "[    5136] Solving over interval [ 7.04000e-01, 7.05000e-01]\n",
        "[    5136] ==============================================================\n",
        "[    5138] ==============================================================\n"
       ]
      },
      {
       "output_type": "stream",
       "stream": "stdout",
       "text": [
        "[    5138] Solving over interval [ 7.05000e-01, 7.06000e-01]\n",
        "[    5138] ==============================================================\n",
        "[    5139] ==============================================================\n"
       ]
      },
      {
       "output_type": "stream",
       "stream": "stdout",
       "text": [
        "[    5139] Solving over interval [ 7.06000e-01, 7.07000e-01]\n",
        "[    5139] ==============================================================\n",
        "[    5141] ==============================================================\n"
       ]
      },
      {
       "output_type": "stream",
       "stream": "stdout",
       "text": [
        "[    5141] Solving over interval [ 7.07000e-01, 7.08000e-01]\n",
        "[    5141] ==============================================================\n",
        "[    5142] ==============================================================\n"
       ]
      },
      {
       "output_type": "stream",
       "stream": "stdout",
       "text": [
        "[    5142] Solving over interval [ 7.08000e-01, 7.09000e-01]\n",
        "[    5142] ==============================================================\n",
        "[    5144] ==============================================================\n"
       ]
      },
      {
       "output_type": "stream",
       "stream": "stdout",
       "text": [
        "[    5144] Solving over interval [ 7.09000e-01, 7.10000e-01]\n",
        "[    5144] ==============================================================\n",
        "[    5146] ==============================================================\n"
       ]
      },
      {
       "output_type": "stream",
       "stream": "stdout",
       "text": [
        "[    5146] Solving over interval [ 7.10000e-01, 7.11000e-01]\n",
        "[    5146] ==============================================================\n",
        "[    5147] ==============================================================\n"
       ]
      },
      {
       "output_type": "stream",
       "stream": "stdout",
       "text": [
        "[    5147] Solving over interval [ 7.11000e-01, 7.12000e-01]\n",
        "[    5147] ==============================================================\n",
        "[    5149] ==============================================================\n"
       ]
      },
      {
       "output_type": "stream",
       "stream": "stdout",
       "text": [
        "[    5149] Solving over interval [ 7.12000e-01, 7.13000e-01]\n",
        "[    5149] ==============================================================\n",
        "[    5150] ==============================================================\n"
       ]
      },
      {
       "output_type": "stream",
       "stream": "stdout",
       "text": [
        "[    5150] Solving over interval [ 7.13000e-01, 7.14000e-01]\n",
        "[    5150] ==============================================================\n",
        "[    5152] ==============================================================\n"
       ]
      },
      {
       "output_type": "stream",
       "stream": "stdout",
       "text": [
        "[    5152] Solving over interval [ 7.14000e-01, 7.15000e-01]\n",
        "[    5152] ==============================================================\n",
        "[    5154] ==============================================================\n"
       ]
      },
      {
       "output_type": "stream",
       "stream": "stdout",
       "text": [
        "[    5154] Solving over interval [ 7.15000e-01, 7.16000e-01]\n",
        "[    5154] ==============================================================\n",
        "[    5155] ==============================================================\n"
       ]
      },
      {
       "output_type": "stream",
       "stream": "stdout",
       "text": [
        "[    5155] Solving over interval [ 7.16000e-01, 7.17000e-01]\n",
        "[    5155] ==============================================================\n",
        "[    5157] ==============================================================\n"
       ]
      },
      {
       "output_type": "stream",
       "stream": "stdout",
       "text": [
        "[    5157] Solving over interval [ 7.17000e-01, 7.18000e-01]\n",
        "[    5157] ==============================================================\n",
        "[    5158] ==============================================================\n"
       ]
      },
      {
       "output_type": "stream",
       "stream": "stdout",
       "text": [
        "[    5158] Solving over interval [ 7.18000e-01, 7.19000e-01]\n",
        "[    5158] ==============================================================\n",
        "[    5160] ==============================================================\n"
       ]
      },
      {
       "output_type": "stream",
       "stream": "stdout",
       "text": [
        "[    5160] Solving over interval [ 7.19000e-01, 7.20000e-01]\n",
        "[    5160] ==============================================================\n",
        "[    5162] ==============================================================\n"
       ]
      },
      {
       "output_type": "stream",
       "stream": "stdout",
       "text": [
        "[    5162] Solving over interval [ 7.20000e-01, 7.21000e-01]\n",
        "[    5162] ==============================================================\n",
        "[    5163] ==============================================================\n"
       ]
      },
      {
       "output_type": "stream",
       "stream": "stdout",
       "text": [
        "[    5163] Solving over interval [ 7.21000e-01, 7.22000e-01]\n",
        "[    5163] ==============================================================\n",
        "[    5165] ==============================================================\n"
       ]
      },
      {
       "output_type": "stream",
       "stream": "stdout",
       "text": [
        "[    5165] Solving over interval [ 7.22000e-01, 7.23000e-01]\n",
        "[    5165] ==============================================================\n",
        "[    5166] ==============================================================\n"
       ]
      },
      {
       "output_type": "stream",
       "stream": "stdout",
       "text": [
        "[    5166] Solving over interval [ 7.23000e-01, 7.24000e-01]\n",
        "[    5166] ==============================================================\n",
        "[    5168] ==============================================================\n"
       ]
      },
      {
       "output_type": "stream",
       "stream": "stdout",
       "text": [
        "[    5168] Solving over interval [ 7.24000e-01, 7.25000e-01]\n",
        "[    5168] ==============================================================\n",
        "[    5170] ==============================================================\n"
       ]
      },
      {
       "output_type": "stream",
       "stream": "stdout",
       "text": [
        "[    5170] Solving over interval [ 7.25000e-01, 7.26000e-01]\n",
        "[    5170] ==============================================================\n",
        "[    5171] ==============================================================\n"
       ]
      },
      {
       "output_type": "stream",
       "stream": "stdout",
       "text": [
        "[    5171] Solving over interval [ 7.26000e-01, 7.27000e-01]\n",
        "[    5171] ==============================================================\n",
        "[    5173] ==============================================================\n"
       ]
      },
      {
       "output_type": "stream",
       "stream": "stdout",
       "text": [
        "[    5173] Solving over interval [ 7.27000e-01, 7.28000e-01]\n",
        "[    5173] ==============================================================\n",
        "[    5174] ==============================================================\n"
       ]
      },
      {
       "output_type": "stream",
       "stream": "stdout",
       "text": [
        "[    5174] Solving over interval [ 7.28000e-01, 7.29000e-01]\n",
        "[    5174] ==============================================================\n",
        "[    5176] ==============================================================\n"
       ]
      },
      {
       "output_type": "stream",
       "stream": "stdout",
       "text": [
        "[    5176] Solving over interval [ 7.29000e-01, 7.30000e-01]\n",
        "[    5176] ==============================================================\n",
        "[    5178] ==============================================================\n"
       ]
      },
      {
       "output_type": "stream",
       "stream": "stdout",
       "text": [
        "[    5178] Solving over interval [ 7.30000e-01, 7.31000e-01]\n",
        "[    5178] ==============================================================\n",
        "[    5180] ==============================================================\n"
       ]
      },
      {
       "output_type": "stream",
       "stream": "stdout",
       "text": [
        "[    5180] Solving over interval [ 7.31000e-01, 7.32000e-01]\n",
        "[    5180] ==============================================================\n",
        "[    5181] ==============================================================\n"
       ]
      },
      {
       "output_type": "stream",
       "stream": "stdout",
       "text": [
        "[    5181] Solving over interval [ 7.32000e-01, 7.33000e-01]\n",
        "[    5181] ==============================================================\n",
        "[    5183] ==============================================================\n"
       ]
      },
      {
       "output_type": "stream",
       "stream": "stdout",
       "text": [
        "[    5183] Solving over interval [ 7.33000e-01, 7.34000e-01]\n",
        "[    5183] ==============================================================\n",
        "[    5185] ==============================================================\n"
       ]
      },
      {
       "output_type": "stream",
       "stream": "stdout",
       "text": [
        "[    5185] Solving over interval [ 7.34000e-01, 7.35000e-01]\n",
        "[    5185] ==============================================================\n",
        "[    5186] ==============================================================\n"
       ]
      },
      {
       "output_type": "stream",
       "stream": "stdout",
       "text": [
        "[    5186] Solving over interval [ 7.35000e-01, 7.36000e-01]\n",
        "[    5186] ==============================================================\n",
        "[    5188] ==============================================================\n"
       ]
      },
      {
       "output_type": "stream",
       "stream": "stdout",
       "text": [
        "[    5188] Solving over interval [ 7.36000e-01, 7.37000e-01]\n",
        "[    5188] ==============================================================\n",
        "[    5190] ==============================================================\n"
       ]
      },
      {
       "output_type": "stream",
       "stream": "stdout",
       "text": [
        "[    5190] Solving over interval [ 7.37000e-01, 7.38000e-01]\n",
        "[    5190] ==============================================================\n",
        "[    5191] ==============================================================\n"
       ]
      },
      {
       "output_type": "stream",
       "stream": "stdout",
       "text": [
        "[    5191] Solving over interval [ 7.38000e-01, 7.39000e-01]\n",
        "[    5191] ==============================================================\n",
        "[    5193] ==============================================================\n"
       ]
      },
      {
       "output_type": "stream",
       "stream": "stdout",
       "text": [
        "[    5193] Solving over interval [ 7.39000e-01, 7.40000e-01]\n",
        "[    5193] ==============================================================\n",
        "[    5196] ==============================================================\n"
       ]
      },
      {
       "output_type": "stream",
       "stream": "stdout",
       "text": [
        "[    5196] Solving over interval [ 7.40000e-01, 7.41000e-01]\n",
        "[    5196] ==============================================================\n",
        "[    5197] ==============================================================\n"
       ]
      },
      {
       "output_type": "stream",
       "stream": "stdout",
       "text": [
        "[    5197] Solving over interval [ 7.41000e-01, 7.42000e-01]\n",
        "[    5197] ==============================================================\n",
        "[    5199] ==============================================================\n"
       ]
      },
      {
       "output_type": "stream",
       "stream": "stdout",
       "text": [
        "[    5199] Solving over interval [ 7.42000e-01, 7.43000e-01]\n",
        "[    5199] ==============================================================\n",
        "[    5201] ==============================================================\n"
       ]
      },
      {
       "output_type": "stream",
       "stream": "stdout",
       "text": [
        "[    5201] Solving over interval [ 7.43000e-01, 7.44000e-01]\n",
        "[    5201] ==============================================================\n",
        "[    5202] ==============================================================\n"
       ]
      },
      {
       "output_type": "stream",
       "stream": "stdout",
       "text": [
        "[    5202] Solving over interval [ 7.44000e-01, 7.45000e-01]\n",
        "[    5202] ==============================================================\n",
        "[    5204] ==============================================================\n"
       ]
      },
      {
       "output_type": "stream",
       "stream": "stdout",
       "text": [
        "[    5204] Solving over interval [ 7.45000e-01, 7.46000e-01]\n",
        "[    5204] ==============================================================\n",
        "[    5206] ==============================================================\n"
       ]
      },
      {
       "output_type": "stream",
       "stream": "stdout",
       "text": [
        "[    5206] Solving over interval [ 7.46000e-01, 7.47000e-01]\n",
        "[    5206] ==============================================================\n",
        "[    5208] ==============================================================\n"
       ]
      },
      {
       "output_type": "stream",
       "stream": "stdout",
       "text": [
        "[    5208] Solving over interval [ 7.47000e-01, 7.48000e-01]\n",
        "[    5208] ==============================================================\n",
        "[    5209] ==============================================================\n"
       ]
      },
      {
       "output_type": "stream",
       "stream": "stdout",
       "text": [
        "[    5209] Solving over interval [ 7.48000e-01, 7.49000e-01]\n",
        "[    5209] ==============================================================\n",
        "[    5211] ==============================================================\n"
       ]
      },
      {
       "output_type": "stream",
       "stream": "stdout",
       "text": [
        "[    5211] Solving over interval [ 7.49000e-01, 7.50000e-01]\n",
        "[    5211] ==============================================================\n",
        "[    5213] ==============================================================\n"
       ]
      },
      {
       "output_type": "stream",
       "stream": "stdout",
       "text": [
        "[    5213] Solving over interval [ 7.50000e-01, 7.51000e-01]\n",
        "[    5213] ==============================================================\n",
        "[    5214] ==============================================================\n"
       ]
      },
      {
       "output_type": "stream",
       "stream": "stdout",
       "text": [
        "[    5214] Solving over interval [ 7.51000e-01, 7.52000e-01]\n",
        "[    5214] ==============================================================\n",
        "[    5216] ==============================================================\n"
       ]
      },
      {
       "output_type": "stream",
       "stream": "stdout",
       "text": [
        "[    5216] Solving over interval [ 7.52000e-01, 7.53000e-01]\n",
        "[    5216] ==============================================================\n",
        "[    5217] ==============================================================\n"
       ]
      },
      {
       "output_type": "stream",
       "stream": "stdout",
       "text": [
        "[    5217] Solving over interval [ 7.53000e-01, 7.54000e-01]\n",
        "[    5217] ==============================================================\n",
        "[    5219] ==============================================================\n"
       ]
      },
      {
       "output_type": "stream",
       "stream": "stdout",
       "text": [
        "[    5219] Solving over interval [ 7.54000e-01, 7.55000e-01]\n",
        "[    5219] ==============================================================\n",
        "[    5221] ==============================================================\n"
       ]
      },
      {
       "output_type": "stream",
       "stream": "stdout",
       "text": [
        "[    5221] Solving over interval [ 7.55000e-01, 7.56000e-01]\n",
        "[    5221] ==============================================================\n",
        "[    5222] ==============================================================\n"
       ]
      },
      {
       "output_type": "stream",
       "stream": "stdout",
       "text": [
        "[    5222] Solving over interval [ 7.56000e-01, 7.57000e-01]\n",
        "[    5222] ==============================================================\n",
        "[    5224] ==============================================================\n"
       ]
      },
      {
       "output_type": "stream",
       "stream": "stdout",
       "text": [
        "[    5224] Solving over interval [ 7.57000e-01, 7.58000e-01]\n",
        "[    5224] ==============================================================\n",
        "[    5226] ==============================================================\n"
       ]
      },
      {
       "output_type": "stream",
       "stream": "stdout",
       "text": [
        "[    5226] Solving over interval [ 7.58000e-01, 7.59000e-01]\n",
        "[    5226] ==============================================================\n",
        "[    5227] ==============================================================\n"
       ]
      },
      {
       "output_type": "stream",
       "stream": "stdout",
       "text": [
        "[    5227] Solving over interval [ 7.59000e-01, 7.60000e-01]\n",
        "[    5227] ==============================================================\n",
        "[    5229] ==============================================================\n"
       ]
      },
      {
       "output_type": "stream",
       "stream": "stdout",
       "text": [
        "[    5229] Solving over interval [ 7.60000e-01, 7.61000e-01]\n",
        "[    5229] ==============================================================\n",
        "[    5230] ==============================================================\n"
       ]
      },
      {
       "output_type": "stream",
       "stream": "stdout",
       "text": [
        "[    5230] Solving over interval [ 7.61000e-01, 7.62000e-01]\n",
        "[    5230] ==============================================================\n",
        "[    5232] ==============================================================\n"
       ]
      },
      {
       "output_type": "stream",
       "stream": "stdout",
       "text": [
        "[    5232] Solving over interval [ 7.62000e-01, 7.63000e-01]\n",
        "[    5232] ==============================================================\n",
        "[    5234] ==============================================================\n"
       ]
      },
      {
       "output_type": "stream",
       "stream": "stdout",
       "text": [
        "[    5234] Solving over interval [ 7.63000e-01, 7.64000e-01]\n",
        "[    5234] ==============================================================\n",
        "[    5235] ==============================================================\n"
       ]
      },
      {
       "output_type": "stream",
       "stream": "stdout",
       "text": [
        "[    5235] Solving over interval [ 7.64000e-01, 7.65000e-01]\n",
        "[    5235] ==============================================================\n",
        "[    5237] ==============================================================\n"
       ]
      },
      {
       "output_type": "stream",
       "stream": "stdout",
       "text": [
        "[    5237] Solving over interval [ 7.65000e-01, 7.66000e-01]\n",
        "[    5237] ==============================================================\n",
        "[    5239] ==============================================================\n"
       ]
      },
      {
       "output_type": "stream",
       "stream": "stdout",
       "text": [
        "[    5239] Solving over interval [ 7.66000e-01, 7.67000e-01]\n",
        "[    5239] ==============================================================\n",
        "[    5240] ==============================================================\n"
       ]
      },
      {
       "output_type": "stream",
       "stream": "stdout",
       "text": [
        "[    5240] Solving over interval [ 7.67000e-01, 7.68000e-01]\n",
        "[    5240] ==============================================================\n",
        "[    5242] ==============================================================\n"
       ]
      },
      {
       "output_type": "stream",
       "stream": "stdout",
       "text": [
        "[    5242] Solving over interval [ 7.68000e-01, 7.69000e-01]\n",
        "[    5242] ==============================================================\n",
        "[    5244] ==============================================================\n"
       ]
      },
      {
       "output_type": "stream",
       "stream": "stdout",
       "text": [
        "[    5244] Solving over interval [ 7.69000e-01, 7.70000e-01]\n",
        "[    5244] ==============================================================\n",
        "[    5245] ==============================================================\n"
       ]
      },
      {
       "output_type": "stream",
       "stream": "stdout",
       "text": [
        "[    5245] Solving over interval [ 7.70000e-01, 7.71000e-01]\n",
        "[    5245] ==============================================================\n",
        "[    5247] ==============================================================\n"
       ]
      },
      {
       "output_type": "stream",
       "stream": "stdout",
       "text": [
        "[    5247] Solving over interval [ 7.71000e-01, 7.72000e-01]\n",
        "[    5247] ==============================================================\n",
        "[    5249] ==============================================================\n"
       ]
      },
      {
       "output_type": "stream",
       "stream": "stdout",
       "text": [
        "[    5249] Solving over interval [ 7.72000e-01, 7.73000e-01]\n",
        "[    5249] ==============================================================\n",
        "[    5250] ==============================================================\n"
       ]
      },
      {
       "output_type": "stream",
       "stream": "stdout",
       "text": [
        "[    5250] Solving over interval [ 7.73000e-01, 7.74000e-01]\n",
        "[    5250] ==============================================================\n",
        "[    5252] ==============================================================\n"
       ]
      },
      {
       "output_type": "stream",
       "stream": "stdout",
       "text": [
        "[    5252] Solving over interval [ 7.74000e-01, 7.75000e-01]\n",
        "[    5252] ==============================================================\n",
        "[    5254] ==============================================================\n"
       ]
      },
      {
       "output_type": "stream",
       "stream": "stdout",
       "text": [
        "[    5254] Solving over interval [ 7.75000e-01, 7.76000e-01]\n",
        "[    5254] ==============================================================\n",
        "[    5255] ==============================================================\n"
       ]
      },
      {
       "output_type": "stream",
       "stream": "stdout",
       "text": [
        "[    5255] Solving over interval [ 7.76000e-01, 7.77000e-01]\n",
        "[    5255] ==============================================================\n",
        "[    5257] ==============================================================\n"
       ]
      },
      {
       "output_type": "stream",
       "stream": "stdout",
       "text": [
        "[    5257] Solving over interval [ 7.77000e-01, 7.78000e-01]\n",
        "[    5257] ==============================================================\n",
        "[    5259] ==============================================================\n"
       ]
      },
      {
       "output_type": "stream",
       "stream": "stdout",
       "text": [
        "[    5259] Solving over interval [ 7.78000e-01, 7.79000e-01]\n",
        "[    5259] ==============================================================\n",
        "[    5260] ==============================================================\n"
       ]
      },
      {
       "output_type": "stream",
       "stream": "stdout",
       "text": [
        "[    5260] Solving over interval [ 7.79000e-01, 7.80000e-01]\n",
        "[    5260] ==============================================================\n",
        "[    5262] ==============================================================\n"
       ]
      },
      {
       "output_type": "stream",
       "stream": "stdout",
       "text": [
        "[    5262] Solving over interval [ 7.80000e-01, 7.81000e-01]\n",
        "[    5262] ==============================================================\n",
        "[    5264] ==============================================================\n"
       ]
      },
      {
       "output_type": "stream",
       "stream": "stdout",
       "text": [
        "[    5264] Solving over interval [ 7.81000e-01, 7.82000e-01]\n",
        "[    5264] ==============================================================\n",
        "[    5265] ==============================================================\n"
       ]
      },
      {
       "output_type": "stream",
       "stream": "stdout",
       "text": [
        "[    5265] Solving over interval [ 7.82000e-01, 7.83000e-01]\n",
        "[    5265] ==============================================================\n",
        "[    5267] ==============================================================\n"
       ]
      },
      {
       "output_type": "stream",
       "stream": "stdout",
       "text": [
        "[    5267] Solving over interval [ 7.83000e-01, 7.84000e-01]\n",
        "[    5267] ==============================================================\n",
        "[    5269] ==============================================================\n"
       ]
      },
      {
       "output_type": "stream",
       "stream": "stdout",
       "text": [
        "[    5269] Solving over interval [ 7.84000e-01, 7.85000e-01]\n",
        "[    5269] ==============================================================\n",
        "[    5270] ==============================================================\n"
       ]
      },
      {
       "output_type": "stream",
       "stream": "stdout",
       "text": [
        "[    5270] Solving over interval [ 7.85000e-01, 7.86000e-01]\n",
        "[    5270] ==============================================================\n",
        "[    5272] ==============================================================\n"
       ]
      },
      {
       "output_type": "stream",
       "stream": "stdout",
       "text": [
        "[    5272] Solving over interval [ 7.86000e-01, 7.87000e-01]\n",
        "[    5272] ==============================================================\n",
        "[    5274] ==============================================================\n"
       ]
      },
      {
       "output_type": "stream",
       "stream": "stdout",
       "text": [
        "[    5274] Solving over interval [ 7.87000e-01, 7.88000e-01]\n",
        "[    5274] ==============================================================\n",
        "[    5275] ==============================================================\n"
       ]
      },
      {
       "output_type": "stream",
       "stream": "stdout",
       "text": [
        "[    5275] Solving over interval [ 7.88000e-01, 7.89000e-01]\n",
        "[    5275] ==============================================================\n",
        "[    5277] ==============================================================\n"
       ]
      },
      {
       "output_type": "stream",
       "stream": "stdout",
       "text": [
        "[    5277] Solving over interval [ 7.89000e-01, 7.90000e-01]\n",
        "[    5277] ==============================================================\n",
        "[    5279] ==============================================================\n"
       ]
      },
      {
       "output_type": "stream",
       "stream": "stdout",
       "text": [
        "[    5279] Solving over interval [ 7.90000e-01, 7.91000e-01]\n",
        "[    5279] ==============================================================\n",
        "[    5280] ==============================================================\n"
       ]
      },
      {
       "output_type": "stream",
       "stream": "stdout",
       "text": [
        "[    5280] Solving over interval [ 7.91000e-01, 7.92000e-01]\n",
        "[    5280] ==============================================================\n",
        "[    5282] ==============================================================\n"
       ]
      },
      {
       "output_type": "stream",
       "stream": "stdout",
       "text": [
        "[    5282] Solving over interval [ 7.92000e-01, 7.93000e-01]\n",
        "[    5282] ==============================================================\n",
        "[    5284] ==============================================================\n"
       ]
      },
      {
       "output_type": "stream",
       "stream": "stdout",
       "text": [
        "[    5284] Solving over interval [ 7.93000e-01, 7.94000e-01]\n",
        "[    5284] ==============================================================\n",
        "[    5285] ==============================================================\n"
       ]
      },
      {
       "output_type": "stream",
       "stream": "stdout",
       "text": [
        "[    5285] Solving over interval [ 7.94000e-01, 7.95000e-01]\n",
        "[    5285] ==============================================================\n",
        "[    5287] ==============================================================\n"
       ]
      },
      {
       "output_type": "stream",
       "stream": "stdout",
       "text": [
        "[    5287] Solving over interval [ 7.95000e-01, 7.96000e-01]\n",
        "[    5287] ==============================================================\n",
        "[    5289] ==============================================================\n"
       ]
      },
      {
       "output_type": "stream",
       "stream": "stdout",
       "text": [
        "[    5289] Solving over interval [ 7.96000e-01, 7.97000e-01]\n",
        "[    5289] ==============================================================\n",
        "[    5290] ==============================================================\n"
       ]
      },
      {
       "output_type": "stream",
       "stream": "stdout",
       "text": [
        "[    5290] Solving over interval [ 7.97000e-01, 7.98000e-01]\n",
        "[    5290] ==============================================================\n",
        "[    5292] ==============================================================\n"
       ]
      },
      {
       "output_type": "stream",
       "stream": "stdout",
       "text": [
        "[    5292] Solving over interval [ 7.98000e-01, 7.99000e-01]\n",
        "[    5292] ==============================================================\n",
        "[    5294] ==============================================================\n"
       ]
      },
      {
       "output_type": "stream",
       "stream": "stdout",
       "text": [
        "[    5294] Solving over interval [ 7.99000e-01, 8.00000e-01]\n",
        "[    5294] ==============================================================\n",
        "[    5295] ==============================================================\n"
       ]
      },
      {
       "output_type": "stream",
       "stream": "stdout",
       "text": [
        "[    5295] Solving over interval [ 8.00000e-01, 8.01000e-01]\n",
        "[    5295] ==============================================================\n",
        "[    5297] ==============================================================\n"
       ]
      },
      {
       "output_type": "stream",
       "stream": "stdout",
       "text": [
        "[    5297] Solving over interval [ 8.01000e-01, 8.02000e-01]\n",
        "[    5297] ==============================================================\n",
        "[    5299] ==============================================================\n"
       ]
      },
      {
       "output_type": "stream",
       "stream": "stdout",
       "text": [
        "[    5299] Solving over interval [ 8.02000e-01, 8.03000e-01]\n",
        "[    5299] ==============================================================\n",
        "[    5301] ==============================================================\n"
       ]
      },
      {
       "output_type": "stream",
       "stream": "stdout",
       "text": [
        "[    5301] Solving over interval [ 8.03000e-01, 8.04000e-01]\n",
        "[    5301] ==============================================================\n",
        "[    5302] ==============================================================\n"
       ]
      },
      {
       "output_type": "stream",
       "stream": "stdout",
       "text": [
        "[    5302] Solving over interval [ 8.04000e-01, 8.05000e-01]\n",
        "[    5302] ==============================================================\n",
        "[    5304] ==============================================================\n"
       ]
      },
      {
       "output_type": "stream",
       "stream": "stdout",
       "text": [
        "[    5304] Solving over interval [ 8.05000e-01, 8.06000e-01]\n",
        "[    5304] ==============================================================\n",
        "[    5306] ==============================================================\n"
       ]
      },
      {
       "output_type": "stream",
       "stream": "stdout",
       "text": [
        "[    5306] Solving over interval [ 8.06000e-01, 8.07000e-01]\n",
        "[    5306] ==============================================================\n",
        "[    5307] ==============================================================\n"
       ]
      },
      {
       "output_type": "stream",
       "stream": "stdout",
       "text": [
        "[    5307] Solving over interval [ 8.07000e-01, 8.08000e-01]\n",
        "[    5307] ==============================================================\n",
        "[    5309] ==============================================================\n"
       ]
      },
      {
       "output_type": "stream",
       "stream": "stdout",
       "text": [
        "[    5309] Solving over interval [ 8.08000e-01, 8.09000e-01]\n",
        "[    5309] ==============================================================\n",
        "[    5311] ==============================================================\n"
       ]
      },
      {
       "output_type": "stream",
       "stream": "stdout",
       "text": [
        "[    5311] Solving over interval [ 8.09000e-01, 8.10000e-01]\n",
        "[    5311] ==============================================================\n",
        "[    5312] ==============================================================\n"
       ]
      },
      {
       "output_type": "stream",
       "stream": "stdout",
       "text": [
        "[    5312] Solving over interval [ 8.10000e-01, 8.11000e-01]\n",
        "[    5312] ==============================================================\n",
        "[    5314] ==============================================================\n"
       ]
      },
      {
       "output_type": "stream",
       "stream": "stdout",
       "text": [
        "[    5314] Solving over interval [ 8.11000e-01, 8.12000e-01]\n",
        "[    5314] ==============================================================\n",
        "[    5316] ==============================================================\n"
       ]
      },
      {
       "output_type": "stream",
       "stream": "stdout",
       "text": [
        "[    5316] Solving over interval [ 8.12000e-01, 8.13000e-01]\n",
        "[    5316] ==============================================================\n",
        "[    5317] ==============================================================\n"
       ]
      },
      {
       "output_type": "stream",
       "stream": "stdout",
       "text": [
        "[    5317] Solving over interval [ 8.13000e-01, 8.14000e-01]\n",
        "[    5317] ==============================================================\n",
        "[    5319] ==============================================================\n"
       ]
      },
      {
       "output_type": "stream",
       "stream": "stdout",
       "text": [
        "[    5319] Solving over interval [ 8.14000e-01, 8.15000e-01]\n",
        "[    5319] ==============================================================\n",
        "[    5321] ==============================================================\n"
       ]
      },
      {
       "output_type": "stream",
       "stream": "stdout",
       "text": [
        "[    5321] Solving over interval [ 8.15000e-01, 8.16000e-01]\n",
        "[    5321] ==============================================================\n",
        "[    5323] ==============================================================\n"
       ]
      },
      {
       "output_type": "stream",
       "stream": "stdout",
       "text": [
        "[    5323] Solving over interval [ 8.16000e-01, 8.17000e-01]\n",
        "[    5323] ==============================================================\n",
        "[    5324] ==============================================================\n"
       ]
      },
      {
       "output_type": "stream",
       "stream": "stdout",
       "text": [
        "[    5324] Solving over interval [ 8.17000e-01, 8.18000e-01]\n",
        "[    5324] ==============================================================\n",
        "[    5326] ==============================================================\n"
       ]
      },
      {
       "output_type": "stream",
       "stream": "stdout",
       "text": [
        "[    5326] Solving over interval [ 8.18000e-01, 8.19000e-01]\n",
        "[    5326] ==============================================================\n",
        "[    5328] ==============================================================\n"
       ]
      },
      {
       "output_type": "stream",
       "stream": "stdout",
       "text": [
        "[    5328] Solving over interval [ 8.19000e-01, 8.20000e-01]\n",
        "[    5328] ==============================================================\n",
        "[    5330] ==============================================================\n"
       ]
      },
      {
       "output_type": "stream",
       "stream": "stdout",
       "text": [
        "[    5330] Solving over interval [ 8.20000e-01, 8.21000e-01]\n",
        "[    5330] ==============================================================\n",
        "[    5332] ==============================================================\n"
       ]
      },
      {
       "output_type": "stream",
       "stream": "stdout",
       "text": [
        "[    5332] Solving over interval [ 8.21000e-01, 8.22000e-01]\n",
        "[    5332] ==============================================================\n",
        "[    5334] ==============================================================\n"
       ]
      },
      {
       "output_type": "stream",
       "stream": "stdout",
       "text": [
        "[    5334] Solving over interval [ 8.22000e-01, 8.23000e-01]\n",
        "[    5334] ==============================================================\n",
        "[    5336] ==============================================================\n"
       ]
      },
      {
       "output_type": "stream",
       "stream": "stdout",
       "text": [
        "[    5336] Solving over interval [ 8.23000e-01, 8.24000e-01]\n",
        "[    5336] ==============================================================\n",
        "[    5338] ==============================================================\n"
       ]
      },
      {
       "output_type": "stream",
       "stream": "stdout",
       "text": [
        "[    5338] Solving over interval [ 8.24000e-01, 8.25000e-01]\n",
        "[    5338] ==============================================================\n",
        "[    5340] ==============================================================\n"
       ]
      },
      {
       "output_type": "stream",
       "stream": "stdout",
       "text": [
        "[    5340] Solving over interval [ 8.25000e-01, 8.26000e-01]\n",
        "[    5340] ==============================================================\n",
        "[    5342] ==============================================================\n"
       ]
      },
      {
       "output_type": "stream",
       "stream": "stdout",
       "text": [
        "[    5342] Solving over interval [ 8.26000e-01, 8.27000e-01]\n",
        "[    5342] ==============================================================\n",
        "[    5344] ==============================================================\n"
       ]
      },
      {
       "output_type": "stream",
       "stream": "stdout",
       "text": [
        "[    5344] Solving over interval [ 8.27000e-01, 8.28000e-01]\n",
        "[    5344] ==============================================================\n",
        "[    5346] ==============================================================\n"
       ]
      },
      {
       "output_type": "stream",
       "stream": "stdout",
       "text": [
        "[    5346] Solving over interval [ 8.28000e-01, 8.29000e-01]\n",
        "[    5346] ==============================================================\n",
        "[    5348] ==============================================================\n"
       ]
      },
      {
       "output_type": "stream",
       "stream": "stdout",
       "text": [
        "[    5348] Solving over interval [ 8.29000e-01, 8.30000e-01]\n",
        "[    5348] ==============================================================\n",
        "[    5350] ==============================================================\n"
       ]
      },
      {
       "output_type": "stream",
       "stream": "stdout",
       "text": [
        "[    5350] Solving over interval [ 8.30000e-01, 8.31000e-01]\n",
        "[    5350] ==============================================================\n",
        "[    5352] ==============================================================\n"
       ]
      },
      {
       "output_type": "stream",
       "stream": "stdout",
       "text": [
        "[    5352] Solving over interval [ 8.31000e-01, 8.32000e-01]\n",
        "[    5352] ==============================================================\n",
        "[    5353] ==============================================================\n"
       ]
      },
      {
       "output_type": "stream",
       "stream": "stdout",
       "text": [
        "[    5353] Solving over interval [ 8.32000e-01, 8.33000e-01]\n",
        "[    5353] ==============================================================\n",
        "[    5355] ==============================================================\n"
       ]
      },
      {
       "output_type": "stream",
       "stream": "stdout",
       "text": [
        "[    5355] Solving over interval [ 8.33000e-01, 8.34000e-01]\n",
        "[    5355] ==============================================================\n",
        "[    5357] ==============================================================\n"
       ]
      },
      {
       "output_type": "stream",
       "stream": "stdout",
       "text": [
        "[    5357] Solving over interval [ 8.34000e-01, 8.35000e-01]\n",
        "[    5357] ==============================================================\n",
        "[    5359] ==============================================================\n"
       ]
      },
      {
       "output_type": "stream",
       "stream": "stdout",
       "text": [
        "[    5359] Solving over interval [ 8.35000e-01, 8.36000e-01]\n",
        "[    5359] ==============================================================\n",
        "[    5361] ==============================================================\n"
       ]
      },
      {
       "output_type": "stream",
       "stream": "stdout",
       "text": [
        "[    5361] Solving over interval [ 8.36000e-01, 8.37000e-01]\n",
        "[    5361] ==============================================================\n",
        "[    5363] ==============================================================\n"
       ]
      },
      {
       "output_type": "stream",
       "stream": "stdout",
       "text": [
        "[    5363] Solving over interval [ 8.37000e-01, 8.38000e-01]\n",
        "[    5363] ==============================================================\n",
        "[    5365] ==============================================================\n"
       ]
      },
      {
       "output_type": "stream",
       "stream": "stdout",
       "text": [
        "[    5365] Solving over interval [ 8.38000e-01, 8.39000e-01]\n",
        "[    5365] ==============================================================\n",
        "[    5367] ==============================================================\n"
       ]
      },
      {
       "output_type": "stream",
       "stream": "stdout",
       "text": [
        "[    5367] Solving over interval [ 8.39000e-01, 8.40000e-01]\n",
        "[    5367] ==============================================================\n",
        "[    5369] ==============================================================\n"
       ]
      },
      {
       "output_type": "stream",
       "stream": "stdout",
       "text": [
        "[    5369] Solving over interval [ 8.40000e-01, 8.41000e-01]\n",
        "[    5369] ==============================================================\n",
        "[    5371] ==============================================================\n"
       ]
      },
      {
       "output_type": "stream",
       "stream": "stdout",
       "text": [
        "[    5371] Solving over interval [ 8.41000e-01, 8.42000e-01]\n",
        "[    5371] ==============================================================\n",
        "[    5373] ==============================================================\n"
       ]
      },
      {
       "output_type": "stream",
       "stream": "stdout",
       "text": [
        "[    5373] Solving over interval [ 8.42000e-01, 8.43000e-01]\n",
        "[    5373] ==============================================================\n",
        "[    5375] ==============================================================\n"
       ]
      },
      {
       "output_type": "stream",
       "stream": "stdout",
       "text": [
        "[    5375] Solving over interval [ 8.43000e-01, 8.44000e-01]\n",
        "[    5375] ==============================================================\n",
        "[    5377] ==============================================================\n"
       ]
      },
      {
       "output_type": "stream",
       "stream": "stdout",
       "text": [
        "[    5377] Solving over interval [ 8.44000e-01, 8.45000e-01]\n",
        "[    5377] ==============================================================\n",
        "[    5379] ==============================================================\n"
       ]
      },
      {
       "output_type": "stream",
       "stream": "stdout",
       "text": [
        "[    5379] Solving over interval [ 8.45000e-01, 8.46000e-01]\n",
        "[    5379] ==============================================================\n",
        "[    5381] ==============================================================\n"
       ]
      },
      {
       "output_type": "stream",
       "stream": "stdout",
       "text": [
        "[    5381] Solving over interval [ 8.46000e-01, 8.47000e-01]\n",
        "[    5381] ==============================================================\n",
        "[    5383] ==============================================================\n"
       ]
      },
      {
       "output_type": "stream",
       "stream": "stdout",
       "text": [
        "[    5383] Solving over interval [ 8.47000e-01, 8.48000e-01]\n",
        "[    5383] ==============================================================\n",
        "[    5385] ==============================================================\n"
       ]
      },
      {
       "output_type": "stream",
       "stream": "stdout",
       "text": [
        "[    5385] Solving over interval [ 8.48000e-01, 8.49000e-01]\n",
        "[    5385] ==============================================================\n",
        "[    5387] ==============================================================\n"
       ]
      },
      {
       "output_type": "stream",
       "stream": "stdout",
       "text": [
        "[    5387] Solving over interval [ 8.49000e-01, 8.50000e-01]\n",
        "[    5387] ==============================================================\n",
        "[    5389] ==============================================================\n"
       ]
      },
      {
       "output_type": "stream",
       "stream": "stdout",
       "text": [
        "[    5389] Solving over interval [ 8.50000e-01, 8.51000e-01]\n",
        "[    5389] ==============================================================\n",
        "[    5391] ==============================================================\n"
       ]
      },
      {
       "output_type": "stream",
       "stream": "stdout",
       "text": [
        "[    5391] Solving over interval [ 8.51000e-01, 8.52000e-01]\n",
        "[    5391] ==============================================================\n",
        "[    5393] ==============================================================\n"
       ]
      },
      {
       "output_type": "stream",
       "stream": "stdout",
       "text": [
        "[    5393] Solving over interval [ 8.52000e-01, 8.53000e-01]\n",
        "[    5393] ==============================================================\n",
        "[    5395] ==============================================================\n"
       ]
      },
      {
       "output_type": "stream",
       "stream": "stdout",
       "text": [
        "[    5395] Solving over interval [ 8.53000e-01, 8.54000e-01]\n",
        "[    5395] ==============================================================\n",
        "[    5397] ==============================================================\n"
       ]
      },
      {
       "output_type": "stream",
       "stream": "stdout",
       "text": [
        "[    5397] Solving over interval [ 8.54000e-01, 8.55000e-01]\n",
        "[    5397] ==============================================================\n",
        "[    5399] ==============================================================\n"
       ]
      },
      {
       "output_type": "stream",
       "stream": "stdout",
       "text": [
        "[    5399] Solving over interval [ 8.55000e-01, 8.56000e-01]\n",
        "[    5399] ==============================================================\n",
        "[    5401] ==============================================================\n"
       ]
      },
      {
       "output_type": "stream",
       "stream": "stdout",
       "text": [
        "[    5401] Solving over interval [ 8.56000e-01, 8.57000e-01]\n",
        "[    5401] ==============================================================\n",
        "[    5403] ==============================================================\n"
       ]
      },
      {
       "output_type": "stream",
       "stream": "stdout",
       "text": [
        "[    5403] Solving over interval [ 8.57000e-01, 8.58000e-01]\n",
        "[    5403] ==============================================================\n",
        "[    5405] ==============================================================\n"
       ]
      },
      {
       "output_type": "stream",
       "stream": "stdout",
       "text": [
        "[    5405] Solving over interval [ 8.58000e-01, 8.59000e-01]\n",
        "[    5405] ==============================================================\n",
        "[    5407] ==============================================================\n"
       ]
      },
      {
       "output_type": "stream",
       "stream": "stdout",
       "text": [
        "[    5407] Solving over interval [ 8.59000e-01, 8.60000e-01]\n",
        "[    5407] ==============================================================\n",
        "[    5409] ==============================================================\n"
       ]
      },
      {
       "output_type": "stream",
       "stream": "stdout",
       "text": [
        "[    5409] Solving over interval [ 8.60000e-01, 8.61000e-01]\n",
        "[    5409] ==============================================================\n",
        "[    5410] ==============================================================\n"
       ]
      },
      {
       "output_type": "stream",
       "stream": "stdout",
       "text": [
        "[    5410] Solving over interval [ 8.61000e-01, 8.62000e-01]\n",
        "[    5410] ==============================================================\n",
        "[    5412] ==============================================================\n"
       ]
      },
      {
       "output_type": "stream",
       "stream": "stdout",
       "text": [
        "[    5412] Solving over interval [ 8.62000e-01, 8.63000e-01]\n",
        "[    5412] ==============================================================\n",
        "[    5415] ==============================================================\n"
       ]
      },
      {
       "output_type": "stream",
       "stream": "stdout",
       "text": [
        "[    5415] Solving over interval [ 8.63000e-01, 8.64000e-01]\n",
        "[    5415] ==============================================================\n",
        "[    5417] ==============================================================\n"
       ]
      },
      {
       "output_type": "stream",
       "stream": "stdout",
       "text": [
        "[    5417] Solving over interval [ 8.64000e-01, 8.65000e-01]\n",
        "[    5417] ==============================================================\n",
        "[    5419] ==============================================================\n"
       ]
      },
      {
       "output_type": "stream",
       "stream": "stdout",
       "text": [
        "[    5419] Solving over interval [ 8.65000e-01, 8.66000e-01]\n",
        "[    5419] ==============================================================\n",
        "[    5421] ==============================================================\n"
       ]
      },
      {
       "output_type": "stream",
       "stream": "stdout",
       "text": [
        "[    5421] Solving over interval [ 8.66000e-01, 8.67000e-01]\n",
        "[    5421] ==============================================================\n",
        "[    5423] ==============================================================\n"
       ]
      },
      {
       "output_type": "stream",
       "stream": "stdout",
       "text": [
        "[    5423] Solving over interval [ 8.67000e-01, 8.68000e-01]\n",
        "[    5423] ==============================================================\n",
        "[    5425] ==============================================================\n"
       ]
      },
      {
       "output_type": "stream",
       "stream": "stdout",
       "text": [
        "[    5425] Solving over interval [ 8.68000e-01, 8.69000e-01]\n",
        "[    5425] ==============================================================\n",
        "[    5426] ==============================================================\n"
       ]
      },
      {
       "output_type": "stream",
       "stream": "stdout",
       "text": [
        "[    5426] Solving over interval [ 8.69000e-01, 8.70000e-01]\n",
        "[    5426] ==============================================================\n",
        "[    5428] ==============================================================\n"
       ]
      },
      {
       "output_type": "stream",
       "stream": "stdout",
       "text": [
        "[    5428] Solving over interval [ 8.70000e-01, 8.71000e-01]\n",
        "[    5428] ==============================================================\n",
        "[    5430] ==============================================================\n"
       ]
      },
      {
       "output_type": "stream",
       "stream": "stdout",
       "text": [
        "[    5430] Solving over interval [ 8.71000e-01, 8.72000e-01]\n",
        "[    5430] ==============================================================\n",
        "[    5432] ==============================================================\n"
       ]
      },
      {
       "output_type": "stream",
       "stream": "stdout",
       "text": [
        "[    5432] Solving over interval [ 8.72000e-01, 8.73000e-01]\n",
        "[    5432] ==============================================================\n",
        "[    5434] ==============================================================\n"
       ]
      },
      {
       "output_type": "stream",
       "stream": "stdout",
       "text": [
        "[    5434] Solving over interval [ 8.73000e-01, 8.74000e-01]\n",
        "[    5434] ==============================================================\n",
        "[    5436] ==============================================================\n"
       ]
      },
      {
       "output_type": "stream",
       "stream": "stdout",
       "text": [
        "[    5436] Solving over interval [ 8.74000e-01, 8.75000e-01]\n",
        "[    5436] ==============================================================\n",
        "[    5439] ==============================================================\n"
       ]
      },
      {
       "output_type": "stream",
       "stream": "stdout",
       "text": [
        "[    5439] Solving over interval [ 8.75000e-01, 8.76000e-01]\n",
        "[    5439] ==============================================================\n",
        "[    5441] ==============================================================\n"
       ]
      },
      {
       "output_type": "stream",
       "stream": "stdout",
       "text": [
        "[    5441] Solving over interval [ 8.76000e-01, 8.77000e-01]\n",
        "[    5441] ==============================================================\n",
        "[    5443] ==============================================================\n"
       ]
      },
      {
       "output_type": "stream",
       "stream": "stdout",
       "text": [
        "[    5443] Solving over interval [ 8.77000e-01, 8.78000e-01]\n",
        "[    5443] ==============================================================\n",
        "[    5445] ==============================================================\n"
       ]
      },
      {
       "output_type": "stream",
       "stream": "stdout",
       "text": [
        "[    5445] Solving over interval [ 8.78000e-01, 8.79000e-01]\n",
        "[    5445] ==============================================================\n",
        "[    5447] ==============================================================\n"
       ]
      },
      {
       "output_type": "stream",
       "stream": "stdout",
       "text": [
        "[    5447] Solving over interval [ 8.79000e-01, 8.80000e-01]\n",
        "[    5447] ==============================================================\n",
        "[    5449] ==============================================================\n"
       ]
      },
      {
       "output_type": "stream",
       "stream": "stdout",
       "text": [
        "[    5449] Solving over interval [ 8.80000e-01, 8.81000e-01]\n",
        "[    5449] ==============================================================\n",
        "[    5451] ==============================================================\n"
       ]
      },
      {
       "output_type": "stream",
       "stream": "stdout",
       "text": [
        "[    5451] Solving over interval [ 8.81000e-01, 8.82000e-01]\n",
        "[    5451] ==============================================================\n",
        "[    5453] ==============================================================\n"
       ]
      },
      {
       "output_type": "stream",
       "stream": "stdout",
       "text": [
        "[    5453] Solving over interval [ 8.82000e-01, 8.83000e-01]\n",
        "[    5453] ==============================================================\n",
        "[    5455] ==============================================================\n"
       ]
      },
      {
       "output_type": "stream",
       "stream": "stdout",
       "text": [
        "[    5455] Solving over interval [ 8.83000e-01, 8.84000e-01]\n",
        "[    5455] ==============================================================\n",
        "[    5457] ==============================================================\n"
       ]
      },
      {
       "output_type": "stream",
       "stream": "stdout",
       "text": [
        "[    5457] Solving over interval [ 8.84000e-01, 8.85000e-01]\n",
        "[    5457] ==============================================================\n",
        "[    5459] ==============================================================\n"
       ]
      },
      {
       "output_type": "stream",
       "stream": "stdout",
       "text": [
        "[    5459] Solving over interval [ 8.85000e-01, 8.86000e-01]\n",
        "[    5459] ==============================================================\n",
        "[    5461] ==============================================================\n"
       ]
      },
      {
       "output_type": "stream",
       "stream": "stdout",
       "text": [
        "[    5461] Solving over interval [ 8.86000e-01, 8.87000e-01]\n",
        "[    5461] ==============================================================\n",
        "[    5463] ==============================================================\n"
       ]
      },
      {
       "output_type": "stream",
       "stream": "stdout",
       "text": [
        "[    5463] Solving over interval [ 8.87000e-01, 8.88000e-01]\n",
        "[    5463] ==============================================================\n",
        "[    5465] ==============================================================\n"
       ]
      },
      {
       "output_type": "stream",
       "stream": "stdout",
       "text": [
        "[    5465] Solving over interval [ 8.88000e-01, 8.89000e-01]\n",
        "[    5465] ==============================================================\n",
        "[    5467] ==============================================================\n"
       ]
      },
      {
       "output_type": "stream",
       "stream": "stdout",
       "text": [
        "[    5467] Solving over interval [ 8.89000e-01, 8.90000e-01]\n",
        "[    5467] ==============================================================\n",
        "[    5469] ==============================================================\n"
       ]
      },
      {
       "output_type": "stream",
       "stream": "stdout",
       "text": [
        "[    5469] Solving over interval [ 8.90000e-01, 8.91000e-01]\n",
        "[    5469] ==============================================================\n",
        "[    5471] ==============================================================\n"
       ]
      },
      {
       "output_type": "stream",
       "stream": "stdout",
       "text": [
        "[    5471] Solving over interval [ 8.91000e-01, 8.92000e-01]\n",
        "[    5471] ==============================================================\n",
        "[    5473] ==============================================================\n"
       ]
      },
      {
       "output_type": "stream",
       "stream": "stdout",
       "text": [
        "[    5473] Solving over interval [ 8.92000e-01, 8.93000e-01]\n",
        "[    5473] ==============================================================\n",
        "[    5475] ==============================================================\n"
       ]
      },
      {
       "output_type": "stream",
       "stream": "stdout",
       "text": [
        "[    5475] Solving over interval [ 8.93000e-01, 8.94000e-01]\n",
        "[    5475] ==============================================================\n",
        "[    5477] ==============================================================\n"
       ]
      },
      {
       "output_type": "stream",
       "stream": "stdout",
       "text": [
        "[    5477] Solving over interval [ 8.94000e-01, 8.95000e-01]\n",
        "[    5477] ==============================================================\n",
        "[    5480] ==============================================================\n"
       ]
      },
      {
       "output_type": "stream",
       "stream": "stdout",
       "text": [
        "[    5480] Solving over interval [ 8.95000e-01, 8.96000e-01]\n",
        "[    5480] ==============================================================\n",
        "[    5482] ==============================================================\n"
       ]
      },
      {
       "output_type": "stream",
       "stream": "stdout",
       "text": [
        "[    5482] Solving over interval [ 8.96000e-01, 8.97000e-01]\n",
        "[    5482] ==============================================================\n",
        "[    5484] ==============================================================\n"
       ]
      },
      {
       "output_type": "stream",
       "stream": "stdout",
       "text": [
        "[    5484] Solving over interval [ 8.97000e-01, 8.98000e-01]\n",
        "[    5484] ==============================================================\n",
        "[    5486] ==============================================================\n"
       ]
      },
      {
       "output_type": "stream",
       "stream": "stdout",
       "text": [
        "[    5486] Solving over interval [ 8.98000e-01, 8.99000e-01]\n",
        "[    5486] ==============================================================\n",
        "[    5488] ==============================================================\n"
       ]
      },
      {
       "output_type": "stream",
       "stream": "stdout",
       "text": [
        "[    5488] Solving over interval [ 8.99000e-01, 9.00000e-01]\n",
        "[    5488] ==============================================================\n",
        "[    5491] ==============================================================\n"
       ]
      },
      {
       "output_type": "stream",
       "stream": "stdout",
       "text": [
        "[    5491] Solving over interval [ 9.00000e-01, 9.01000e-01]\n",
        "[    5491] ==============================================================\n",
        "[    5493] ==============================================================\n"
       ]
      },
      {
       "output_type": "stream",
       "stream": "stdout",
       "text": [
        "[    5493] Solving over interval [ 9.01000e-01, 9.02000e-01]\n",
        "[    5493] ==============================================================\n",
        "[    5495] ==============================================================\n"
       ]
      },
      {
       "output_type": "stream",
       "stream": "stdout",
       "text": [
        "[    5495] Solving over interval [ 9.02000e-01, 9.03000e-01]\n",
        "[    5495] ==============================================================\n",
        "[    5497] ==============================================================\n"
       ]
      },
      {
       "output_type": "stream",
       "stream": "stdout",
       "text": [
        "[    5497] Solving over interval [ 9.03000e-01, 9.04000e-01]\n",
        "[    5497] ==============================================================\n",
        "[    5499] ==============================================================\n"
       ]
      },
      {
       "output_type": "stream",
       "stream": "stdout",
       "text": [
        "[    5499] Solving over interval [ 9.04000e-01, 9.05000e-01]\n",
        "[    5499] ==============================================================\n",
        "[    5501] ==============================================================\n"
       ]
      },
      {
       "output_type": "stream",
       "stream": "stdout",
       "text": [
        "[    5501] Solving over interval [ 9.05000e-01, 9.06000e-01]\n",
        "[    5501] ==============================================================\n",
        "[    5503] ==============================================================\n"
       ]
      },
      {
       "output_type": "stream",
       "stream": "stdout",
       "text": [
        "[    5503] Solving over interval [ 9.06000e-01, 9.07000e-01]\n",
        "[    5503] ==============================================================\n",
        "[    5505] ==============================================================\n"
       ]
      },
      {
       "output_type": "stream",
       "stream": "stdout",
       "text": [
        "[    5505] Solving over interval [ 9.07000e-01, 9.08000e-01]\n",
        "[    5505] ==============================================================\n",
        "[    5507] ==============================================================\n"
       ]
      },
      {
       "output_type": "stream",
       "stream": "stdout",
       "text": [
        "[    5507] Solving over interval [ 9.08000e-01, 9.09000e-01]\n",
        "[    5507] ==============================================================\n",
        "[    5510] ==============================================================\n"
       ]
      },
      {
       "output_type": "stream",
       "stream": "stdout",
       "text": [
        "[    5510] Solving over interval [ 9.09000e-01, 9.10000e-01]\n",
        "[    5510] ==============================================================\n",
        "[    5512] ==============================================================\n"
       ]
      },
      {
       "output_type": "stream",
       "stream": "stdout",
       "text": [
        "[    5512] Solving over interval [ 9.10000e-01, 9.11000e-01]\n",
        "[    5512] ==============================================================\n",
        "[    5514] ==============================================================\n"
       ]
      },
      {
       "output_type": "stream",
       "stream": "stdout",
       "text": [
        "[    5514] Solving over interval [ 9.11000e-01, 9.12000e-01]\n",
        "[    5514] ==============================================================\n",
        "[    5516] ==============================================================\n"
       ]
      },
      {
       "output_type": "stream",
       "stream": "stdout",
       "text": [
        "[    5516] Solving over interval [ 9.12000e-01, 9.13000e-01]\n",
        "[    5516] ==============================================================\n",
        "[    5518] ==============================================================\n"
       ]
      },
      {
       "output_type": "stream",
       "stream": "stdout",
       "text": [
        "[    5518] Solving over interval [ 9.13000e-01, 9.14000e-01]\n",
        "[    5518] ==============================================================\n",
        "[    5520] ==============================================================\n"
       ]
      },
      {
       "output_type": "stream",
       "stream": "stdout",
       "text": [
        "[    5520] Solving over interval [ 9.14000e-01, 9.15000e-01]\n",
        "[    5520] ==============================================================\n",
        "[    5522] ==============================================================\n"
       ]
      },
      {
       "output_type": "stream",
       "stream": "stdout",
       "text": [
        "[    5522] Solving over interval [ 9.15000e-01, 9.16000e-01]\n",
        "[    5522] ==============================================================\n",
        "[    5524] ==============================================================\n"
       ]
      },
      {
       "output_type": "stream",
       "stream": "stdout",
       "text": [
        "[    5524] Solving over interval [ 9.16000e-01, 9.17000e-01]\n",
        "[    5524] ==============================================================\n",
        "[    5527] ==============================================================\n"
       ]
      },
      {
       "output_type": "stream",
       "stream": "stdout",
       "text": [
        "[    5527] Solving over interval [ 9.17000e-01, 9.18000e-01]\n",
        "[    5527] ==============================================================\n",
        "[    5529] ==============================================================\n"
       ]
      },
      {
       "output_type": "stream",
       "stream": "stdout",
       "text": [
        "[    5529] Solving over interval [ 9.18000e-01, 9.19000e-01]\n",
        "[    5529] ==============================================================\n",
        "[    5531] ==============================================================\n"
       ]
      },
      {
       "output_type": "stream",
       "stream": "stdout",
       "text": [
        "[    5531] Solving over interval [ 9.19000e-01, 9.20000e-01]\n",
        "[    5531] ==============================================================\n",
        "[    5533] ==============================================================\n"
       ]
      },
      {
       "output_type": "stream",
       "stream": "stdout",
       "text": [
        "[    5533] Solving over interval [ 9.20000e-01, 9.21000e-01]\n",
        "[    5533] ==============================================================\n",
        "[    5535] ==============================================================\n"
       ]
      },
      {
       "output_type": "stream",
       "stream": "stdout",
       "text": [
        "[    5535] Solving over interval [ 9.21000e-01, 9.22000e-01]\n",
        "[    5535] ==============================================================\n",
        "[    5537] ==============================================================\n"
       ]
      },
      {
       "output_type": "stream",
       "stream": "stdout",
       "text": [
        "[    5537] Solving over interval [ 9.22000e-01, 9.23000e-01]\n",
        "[    5537] ==============================================================\n",
        "[    5539] ==============================================================\n"
       ]
      },
      {
       "output_type": "stream",
       "stream": "stdout",
       "text": [
        "[    5539] Solving over interval [ 9.23000e-01, 9.24000e-01]\n",
        "[    5539] ==============================================================\n",
        "[    5541] ==============================================================\n"
       ]
      },
      {
       "output_type": "stream",
       "stream": "stdout",
       "text": [
        "[    5541] Solving over interval [ 9.24000e-01, 9.25000e-01]\n",
        "[    5541] ==============================================================\n",
        "[    5543] ==============================================================\n"
       ]
      },
      {
       "output_type": "stream",
       "stream": "stdout",
       "text": [
        "[    5543] Solving over interval [ 9.25000e-01, 9.26000e-01]\n",
        "[    5543] ==============================================================\n",
        "[    5545] ==============================================================\n"
       ]
      },
      {
       "output_type": "stream",
       "stream": "stdout",
       "text": [
        "[    5545] Solving over interval [ 9.26000e-01, 9.27000e-01]\n",
        "[    5545] ==============================================================\n",
        "[    5547] ==============================================================\n"
       ]
      },
      {
       "output_type": "stream",
       "stream": "stdout",
       "text": [
        "[    5547] Solving over interval [ 9.27000e-01, 9.28000e-01]\n",
        "[    5547] ==============================================================\n",
        "[    5549] ==============================================================\n"
       ]
      },
      {
       "output_type": "stream",
       "stream": "stdout",
       "text": [
        "[    5549] Solving over interval [ 9.28000e-01, 9.29000e-01]\n",
        "[    5549] ==============================================================\n",
        "[    5552] ==============================================================\n"
       ]
      },
      {
       "output_type": "stream",
       "stream": "stdout",
       "text": [
        "[    5552] Solving over interval [ 9.29000e-01, 9.30000e-01]\n",
        "[    5552] ==============================================================\n",
        "[    5554] ==============================================================\n"
       ]
      },
      {
       "output_type": "stream",
       "stream": "stdout",
       "text": [
        "[    5554] Solving over interval [ 9.30000e-01, 9.31000e-01]\n",
        "[    5554] ==============================================================\n",
        "[    5556] ==============================================================\n"
       ]
      },
      {
       "output_type": "stream",
       "stream": "stdout",
       "text": [
        "[    5556] Solving over interval [ 9.31000e-01, 9.32000e-01]\n",
        "[    5556] ==============================================================\n",
        "[    5558] ==============================================================\n"
       ]
      },
      {
       "output_type": "stream",
       "stream": "stdout",
       "text": [
        "[    5558] Solving over interval [ 9.32000e-01, 9.33000e-01]\n",
        "[    5558] ==============================================================\n",
        "[    5560] ==============================================================\n"
       ]
      },
      {
       "output_type": "stream",
       "stream": "stdout",
       "text": [
        "[    5560] Solving over interval [ 9.33000e-01, 9.34000e-01]\n",
        "[    5560] ==============================================================\n",
        "[    5562] ==============================================================\n"
       ]
      },
      {
       "output_type": "stream",
       "stream": "stdout",
       "text": [
        "[    5562] Solving over interval [ 9.34000e-01, 9.35000e-01]\n",
        "[    5562] ==============================================================\n",
        "[    5564] ==============================================================\n"
       ]
      },
      {
       "output_type": "stream",
       "stream": "stdout",
       "text": [
        "[    5564] Solving over interval [ 9.35000e-01, 9.36000e-01]\n",
        "[    5564] ==============================================================\n",
        "[    5566] ==============================================================\n"
       ]
      },
      {
       "output_type": "stream",
       "stream": "stdout",
       "text": [
        "[    5566] Solving over interval [ 9.36000e-01, 9.37000e-01]\n",
        "[    5566] ==============================================================\n",
        "[    5568] ==============================================================\n"
       ]
      },
      {
       "output_type": "stream",
       "stream": "stdout",
       "text": [
        "[    5568] Solving over interval [ 9.37000e-01, 9.38000e-01]\n",
        "[    5568] ==============================================================\n",
        "[    5570] ==============================================================\n"
       ]
      },
      {
       "output_type": "stream",
       "stream": "stdout",
       "text": [
        "[    5570] Solving over interval [ 9.38000e-01, 9.39000e-01]\n",
        "[    5570] ==============================================================\n",
        "[    5572] ==============================================================\n"
       ]
      },
      {
       "output_type": "stream",
       "stream": "stdout",
       "text": [
        "[    5572] Solving over interval [ 9.39000e-01, 9.40000e-01]\n",
        "[    5572] ==============================================================\n",
        "[    5574] ==============================================================\n"
       ]
      },
      {
       "output_type": "stream",
       "stream": "stdout",
       "text": [
        "[    5574] Solving over interval [ 9.40000e-01, 9.41000e-01]\n",
        "[    5574] ==============================================================\n",
        "[    5577] ==============================================================\n"
       ]
      },
      {
       "output_type": "stream",
       "stream": "stdout",
       "text": [
        "[    5577] Solving over interval [ 9.41000e-01, 9.42000e-01]\n",
        "[    5577] ==============================================================\n",
        "[    5579] ==============================================================\n"
       ]
      },
      {
       "output_type": "stream",
       "stream": "stdout",
       "text": [
        "[    5579] Solving over interval [ 9.42000e-01, 9.43000e-01]\n",
        "[    5579] ==============================================================\n",
        "[    5581] ==============================================================\n"
       ]
      },
      {
       "output_type": "stream",
       "stream": "stdout",
       "text": [
        "[    5581] Solving over interval [ 9.43000e-01, 9.44000e-01]\n",
        "[    5581] ==============================================================\n",
        "[    5583] ==============================================================\n"
       ]
      },
      {
       "output_type": "stream",
       "stream": "stdout",
       "text": [
        "[    5583] Solving over interval [ 9.44000e-01, 9.45000e-01]\n",
        "[    5583] ==============================================================\n",
        "[    5585] ==============================================================\n"
       ]
      },
      {
       "output_type": "stream",
       "stream": "stdout",
       "text": [
        "[    5585] Solving over interval [ 9.45000e-01, 9.46000e-01]\n",
        "[    5585] ==============================================================\n",
        "[    5587] ==============================================================\n"
       ]
      },
      {
       "output_type": "stream",
       "stream": "stdout",
       "text": [
        "[    5587] Solving over interval [ 9.46000e-01, 9.47000e-01]\n",
        "[    5587] ==============================================================\n",
        "[    5589] ==============================================================\n"
       ]
      },
      {
       "output_type": "stream",
       "stream": "stdout",
       "text": [
        "[    5589] Solving over interval [ 9.47000e-01, 9.48000e-01]\n",
        "[    5589] ==============================================================\n",
        "[    5591] ==============================================================\n"
       ]
      },
      {
       "output_type": "stream",
       "stream": "stdout",
       "text": [
        "[    5591] Solving over interval [ 9.48000e-01, 9.49000e-01]\n",
        "[    5591] ==============================================================\n",
        "[    5593] ==============================================================\n"
       ]
      },
      {
       "output_type": "stream",
       "stream": "stdout",
       "text": [
        "[    5593] Solving over interval [ 9.49000e-01, 9.50000e-01]\n",
        "[    5593] ==============================================================\n",
        "[    5595] ==============================================================\n"
       ]
      },
      {
       "output_type": "stream",
       "stream": "stdout",
       "text": [
        "[    5595] Solving over interval [ 9.50000e-01, 9.51000e-01]\n",
        "[    5595] ==============================================================\n",
        "[    5598] ==============================================================\n"
       ]
      },
      {
       "output_type": "stream",
       "stream": "stdout",
       "text": [
        "[    5598] Solving over interval [ 9.51000e-01, 9.52000e-01]\n",
        "[    5598] ==============================================================\n",
        "[    5600] ==============================================================\n"
       ]
      },
      {
       "output_type": "stream",
       "stream": "stdout",
       "text": [
        "[    5600] Solving over interval [ 9.52000e-01, 9.53000e-01]\n",
        "[    5600] ==============================================================\n",
        "[    5602] ==============================================================\n"
       ]
      },
      {
       "output_type": "stream",
       "stream": "stdout",
       "text": [
        "[    5602] Solving over interval [ 9.53000e-01, 9.54000e-01]\n",
        "[    5602] ==============================================================\n",
        "[    5604] ==============================================================\n"
       ]
      },
      {
       "output_type": "stream",
       "stream": "stdout",
       "text": [
        "[    5604] Solving over interval [ 9.54000e-01, 9.55000e-01]\n",
        "[    5604] ==============================================================\n",
        "[    5606] ==============================================================\n"
       ]
      },
      {
       "output_type": "stream",
       "stream": "stdout",
       "text": [
        "[    5606] Solving over interval [ 9.55000e-01, 9.56000e-01]\n",
        "[    5606] ==============================================================\n",
        "[    5608] ==============================================================\n"
       ]
      },
      {
       "output_type": "stream",
       "stream": "stdout",
       "text": [
        "[    5608] Solving over interval [ 9.56000e-01, 9.57000e-01]\n",
        "[    5608] ==============================================================\n",
        "[    5610] ==============================================================\n"
       ]
      },
      {
       "output_type": "stream",
       "stream": "stdout",
       "text": [
        "[    5610] Solving over interval [ 9.57000e-01, 9.58000e-01]\n",
        "[    5610] ==============================================================\n",
        "[    5612] ==============================================================\n"
       ]
      },
      {
       "output_type": "stream",
       "stream": "stdout",
       "text": [
        "[    5612] Solving over interval [ 9.58000e-01, 9.59000e-01]\n",
        "[    5612] ==============================================================\n",
        "[    5615] ==============================================================\n"
       ]
      },
      {
       "output_type": "stream",
       "stream": "stdout",
       "text": [
        "[    5615] Solving over interval [ 9.59000e-01, 9.60000e-01]\n",
        "[    5615] ==============================================================\n",
        "[    5617] ==============================================================\n"
       ]
      },
      {
       "output_type": "stream",
       "stream": "stdout",
       "text": [
        "[    5617] Solving over interval [ 9.60000e-01, 9.61000e-01]\n",
        "[    5617] ==============================================================\n",
        "[    5619] ==============================================================\n"
       ]
      },
      {
       "output_type": "stream",
       "stream": "stdout",
       "text": [
        "[    5619] Solving over interval [ 9.61000e-01, 9.62000e-01]\n",
        "[    5619] ==============================================================\n",
        "[    5621] ==============================================================\n"
       ]
      },
      {
       "output_type": "stream",
       "stream": "stdout",
       "text": [
        "[    5621] Solving over interval [ 9.62000e-01, 9.63000e-01]\n",
        "[    5621] ==============================================================\n",
        "[    5623] ==============================================================\n"
       ]
      },
      {
       "output_type": "stream",
       "stream": "stdout",
       "text": [
        "[    5623] Solving over interval [ 9.63000e-01, 9.64000e-01]\n",
        "[    5623] ==============================================================\n",
        "[    5625] ==============================================================\n"
       ]
      },
      {
       "output_type": "stream",
       "stream": "stdout",
       "text": [
        "[    5625] Solving over interval [ 9.64000e-01, 9.65000e-01]\n",
        "[    5625] ==============================================================\n",
        "[    5628] ==============================================================\n"
       ]
      },
      {
       "output_type": "stream",
       "stream": "stdout",
       "text": [
        "[    5628] Solving over interval [ 9.65000e-01, 9.66000e-01]\n",
        "[    5628] ==============================================================\n",
        "[    5630] ==============================================================\n"
       ]
      },
      {
       "output_type": "stream",
       "stream": "stdout",
       "text": [
        "[    5630] Solving over interval [ 9.66000e-01, 9.67000e-01]\n",
        "[    5630] ==============================================================\n",
        "[    5632] ==============================================================\n"
       ]
      },
      {
       "output_type": "stream",
       "stream": "stdout",
       "text": [
        "[    5632] Solving over interval [ 9.67000e-01, 9.68000e-01]\n",
        "[    5632] ==============================================================\n",
        "[    5634] ==============================================================\n"
       ]
      },
      {
       "output_type": "stream",
       "stream": "stdout",
       "text": [
        "[    5634] Solving over interval [ 9.68000e-01, 9.69000e-01]\n",
        "[    5634] ==============================================================\n",
        "[    5636] ==============================================================\n"
       ]
      },
      {
       "output_type": "stream",
       "stream": "stdout",
       "text": [
        "[    5636] Solving over interval [ 9.69000e-01, 9.70000e-01]\n",
        "[    5636] ==============================================================\n",
        "[    5638] ==============================================================\n"
       ]
      },
      {
       "output_type": "stream",
       "stream": "stdout",
       "text": [
        "[    5638] Solving over interval [ 9.70000e-01, 9.71000e-01]\n",
        "[    5638] ==============================================================\n",
        "[    5640] ==============================================================\n"
       ]
      },
      {
       "output_type": "stream",
       "stream": "stdout",
       "text": [
        "[    5640] Solving over interval [ 9.71000e-01, 9.72000e-01]\n",
        "[    5640] ==============================================================\n",
        "[    5643] ==============================================================\n"
       ]
      },
      {
       "output_type": "stream",
       "stream": "stdout",
       "text": [
        "[    5643] Solving over interval [ 9.72000e-01, 9.73000e-01]\n",
        "[    5643] ==============================================================\n",
        "[    5645] ==============================================================\n"
       ]
      },
      {
       "output_type": "stream",
       "stream": "stdout",
       "text": [
        "[    5645] Solving over interval [ 9.73000e-01, 9.74000e-01]\n",
        "[    5645] ==============================================================\n",
        "[    5647] ==============================================================\n"
       ]
      },
      {
       "output_type": "stream",
       "stream": "stdout",
       "text": [
        "[    5647] Solving over interval [ 9.74000e-01, 9.75000e-01]\n",
        "[    5647] ==============================================================\n",
        "[    5649] ==============================================================\n"
       ]
      },
      {
       "output_type": "stream",
       "stream": "stdout",
       "text": [
        "[    5649] Solving over interval [ 9.75000e-01, 9.76000e-01]\n",
        "[    5649] ==============================================================\n",
        "[    5651] ==============================================================\n"
       ]
      },
      {
       "output_type": "stream",
       "stream": "stdout",
       "text": [
        "[    5651] Solving over interval [ 9.76000e-01, 9.77000e-01]\n",
        "[    5651] ==============================================================\n",
        "[    5653] ==============================================================\n"
       ]
      },
      {
       "output_type": "stream",
       "stream": "stdout",
       "text": [
        "[    5653] Solving over interval [ 9.77000e-01, 9.78000e-01]\n",
        "[    5653] ==============================================================\n",
        "[    5655] ==============================================================\n"
       ]
      },
      {
       "output_type": "stream",
       "stream": "stdout",
       "text": [
        "[    5655] Solving over interval [ 9.78000e-01, 9.79000e-01]\n",
        "[    5655] ==============================================================\n",
        "[    5657] ==============================================================\n"
       ]
      },
      {
       "output_type": "stream",
       "stream": "stdout",
       "text": [
        "[    5657] Solving over interval [ 9.79000e-01, 9.80000e-01]\n",
        "[    5657] ==============================================================\n",
        "[    5659] ==============================================================\n"
       ]
      },
      {
       "output_type": "stream",
       "stream": "stdout",
       "text": [
        "[    5659] Solving over interval [ 9.80000e-01, 9.81000e-01]\n",
        "[    5659] ==============================================================\n",
        "[    5662] ==============================================================\n"
       ]
      },
      {
       "output_type": "stream",
       "stream": "stdout",
       "text": [
        "[    5662] Solving over interval [ 9.81000e-01, 9.82000e-01]\n",
        "[    5662] ==============================================================\n",
        "[    5664] ==============================================================\n"
       ]
      },
      {
       "output_type": "stream",
       "stream": "stdout",
       "text": [
        "[    5664] Solving over interval [ 9.82000e-01, 9.83000e-01]\n",
        "[    5664] ==============================================================\n",
        "[    5666] ==============================================================\n"
       ]
      },
      {
       "output_type": "stream",
       "stream": "stdout",
       "text": [
        "[    5666] Solving over interval [ 9.83000e-01, 9.84000e-01]\n",
        "[    5666] ==============================================================\n",
        "[    5668] ==============================================================\n"
       ]
      },
      {
       "output_type": "stream",
       "stream": "stdout",
       "text": [
        "[    5668] Solving over interval [ 9.84000e-01, 9.85000e-01]\n",
        "[    5668] ==============================================================\n",
        "[    5670] ==============================================================\n"
       ]
      },
      {
       "output_type": "stream",
       "stream": "stdout",
       "text": [
        "[    5670] Solving over interval [ 9.85000e-01, 9.86000e-01]\n",
        "[    5670] ==============================================================\n",
        "[    5672] ==============================================================\n"
       ]
      },
      {
       "output_type": "stream",
       "stream": "stdout",
       "text": [
        "[    5672] Solving over interval [ 9.86000e-01, 9.87000e-01]\n",
        "[    5672] ==============================================================\n",
        "[    5674] ==============================================================\n"
       ]
      },
      {
       "output_type": "stream",
       "stream": "stdout",
       "text": [
        "[    5674] Solving over interval [ 9.87000e-01, 9.88000e-01]\n",
        "[    5674] ==============================================================\n",
        "[    5677] ==============================================================\n"
       ]
      },
      {
       "output_type": "stream",
       "stream": "stdout",
       "text": [
        "[    5677] Solving over interval [ 9.88000e-01, 9.89000e-01]\n",
        "[    5677] ==============================================================\n",
        "[    5679] ==============================================================\n"
       ]
      },
      {
       "output_type": "stream",
       "stream": "stdout",
       "text": [
        "[    5679] Solving over interval [ 9.89000e-01, 9.90000e-01]\n",
        "[    5679] ==============================================================\n",
        "[    5681] ==============================================================\n"
       ]
      },
      {
       "output_type": "stream",
       "stream": "stdout",
       "text": [
        "[    5681] Solving over interval [ 9.90000e-01, 9.91000e-01]\n",
        "[    5681] ==============================================================\n",
        "[    5683] ==============================================================\n"
       ]
      },
      {
       "output_type": "stream",
       "stream": "stdout",
       "text": [
        "[    5683] Solving over interval [ 9.91000e-01, 9.92000e-01]\n",
        "[    5683] ==============================================================\n",
        "[    5685] ==============================================================\n"
       ]
      },
      {
       "output_type": "stream",
       "stream": "stdout",
       "text": [
        "[    5685] Solving over interval [ 9.92000e-01, 9.93000e-01]\n",
        "[    5685] ==============================================================\n",
        "[    5687] ==============================================================\n"
       ]
      },
      {
       "output_type": "stream",
       "stream": "stdout",
       "text": [
        "[    5687] Solving over interval [ 9.93000e-01, 9.94000e-01]\n",
        "[    5687] ==============================================================\n",
        "[    5689] ==============================================================\n"
       ]
      },
      {
       "output_type": "stream",
       "stream": "stdout",
       "text": [
        "[    5689] Solving over interval [ 9.94000e-01, 9.95000e-01]\n",
        "[    5689] ==============================================================\n",
        "[    5692] ==============================================================\n"
       ]
      },
      {
       "output_type": "stream",
       "stream": "stdout",
       "text": [
        "[    5692] Solving over interval [ 9.95000e-01, 9.96000e-01]\n",
        "[    5692] ==============================================================\n",
        "[    5694] ==============================================================\n"
       ]
      },
      {
       "output_type": "stream",
       "stream": "stdout",
       "text": [
        "[    5694] Solving over interval [ 9.96000e-01, 9.97000e-01]\n",
        "[    5694] ==============================================================\n",
        "[    5696] ==============================================================\n"
       ]
      },
      {
       "output_type": "stream",
       "stream": "stdout",
       "text": [
        "[    5696] Solving over interval [ 9.97000e-01, 9.98000e-01]\n",
        "[    5696] ==============================================================\n",
        "[    5698] ==============================================================\n"
       ]
      },
      {
       "output_type": "stream",
       "stream": "stdout",
       "text": [
        "[    5698] Solving over interval [ 9.98000e-01, 9.99000e-01]\n",
        "[    5698] ==============================================================\n",
        "[    5700] ==============================================================\n"
       ]
      },
      {
       "output_type": "stream",
       "stream": "stdout",
       "text": [
        "[    5700] Solving over interval [ 9.99000e-01, 1.00000e+00]\n",
        "[    5700] ==============================================================\n"
       ]
      }
     ],
     "prompt_number": 14
    },
    {
     "cell_type": "heading",
     "level": 2,
     "metadata": {},
     "source": [
      "Post processing"
     ]
    },
    {
     "cell_type": "code",
     "collapsed": false,
     "input": [
      "%matplotlib inline\n",
      "import pylab\n",
      "x = ns.modelList[0].levelModelList[-1].mesh.nodeArray[:,0]\n",
      "# triangles = ns.modelList[0].levelModelList[-1].mesh.elementNodesArray\n",
      "u = ns.modelList[0].levelModelList[-1].u[0].dof\n",
      "# delList[1].levelModelList[-1].u[0].dof\n",
      "pylab.plot(x[0:-1],u[0:-1:3])\n",
      "pylab.show()"
     ],
     "language": "python",
     "metadata": {},
     "outputs": [
      {
       "metadata": {},
       "output_type": "display_data",
       "png": "[encoded data removed]",
       "text": [
        "<matplotlib.figure.Figure at 0x7fd769ce93d0>"
       ]
      }
     ],
     "prompt_number": 10
    },
    {
     "cell_type": "heading",
     "level": 3,
     "metadata": {},
     "source": [
      "Standard deviation and variance."
     ]
    },
    {
     "cell_type": "code",
     "collapsed": false,
     "input": [],
     "language": "python",
     "metadata": {},
     "outputs": []
    }
   ],
   "metadata": {}
  }
 ]
}